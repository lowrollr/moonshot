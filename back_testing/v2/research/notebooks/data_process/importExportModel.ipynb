{
 "metadata": {
  "language_info": {
   "codemirror_mode": {
    "name": "ipython",
    "version": 3
   },
   "file_extension": ".py",
   "mimetype": "text/x-python",
   "name": "python",
   "nbconvert_exporter": "python",
   "pygments_lexer": "ipython3",
   "version": "3.6.9-final"
  },
  "orig_nbformat": 2,
  "kernelspec": {
   "name": "python3",
   "display_name": "Python 3.6.9 64-bit",
   "metadata": {
    "interpreter": {
     "hash": "31f2aee4e71d21fbe5cf8b01ff0e069b9275f58929596ceb00d14d90e3e16cd6"
    }
   }
  }
 },
 "nbformat": 4,
 "nbformat_minor": 2,
 "cells": [
  {
   "cell_type": "code",
   "execution_count": 1,
   "metadata": {},
   "outputs": [
    {
     "output_type": "stream",
     "name": "stdout",
     "text": [
      "/home/marshingjay/Repos/vivaldi/back_testing\n"
     ]
    }
   ],
   "source": [
    "os.chdir('../../../../')\n",
    "print(os.getcwd())\n",
    "from v2.research.scripts.notebook_utils import notebookUtils"
   ]
  },
  {
   "cell_type": "code",
   "execution_count": 2,
   "metadata": {},
   "outputs": [],
   "source": [
    "nu = notebookUtils()\n",
    "\n",
    "\n"
   ]
  },
  {
   "cell_type": "code",
   "execution_count": 3,
   "metadata": {},
   "outputs": [],
   "source": [
    "model = nu.importModel('strawmaker', '1_6')"
   ]
  },
  {
   "cell_type": "code",
   "execution_count": 4,
   "metadata": {},
   "outputs": [
    {
     "output_type": "execute_result",
     "data": {
      "text/plain": [
       "{'indicators': [<v2.strategy.indicators.bop.BOP at 0x7f294055eb00>,\n",
       "  <v2.strategy.indicators.willr.WILLR at 0x7f28bf645978>,\n",
       "  <v2.strategy.indicators.willr.WILLR at 0x7f28bf645ac8>,\n",
       "  <v2.strategy.indicators.cci.CCI at 0x7f28bf645b38>,\n",
       "  <v2.strategy.indicators.cci.CCI at 0x7f28bf645cc0>,\n",
       "  <v2.strategy.indicators.cci.CCI at 0x7f28bf645dd8>,\n",
       "  <v2.strategy.indicators.rsi.RSI at 0x7f28bf645e10>,\n",
       "  <v2.strategy.indicators.rsi.RSI at 0x7f28bf645ef0>,\n",
       "  <v2.strategy.indicators.rsi.RSI at 0x7f28bf645fd0>,\n",
       "  <v2.strategy.indicators.rsi.RSI at 0x7f28bf5f70f0>,\n",
       "  <v2.strategy.indicators.rsi.RSI at 0x7f28bf5f7278>,\n",
       "  <v2.strategy.indicators.natr.NATR at 0x7f28bf5f7438>,\n",
       "  <v2.strategy.indicators.natr.NATR at 0x7f28bf5f76d8>,\n",
       "  <v2.strategy.indicators.natr.NATR at 0x7f28bf5f75f8>,\n",
       "  <v2.strategy.indicators.natr.NATR at 0x7f28bf5f77b8>,\n",
       "  <v2.strategy.indicators.cmo.CMO at 0x7f28bf5f7860>,\n",
       "  <v2.strategy.indicators.cmo.CMO at 0x7f28bf5f7978>,\n",
       "  <v2.strategy.indicators.cmo.CMO at 0x7f28bf5f7908>,\n",
       "  <v2.strategy.indicators.cmo.CMO at 0x7f28bf5f7a58>,\n",
       "  <v2.strategy.indicators.cmo.CMO at 0x7f28bf5f7ac8>],\n",
       " 'features': ['BOP',\n",
       "  'WILLR_close_period_10',\n",
       "  'WILLR_close_period_30',\n",
       "  'CCI_close_period_10',\n",
       "  'CCI_close_period_30',\n",
       "  'CCI_close_period_60',\n",
       "  'RSI_close_period_2',\n",
       "  'RSI_close_period_3',\n",
       "  'RSI_close_period_5',\n",
       "  'RSI_close_period_10',\n",
       "  'RSI_close_period_30',\n",
       "  'NATR_close_period_30',\n",
       "  'NATR_close_period_60',\n",
       "  'NATR_close_period_120',\n",
       "  'NATR_close_period_180',\n",
       "  'CMO_close_period_2',\n",
       "  'CMO_close_period_3',\n",
       "  'CMO_close_period_5',\n",
       "  'CMO_close_period_10',\n",
       "  'CMO_close_period_60'],\n",
       " 'proba_threshold': 0.5,\n",
       " 'model': XGBClassifier(base_score=0.5, booster='gbtree',\n",
       "               class_weight={0: 0.6666666666666666, 1: 2.0}, colsample_bylevel=1,\n",
       "               colsample_bynode=1, colsample_bytree=1, criterion='gini', gamma=0,\n",
       "               gpu_id=-1, importance_type='gain', interaction_constraints='',\n",
       "               learning_rate=0.300000012, max_delta_step=0, max_depth=6,\n",
       "               min_child_weight=1, min_samples_leaf=2, missing=nan,\n",
       "               monotone_constraints='()', n_estimators=100, n_jobs=-1,\n",
       "               num_parallel_tree=1, objective='binary:logistic',\n",
       "               random_state=69420, reg_alpha=0, reg_lambda=1, scale_pos_weight=1,\n",
       "               subsample=1, tree_method='exact', validate_parameters=1,\n",
       "               verbosity=None)}"
      ]
     },
     "metadata": {},
     "execution_count": 4
    }
   ],
   "source": [
    "model"
   ]
  },
  {
   "source": [
    "nu.exportProductionModel(model['model'], 'xgboost', 'strawmaker', True, model['indicators'], model['features'], proba_threshold=0.5)"
   ],
   "cell_type": "code",
   "metadata": {},
   "execution_count": 6,
   "outputs": [
    {
     "output_type": "execute_result",
     "data": {
      "text/plain": [
       "'1_0'"
      ]
     },
     "metadata": {},
     "execution_count": 6
    }
   ]
  },
  {
   "cell_type": "code",
   "execution_count": null,
   "metadata": {},
   "outputs": [],
   "source": []
  }
 ]
}