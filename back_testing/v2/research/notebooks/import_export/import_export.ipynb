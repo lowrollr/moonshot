{
 "metadata": {
  "language_info": {
   "codemirror_mode": {
    "name": "ipython",
    "version": 3
   },
   "file_extension": ".py",
   "mimetype": "text/x-python",
   "name": "python",
   "nbconvert_exporter": "python",
   "pygments_lexer": "ipython3",
   "version": "3.6.9-final"
  },
  "orig_nbformat": 2,
  "kernelspec": {
   "name": "python3",
   "display_name": "Python 3.6.9 64-bit",
   "metadata": {
    "interpreter": {
     "hash": "31f2aee4e71d21fbe5cf8b01ff0e069b9275f58929596ceb00d14d90e3e16cd6"
    }
   }
  }
 },
 "nbformat": 4,
 "nbformat_minor": 2,
 "cells": [
  {
   "cell_type": "code",
   "execution_count": 1,
   "metadata": {},
   "outputs": [
    {
     "output_type": "stream",
     "name": "stdout",
     "text": [
      "/home/marshingjay/repos/moonshot/back_testing\n"
     ]
    }
   ],
   "source": [
    "\n",
    "import os\n",
    "os.chdir('../../../../')\n",
    "print(os.getcwd())\n",
    "from v2.research.scripts.notebook_utils import notebookUtils"
   ]
  },
  {
   "cell_type": "code",
   "execution_count": 2,
   "metadata": {},
   "outputs": [],
   "source": [
    "nu = notebookUtils()"
   ]
  },
  {
   "cell_type": "code",
   "execution_count": 3,
   "metadata": {},
   "outputs": [],
   "source": [
    "model_data = nu.importModel('strawmaker_plus')"
   ]
  },
  {
   "cell_type": "code",
   "execution_count": 4,
   "metadata": {},
   "outputs": [
    {
     "output_type": "execute_result",
     "data": {
      "text/plain": [
       "{'indicators': [<v2.strategy.indicators.moh.MOH at 0x7fea201263d0>,\n",
       "  <v2.strategy.indicators.tod.TOD at 0x7fea21cfeac0>,\n",
       "  <v2.strategy.indicators.dow.DOW at 0x7fea21cfea60>,\n",
       "  <v2.strategy.indicators.bop.BOP at 0x7fe97065fd60>,\n",
       "  <v2.strategy.indicators.willr.WILLR at 0x7fe9707aae80>,\n",
       "  <v2.strategy.indicators.willr.WILLR at 0x7fe97068da00>,\n",
       "  <v2.strategy.indicators.cci.CCI at 0x7fe97066f820>,\n",
       "  <v2.strategy.indicators.cci.CCI at 0x7fe97029ae50>,\n",
       "  <v2.strategy.indicators.cci.CCI at 0x7fe97029aeb0>,\n",
       "  <v2.strategy.indicators.rsi.RSI at 0x7fe96fd21070>,\n",
       "  <v2.strategy.indicators.rsi.RSI at 0x7fe96fd21340>,\n",
       "  <v2.strategy.indicators.rsi.RSI at 0x7fe96fd21400>,\n",
       "  <v2.strategy.indicators.rsi.RSI at 0x7fe96fd21580>,\n",
       "  <v2.strategy.indicators.rsi.RSI at 0x7fe96fd21850>,\n",
       "  <v2.strategy.indicators.natr.NATR at 0x7fe96fd218e0>,\n",
       "  <v2.strategy.indicators.natr.NATR at 0x7fe96fd21a30>,\n",
       "  <v2.strategy.indicators.natr.NATR at 0x7fe96fd21d00>,\n",
       "  <v2.strategy.indicators.natr.NATR at 0x7fe96fd14190>,\n",
       "  <v2.strategy.indicators.cmo.CMO at 0x7fe96fd14220>,\n",
       "  <v2.strategy.indicators.cmo.CMO at 0x7fe96fd142e0>,\n",
       "  <v2.strategy.indicators.cmo.CMO at 0x7fe96fd14340>,\n",
       "  <v2.strategy.indicators.cmo.CMO at 0x7fe96fd144c0>,\n",
       "  <v2.strategy.indicators.cmo.CMO at 0x7fe96fd14550>],\n",
       " 'features': ['MOH',\n",
       "  'TOD',\n",
       "  'DOW',\n",
       "  'BOP',\n",
       "  'WILLR_close_period_10',\n",
       "  'WILLR_close_period_30',\n",
       "  'CCI_close_period_10',\n",
       "  'CCI_close_period_30',\n",
       "  'CCI_close_period_60',\n",
       "  'RSI_close_period_2',\n",
       "  'RSI_close_period_3',\n",
       "  'RSI_close_period_5',\n",
       "  'RSI_close_period_10',\n",
       "  'RSI_close_period_30',\n",
       "  'NATR_close_period_30',\n",
       "  'NATR_close_period_60',\n",
       "  'NATR_close_period_120',\n",
       "  'NATR_close_period_180',\n",
       "  'CMO_close_period_2',\n",
       "  'CMO_close_period_3',\n",
       "  'CMO_close_period_5',\n",
       "  'CMO_close_period_10',\n",
       "  'CMO_close_period_60'],\n",
       " 'proba_threshold': [0.825],\n",
       " 'model': None}"
      ]
     },
     "metadata": {},
     "execution_count": 4
    }
   ],
   "source": [
    "model_data"
   ]
  },
  {
   "cell_type": "code",
   "execution_count": 6,
   "metadata": {},
   "outputs": [
    {
     "output_type": "execute_result",
     "data": {
      "text/plain": [
       "'1_0'"
      ]
     },
     "metadata": {},
     "execution_count": 6
    }
   ],
   "source": [
    "nu.exportProductionModel(model_data['model'], \"nn\", \"strawmaker_plus\", False, model_data['indicators'], model_data['features'], model_data['proba_threshold'])"
   ]
  },
  {
   "cell_type": "code",
   "execution_count": null,
   "metadata": {},
   "outputs": [],
   "source": []
  }
 ]
}