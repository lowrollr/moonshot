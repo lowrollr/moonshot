{
 "metadata": {
  "language_info": {
   "codemirror_mode": {
    "name": "ipython",
    "version": 3
   },
   "file_extension": ".py",
   "mimetype": "text/x-python",
   "name": "python",
   "nbconvert_exporter": "python",
   "pygments_lexer": "ipython3",
   "version": "3.8.5-final"
  },
  "orig_nbformat": 2,
  "kernelspec": {
   "name": "python3",
   "display_name": "Python 3.8.5 64-bit",
   "metadata": {
    "interpreter": {
     "hash": "31f2aee4e71d21fbe5cf8b01ff0e069b9275f58929596ceb00d14d90e3e16cd6"
    }
   }
  }
 },
 "nbformat": 4,
 "nbformat_minor": 2,
 "cells": [
  {
   "cell_type": "code",
   "execution_count": 1,
   "metadata": {},
   "outputs": [
    {
     "output_type": "stream",
     "name": "stdout",
     "text": [
      "/home/marshingjay/repos/moonshot/back_testing\n"
     ]
    }
   ],
   "source": [
    "\n",
    "import os\n",
    "os.chdir('../../../../')\n",
    "print(os.getcwd())\n",
    "from v2.research.scripts.notebook_utils import notebookUtils"
   ]
  },
  {
   "cell_type": "code",
   "execution_count": 2,
   "metadata": {},
   "outputs": [],
   "source": [
    "nu = notebookUtils()"
   ]
  },
  {
   "cell_type": "code",
   "execution_count": 3,
   "metadata": {},
   "outputs": [],
   "source": [
    "model_data = nu.importModel('strawmaker_plus')"
   ]
  },
  {
   "cell_type": "code",
   "execution_count": 4,
   "metadata": {},
   "outputs": [
    {
     "output_type": "execute_result",
     "data": {
      "text/plain": [
       "{'indicators': [<v2.strategy.indicators.moh.MOH at 0x7f40c02be160>,\n",
       "  <v2.strategy.indicators.tod.TOD at 0x7f40c02c62e0>,\n",
       "  <v2.strategy.indicators.dow.DOW at 0x7f40c02d1130>,\n",
       "  <v2.strategy.indicators.bop.BOP at 0x7f40c02d1a30>,\n",
       "  <v2.strategy.indicators.willr.WILLR at 0x7f40c02d1730>,\n",
       "  <v2.strategy.indicators.willr.WILLR at 0x7f40132bb490>,\n",
       "  <v2.strategy.indicators.cci.CCI at 0x7f40132bb550>,\n",
       "  <v2.strategy.indicators.cci.CCI at 0x7f4012dec130>,\n",
       "  <v2.strategy.indicators.cci.CCI at 0x7f4012dec190>,\n",
       "  <v2.strategy.indicators.rsi.RSI at 0x7f4012dec340>,\n",
       "  <v2.strategy.indicators.rsi.RSI at 0x7f4012dec610>,\n",
       "  <v2.strategy.indicators.rsi.RSI at 0x7f4012dec6d0>,\n",
       "  <v2.strategy.indicators.rsi.RSI at 0x7f4012dec850>,\n",
       "  <v2.strategy.indicators.rsi.RSI at 0x7f4012decb20>,\n",
       "  <v2.strategy.indicators.natr.NATR at 0x7f4012decbb0>,\n",
       "  <v2.strategy.indicators.natr.NATR at 0x7f4012decd00>,\n",
       "  <v2.strategy.indicators.natr.NATR at 0x7f4012d7b0a0>,\n",
       "  <v2.strategy.indicators.natr.NATR at 0x7f4012d7b460>,\n",
       "  <v2.strategy.indicators.cmo.CMO at 0x7f4012d7b4f0>,\n",
       "  <v2.strategy.indicators.cmo.CMO at 0x7f4012d7b5b0>,\n",
       "  <v2.strategy.indicators.cmo.CMO at 0x7f4012d7b610>,\n",
       "  <v2.strategy.indicators.cmo.CMO at 0x7f4012d7b790>,\n",
       "  <v2.strategy.indicators.cmo.CMO at 0x7f4012d7b820>],\n",
       " 'features': ['MOH',\n",
       "  'TOD',\n",
       "  'DOW',\n",
       "  'BOP',\n",
       "  'WILLR_close_period_10',\n",
       "  'WILLR_close_period_30',\n",
       "  'CCI_close_period_10',\n",
       "  'CCI_close_period_30',\n",
       "  'CCI_close_period_60',\n",
       "  'RSI_close_period_2',\n",
       "  'RSI_close_period_3',\n",
       "  'RSI_close_period_5',\n",
       "  'RSI_close_period_10',\n",
       "  'RSI_close_period_30',\n",
       "  'NATR_close_period_30',\n",
       "  'NATR_close_period_60',\n",
       "  'NATR_close_period_120',\n",
       "  'NATR_close_period_180',\n",
       "  'CMO_close_period_2',\n",
       "  'CMO_close_period_3',\n",
       "  'CMO_close_period_5',\n",
       "  'CMO_close_period_10',\n",
       "  'CMO_close_period_60'],\n",
       " 'proba_threshold': [0.825],\n",
       " 'model': <tensorflow.python.keras.engine.sequential.Sequential at 0x7f40101c9100>}"
      ]
     },
     "metadata": {},
     "execution_count": 4
    }
   ],
   "source": [
    "model_data"
   ]
  },
  {
   "cell_type": "code",
   "execution_count": 5,
   "metadata": {},
   "outputs": [
    {
     "output_type": "stream",
     "name": "stdout",
     "text": [
      "WARNING:tensorflow:From /home/marshingjay/.local/lib/python3.8/site-packages/tensorflow/python/ops/resource_variable_ops.py:1813: calling BaseResourceVariable.__init__ (from tensorflow.python.ops.resource_variable_ops) with constraint is deprecated and will be removed in a future version.\n",
      "Instructions for updating:\n",
      "If using Keras pass *_constraint arguments to layers.\n",
      "INFO:tensorflow:Assets written to: ./production_models/strawmaker_plus/1_2/assets\n"
     ]
    },
    {
     "output_type": "execute_result",
     "data": {
      "text/plain": [
       "'1_2'"
      ]
     },
     "metadata": {},
     "execution_count": 5
    }
   ],
   "source": [
    "nu.exportProductionModel(model_data['model'], \"nn\", \"strawmaker_plus\", False, model_data['indicators'], model_data['features'], model_data['proba_threshold'], True)"
   ]
  },
  {
   "cell_type": "code",
   "execution_count": null,
   "metadata": {},
   "outputs": [],
   "source": []
  }
 ]
}