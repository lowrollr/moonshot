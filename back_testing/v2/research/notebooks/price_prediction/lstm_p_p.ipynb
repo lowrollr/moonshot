{
 "cells": [
  {
   "cell_type": "code",
   "execution_count": 1,
   "metadata": {},
   "outputs": [
    {
     "output_type": "execute_result",
     "data": {
      "text/plain": "'/Users/rosscopeland/Desktop/personal/code/vivaldi/back_testing'"
     },
     "metadata": {},
     "execution_count": 1
    }
   ],
   "source": [
    "import os\n",
    "os.chdir('../../../../')\n",
    "os.getcwd()"
   ]
  },
  {
   "cell_type": "code",
   "execution_count": 2,
   "metadata": {},
   "outputs": [],
   "source": [
    "import pandas as pd\n",
    "import numpy as np\n",
    "import matplotlib.pyplot as plt\n",
    "from scipy.signal import argrelextrema\n",
    "from v2.model import Trading\n",
    "from v2.strategy.indicators.smma import SMMA\n",
    "from v2.strategy.indicators.stochastic_oscillator import StochasticOscillator\n",
    "from v2.strategy.indicators.bollinger_bands import BollingerBands\n",
    "from v2.strategy.indicators.rsi import RSI\n",
    "from v2.strategy.indicators.macd import MACD\n",
    "from v2.strategy.indicators.param import Param\n",
    "from sklearn.model_selection import train_test_split\n",
    "import pickle\n",
    "import warnings\n",
    "warnings.filterwarnings('ignore')\n",
    "from tqdm import tqdm"
   ]
  },
  {
   "cell_type": "code",
   "execution_count": 44,
   "metadata": {},
   "outputs": [],
   "source": [
    "def load_config():\n",
    "    my_config = {}\n",
    "    with open('config.config') as config:\n",
    "        for line in config:\n",
    "            args = line.split('=')\n",
    "            my_config[args[0]] = args[1].rstrip().split(',')\n",
    "    return my_config\n",
    "\n",
    "model = Trading(load_config())"
   ]
  },
  {
   "cell_type": "code",
   "execution_count": 53,
   "metadata": {},
   "outputs": [],
   "source": [
    "datasets = model.dfs\n",
    "appended_dataset = pd.DataFrame()\n",
    "for d in datasets:\n",
    "    training_set = d[0]\n",
    "    training_set['trough'] = training_set.iloc[argrelextrema(training_set.close.values, np.less_equal, order=480)[0]]['close']\n",
    "    training_set['peak'] = training_set.iloc[argrelextrema(training_set.close.values, np.greater_equal, order=480)[0]]['close']\n",
    "    ema_fast = Param(5, 10000, 0, 'ema_fast', 60)\n",
    "    ema_slow= Param(6, 10001, 0, 'ema_slow', 120)\n",
    "    signal = Param(5, 10001, 0, 'signal', 90)\n",
    "    macd_ = MACD(_params=[ema_fast, ema_slow, signal], _name='macd')\n",
    "    macd_.genData(training_set, gen_new_values=False)\n",
    "    boll_period = Param(5, 10000, 0, 'period', 90)\n",
    "    boll_bands = BollingerBands(_params=[boll_period], _name='bollinger_bands')\n",
    "    boll_bands.genData(training_set, gen_new_values=False)\n",
    "    stoch_highlow = Param(5, 10000, 0, 'highlow_range', 90.0)\n",
    "    stoch_k = Param(5, 10000, 0, 'k_period', 270.0)\n",
    "    stoch_oscillator = StochasticOscillator(_params=[stoch_highlow, stoch_k], _name='stochastic_oscillator')\n",
    "    stoch_oscillator.genData(training_set, gen_new_values=False)\n",
    "    rsi_period = Param(5, 10000, 0, 'period', 90.0)\n",
    "    rsi_ = RSI(_params=[rsi_period], _name='rsi')\n",
    "    rsi_.genData(training_set, gen_new_values=False)\n",
    "    smma_period = Param(5, 10000, 0, 'period', 90.0)\n",
    "    smma_ = SMMA(_params=[smma_period], _name='smma')\n",
    "    smma_.genData(training_set, gen_new_values=False)\n",
    "    training_set[['trough', 'peak']] = training_set[['trough', 'peak']].fillna(0)\n",
    "    training_set['slope'] = (training_set['close'].rolling(window=30).max() - training_set['close'].rolling(window=30).min()) / training_set['close'].rolling(window=30).max()\n",
    "    training_set = training_set.dropna()\n",
    "    appended_dataset = appended_dataset.append(training_set)"
   ]
  },
  {
   "cell_type": "code",
   "execution_count": 54,
   "metadata": {},
   "outputs": [
    {
     "output_type": "execute_result",
     "data": {
      "text/plain": "           time       open       high        low      close    volume  trades  \\\n358  1383503820  207.67198  207.67198  207.67198  207.67198  0.100000       1   \n359  1383505860  207.43988  207.43988  206.89000  207.01377  1.263692       5   \n360  1383507660  207.59295  207.75000  207.59295  207.75000  0.100000       2   \n361  1383507720  207.75000  207.75000  207.75000  207.75000  0.100000       1   \n362  1383510600  207.75000  207.75000  207.75000  207.75000  0.314611       1   \n\n     trough  peak    ema_slow  ...    stosc_k    stosc_d  rsi_diff    rsi_u  \\\n358     0.0   0.0  203.646855  ...   4.275846  23.660815  -0.00418  0.00000   \n359     0.0   0.0  203.702506  ...  13.776266  23.698312  -0.65821  0.00000   \n360     0.0   0.0  203.769407  ...   3.149727  23.696407   0.73623  0.73623   \n361     0.0   0.0  203.835202  ...   3.149727  23.694475   0.00000  0.00000   \n362     0.0   0.0  203.899909  ...   3.149727  23.696210   0.00000  0.00000   \n\n       rsi_d  rsi_smma_u  rsi_smma_d        rsi        smma     slope  \n358  0.00418    0.328056    0.243793  57.367632  201.724654  0.013416  \n359  0.65821    0.324344    0.248482  56.621691  201.784494  0.013416  \n360  0.00000    0.329004    0.245671  57.250430  201.851973  0.013767  \n361  0.00000    0.325282    0.242892  57.250430  201.918675  0.012649  \n362  0.00000    0.321603    0.240145  57.250430  201.984609  0.009771  \n\n[5 rows x 30 columns]",
      "text/html": "<div>\n<style scoped>\n    .dataframe tbody tr th:only-of-type {\n        vertical-align: middle;\n    }\n\n    .dataframe tbody tr th {\n        vertical-align: top;\n    }\n\n    .dataframe thead th {\n        text-align: right;\n    }\n</style>\n<table border=\"1\" class=\"dataframe\">\n  <thead>\n    <tr style=\"text-align: right;\">\n      <th></th>\n      <th>time</th>\n      <th>open</th>\n      <th>high</th>\n      <th>low</th>\n      <th>close</th>\n      <th>volume</th>\n      <th>trades</th>\n      <th>trough</th>\n      <th>peak</th>\n      <th>ema_slow</th>\n      <th>...</th>\n      <th>stosc_k</th>\n      <th>stosc_d</th>\n      <th>rsi_diff</th>\n      <th>rsi_u</th>\n      <th>rsi_d</th>\n      <th>rsi_smma_u</th>\n      <th>rsi_smma_d</th>\n      <th>rsi</th>\n      <th>smma</th>\n      <th>slope</th>\n    </tr>\n  </thead>\n  <tbody>\n    <tr>\n      <th>358</th>\n      <td>1383503820</td>\n      <td>207.67198</td>\n      <td>207.67198</td>\n      <td>207.67198</td>\n      <td>207.67198</td>\n      <td>0.100000</td>\n      <td>1</td>\n      <td>0.0</td>\n      <td>0.0</td>\n      <td>203.646855</td>\n      <td>...</td>\n      <td>4.275846</td>\n      <td>23.660815</td>\n      <td>-0.00418</td>\n      <td>0.00000</td>\n      <td>0.00418</td>\n      <td>0.328056</td>\n      <td>0.243793</td>\n      <td>57.367632</td>\n      <td>201.724654</td>\n      <td>0.013416</td>\n    </tr>\n    <tr>\n      <th>359</th>\n      <td>1383505860</td>\n      <td>207.43988</td>\n      <td>207.43988</td>\n      <td>206.89000</td>\n      <td>207.01377</td>\n      <td>1.263692</td>\n      <td>5</td>\n      <td>0.0</td>\n      <td>0.0</td>\n      <td>203.702506</td>\n      <td>...</td>\n      <td>13.776266</td>\n      <td>23.698312</td>\n      <td>-0.65821</td>\n      <td>0.00000</td>\n      <td>0.65821</td>\n      <td>0.324344</td>\n      <td>0.248482</td>\n      <td>56.621691</td>\n      <td>201.784494</td>\n      <td>0.013416</td>\n    </tr>\n    <tr>\n      <th>360</th>\n      <td>1383507660</td>\n      <td>207.59295</td>\n      <td>207.75000</td>\n      <td>207.59295</td>\n      <td>207.75000</td>\n      <td>0.100000</td>\n      <td>2</td>\n      <td>0.0</td>\n      <td>0.0</td>\n      <td>203.769407</td>\n      <td>...</td>\n      <td>3.149727</td>\n      <td>23.696407</td>\n      <td>0.73623</td>\n      <td>0.73623</td>\n      <td>0.00000</td>\n      <td>0.329004</td>\n      <td>0.245671</td>\n      <td>57.250430</td>\n      <td>201.851973</td>\n      <td>0.013767</td>\n    </tr>\n    <tr>\n      <th>361</th>\n      <td>1383507720</td>\n      <td>207.75000</td>\n      <td>207.75000</td>\n      <td>207.75000</td>\n      <td>207.75000</td>\n      <td>0.100000</td>\n      <td>1</td>\n      <td>0.0</td>\n      <td>0.0</td>\n      <td>203.835202</td>\n      <td>...</td>\n      <td>3.149727</td>\n      <td>23.694475</td>\n      <td>0.00000</td>\n      <td>0.00000</td>\n      <td>0.00000</td>\n      <td>0.325282</td>\n      <td>0.242892</td>\n      <td>57.250430</td>\n      <td>201.918675</td>\n      <td>0.012649</td>\n    </tr>\n    <tr>\n      <th>362</th>\n      <td>1383510600</td>\n      <td>207.75000</td>\n      <td>207.75000</td>\n      <td>207.75000</td>\n      <td>207.75000</td>\n      <td>0.314611</td>\n      <td>1</td>\n      <td>0.0</td>\n      <td>0.0</td>\n      <td>203.899909</td>\n      <td>...</td>\n      <td>3.149727</td>\n      <td>23.696210</td>\n      <td>0.00000</td>\n      <td>0.00000</td>\n      <td>0.00000</td>\n      <td>0.321603</td>\n      <td>0.240145</td>\n      <td>57.250430</td>\n      <td>201.984609</td>\n      <td>0.009771</td>\n    </tr>\n  </tbody>\n</table>\n<p>5 rows × 30 columns</p>\n</div>"
     },
     "metadata": {},
     "execution_count": 54
    }
   ],
   "source": [
    "appended_dataset.head()"
   ]
  },
  {
   "cell_type": "code",
   "execution_count": 55,
   "metadata": {},
   "outputs": [
    {
     "output_type": "execute_result",
     "data": {
      "text/plain": "           time       open       high        low      close    volume  \\\n358  1383503820  207.67198  207.67198  207.67198  207.67198  0.100000   \n359  1383505860  207.43988  207.43988  206.89000  207.01377  1.263692   \n360  1383507660  207.59295  207.75000  207.59295  207.75000  0.100000   \n361  1383507720  207.75000  207.75000  207.75000  207.75000  0.100000   \n362  1383510600  207.75000  207.75000  207.75000  207.75000  0.314611   \n\n       ema_slow    ema_fast      macd    stosc_k        rsi        smma  \\\n358  203.646855  205.570957  1.924102   4.275846  57.367632  201.724654   \n359  203.702506  205.618262  1.915756  13.776266  56.621691  201.784494   \n360  203.769407  205.688155  1.918748   3.149727  57.250430  201.851973   \n361  203.835202  205.755757  1.920555   3.149727  57.250430  201.918675   \n362  203.899909  205.821142  1.921233   3.149727  57.250430  201.984609   \n\n        slope  predict_number  predict_forecast  classify_inc  \n358  0.013416               5         208.21573             1  \n359  0.013416               5         207.80137             1  \n360  0.013767               5         207.17796             0  \n361  0.012649               5         208.30000             1  \n362  0.009771               5         208.47000             1  ",
      "text/html": "<div>\n<style scoped>\n    .dataframe tbody tr th:only-of-type {\n        vertical-align: middle;\n    }\n\n    .dataframe tbody tr th {\n        vertical-align: top;\n    }\n\n    .dataframe thead th {\n        text-align: right;\n    }\n</style>\n<table border=\"1\" class=\"dataframe\">\n  <thead>\n    <tr style=\"text-align: right;\">\n      <th></th>\n      <th>time</th>\n      <th>open</th>\n      <th>high</th>\n      <th>low</th>\n      <th>close</th>\n      <th>volume</th>\n      <th>ema_slow</th>\n      <th>ema_fast</th>\n      <th>macd</th>\n      <th>stosc_k</th>\n      <th>rsi</th>\n      <th>smma</th>\n      <th>slope</th>\n      <th>predict_number</th>\n      <th>predict_forecast</th>\n      <th>classify_inc</th>\n    </tr>\n  </thead>\n  <tbody>\n    <tr>\n      <th>358</th>\n      <td>1383503820</td>\n      <td>207.67198</td>\n      <td>207.67198</td>\n      <td>207.67198</td>\n      <td>207.67198</td>\n      <td>0.100000</td>\n      <td>203.646855</td>\n      <td>205.570957</td>\n      <td>1.924102</td>\n      <td>4.275846</td>\n      <td>57.367632</td>\n      <td>201.724654</td>\n      <td>0.013416</td>\n      <td>5</td>\n      <td>208.21573</td>\n      <td>1</td>\n    </tr>\n    <tr>\n      <th>359</th>\n      <td>1383505860</td>\n      <td>207.43988</td>\n      <td>207.43988</td>\n      <td>206.89000</td>\n      <td>207.01377</td>\n      <td>1.263692</td>\n      <td>203.702506</td>\n      <td>205.618262</td>\n      <td>1.915756</td>\n      <td>13.776266</td>\n      <td>56.621691</td>\n      <td>201.784494</td>\n      <td>0.013416</td>\n      <td>5</td>\n      <td>207.80137</td>\n      <td>1</td>\n    </tr>\n    <tr>\n      <th>360</th>\n      <td>1383507660</td>\n      <td>207.59295</td>\n      <td>207.75000</td>\n      <td>207.59295</td>\n      <td>207.75000</td>\n      <td>0.100000</td>\n      <td>203.769407</td>\n      <td>205.688155</td>\n      <td>1.918748</td>\n      <td>3.149727</td>\n      <td>57.250430</td>\n      <td>201.851973</td>\n      <td>0.013767</td>\n      <td>5</td>\n      <td>207.17796</td>\n      <td>0</td>\n    </tr>\n    <tr>\n      <th>361</th>\n      <td>1383507720</td>\n      <td>207.75000</td>\n      <td>207.75000</td>\n      <td>207.75000</td>\n      <td>207.75000</td>\n      <td>0.100000</td>\n      <td>203.835202</td>\n      <td>205.755757</td>\n      <td>1.920555</td>\n      <td>3.149727</td>\n      <td>57.250430</td>\n      <td>201.918675</td>\n      <td>0.012649</td>\n      <td>5</td>\n      <td>208.30000</td>\n      <td>1</td>\n    </tr>\n    <tr>\n      <th>362</th>\n      <td>1383510600</td>\n      <td>207.75000</td>\n      <td>207.75000</td>\n      <td>207.75000</td>\n      <td>207.75000</td>\n      <td>0.314611</td>\n      <td>203.899909</td>\n      <td>205.821142</td>\n      <td>1.921233</td>\n      <td>3.149727</td>\n      <td>57.250430</td>\n      <td>201.984609</td>\n      <td>0.009771</td>\n      <td>5</td>\n      <td>208.47000</td>\n      <td>1</td>\n    </tr>\n  </tbody>\n</table>\n</div>"
     },
     "metadata": {},
     "execution_count": 55
    }
   ],
   "source": [
    "train_df = appended_dataset[[\"time\", \"open\", \"high\", \"low\", \"close\", \"volume\", \"ema_slow\", \"ema_fast\", \"macd\", \"stosc_k\", \"rsi\", \"smma\", \"slope\"]]\n",
    "final_df = pd.DataFrame()\n",
    "PREDICT_NUM = 100\n",
    "predics = [5, 10, 25, 50, 100]\n",
    "for i in predics:\n",
    "    temp_df = train_df\n",
    "    temp_df[\"predict_number\"] = i\n",
    "    temp_df[\"predict_forecast\"] = temp_df[\"close\"].shift(-int(i))\n",
    "    temp_df[\"classify_inc\"] = (temp_df[\"predict_forecast\"] - temp_df[\"close\"] > 0)\n",
    "    final_df = pd.concat([final_df, temp_df])\n",
    "    \n",
    "# final_df[\"classify_inc\"].replace(True, 1)\n",
    "# final_df[\"classify_inc\"].replace(False, 0)\n",
    "final_df[\"classify_inc\"] = final_df[\"classify_inc\"].astype(int)\n",
    "\n",
    "\n",
    "    \n",
    "final_df.head()"
   ]
  },
  {
   "cell_type": "code",
   "execution_count": 56,
   "metadata": {},
   "outputs": [],
   "source": [
    "final_df.dropna(inplace=True)"
   ]
  },
  {
   "cell_type": "code",
   "execution_count": 57,
   "metadata": {},
   "outputs": [
    {
     "output_type": "execute_result",
     "data": {
      "text/plain": "               time        open        high         low       close    volume  \\\n358      1383503820   207.67198   207.67198   207.67198   207.67198  0.100000   \n358      1383503820   207.67198   207.67198   207.67198   207.67198  0.100000   \n358      1383503820   207.67198   207.67198   207.67198   207.67198  0.100000   \n358      1383503820   207.67198   207.67198   207.67198   207.67198  0.100000   \n358      1383503820   207.67198   207.67198   207.67198   207.67198  0.100000   \n...             ...         ...         ...         ...         ...       ...   \n1737848  1590986940  9552.90000  9552.90000  9551.50000  9551.50000  0.331746   \n1737849  1590987000  9552.00000  9557.10000  9550.70000  9550.70000  9.495489   \n1737850  1590987060  9550.90000  9550.90000  9550.70000  9550.70000  0.110000   \n1737851  1590987120  9550.80000  9550.80000  9550.70000  9550.80000  2.486151   \n1737852  1590987180  9550.70000  9550.70000  9541.30000  9544.60000  4.290058   \n\n            ema_slow     ema_fast       macd    stosc_k        rsi  \\\n358       203.646855   205.570957   1.924102   4.275846  57.367632   \n358       203.646855   205.570957   1.924102   4.275846  57.367632   \n358       203.646855   205.570957   1.924102   4.275846  57.367632   \n358       203.646855   205.570957   1.924102   4.275846  57.367632   \n358       203.646855   205.570957   1.924102   4.275846  57.367632   \n...              ...          ...        ...        ...        ...   \n1737848  9546.490100  9556.706129  10.216029  59.027027  52.082370   \n1737849  9546.559685  9556.509206   9.949522  59.891892  51.967338   \n1737850  9546.628120  9556.318741   9.690621  59.891892  51.967338   \n1737851  9546.697076  9556.137798   9.440722  59.783784  51.980894   \n1737852  9546.662414  9555.759510   9.097096  66.486486  51.077052   \n\n                smma     slope  predict_number  predict_forecast  classify_inc  \n358       201.724654  0.013416               5         208.21573             1  \n358       201.724654  0.013416             100         211.09000             1  \n358       201.724654  0.013416              10         208.52599             1  \n358       201.724654  0.013416              50         212.20000             1  \n358       201.724654  0.013416              25         208.90000             1  \n...              ...       ...             ...               ...           ...  \n1737848  9536.448233  0.005767               5        9549.80000             0  \n1737849  9536.606586  0.005767               5        9546.20000             0  \n1737850  9536.763179  0.005767               5        9545.20000             0  \n1737851  9536.919144  0.005767               5        9543.90000             0  \n1737852  9537.004487  0.006402               5        9541.00000             0  \n\n[8685930 rows x 16 columns]",
      "text/html": "<div>\n<style scoped>\n    .dataframe tbody tr th:only-of-type {\n        vertical-align: middle;\n    }\n\n    .dataframe tbody tr th {\n        vertical-align: top;\n    }\n\n    .dataframe thead th {\n        text-align: right;\n    }\n</style>\n<table border=\"1\" class=\"dataframe\">\n  <thead>\n    <tr style=\"text-align: right;\">\n      <th></th>\n      <th>time</th>\n      <th>open</th>\n      <th>high</th>\n      <th>low</th>\n      <th>close</th>\n      <th>volume</th>\n      <th>ema_slow</th>\n      <th>ema_fast</th>\n      <th>macd</th>\n      <th>stosc_k</th>\n      <th>rsi</th>\n      <th>smma</th>\n      <th>slope</th>\n      <th>predict_number</th>\n      <th>predict_forecast</th>\n      <th>classify_inc</th>\n    </tr>\n  </thead>\n  <tbody>\n    <tr>\n      <th>358</th>\n      <td>1383503820</td>\n      <td>207.67198</td>\n      <td>207.67198</td>\n      <td>207.67198</td>\n      <td>207.67198</td>\n      <td>0.100000</td>\n      <td>203.646855</td>\n      <td>205.570957</td>\n      <td>1.924102</td>\n      <td>4.275846</td>\n      <td>57.367632</td>\n      <td>201.724654</td>\n      <td>0.013416</td>\n      <td>5</td>\n      <td>208.21573</td>\n      <td>1</td>\n    </tr>\n    <tr>\n      <th>358</th>\n      <td>1383503820</td>\n      <td>207.67198</td>\n      <td>207.67198</td>\n      <td>207.67198</td>\n      <td>207.67198</td>\n      <td>0.100000</td>\n      <td>203.646855</td>\n      <td>205.570957</td>\n      <td>1.924102</td>\n      <td>4.275846</td>\n      <td>57.367632</td>\n      <td>201.724654</td>\n      <td>0.013416</td>\n      <td>100</td>\n      <td>211.09000</td>\n      <td>1</td>\n    </tr>\n    <tr>\n      <th>358</th>\n      <td>1383503820</td>\n      <td>207.67198</td>\n      <td>207.67198</td>\n      <td>207.67198</td>\n      <td>207.67198</td>\n      <td>0.100000</td>\n      <td>203.646855</td>\n      <td>205.570957</td>\n      <td>1.924102</td>\n      <td>4.275846</td>\n      <td>57.367632</td>\n      <td>201.724654</td>\n      <td>0.013416</td>\n      <td>10</td>\n      <td>208.52599</td>\n      <td>1</td>\n    </tr>\n    <tr>\n      <th>358</th>\n      <td>1383503820</td>\n      <td>207.67198</td>\n      <td>207.67198</td>\n      <td>207.67198</td>\n      <td>207.67198</td>\n      <td>0.100000</td>\n      <td>203.646855</td>\n      <td>205.570957</td>\n      <td>1.924102</td>\n      <td>4.275846</td>\n      <td>57.367632</td>\n      <td>201.724654</td>\n      <td>0.013416</td>\n      <td>50</td>\n      <td>212.20000</td>\n      <td>1</td>\n    </tr>\n    <tr>\n      <th>358</th>\n      <td>1383503820</td>\n      <td>207.67198</td>\n      <td>207.67198</td>\n      <td>207.67198</td>\n      <td>207.67198</td>\n      <td>0.100000</td>\n      <td>203.646855</td>\n      <td>205.570957</td>\n      <td>1.924102</td>\n      <td>4.275846</td>\n      <td>57.367632</td>\n      <td>201.724654</td>\n      <td>0.013416</td>\n      <td>25</td>\n      <td>208.90000</td>\n      <td>1</td>\n    </tr>\n    <tr>\n      <th>...</th>\n      <td>...</td>\n      <td>...</td>\n      <td>...</td>\n      <td>...</td>\n      <td>...</td>\n      <td>...</td>\n      <td>...</td>\n      <td>...</td>\n      <td>...</td>\n      <td>...</td>\n      <td>...</td>\n      <td>...</td>\n      <td>...</td>\n      <td>...</td>\n      <td>...</td>\n      <td>...</td>\n    </tr>\n    <tr>\n      <th>1737848</th>\n      <td>1590986940</td>\n      <td>9552.90000</td>\n      <td>9552.90000</td>\n      <td>9551.50000</td>\n      <td>9551.50000</td>\n      <td>0.331746</td>\n      <td>9546.490100</td>\n      <td>9556.706129</td>\n      <td>10.216029</td>\n      <td>59.027027</td>\n      <td>52.082370</td>\n      <td>9536.448233</td>\n      <td>0.005767</td>\n      <td>5</td>\n      <td>9549.80000</td>\n      <td>0</td>\n    </tr>\n    <tr>\n      <th>1737849</th>\n      <td>1590987000</td>\n      <td>9552.00000</td>\n      <td>9557.10000</td>\n      <td>9550.70000</td>\n      <td>9550.70000</td>\n      <td>9.495489</td>\n      <td>9546.559685</td>\n      <td>9556.509206</td>\n      <td>9.949522</td>\n      <td>59.891892</td>\n      <td>51.967338</td>\n      <td>9536.606586</td>\n      <td>0.005767</td>\n      <td>5</td>\n      <td>9546.20000</td>\n      <td>0</td>\n    </tr>\n    <tr>\n      <th>1737850</th>\n      <td>1590987060</td>\n      <td>9550.90000</td>\n      <td>9550.90000</td>\n      <td>9550.70000</td>\n      <td>9550.70000</td>\n      <td>0.110000</td>\n      <td>9546.628120</td>\n      <td>9556.318741</td>\n      <td>9.690621</td>\n      <td>59.891892</td>\n      <td>51.967338</td>\n      <td>9536.763179</td>\n      <td>0.005767</td>\n      <td>5</td>\n      <td>9545.20000</td>\n      <td>0</td>\n    </tr>\n    <tr>\n      <th>1737851</th>\n      <td>1590987120</td>\n      <td>9550.80000</td>\n      <td>9550.80000</td>\n      <td>9550.70000</td>\n      <td>9550.80000</td>\n      <td>2.486151</td>\n      <td>9546.697076</td>\n      <td>9556.137798</td>\n      <td>9.440722</td>\n      <td>59.783784</td>\n      <td>51.980894</td>\n      <td>9536.919144</td>\n      <td>0.005767</td>\n      <td>5</td>\n      <td>9543.90000</td>\n      <td>0</td>\n    </tr>\n    <tr>\n      <th>1737852</th>\n      <td>1590987180</td>\n      <td>9550.70000</td>\n      <td>9550.70000</td>\n      <td>9541.30000</td>\n      <td>9544.60000</td>\n      <td>4.290058</td>\n      <td>9546.662414</td>\n      <td>9555.759510</td>\n      <td>9.097096</td>\n      <td>66.486486</td>\n      <td>51.077052</td>\n      <td>9537.004487</td>\n      <td>0.006402</td>\n      <td>5</td>\n      <td>9541.00000</td>\n      <td>0</td>\n    </tr>\n  </tbody>\n</table>\n<p>8685930 rows × 16 columns</p>\n</div>"
     },
     "metadata": {},
     "execution_count": 57
    }
   ],
   "source": [
    "final_df.sort_values(by=['time'], inplace=True)\n",
    "final_df"
   ]
  },
  {
   "cell_type": "code",
   "execution_count": 63,
   "metadata": {},
   "outputs": [],
   "source": [
    "X = final_df.drop([\"predict_forecast\", \"classify_inc\"], axis=1)\n",
    "y = final_df[[\"predict_forecast\", \"classify_inc\"]]\n",
    "\n",
    "X_train_, X_test_, y_train_, y_test_ = train_test_split(X, y, test_size=0.2, shuffle=False)\n",
    "\n",
    "linear_y_train = y_train_.drop(\"classify_inc\", axis=1).values\n",
    "linear_y_test = y_test_.drop(\"classify_inc\", axis=1).values\n",
    "\n",
    "classify_y_train = y_train_.drop(\"predict_forecast\", axis=1).values\n",
    "classify_y_test = y_test_.drop(\"predict_forecast\", axis=1).values\n",
    "\n",
    "X_train = X_train_.values\n",
    "X_test = X_test_.values\n",
    "\n",
    "graph_X = []\n",
    "graph_X_pred = []\n",
    "graph_y = []\n",
    "for i in range(len(X_test)):\n",
    "    if X_test[i][-1] == PREDICT_NUM:\n",
    "        graph_X.append(X_test[i][0])\n",
    "        graph_X_pred.append(X_test[i])\n",
    "        graph_y.append(linear_y_test[i])\n",
    "\n",
    "graph_X = graph_X[-1440:] \n",
    "graph_X_pred = graph_X_pred[-1440:]\n",
    "graph_y = graph_y[-1440:]\n",
    "future_graph_X = [x + PREDICT_NUM for x in graph_X]"
   ]
  },
  {
   "cell_type": "code",
   "execution_count": 51,
   "metadata": {},
   "outputs": [],
   "source": [
    "from sklearn.linear_model import Ridge"
   ]
  },
  {
   "cell_type": "code",
   "execution_count": 52,
   "metadata": {},
   "outputs": [
    {
     "output_type": "display_data",
     "data": {
      "text/plain": "<Figure size 432x288 with 0 Axes>"
     },
     "metadata": {}
    }
   ],
   "source": [
    "#ridge\n",
    "ridge = Ridge(alpha=0.01)\n",
    "ridge.fit(X_train, linear_y_train)\n",
    "score = ridge.score(X_test, linear_y_test)\n",
    "\n",
    "pickle.dump(ridge, open('v2/research/scripts/models/global_ridge.sav', 'wb+'))\n",
    "with open(\"v2/research/scripts/training_data.csv\", \"a\") as f:\n",
    "    f.write(\"ridge_linear_model,{}\\n\".format(score))\n",
    "predictions = ridge.predict(graph_X_pred)\n",
    "plt.plot(future_graph_X, graph_y, label = \"original prices\", color=\"blue\")\n",
    "plt.plot(graph_X, predictions, label = \"predicted prices\", color=\"red\")\n",
    "plt.savefig('v2/research/scripts/graphs/ridge.png')\n",
    "plt.clf()"
   ]
  },
  {
   "cell_type": "code",
   "execution_count": 59,
   "metadata": {},
   "outputs": [],
   "source": [
    " from sklearn.ensemble import RandomForestClassifier\n",
    " from xgboost import XGBClassifier"
   ]
  },
  {
   "cell_type": "code",
   "execution_count": 61,
   "metadata": {},
   "outputs": [
    {
     "output_type": "display_data",
     "data": {
      "text/plain": "<Figure size 432x288 with 0 Axes>"
     },
     "metadata": {}
    }
   ],
   "source": [
    "#RF \n",
    "#do not use. You suck\n",
    "rf = RandomForestClassifier(n_jobs=-1)\n",
    "rf.fit(X_train, classify_y_train)\n",
    "score = rf.score(X_test, classify_y_test)\n",
    "\n",
    "with open(\"v2/research/scripts/training_data.csv\", \"a\") as f:\n",
    "    f.write(\"random_forest_model,{}\\n\".format(score))\n",
    "predictions = rf.predict(graph_X_pred)\n",
    "plt.plot(future_graph_X, graph_y, label = \"original prices\", color=\"blue\")\n",
    "plt.plot(graph_X, predictions, label = \"predicted prices\", color=\"red\")\n",
    "plt.savefig('v2/research/scripts/graphs/rf.png')\n",
    "plt.clf()"
   ]
  },
  {
   "cell_type": "code",
   "execution_count": 67,
   "metadata": {},
   "outputs": [],
   "source": [
    "X_train_[\"predict_price\"] = ridge.predict(X_train_.values)\n",
    "X_test_[\"predict_price\"] = ridge.predict(X_test_.values)"
   ]
  },
  {
   "cell_type": "code",
   "execution_count": 68,
   "metadata": {},
   "outputs": [],
   "source": [
    "X_train = X_train_.values\n",
    "X_test = X_test_.values"
   ]
  },
  {
   "cell_type": "code",
   "execution_count": 69,
   "metadata": {},
   "outputs": [
    {
     "output_type": "execute_result",
     "data": {
      "text/plain": "               time         open         high          low        close  \\\n358      1383503820    207.67198    207.67198    207.67198    207.67198   \n358      1383503820    207.67198    207.67198    207.67198    207.67198   \n358      1383503820    207.67198    207.67198    207.67198    207.67198   \n358      1383503820    207.67198    207.67198    207.67198    207.67198   \n358      1383503820    207.67198    207.67198    207.67198    207.67198   \n...             ...          ...          ...          ...          ...   \n1390381  1568166420  10105.00000  10106.80000  10095.00000  10103.80000   \n1390382  1568166480  10096.30000  10103.90000  10095.00000  10095.00000   \n1390382  1568166480  10096.30000  10103.90000  10095.00000  10095.00000   \n1390382  1568166480  10096.30000  10103.90000  10095.00000  10095.00000   \n1390382  1568166480  10096.30000  10103.90000  10095.00000  10095.00000   \n\n            volume      ema_slow      ema_fast      macd     stosc_k  \\\n358       0.100000    203.646855    205.570957  1.924102    4.275846   \n358       0.100000    203.646855    205.570957  1.924102    4.275846   \n358       0.100000    203.646855    205.570957  1.924102    4.275846   \n358       0.100000    203.646855    205.570957  1.924102    4.275846   \n358       0.100000    203.646855    205.570957  1.924102    4.275846   \n...            ...           ...           ...       ...         ...   \n1390381  39.397563  10122.850923  10125.210586  2.359663   94.322581   \n1390382   0.222281  10122.390577  10124.220075  1.829498  100.000000   \n1390382   0.222281  10122.390577  10124.220075  1.829498  100.000000   \n1390382   0.222281  10122.390577  10124.220075  1.829498  100.000000   \n1390382   0.222281  10122.390577  10124.220075  1.829498  100.000000   \n\n               rsi          smma     slope  predict_number  predict_price  \n358      57.367632    201.724654  0.013416               5     208.783730  \n358      57.367632    201.724654  0.013416             100     209.458138  \n358      57.367632    201.724654  0.013416              10     208.819225  \n358      57.367632    201.724654  0.013416              50     209.103186  \n358      57.367632    201.724654  0.013416              25     208.925710  \n...            ...           ...       ...             ...            ...  \n1390381  48.036311  10117.307640  0.002419              10   10103.015981  \n1390382  46.837907  10117.059778  0.003081             100   10096.095113  \n1390382  46.837907  10117.059778  0.003081              50   10095.740161  \n1390382  46.837907  10117.059778  0.003081              25   10095.562685  \n1390382  46.837907  10117.059778  0.003081               5   10095.420704  \n\n[6948744 rows x 15 columns]",
      "text/html": "<div>\n<style scoped>\n    .dataframe tbody tr th:only-of-type {\n        vertical-align: middle;\n    }\n\n    .dataframe tbody tr th {\n        vertical-align: top;\n    }\n\n    .dataframe thead th {\n        text-align: right;\n    }\n</style>\n<table border=\"1\" class=\"dataframe\">\n  <thead>\n    <tr style=\"text-align: right;\">\n      <th></th>\n      <th>time</th>\n      <th>open</th>\n      <th>high</th>\n      <th>low</th>\n      <th>close</th>\n      <th>volume</th>\n      <th>ema_slow</th>\n      <th>ema_fast</th>\n      <th>macd</th>\n      <th>stosc_k</th>\n      <th>rsi</th>\n      <th>smma</th>\n      <th>slope</th>\n      <th>predict_number</th>\n      <th>predict_price</th>\n    </tr>\n  </thead>\n  <tbody>\n    <tr>\n      <th>358</th>\n      <td>1383503820</td>\n      <td>207.67198</td>\n      <td>207.67198</td>\n      <td>207.67198</td>\n      <td>207.67198</td>\n      <td>0.100000</td>\n      <td>203.646855</td>\n      <td>205.570957</td>\n      <td>1.924102</td>\n      <td>4.275846</td>\n      <td>57.367632</td>\n      <td>201.724654</td>\n      <td>0.013416</td>\n      <td>5</td>\n      <td>208.783730</td>\n    </tr>\n    <tr>\n      <th>358</th>\n      <td>1383503820</td>\n      <td>207.67198</td>\n      <td>207.67198</td>\n      <td>207.67198</td>\n      <td>207.67198</td>\n      <td>0.100000</td>\n      <td>203.646855</td>\n      <td>205.570957</td>\n      <td>1.924102</td>\n      <td>4.275846</td>\n      <td>57.367632</td>\n      <td>201.724654</td>\n      <td>0.013416</td>\n      <td>100</td>\n      <td>209.458138</td>\n    </tr>\n    <tr>\n      <th>358</th>\n      <td>1383503820</td>\n      <td>207.67198</td>\n      <td>207.67198</td>\n      <td>207.67198</td>\n      <td>207.67198</td>\n      <td>0.100000</td>\n      <td>203.646855</td>\n      <td>205.570957</td>\n      <td>1.924102</td>\n      <td>4.275846</td>\n      <td>57.367632</td>\n      <td>201.724654</td>\n      <td>0.013416</td>\n      <td>10</td>\n      <td>208.819225</td>\n    </tr>\n    <tr>\n      <th>358</th>\n      <td>1383503820</td>\n      <td>207.67198</td>\n      <td>207.67198</td>\n      <td>207.67198</td>\n      <td>207.67198</td>\n      <td>0.100000</td>\n      <td>203.646855</td>\n      <td>205.570957</td>\n      <td>1.924102</td>\n      <td>4.275846</td>\n      <td>57.367632</td>\n      <td>201.724654</td>\n      <td>0.013416</td>\n      <td>50</td>\n      <td>209.103186</td>\n    </tr>\n    <tr>\n      <th>358</th>\n      <td>1383503820</td>\n      <td>207.67198</td>\n      <td>207.67198</td>\n      <td>207.67198</td>\n      <td>207.67198</td>\n      <td>0.100000</td>\n      <td>203.646855</td>\n      <td>205.570957</td>\n      <td>1.924102</td>\n      <td>4.275846</td>\n      <td>57.367632</td>\n      <td>201.724654</td>\n      <td>0.013416</td>\n      <td>25</td>\n      <td>208.925710</td>\n    </tr>\n    <tr>\n      <th>...</th>\n      <td>...</td>\n      <td>...</td>\n      <td>...</td>\n      <td>...</td>\n      <td>...</td>\n      <td>...</td>\n      <td>...</td>\n      <td>...</td>\n      <td>...</td>\n      <td>...</td>\n      <td>...</td>\n      <td>...</td>\n      <td>...</td>\n      <td>...</td>\n      <td>...</td>\n    </tr>\n    <tr>\n      <th>1390381</th>\n      <td>1568166420</td>\n      <td>10105.00000</td>\n      <td>10106.80000</td>\n      <td>10095.00000</td>\n      <td>10103.80000</td>\n      <td>39.397563</td>\n      <td>10122.850923</td>\n      <td>10125.210586</td>\n      <td>2.359663</td>\n      <td>94.322581</td>\n      <td>48.036311</td>\n      <td>10117.307640</td>\n      <td>0.002419</td>\n      <td>10</td>\n      <td>10103.015981</td>\n    </tr>\n    <tr>\n      <th>1390382</th>\n      <td>1568166480</td>\n      <td>10096.30000</td>\n      <td>10103.90000</td>\n      <td>10095.00000</td>\n      <td>10095.00000</td>\n      <td>0.222281</td>\n      <td>10122.390577</td>\n      <td>10124.220075</td>\n      <td>1.829498</td>\n      <td>100.000000</td>\n      <td>46.837907</td>\n      <td>10117.059778</td>\n      <td>0.003081</td>\n      <td>100</td>\n      <td>10096.095113</td>\n    </tr>\n    <tr>\n      <th>1390382</th>\n      <td>1568166480</td>\n      <td>10096.30000</td>\n      <td>10103.90000</td>\n      <td>10095.00000</td>\n      <td>10095.00000</td>\n      <td>0.222281</td>\n      <td>10122.390577</td>\n      <td>10124.220075</td>\n      <td>1.829498</td>\n      <td>100.000000</td>\n      <td>46.837907</td>\n      <td>10117.059778</td>\n      <td>0.003081</td>\n      <td>50</td>\n      <td>10095.740161</td>\n    </tr>\n    <tr>\n      <th>1390382</th>\n      <td>1568166480</td>\n      <td>10096.30000</td>\n      <td>10103.90000</td>\n      <td>10095.00000</td>\n      <td>10095.00000</td>\n      <td>0.222281</td>\n      <td>10122.390577</td>\n      <td>10124.220075</td>\n      <td>1.829498</td>\n      <td>100.000000</td>\n      <td>46.837907</td>\n      <td>10117.059778</td>\n      <td>0.003081</td>\n      <td>25</td>\n      <td>10095.562685</td>\n    </tr>\n    <tr>\n      <th>1390382</th>\n      <td>1568166480</td>\n      <td>10096.30000</td>\n      <td>10103.90000</td>\n      <td>10095.00000</td>\n      <td>10095.00000</td>\n      <td>0.222281</td>\n      <td>10122.390577</td>\n      <td>10124.220075</td>\n      <td>1.829498</td>\n      <td>100.000000</td>\n      <td>46.837907</td>\n      <td>10117.059778</td>\n      <td>0.003081</td>\n      <td>5</td>\n      <td>10095.420704</td>\n    </tr>\n  </tbody>\n</table>\n<p>6948744 rows × 15 columns</p>\n</div>"
     },
     "metadata": {},
     "execution_count": 69
    }
   ],
   "source": [
    "X_train_"
   ]
  },
  {
   "cell_type": "code",
   "execution_count": 70,
   "metadata": {},
   "outputs": [
    {
     "output_type": "stream",
     "name": "stdout",
     "text": "[18:30:20] WARNING: /Users/travis/build/dmlc/xgboost/src/gbm/gbtree.cc:139: Tree method is automatically selected to be 'approx' for faster speed. To use old behavior (exact greedy algorithm on single machine), set tree_method to 'exact'.\n"
    },
    {
     "output_type": "display_data",
     "data": {
      "text/plain": "<Figure size 432x288 with 0 Axes>"
     },
     "metadata": {}
    }
   ],
   "source": [
    "#xgboost\n",
    "xgb = XGBClassifier(n_jobs=-1)\n",
    "xgb.fit(X_train, classify_y_train)\n",
    "score = xgb.score(X_test, classify_y_test)\n",
    "\n",
    "with open(\"v2/research/scripts/training_data.csv\", \"a\") as f:\n",
    "    f.write(\"xgboost_model_with_prediction,{}\\n\".format(score))\n",
    "predictions = rf.predict(graph_X_pred)\n",
    "plt.plot(future_graph_X, graph_y, label = \"original prices\", color=\"blue\")\n",
    "plt.plot(graph_X, predictions, label = \"predicted prices\", color=\"red\")\n",
    "plt.savefig('v2/research/scripts/graphs/xgboost.png')\n",
    "plt.clf()"
   ]
  },
  {
   "cell_type": "code",
   "execution_count": 73,
   "metadata": {},
   "outputs": [],
   "source": [
    "five_min = final_df[final_df[\"predict_number\"] == 5]\n",
    "ten_min = final_df[final_df[\"predict_number\"] == 10]\n",
    "twenty_5_min = final_df[final_df[\"predict_number\"] == 25]\n",
    "fifty_min = final_df[final_df[\"predict_number\"] == 50]\n",
    "hundred_min = final_df[final_df[\"predict_number\"] == 100]"
   ]
  },
  {
   "cell_type": "code",
   "execution_count": 92,
   "metadata": {
    "tags": [
     "outputPrepend",
     "outputPrepend",
     "outputPrepend",
     "outputPrepend",
     "outputPrepend",
     "outputPrepend",
     "outputPrepend",
     "outputPrepend",
     "outputPrepend",
     "outputPrepend"
    ]
   },
   "outputs": [
    {
     "output_type": "stream",
     "name": "stdout",
     "text": "Pandas(Index=1390382, time=1568166480, open=10096.3, high=10103.9, low=10095.0, close=10095.0, volume=0.222281, ema_slow=10122.3905766827, ema_fast=10124.220074991274, macd=1.8294983085743297, stosc_k=100.0, rsi=46.83790650394537, smma=10117.05977776218, slope=0.003081116312140855, predict_number=10, predict_price=10095.456199617767)\nPandas(Index=1390383, time=1568166540, open=10095.0, high=10101.2, low=10095.0, close=10101.2, volume=0.9570000000000001, ema_slow=10122.040319216869, ema_fast=10123.465318434182, macd=1.424999217313598, stosc_k=95.99999999999953, rsi=47.76632932221357, smma=10116.883558009267, slope=0.0030318891533425564, predict_number=100, predict_price=10099.903577346535)\nPandas(Index=1390383, time=1568166540, open=10095.0, high=10101.2, low=10095.0, close=10101.2, volume=0.9570000000000001, ema_slow=10122.040319216869, ema_fast=10123.465318434182, macd=1.424999217313598, stosc_k=95.99999999999953, rsi=47.76632932221357, smma=10116.883558009267, slope=0.0030318891533425564, predict_number=50, predict_price=10099.54862563496)\nPandas(Index=1390383, time=1568166540, open=10095.0, high=10101.2, low=10095.0, close=10101.2, volume=0.9570000000000001, ema_slow=10122.040319216869, ema_fast=10123.465318434182, macd=1.424999217313598, stosc_k=95.99999999999953, rsi=47.76632932221357, smma=10116.883558009267, slope=0.0030318891533425564, predict_number=10, predict_price=10099.264664265698)\n"
    },
    {
     "output_type": "error",
     "ename": "AttributeError",
     "evalue": "'Pandas' object has no attribute 'tolist'",
     "traceback": [
      "\u001b[0;31m---------------------------------------------------------------------------\u001b[0m",
      "\u001b[0;31mAttributeError\u001b[0m                            Traceback (most recent call last)",
      "\u001b[0;32m<ipython-input-92-2e77cc9f7655>\u001b[0m in \u001b[0;36m<module>\u001b[0;34m\u001b[0m\n\u001b[1;32m      5\u001b[0m \u001b[0;32mfor\u001b[0m \u001b[0mx\u001b[0m \u001b[0;32min\u001b[0m \u001b[0mX_test_\u001b[0m\u001b[0;34m.\u001b[0m\u001b[0mitertuples\u001b[0m\u001b[0;34m(\u001b[0m\u001b[0;34m)\u001b[0m\u001b[0;34m:\u001b[0m\u001b[0;34m\u001b[0m\u001b[0;34m\u001b[0m\u001b[0m\n\u001b[1;32m      6\u001b[0m     \u001b[0;32mif\u001b[0m \u001b[0mx\u001b[0m\u001b[0;34m.\u001b[0m\u001b[0mpredict_number\u001b[0m \u001b[0;34m==\u001b[0m \u001b[0;36m5\u001b[0m\u001b[0;34m:\u001b[0m\u001b[0;34m\u001b[0m\u001b[0;34m\u001b[0m\u001b[0m\n\u001b[0;32m----> 7\u001b[0;31m         \u001b[0mfive_X\u001b[0m\u001b[0;34m.\u001b[0m\u001b[0mappend\u001b[0m\u001b[0;34m(\u001b[0m\u001b[0mx\u001b[0m\u001b[0;34m.\u001b[0m\u001b[0mtolist\u001b[0m\u001b[0;34m(\u001b[0m\u001b[0;34m)\u001b[0m\u001b[0;34m)\u001b[0m\u001b[0;34m\u001b[0m\u001b[0;34m\u001b[0m\u001b[0m\n\u001b[0m\u001b[1;32m      8\u001b[0m     \u001b[0mprint\u001b[0m\u001b[0;34m(\u001b[0m\u001b[0mx\u001b[0m\u001b[0;34m)\u001b[0m\u001b[0;34m\u001b[0m\u001b[0;34m\u001b[0m\u001b[0m\n\u001b[1;32m      9\u001b[0m \u001b[0;34m\u001b[0m\u001b[0m\n",
      "\u001b[0;31mAttributeError\u001b[0m: 'Pandas' object has no attribute 'tolist'"
     ]
    }
   ],
   "source": [
    "import time\n",
    "five_X = []\n",
    "five_y = []\n",
    "\n",
    "for x in X_test_.itertuples():\n",
    "    if x.predict_number == 5:\n",
    "        five_X.append(x.tolist())\n",
    "    print(x)\n",
    "\n",
    "\n",
    "\n",
    "\n",
    "five_X = five_min.drop([\"predict_forecast\", \"classify_inc\"], axis=1)\n",
    "five_y = five_min[[\"classify_inc\"]]\n",
    "\n",
    "ten_X = ten_min.drop([\"predict_forecast\", \"classify_inc\"], axis=1)\n",
    "ten_y = ten_min[[\"classify_inc\"]]\n",
    "\n",
    "twenty_X = twenty_5_min.drop([\"predict_forecast\", \"classify_inc\"], axis=1)\n",
    "twenty_y = twenty_5_min[[\"classify_inc\"]]\n",
    "\n",
    "fifty_X = fifty_min.drop([\"predict_forecast\", \"classify_inc\"], axis=1)\n",
    "fifty_y = fifty_min[[\"classify_inc\"]]\n",
    "\n",
    "hundred_X = hundred_min.drop([\"predict_forecast\", \"classify_inc\"], axis=1)\n",
    "hundred_y = hundred_min[[\"classify_inc\"]]\n",
    "\n",
    "five_X[\"predict_price\"] = ridge.predict(five_X)\n",
    "ten_X[\"predict_price\"] = ridge.predict(ten_X)\n",
    "twenty_X[\"predict_price\"] = ridge.predict(twenty_X)\n",
    "fifty_X[\"predict_price\"] = ridge.predict(fifty_X)\n",
    "hundred_X[\"predict_price\"] = ridge.predict(hundred_X)"
   ]
  },
  {
   "cell_type": "code",
   "execution_count": 84,
   "metadata": {},
   "outputs": [
    {
     "output_type": "stream",
     "name": "stdout",
     "text": "0.5502127250507852\n0.5615358844678894\n0.5785347562369078\n0.5896599880035045\n0.5954422367084906\n"
    }
   ],
   "source": [
    "print(xgb.score(five_X.values, five_y.values))\n",
    "print(xgb.score(ten_X.values, ten_y.values))\n",
    "print(xgb.score(twenty_X.values, twenty_y.values))\n",
    "print(xgb.score(fifty_X.values, fifty_y.values))\n",
    "print(xgb.score(hundred_X.values, hundred_y.values))\n",
    ""
   ]
  },
  {
   "cell_type": "code",
   "execution_count": 85,
   "metadata": {},
   "outputs": [
    {
     "output_type": "execute_result",
     "data": {
      "text/plain": "array([  5, 100,  10,  50,  25])"
     },
     "metadata": {},
     "execution_count": 85
    }
   ],
   "source": [
    "final_df[\"predict_number\"].unique()"
   ]
  },
  {
   "cell_type": "code",
   "execution_count": null,
   "metadata": {},
   "outputs": [],
   "source": [
    "import tensorflow as tf\n",
    "from tensorflow.keras.models import Sequential\n",
    "from tensorflow.keras.layers import Dense, Dropout, LSTM, RNN, BatchNormalization"
   ]
  },
  {
   "cell_type": "code",
   "execution_count": null,
   "metadata": {},
   "outputs": [],
   "source": [
    "model = Sequential()\n",
    "model.add(LSTM(512, activation='relu', return_sequences=True))\n",
    "BatchNormalization()\n",
    "model.add(Dropout(0.2))\n",
    "\n",
    "model.add(Dense(256, activation='relu'))\n",
    "BatchNormalization()\n",
    "model.add(Dropout(0.2))\n",
    "\n",
    "model.add(LSTM(128, activation='relu'))\n",
    "BatchNormalization()\n",
    "model.add(Dropout(0.2))\n",
    "\n",
    "model.add(Dense(1, activation='linear'))\n",
    "\n",
    "opt = tf.keras.optimizers.Adam(lr=1e-3, decay=1e-5)\n",
    "\n",
    "model.compile(loss='mean_absolute_error', warm_start=False, optimizer=opt, metrics=['accuracy'])"
   ]
  },
  {
   "cell_type": "code",
   "execution_count": null,
   "metadata": {},
   "outputs": [],
   "source": [
    "model.fit(x_train, y_train, epochs=20, validation_data=(x_test, y_test))"
   ]
  }
 ],
 "metadata": {
  "file_extension": ".py",
  "kernelspec": {
   "display_name": "Python 3.8.5 64-bit",
   "language": "python",
   "name": "python38564bitbf960d00bf8447f58cc83a94e3f130e4"
  },
  "language_info": {
   "codemirror_mode": {
    "name": "ipython",
    "version": 3
   },
   "file_extension": ".py",
   "mimetype": "text/x-python",
   "name": "python",
   "nbconvert_exporter": "python",
   "pygments_lexer": "ipython3",
   "version": "3.8.5-final"
  },
  "mimetype": "text/x-python",
  "name": "python",
  "npconvert_exporter": "python",
  "pygments_lexer": "ipython3",
  "version": 3
 },
 "nbformat": 4,
 "nbformat_minor": 2
}