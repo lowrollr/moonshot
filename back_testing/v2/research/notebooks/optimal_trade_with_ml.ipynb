{
 "metadata": {
  "language_info": {
   "codemirror_mode": {
    "name": "ipython",
    "version": 3
   },
   "file_extension": ".py",
   "mimetype": "text/x-python",
   "name": "python",
   "nbconvert_exporter": "python",
   "pygments_lexer": "ipython3",
   "version": "3.8.5-final"
  },
  "orig_nbformat": 2,
  "kernelspec": {
   "name": "python38564bitbf960d00bf8447f58cc83a94e3f130e4",
   "display_name": "Python 3.8.5 64-bit",
   "metadata": {
    "interpreter": {
     "hash": "31f2aee4e71d21fbe5cf8b01ff0e069b9275f58929596ceb00d14d90e3e16cd6"
    }
   }
  }
 },
 "nbformat": 4,
 "nbformat_minor": 2,
 "cells": [
  {
   "cell_type": "code",
   "execution_count": 2,
   "metadata": {},
   "outputs": [
    {
     "output_type": "stream",
     "name": "stdout",
     "text": "/Users/rosscopeland/Desktop/personal/code/vivaldi/back_testing\n"
    }
   ],
   "source": [
    "import pandas as pd\n",
    "import os\n",
    "os.chdir('../../../')\n",
    "print(os.getcwd())\n",
    "from v2.model import Trading"
   ]
  },
  {
   "cell_type": "code",
   "execution_count": null,
   "metadata": {},
   "outputs": [],
   "source": [
    "import sys"
   ]
  },
  {
   "cell_type": "code",
   "execution_count": 3,
   "metadata": {},
   "outputs": [],
   "source": [
    "def load_config():\n",
    "    my_config = {}\n",
    "    with open('config.config') as config:\n",
    "        for line in config:\n",
    "            args = line.split('=')\n",
    "            my_config[args[0]] = args[1].rstrip().split(',')\n",
    "    return my_config\n",
    "\n",
    "model = Trading(load_config())"
   ]
  },
  {
   "cell_type": "code",
   "execution_count": 5,
   "metadata": {},
   "outputs": [
    {
     "output_type": "execute_result",
     "data": {
      "text/plain": "1"
     },
     "metadata": {},
     "execution_count": 5
    }
   ],
   "source": [
    "#only one data set rn\n",
    "if len(model.dfs) != 1:\n",
    "    raise ValueError(\"only one dataset to be used here\")\n",
    "\n",
    "dataset = model.dfs[0]\n",
    "\n",
    "buy_times = []\n",
    "sell_times = []\n",
    "fee = model.fees\n",
    "\n",
    "cur_min = sys.maxsize\n",
    "cur_max = 0\n",
    "cur_min_time= 0\n",
    "cur_max_time = 0\n",
    "\n",
    "last_buy_price = 0\n",
    "last_buy_time = 0\n",
    "sell_time = 0\n",
    "\n",
    "looking_to_buy = True\n",
    "for row in dataset.itertuples():\n",
    "    close = row.close\n",
    "    time = row.time\n",
    "    if looking_to_buy:\n",
    "        if close < cur_min:\n",
    "            cur_min = close\n",
    "            cur_min_time = time\n",
    "            cur_max = close\n",
    "            cur_max_time = time\n",
    "        elif close > cur_max:\n",
    "            cur_max = close\n",
    "            cur_max_time = time\n",
    "            delta = cur_max - cur_min\n",
    "            if delta > ((cur_min * fee) + (cur_max * fee)):\n",
    "                looking_to_buy = False\n",
    "                last_buy_price = cur_min\n",
    "                last_buy_time = cur_min_time\n",
    "    else:\n",
    "        trade_fee = (cur_min * fee) + (cur_max * fee)\n",
    "        if close > cur_max:\n",
    "            cur_max = close\n",
    "            cur_max_time = time\n",
    "        elif close < cur_max - trade_fee:\n",
    "            "
   ]
  },
  {
   "cell_type": "code",
   "execution_count": 8,
   "metadata": {},
   "outputs": [],
   "source": [
    "#this only works on one dataset at a time\n",
    "datasets = model.dfs\n",
    "buy_prices = []\n",
    "buy_times = []\n",
    "sell_prices = []\n",
    "sell_times = []\n",
    "name = ''\n",
    "fee = 0.0026\n",
    "dataset = 0\n",
    "for d in datasets:\n",
    "    name = d[1]\n",
    "    cur_min = 99999999999999999.00\n",
    "    cur_max = 0.00\n",
    "    cur_min_time = 00.0\n",
    "    cur_max_time = 00.0\n",
    "    last_buy_price = 000.00\n",
    "    last_buy_time = 000.00\n",
    "    sell_time = 0000.0\n",
    "    \n",
    "    looking_for_buy = True\n",
    "    dataset=d[0]\n",
    "    for row in d[0].itertuples():\n",
    "        close = row.close\n",
    "        time = row.time\n",
    "        if looking_for_buy:\n",
    "            if close < cur_min:\n",
    "                cur_min = close\n",
    "                cur_min_time = time\n",
    "                cur_max = close\n",
    "                cur_max_time = time\n",
    "            elif close > cur_max:\n",
    "                cur_max = close\n",
    "                cur_max_time = time\n",
    "                delta = cur_max - cur_min\n",
    "                if delta > ((cur_min * fee) + (cur_max * fee)):\n",
    "                    looking_for_buy = False\n",
    "                    last_buy_price = cur_min\n",
    "                    last_buy_time = cur_min_time\n",
    "        else:\n",
    "            trade_fee = ((cur_min * fee) + (cur_max * fee))\n",
    "            if close > cur_max:\n",
    "                cur_max = close\n",
    "                cur_max_time = time\n",
    "            elif close < cur_max - trade_fee:\n",
    "                looking_for_buy = True\n",
    "                buy_prices.append(cur_min)\n",
    "                buy_times.append(cur_min_time)\n",
    "                sell_prices.append(cur_max)\n",
    "                sell_prices.append(cur_max_time)\n",
    "                cur_min = close\n",
    "                cur_min_time = time\n",
    "                cur_max = close\n",
    "                cur_max_time = time"
   ]
  },
  {
   "cell_type": "code",
   "execution_count": null,
   "metadata": {},
   "outputs": [],
   "source": [
    "def identify_peak_trough(row):\n",
    "    if row.time in peak_times and row.time in trough_times:\n",
    "        raise ValueError(\"There's something wrong with the algo\")\n",
    "    elif row.time in peak_times:\n",
    "        "
   ]
  },
  {
   "cell_type": "code",
   "execution_count": 1,
   "metadata": {},
   "outputs": [
    {
     "output_type": "error",
     "ename": "NameError",
     "evalue": "name 'buy_times' is not defined",
     "traceback": [
      "\u001b[0;31m---------------------------------------------------------------------------\u001b[0m",
      "\u001b[0;31mNameError\u001b[0m                                 Traceback (most recent call last)",
      "\u001b[0;32m<ipython-input-1-32c2bd19202d>\u001b[0m in \u001b[0;36m<module>\u001b[0;34m\u001b[0m\n\u001b[0;32m----> 1\u001b[0;31m \u001b[0mbuy_times\u001b[0m\u001b[0;34m.\u001b[0m\u001b[0mshape\u001b[0m\u001b[0;34m\u001b[0m\u001b[0;34m\u001b[0m\u001b[0m\n\u001b[0m",
      "\u001b[0;31mNameError\u001b[0m: name 'buy_times' is not defined"
     ]
    }
   ],
   "source": [
    "dataset[\"peak_trough_wait\"] = dataset.apply(lambda x: )"
   ]
  },
  {
   "cell_type": "code",
   "execution_count": null,
   "metadata": {},
   "outputs": [],
   "source": []
  }
 ]
}