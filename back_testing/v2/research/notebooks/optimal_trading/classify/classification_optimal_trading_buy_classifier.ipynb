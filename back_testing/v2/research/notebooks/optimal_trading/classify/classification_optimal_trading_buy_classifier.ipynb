{
 "metadata": {
  "language_info": {
   "codemirror_mode": {
    "name": "ipython",
    "version": 3
   },
   "file_extension": ".py",
   "mimetype": "text/x-python",
   "name": "python",
   "nbconvert_exporter": "python",
   "pygments_lexer": "ipython3",
   "version": "3.8.5-final"
  },
  "orig_nbformat": 2,
  "kernelspec": {
   "name": "python3",
   "display_name": "Python 3",
   "language": "python"
  }
 },
 "nbformat": 4,
 "nbformat_minor": 2,
 "cells": [
  {
   "cell_type": "code",
   "execution_count": 1,
   "metadata": {},
   "outputs": [
    {
     "output_type": "stream",
     "name": "stdout",
     "text": "/Users/rosscopeland/Desktop/personal/code/vivaldi/back_testing\n"
    }
   ],
   "source": [
    "import pandas as pd\n",
    "import numpy as np\n",
    "import os\n",
    "os.chdir('../../../../../')\n",
    "print(os.getcwd())\n",
    "from load_config import load_config\n",
    "from v2.strategy.indicators.optimal_v2 import Optimal_v2\n",
    "from v2.model import Trading\n",
    "from v2.strategy.indicators.param import Param\n",
    "from v2.strategy.indicators.roc import RateOfChange\n",
    "from v2.research.scripts import notebook_utils as nu\n",
    "from sklearn.model_selection import train_test_split\n",
    "\n",
    "from sklearn.ensemble import RandomForestClassifier\n",
    "from sklearn.metrics import confusion_matrix\n",
    "from xgboost import XGBClassifier\n",
    ""
   ]
  },
  {
   "cell_type": "code",
   "execution_count": 2,
   "metadata": {},
   "outputs": [],
   "source": [
    "# features = [\"RSI\", \"MACD\", \"stosc_k\", \"stosc_d\", \"RateOfChange_MACD_1\", \"RateOfChange_MACD_5\", \"RateOfChange_MACD_10\", \"RateOfChange_MACD_60\", \"RateOfChange_RSI_1\", \"RateOfChange_RSI_5\", \"RateOfChange_RSI_10\", \"RateOfChange_RSI_60\", \"RateOfChange_close_1\", \"RateOfChange_close_5\", \"RateOfChange_close_10\", \"RateOfChange_close_60\"]\n",
    ""
   ]
  },
  {
   "cell_type": "code",
   "execution_count": 3,
   "metadata": {
    "tags": []
   },
   "outputs": [
    {
     "output_type": "stream",
     "name": "stdout",
     "text": "Loading data from BTCUSDT-1m...\ncci close\ncci close\nccicci close\ncci close\n close\ncci cci close\nclose\nccicci close\n close\nccicci  close\nclose\ncci close\nv2.strategy.indicators.cci\npsar close\nv2.strategy.indicators.psar\noptimal_v2 close\nv2.strategy.indicators.optimal_v2\nmomentum CCI\nv2.strategy.indicators.momentum\nmomentum CCI\nv2.strategy.indicators.momentum\nmomentum CCI\nv2.strategy.indicators.momentum\nroc close\nv2.strategy.indicators.roc\nroc close\nv2.strategy.indicators.roc\nroc close\nv2.strategy.indicators.roc\nmomentum close\nv2.strategy.indicators.momentum\nmomentum close\nv2.strategy.indicators.momentum\nmomentum close\nv2.strategy.indicators.momentum\nmomentum close\nv2.strategy.indicators.momentum\nmomentum close\nv2.strategy.indicators.momentum\nmomentum close\nv2.strategy.indicators.momentum\nroc PSAR\nv2.strategy.indicators.roc\nroc PSAR\nv2.strategy.indicators.roc\nroc PSAR\nv2.strategy.indicators.roc\n"
    },
    {
     "output_type": "error",
     "ename": "IndexError",
     "evalue": "list index out of range",
     "traceback": [
      "\u001b[0;31m---------------------------------------------------------------------------\u001b[0m",
      "\u001b[0;31mIndexError\u001b[0m                                Traceback (most recent call last)",
      "\u001b[0;32m<ipython-input-3-c7032b181d72>\u001b[0m in \u001b[0;36m<module>\u001b[0;34m\u001b[0m\n\u001b[0;32m----> 1\u001b[0;31m dataset, features, scalers = nu.loadData(indicators=[['cci', 'close'], ['psar', 'close'], ['optimal_v2', 'close']],\n\u001b[0m\u001b[1;32m      2\u001b[0m                             \u001b[0mparam_spec\u001b[0m\u001b[0;34m=\u001b[0m\u001b[0;34m{\u001b[0m\u001b[0;34m}\u001b[0m\u001b[0;34m,\u001b[0m\u001b[0;34m\u001b[0m\u001b[0;34m\u001b[0m\u001b[0m\n\u001b[1;32m      3\u001b[0m                             \u001b[0moptimal_threshold\u001b[0m\u001b[0;34m=\u001b[0m\u001b[0;34m{\u001b[0m\u001b[0;34m\"buy\"\u001b[0m\u001b[0;34m:\u001b[0m \u001b[0;36m0.95\u001b[0m\u001b[0;34m}\u001b[0m\u001b[0;34m,\u001b[0m\u001b[0;34m\u001b[0m\u001b[0;34m\u001b[0m\u001b[0m\n\u001b[1;32m      4\u001b[0m                             spans=[{'indicator_name':'momentum',\n\u001b[1;32m      5\u001b[0m                                     \u001b[0;34m'column_name'\u001b[0m\u001b[0;34m:\u001b[0m \u001b[0;34m'CCI'\u001b[0m\u001b[0;34m,\u001b[0m\u001b[0;34m\u001b[0m\u001b[0;34m\u001b[0m\u001b[0m\n",
      "\u001b[0;32m~/Desktop/personal/code/vivaldi/back_testing/v2/research/scripts/notebook_utils.py\u001b[0m in \u001b[0;36mloadData\u001b[0;34m(indicators, param_spec, optimal_threshold, spans, test, test_coin, test_freq, scale)\u001b[0m\n\u001b[1;32m    197\u001b[0m \u001b[0;34m\u001b[0m\u001b[0m\n\u001b[1;32m    198\u001b[0m         \u001b[0;32mwith\u001b[0m \u001b[0mThreadPoolExecutor\u001b[0m\u001b[0;34m(\u001b[0m\u001b[0;34m)\u001b[0m \u001b[0;32mas\u001b[0m \u001b[0mexecutor\u001b[0m\u001b[0;34m:\u001b[0m\u001b[0;34m\u001b[0m\u001b[0;34m\u001b[0m\u001b[0m\n\u001b[0;32m--> 199\u001b[0;31m             \u001b[0md_dataset\u001b[0m\u001b[0;34m,\u001b[0m \u001b[0mfeature\u001b[0m\u001b[0;34m,\u001b[0m \u001b[0mind_obj\u001b[0m \u001b[0;34m=\u001b[0m \u001b[0mexecutor\u001b[0m\u001b[0;34m.\u001b[0m\u001b[0mmap\u001b[0m\u001b[0;34m(\u001b[0m\u001b[0mloadDataThread\u001b[0m\u001b[0;34m,\u001b[0m \u001b[0mg\u001b[0m\u001b[0;34m,\u001b[0m \u001b[0mrepeat\u001b[0m\u001b[0;34m(\u001b[0m\u001b[0mcopy\u001b[0m\u001b[0;34m.\u001b[0m\u001b[0mdeepcopy\u001b[0m\u001b[0;34m(\u001b[0m\u001b[0mspans\u001b[0m\u001b[0;34m)\u001b[0m\u001b[0;34m)\u001b[0m\u001b[0;34m,\u001b[0m \u001b[0mrepeat\u001b[0m\u001b[0;34m(\u001b[0m\u001b[0mcopy\u001b[0m\u001b[0;34m.\u001b[0m\u001b[0mdeepcopy\u001b[0m\u001b[0;34m(\u001b[0m\u001b[0mindicators\u001b[0m\u001b[0;34m)\u001b[0m\u001b[0;34m)\u001b[0m\u001b[0;34m,\u001b[0m \u001b[0mrepeat\u001b[0m\u001b[0;34m(\u001b[0m\u001b[0mcopy\u001b[0m\u001b[0;34m.\u001b[0m\u001b[0mdeepcopy\u001b[0m\u001b[0;34m(\u001b[0m\u001b[0mparam_spec\u001b[0m\u001b[0;34m)\u001b[0m\u001b[0;34m)\u001b[0m\u001b[0;34m,\u001b[0m \u001b[0mrepeat\u001b[0m\u001b[0;34m(\u001b[0m\u001b[0mcopy\u001b[0m\u001b[0;34m.\u001b[0m\u001b[0mdeepcopy\u001b[0m\u001b[0;34m(\u001b[0m\u001b[0moptimal_threshold\u001b[0m\u001b[0;34m)\u001b[0m\u001b[0;34m)\u001b[0m\u001b[0;34m,\u001b[0m \u001b[0mrepeat\u001b[0m\u001b[0;34m(\u001b[0m\u001b[0mcompiling_features\u001b[0m\u001b[0;34m)\u001b[0m\u001b[0;34m)\u001b[0m\u001b[0;34m\u001b[0m\u001b[0;34m\u001b[0m\u001b[0m\n\u001b[0m\u001b[1;32m    200\u001b[0m             \u001b[0mprint\u001b[0m\u001b[0;34m(\u001b[0m\u001b[0md_dataset\u001b[0m\u001b[0;34m)\u001b[0m\u001b[0;34m\u001b[0m\u001b[0;34m\u001b[0m\u001b[0m\n\u001b[1;32m    201\u001b[0m             \u001b[0mcoin_dataset\u001b[0m\u001b[0;34m.\u001b[0m\u001b[0mextend\u001b[0m\u001b[0;34m(\u001b[0m\u001b[0md_dataset\u001b[0m\u001b[0;34m)\u001b[0m\u001b[0;34m\u001b[0m\u001b[0;34m\u001b[0m\u001b[0m\n",
      "\u001b[0;32m/usr/local/Cellar/python@3.8/3.8.5/Frameworks/Python.framework/Versions/3.8/lib/python3.8/concurrent/futures/_base.py\u001b[0m in \u001b[0;36mresult_iterator\u001b[0;34m()\u001b[0m\n\u001b[1;32m    609\u001b[0m                     \u001b[0;31m# Careful not to keep a reference to the popped future\u001b[0m\u001b[0;34m\u001b[0m\u001b[0;34m\u001b[0m\u001b[0;34m\u001b[0m\u001b[0m\n\u001b[1;32m    610\u001b[0m                     \u001b[0;32mif\u001b[0m \u001b[0mtimeout\u001b[0m \u001b[0;32mis\u001b[0m \u001b[0;32mNone\u001b[0m\u001b[0;34m:\u001b[0m\u001b[0;34m\u001b[0m\u001b[0;34m\u001b[0m\u001b[0m\n\u001b[0;32m--> 611\u001b[0;31m                         \u001b[0;32myield\u001b[0m \u001b[0mfs\u001b[0m\u001b[0;34m.\u001b[0m\u001b[0mpop\u001b[0m\u001b[0;34m(\u001b[0m\u001b[0;34m)\u001b[0m\u001b[0;34m.\u001b[0m\u001b[0mresult\u001b[0m\u001b[0;34m(\u001b[0m\u001b[0;34m)\u001b[0m\u001b[0;34m\u001b[0m\u001b[0;34m\u001b[0m\u001b[0m\n\u001b[0m\u001b[1;32m    612\u001b[0m                     \u001b[0;32melse\u001b[0m\u001b[0;34m:\u001b[0m\u001b[0;34m\u001b[0m\u001b[0;34m\u001b[0m\u001b[0m\n\u001b[1;32m    613\u001b[0m                         \u001b[0;32myield\u001b[0m \u001b[0mfs\u001b[0m\u001b[0;34m.\u001b[0m\u001b[0mpop\u001b[0m\u001b[0;34m(\u001b[0m\u001b[0;34m)\u001b[0m\u001b[0;34m.\u001b[0m\u001b[0mresult\u001b[0m\u001b[0;34m(\u001b[0m\u001b[0mend_time\u001b[0m \u001b[0;34m-\u001b[0m \u001b[0mtime\u001b[0m\u001b[0;34m.\u001b[0m\u001b[0mmonotonic\u001b[0m\u001b[0;34m(\u001b[0m\u001b[0;34m)\u001b[0m\u001b[0;34m)\u001b[0m\u001b[0;34m\u001b[0m\u001b[0;34m\u001b[0m\u001b[0m\n",
      "\u001b[0;32m/usr/local/Cellar/python@3.8/3.8.5/Frameworks/Python.framework/Versions/3.8/lib/python3.8/concurrent/futures/_base.py\u001b[0m in \u001b[0;36mresult\u001b[0;34m(self, timeout)\u001b[0m\n\u001b[1;32m    437\u001b[0m                 \u001b[0;32mraise\u001b[0m \u001b[0mCancelledError\u001b[0m\u001b[0;34m(\u001b[0m\u001b[0;34m)\u001b[0m\u001b[0;34m\u001b[0m\u001b[0;34m\u001b[0m\u001b[0m\n\u001b[1;32m    438\u001b[0m             \u001b[0;32melif\u001b[0m \u001b[0mself\u001b[0m\u001b[0;34m.\u001b[0m\u001b[0m_state\u001b[0m \u001b[0;34m==\u001b[0m \u001b[0mFINISHED\u001b[0m\u001b[0;34m:\u001b[0m\u001b[0;34m\u001b[0m\u001b[0;34m\u001b[0m\u001b[0m\n\u001b[0;32m--> 439\u001b[0;31m                 \u001b[0;32mreturn\u001b[0m \u001b[0mself\u001b[0m\u001b[0;34m.\u001b[0m\u001b[0m__get_result\u001b[0m\u001b[0;34m(\u001b[0m\u001b[0;34m)\u001b[0m\u001b[0;34m\u001b[0m\u001b[0;34m\u001b[0m\u001b[0m\n\u001b[0m\u001b[1;32m    440\u001b[0m             \u001b[0;32melse\u001b[0m\u001b[0;34m:\u001b[0m\u001b[0;34m\u001b[0m\u001b[0;34m\u001b[0m\u001b[0m\n\u001b[1;32m    441\u001b[0m                 \u001b[0;32mraise\u001b[0m \u001b[0mTimeoutError\u001b[0m\u001b[0;34m(\u001b[0m\u001b[0;34m)\u001b[0m\u001b[0;34m\u001b[0m\u001b[0;34m\u001b[0m\u001b[0m\n",
      "\u001b[0;32m/usr/local/Cellar/python@3.8/3.8.5/Frameworks/Python.framework/Versions/3.8/lib/python3.8/concurrent/futures/_base.py\u001b[0m in \u001b[0;36m__get_result\u001b[0;34m(self)\u001b[0m\n\u001b[1;32m    386\u001b[0m     \u001b[0;32mdef\u001b[0m \u001b[0m__get_result\u001b[0m\u001b[0;34m(\u001b[0m\u001b[0mself\u001b[0m\u001b[0;34m)\u001b[0m\u001b[0;34m:\u001b[0m\u001b[0;34m\u001b[0m\u001b[0;34m\u001b[0m\u001b[0m\n\u001b[1;32m    387\u001b[0m         \u001b[0;32mif\u001b[0m \u001b[0mself\u001b[0m\u001b[0;34m.\u001b[0m\u001b[0m_exception\u001b[0m\u001b[0;34m:\u001b[0m\u001b[0;34m\u001b[0m\u001b[0;34m\u001b[0m\u001b[0m\n\u001b[0;32m--> 388\u001b[0;31m             \u001b[0;32mraise\u001b[0m \u001b[0mself\u001b[0m\u001b[0;34m.\u001b[0m\u001b[0m_exception\u001b[0m\u001b[0;34m\u001b[0m\u001b[0;34m\u001b[0m\u001b[0m\n\u001b[0m\u001b[1;32m    389\u001b[0m         \u001b[0;32melse\u001b[0m\u001b[0;34m:\u001b[0m\u001b[0;34m\u001b[0m\u001b[0;34m\u001b[0m\u001b[0m\n\u001b[1;32m    390\u001b[0m             \u001b[0;32mreturn\u001b[0m \u001b[0mself\u001b[0m\u001b[0;34m.\u001b[0m\u001b[0m_result\u001b[0m\u001b[0;34m\u001b[0m\u001b[0;34m\u001b[0m\u001b[0m\n",
      "\u001b[0;32m/usr/local/Cellar/python@3.8/3.8.5/Frameworks/Python.framework/Versions/3.8/lib/python3.8/concurrent/futures/thread.py\u001b[0m in \u001b[0;36mrun\u001b[0;34m(self)\u001b[0m\n\u001b[1;32m     55\u001b[0m \u001b[0;34m\u001b[0m\u001b[0m\n\u001b[1;32m     56\u001b[0m         \u001b[0;32mtry\u001b[0m\u001b[0;34m:\u001b[0m\u001b[0;34m\u001b[0m\u001b[0;34m\u001b[0m\u001b[0m\n\u001b[0;32m---> 57\u001b[0;31m             \u001b[0mresult\u001b[0m \u001b[0;34m=\u001b[0m \u001b[0mself\u001b[0m\u001b[0;34m.\u001b[0m\u001b[0mfn\u001b[0m\u001b[0;34m(\u001b[0m\u001b[0;34m*\u001b[0m\u001b[0mself\u001b[0m\u001b[0;34m.\u001b[0m\u001b[0margs\u001b[0m\u001b[0;34m,\u001b[0m \u001b[0;34m**\u001b[0m\u001b[0mself\u001b[0m\u001b[0;34m.\u001b[0m\u001b[0mkwargs\u001b[0m\u001b[0;34m)\u001b[0m\u001b[0;34m\u001b[0m\u001b[0;34m\u001b[0m\u001b[0m\n\u001b[0m\u001b[1;32m     58\u001b[0m         \u001b[0;32mexcept\u001b[0m \u001b[0mBaseException\u001b[0m \u001b[0;32mas\u001b[0m \u001b[0mexc\u001b[0m\u001b[0;34m:\u001b[0m\u001b[0;34m\u001b[0m\u001b[0;34m\u001b[0m\u001b[0m\n\u001b[1;32m     59\u001b[0m             \u001b[0mself\u001b[0m\u001b[0;34m.\u001b[0m\u001b[0mfuture\u001b[0m\u001b[0;34m.\u001b[0m\u001b[0mset_exception\u001b[0m\u001b[0;34m(\u001b[0m\u001b[0mexc\u001b[0m\u001b[0;34m)\u001b[0m\u001b[0;34m\u001b[0m\u001b[0;34m\u001b[0m\u001b[0m\n",
      "\u001b[0;32m~/Desktop/personal/code/vivaldi/back_testing/v2/research/scripts/notebook_utils.py\u001b[0m in \u001b[0;36mloadDataThread\u001b[0;34m(data, spans, indicators, param_spec, optimal_threshold, compiling_features)\u001b[0m\n\u001b[1;32m    285\u001b[0m \u001b[0;32mdef\u001b[0m \u001b[0mloadDataThread\u001b[0m\u001b[0;34m(\u001b[0m\u001b[0mdata\u001b[0m\u001b[0;34m,\u001b[0m \u001b[0mspans\u001b[0m\u001b[0;34m,\u001b[0m \u001b[0mindicators\u001b[0m\u001b[0;34m,\u001b[0m \u001b[0mparam_spec\u001b[0m\u001b[0;34m,\u001b[0m \u001b[0moptimal_threshold\u001b[0m\u001b[0;34m,\u001b[0m \u001b[0mcompiling_features\u001b[0m\u001b[0;34m)\u001b[0m\u001b[0;34m:\u001b[0m\u001b[0;34m\u001b[0m\u001b[0;34m\u001b[0m\u001b[0m\n\u001b[1;32m    286\u001b[0m     \u001b[0;31m# print(f'Loading data from chunk {i}...')\u001b[0m\u001b[0;34m\u001b[0m\u001b[0;34m\u001b[0m\u001b[0;34m\u001b[0m\u001b[0m\n\u001b[0;32m--> 287\u001b[0;31m     \u001b[0mnew_indicators\u001b[0m \u001b[0;34m=\u001b[0m \u001b[0mfetchIndicators\u001b[0m\u001b[0;34m(\u001b[0m\u001b[0mindicators\u001b[0m\u001b[0;34m,\u001b[0m \u001b[0mparam_spec\u001b[0m\u001b[0;34m)\u001b[0m\u001b[0;34m\u001b[0m\u001b[0;34m\u001b[0m\u001b[0m\n\u001b[0m\u001b[1;32m    288\u001b[0m \u001b[0;34m\u001b[0m\u001b[0m\n\u001b[1;32m    289\u001b[0m     \u001b[0mnew_features\u001b[0m \u001b[0;34m=\u001b[0m \u001b[0mgenDataForAll\u001b[0m\u001b[0;34m(\u001b[0m\u001b[0mdataset\u001b[0m\u001b[0;34m=\u001b[0m\u001b[0mdata\u001b[0m\u001b[0;34m,\u001b[0m \u001b[0mindicators\u001b[0m\u001b[0;34m=\u001b[0m\u001b[0mnew_indicators\u001b[0m\u001b[0;34m)\u001b[0m\u001b[0;34m\u001b[0m\u001b[0;34m\u001b[0m\u001b[0m\n",
      "\u001b[0;32m~/Desktop/personal/code/vivaldi/back_testing/v2/research/scripts/notebook_utils.py\u001b[0m in \u001b[0;36mfetchIndicators\u001b[0;34m(indicator_list, param_specification)\u001b[0m\n\u001b[1;32m     57\u001b[0m         \u001b[0mprint\u001b[0m\u001b[0;34m(\u001b[0m\u001b[0mindicator\u001b[0m\u001b[0;34m,\u001b[0m \u001b[0mvalue\u001b[0m\u001b[0;34m)\u001b[0m\u001b[0;34m\u001b[0m\u001b[0;34m\u001b[0m\u001b[0m\n\u001b[1;32m     58\u001b[0m \u001b[0;34m\u001b[0m\u001b[0m\n\u001b[0;32m---> 59\u001b[0;31m         \u001b[0mprint\u001b[0m\u001b[0;34m(\u001b[0m\u001b[0mlist\u001b[0m\u001b[0;34m(\u001b[0m\u001b[0mreadmodule\u001b[0m\u001b[0;34m(\u001b[0m\u001b[0mmodule\u001b[0m\u001b[0;34m.\u001b[0m\u001b[0m__name__\u001b[0m\u001b[0;34m)\u001b[0m\u001b[0;34m.\u001b[0m\u001b[0mvalues\u001b[0m\u001b[0;34m(\u001b[0m\u001b[0;34m)\u001b[0m\u001b[0;34m)\u001b[0m\u001b[0;34m[\u001b[0m\u001b[0;36m0\u001b[0m\u001b[0;34m]\u001b[0m\u001b[0;34m.\u001b[0m\u001b[0mmodule\u001b[0m\u001b[0;34m)\u001b[0m\u001b[0;34m\u001b[0m\u001b[0;34m\u001b[0m\u001b[0m\n\u001b[0m\u001b[1;32m     60\u001b[0m \u001b[0;34m\u001b[0m\u001b[0m\n\u001b[1;32m     61\u001b[0m         \u001b[0mlocal_class\u001b[0m \u001b[0;34m=\u001b[0m \u001b[0mlist\u001b[0m\u001b[0;34m(\u001b[0m\u001b[0mreadmodule\u001b[0m\u001b[0;34m(\u001b[0m\u001b[0mmodule\u001b[0m\u001b[0;34m.\u001b[0m\u001b[0m__name__\u001b[0m\u001b[0;34m)\u001b[0m\u001b[0;34m.\u001b[0m\u001b[0mvalues\u001b[0m\u001b[0;34m(\u001b[0m\u001b[0;34m)\u001b[0m\u001b[0;34m)\u001b[0m\u001b[0;34m[\u001b[0m\u001b[0;36m0\u001b[0m\u001b[0;34m]\u001b[0m\u001b[0;34m.\u001b[0m\u001b[0mmodule\u001b[0m\u001b[0;34m\u001b[0m\u001b[0;34m\u001b[0m\u001b[0m\n",
      "\u001b[0;31mIndexError\u001b[0m: list index out of range"
     ]
    }
   ],
   "source": [
    "dataset, features, scalers = nu.loadData(indicators=[['cci', 'close'], ['psar', 'close'], ['optimal_v2', 'close']],\n",
    "                            param_spec={},\n",
    "                            optimal_threshold={\"buy\": 0.95},\n",
    "                            spans=[{'indicator_name':'momentum',\n",
    "                                    'column_name': 'CCI',\n",
    "                                    'param_name': 'period',\n",
    "                                    'param_values': [1,5,10]},\n",
    "                                    {'indicator_name':'roc',\n",
    "                                    'column_name': 'close',\n",
    "                                    'param_name': 'period',\n",
    "                                    'param_values': [1,5,10]},\n",
    "                                    {'indicator_name':'momentum',\n",
    "                                    'column_name': 'close',\n",
    "                                    'param_name': 'period',\n",
    "                                    'param_values': [1,5,10]},\n",
    "                                    {'indicator_name':'momentum',\n",
    "                                    'column_name': 'close',\n",
    "                                    'param_name': 'period',\n",
    "                                    'param_values': [1,5,10]},\n",
    "                                    {'indicator_name':'roc',\n",
    "                                    'column_name': 'PSAR',\n",
    "                                    'param_name': 'period',\n",
    "                                    'param_values': [1,5,10]}\n",
    "                                #     {'indicator_name':'momentum',\n",
    "                                #     'column_name': 'PSAR',\n",
    "                                #     'param_name': 'period',\n",
    "                                #     'param_values': [1,5]}\n",
    "                                    ],\n",
    "\n",
    "                            scale='minmax')\n",
    "        \n",
    "    # create one minute, five minute, ten minute, and twenty minute slopes for macd, rsi\n",
    "\n",
    "\n",
    ""
   ]
  },
  {
   "cell_type": "code",
   "execution_count": 4,
   "metadata": {},
   "outputs": [],
   "source": [
    "final_dataset = dataset"
   ]
  },
  {
   "cell_type": "code",
   "execution_count": 5,
   "metadata": {},
   "outputs": [],
   "source": [
    "dataset = []"
   ]
  },
  {
   "source": [],
   "cell_type": "code",
   "metadata": {},
   "execution_count": 5,
   "outputs": []
  },
  {
   "cell_type": "code",
   "execution_count": 6,
   "metadata": {},
   "outputs": [],
   "source": [
    "\n",
    "\n",
    "train, test = train_test_split(final_dataset, test_size=0.05, shuffle=False)\n"
   ]
  },
  {
   "cell_type": "markdown",
   "metadata": {},
   "source": [
    "<h3>Models</h3>\n",
    "<p>Random Forest</p>\n",
    "<p>Fine tuned RF</p>\n",
    "<p>Gradient boost</p>\n",
    "<p>GB inside RF</p>\n",
    "<p>RF inside GB</p>\n",
    "<p>LSTM</p>"
   ]
  },
  {
   "cell_type": "code",
   "execution_count": 7,
   "metadata": {},
   "outputs": [],
   "source": [
    "\n",
    "buy_signals = train[train['optimal'] == 1.0]"
   ]
  },
  {
   "cell_type": "code",
   "execution_count": 8,
   "metadata": {},
   "outputs": [],
   "source": [
    "mean_num_singals = int(len(buy_signals))"
   ]
  },
  {
   "cell_type": "code",
   "execution_count": null,
   "metadata": {},
   "outputs": [],
   "source": []
  },
  {
   "cell_type": "code",
   "execution_count": 9,
   "metadata": {},
   "outputs": [],
   "source": [
    "not_signals = train[train['optimal'] == 0.0]\n"
   ]
  },
  {
   "cell_type": "code",
   "execution_count": 10,
   "metadata": {},
   "outputs": [
    {
     "output_type": "stream",
     "name": "stdout",
     "text": [
      "13277 1618352\n"
     ]
    }
   ],
   "source": [
    "print(mean_num_singals, len(not_signals))"
   ]
  },
  {
   "cell_type": "code",
   "execution_count": 11,
   "metadata": {},
   "outputs": [],
   "source": [
    "not_signals_sampled = not_signals.sample(n=mean_num_singals * 8, random_state=69420, axis=0)\n",
    "not_signals_sampled = not_signals_sampled.sample(frac=1)"
   ]
  },
  {
   "cell_type": "code",
   "execution_count": 12,
   "metadata": {},
   "outputs": [],
   "source": [
    "\n",
    "balanced_data_buy = pd.concat([not_signals_sampled, buy_signals])\n",
    "not_signals_sampled = []\n",
    "buy_signals = []\n",
    "not_signals = []\n"
   ]
  },
  {
   "cell_type": "code",
   "execution_count": 13,
   "metadata": {},
   "outputs": [],
   "source": [
    "# filtered_balanced_data_buy = balanced_data_buy[[\"close\", \"stosc_k\", \"stosc_d\", \"slope\", 'rsi']]\n",
    "filtered_balanced_data_buy = balanced_data_buy[features]\n",
    "\n",
    "\n",
    "\n",
    "\n",
    "balanced_data_optimal_buy = balanced_data_buy[['optimal']]\n",
    "balanced_data_buy = []\n",
    "\n"
   ]
  },
  {
   "cell_type": "code",
   "execution_count": 14,
   "metadata": {},
   "outputs": [
    {
     "output_type": "execute_result",
     "data": {
      "text/plain": [
       "406348   \n",
       "733775                      0.472268                      0.431532   \n",
       "1444026                     0.474877                      0.431669   \n",
       "908121                      0.473353                      0.427702   \n",
       "331402                      0.486658                      0.439605   \n",
       "1097332                     0.470973                      0.426548   \n",
       "397251                      0.466366                      0.429513   \n",
       "235312                      0.468438                      0.433030   \n",
       "...                              ...                           ...   \n",
       "1628586                     0.471002                      0.430397   \n",
       "1628796                     0.465316                      0.425815   \n",
       "1629071                     0.463652                      0.424645   \n",
       "1629289                     0.470690                      0.428429   \n",
       "1629517                     0.470119                      0.428632   \n",
       "1630611                     0.461034                      0.421260   \n",
       "1630812                     0.465679                      0.424022   \n",
       "1631297                     0.471018                      0.430091   \n",
       "1631353                     0.466559                      0.430001   \n",
       "1631387                     0.465786                      0.423636   \n",
       "1631434                     0.469859                      0.430832   \n",
       "1631931                     0.463717                      0.426347   \n",
       "1632020                     0.466962                      0.426335   \n",
       "1632116                     0.469326                      0.427965   \n",
       "1632229                     0.466059                      0.425888   \n",
       "1632770                     0.464448                      0.426194   \n",
       "1633171                     0.470244                      0.428513   \n",
       "1633366                     0.466860                      0.426307   \n",
       "1633566                     0.464708                      0.421673   \n",
       "1633856                     0.469859                      0.428744   \n",
       "1634139                     0.470354                      0.428370   \n",
       "1634471                     0.466425                      0.423016   \n",
       "1634793                     0.462164                      0.422651   \n",
       "1634929                     0.465299                      0.425892   \n",
       "1635338                     0.467882                      0.425826   \n",
       "1635449                     0.470300                      0.427294   \n",
       "1635524                     0.468232                      0.425505   \n",
       "1635645                     0.468912                      0.427846   \n",
       "1635987                     0.466337                      0.428233   \n",
       "1636114                     0.470084                      0.430343   \n",
       "\n",
       "         Momentum_close_period_1  Momentum_close_period_5  \\\n",
       "325954                  0.508776                 0.483720   \n",
       "526571                  0.493994                 0.469829   \n",
       "59147                   0.495506                 0.471824   \n",
       "1303011                 0.499838                 0.471945   \n",
       "1076272                 0.491113                 0.469101   \n",
       "505393                  0.495116                 0.468916   \n",
       "602609                  0.493007                 0.468749   \n",
       "768053                  0.495555                 0.472165   \n",
       "1538843                 0.496620                 0.475647   \n",
       "713395                  0.493682                 0.471433   \n",
       "931274                  0.486735                 0.465253   \n",
       "49852                   0.480857                 0.475955   \n",
       "1490884                 0.493458                 0.468916   \n",
       "1616019                 0.494173                 0.466117   \n",
       "1398205                 0.497498                 0.474049   \n",
       "902057                  0.493177                 0.470182   \n",
       "1040527                 0.502773                 0.465440   \n",
       "1148777                 0.494448                 0.472704   \n",
       "1170904                 0.491123                 0.467431   \n",
       "236142                  0.463692                 0.427761   \n",
       "1032646                 0.495870                 0.470591   \n",
       "1114270                 0.495297                 0.467898   \n",
       "1356987                 0.492956                 0.455260   \n",
       "733775                  0.495127                 0.471765   \n",
       "1444026                 0.500318                 0.475048   \n",
       "908121                  0.503476                 0.472919   \n",
       "331402                  0.504929                 0.482800   \n",
       "1097332                 0.489549                 0.470912   \n",
       "397251                  0.494301                 0.466705   \n",
       "235312                  0.494270                 0.467611   \n",
       "...                          ...                      ...   \n",
       "1628586                 0.494491                 0.470912   \n",
       "1628796                 0.492586                 0.464158   \n",
       "1629071                 0.491895                 0.462220   \n",
       "1629289                 0.494121                 0.470543   \n",
       "1629517                 0.494696                 0.469861   \n",
       "1630611                 0.484372                 0.459196   \n",
       "1630812                 0.491982                 0.464640   \n",
       "1631297                 0.494309                 0.470928   \n",
       "1631353                 0.493294                 0.465562   \n",
       "1631387                 0.494252                 0.464614   \n",
       "1631434                 0.493161                 0.469522   \n",
       "1631931                 0.492177                 0.462153   \n",
       "1632020                 0.494745                 0.466045   \n",
       "1632116                 0.491835                 0.468882   \n",
       "1632229                 0.489716                 0.464957   \n",
       "1632770                 0.486620                 0.463153   \n",
       "1633171                 0.494369                 0.470015   \n",
       "1633366                 0.494362                 0.465998   \n",
       "1633566                 0.491102                 0.463435   \n",
       "1633856                 0.493094                 0.469562   \n",
       "1634139                 0.494565                 0.470137   \n",
       "1634471                 0.493011                 0.465478   \n",
       "1634793                 0.491528                 0.460459   \n",
       "1634929                 0.487080                 0.464164   \n",
       "1635338                 0.491593                 0.467219   \n",
       "1635449                 0.488032                 0.470080   \n",
       "1635524                 0.491737                 0.467627   \n",
       "1635645                 0.494619                 0.468416   \n",
       "1635987                 0.488068                 0.465327   \n",
       "1636114                 0.491702                 0.469808   \n",
       "\n",
       "         Momentum_close_period_10  Momentum_close_period_1  \\\n",
       "325954                   0.539591                 0.508776   \n",
       "526571                   0.534523                 0.493994   \n",
       "59147                    0.540951                 0.495506   \n",
       "1303011                  0.537566                 0.499838   \n",
       "1076272                  0.533776                 0.491113   \n",
       "505393                   0.536002                 0.495116   \n",
       "602609                   0.532043                 0.493007   \n",
       "768053                   0.536201                 0.495555   \n",
       "1538843                  0.535499                 0.496620   \n",
       "713395                   0.536577                 0.493682   \n",
       "931274                   0.529228                 0.486735   \n",
       "49852                    0.537040                 0.480857   \n",
       "1490884                  0.531796                 0.493458   \n",
       "1616019                  0.530450                 0.494173   \n",
       "1398205                  0.537498                 0.497498   \n",
       "902057                   0.534593                 0.493177   \n",
       "1040527                  0.534982                 0.502773   \n",
       "1148777                  0.534086                 0.494448   \n",
       "1170904                  0.532507                 0.491123   \n",
       "236142                   0.492768                 0.463692   \n",
       "1032646                  0.538557                 0.495870   \n",
       "1114270                  0.532996                 0.495297   \n",
       "1356987                  0.517191                 0.492956   \n",
       "733775                   0.536403                 0.495127   \n",
       "1444026                  0.537247                 0.500318   \n",
       "908121                   0.533412                 0.503476   \n",
       "331402                   0.543617                 0.504929   \n",
       "1097332                  0.530856                 0.489549   \n",
       "397251                   0.534822                 0.494301   \n",
       "235312                   0.539468                 0.494270   \n",
       "...                           ...                      ...   \n",
       "1628586                  0.535692                 0.494491   \n",
       "1628796                  0.529511                 0.492586   \n",
       "1629071                  0.527967                 0.491895   \n",
       "1629289                  0.533053                 0.494121   \n",
       "1629517                  0.533312                 0.494696   \n",
       "1630611                  0.523486                 0.484372   \n",
       "1630812                  0.527153                 0.491982   \n",
       "1631297                  0.535279                 0.494309   \n",
       "1631353                  0.535148                 0.493294   \n",
       "1631387                  0.526424                 0.494252   \n",
       "1631434                  0.536282                 0.493161   \n",
       "1631931                  0.530166                 0.492177   \n",
       "1632020                  0.530138                 0.494745   \n",
       "1632116                  0.532357                 0.491835   \n",
       "1632229                  0.529527                 0.489716   \n",
       "1632770                  0.530043                 0.486620   \n",
       "1633171                  0.533162                 0.494369   \n",
       "1633366                  0.530181                 0.494362   \n",
       "1633566                  0.523908                 0.491102   \n",
       "1633856                  0.533475                 0.493094   \n",
       "1634139                  0.532952                 0.494565   \n",
       "1634471                  0.525731                 0.493011   \n",
       "1634793                  0.525283                 0.491528   \n",
       "1634929                  0.529638                 0.487080   \n",
       "1635338                  0.529544                 0.491593   \n",
       "1635449                  0.531521                 0.488032   \n",
       "1635524                  0.529101                 0.491737   \n",
       "1635645                  0.532237                 0.494619   \n",
       "1635987                  0.532752                 0.488068   \n",
       "1636114                  0.535616                 0.491702   \n",
       "\n",
       "         Momentum_close_period_5  Momentum_close_period_10  \\\n",
       "325954                  0.483720                  0.539591   \n",
       "526571                  0.469829                  0.534523   \n",
       "59147                   0.471824                  0.540951   \n",
       "1303011                 0.471945                  0.537566   \n",
       "1076272                 0.469101                  0.533776   \n",
       "505393                  0.468916                  0.536002   \n",
       "602609                  0.468749                  0.532043   \n",
       "768053                  0.472165                  0.536201   \n",
       "1538843                 0.475647                  0.535499   \n",
       "713395                  0.471433                  0.536577   \n",
       "931274                  0.465253                  0.529228   \n",
       "49852                   0.475955                  0.537040   \n",
       "1490884                 0.468916                  0.531796   \n",
       "1616019                 0.466117                  0.530450   \n",
       "1398205                 0.474049                  0.537498   \n",
       "902057                  0.470182                  0.534593   \n",
       "1040527                 0.465440                  0.534982   \n",
       "1148777                 0.472704                  0.534086   \n",
       "1170904                 0.467431                  0.532507   \n",
       "236142                  0.427761                  0.492768   \n",
       "1032646                 0.470591                  0.538557   \n",
       "1114270                 0.467898                  0.532996   \n",
       "1356987                 0.455260                  0.517191   \n",
       "733775                  0.471765                  0.536403   \n",
       "1444026                 0.475048                  0.537247   \n",
       "908121                  0.472919                  0.533412   \n",
       "331402                  0.482800                  0.543617   \n",
       "1097332                 0.470912                  0.530856   \n",
       "397251                  0.466705                  0.534822   \n",
       "235312                  0.467611                  0.539468   \n",
       "...                          ...                       ...   \n",
       "1628586                 0.470912                  0.535692   \n",
       "1628796                 0.464158                  0.529511   \n",
       "1629071                 0.462220                  0.527967   \n",
       "1629289                 0.470543                  0.533053   \n",
       "1629517                 0.469861                  0.533312   \n",
       "1630611                 0.459196                  0.523486   \n",
       "1630812                 0.464640                  0.527153   \n",
       "1631297                 0.470928                  0.535279   \n",
       "1631353                 0.465562                  0.535148   \n",
       "1631387                 0.464614                  0.526424   \n",
       "1631434                 0.469522                  0.536282   \n",
       "1631931                 0.462153                  0.530166   \n",
       "1632020                 0.466045                  0.530138   \n",
       "1632116                 0.468882                  0.532357   \n",
       "1632229                 0.464957                  0.529527   \n",
       "1632770                 0.463153                  0.530043   \n",
       "1633171                 0.470015                  0.533162   \n",
       "1633366                 0.465998                  0.530181   \n",
       "1633566                 0.463435                  0.523908   \n",
       "1633856                 0.469562                  0.533475   \n",
       "1634139                 0.470137                  0.532952   \n",
       "1634471                 0.465478                  0.525731   \n",
       "1634793                 0.460459                  0.525283   \n",
       "1634929                 0.464164                  0.529638   \n",
       "1635338                 0.467219                  0.529544   \n",
       "1635449                 0.470080                  0.531521   \n",
       "1635524                 0.467627                  0.529101   \n",
       "1635645                 0.468416                  0.532237   \n",
       "1635987                 0.465327                  0.532752   \n",
       "1636114                 0.469808                  0.535616   \n",
       "\n",
       "         Momentum_PSAR_period_1  Momentum_PSAR_period_5  \\\n",
       "325954                 0.527192                0.531434   \n",
       "526571                 0.547135                0.552054   \n",
       "59147                  0.547400                0.550388   \n",
       "1303011                0.544227                0.547746   \n",
       "1076272                0.547445                0.550412   \n",
       "505393                 0.545994                0.549574   \n",
       "602609                 0.547121                0.550541   \n",
       "768053                 0.546671                0.549148   \n",
       "1538843                0.546187                0.544365   \n",
       "713395                 0.547114                0.548743   \n",
       "931274                 0.550065                0.552996   \n",
       "49852                  0.571996                0.548751   \n",
       "1490884                0.547839                0.550055   \n",
       "1616019                0.545376                0.558213   \n",
       "1398205                0.546451                0.548395   \n",
       "902057                 0.551188                0.553503   \n",
       "1040527                0.542169                0.549512   \n",
       "1148777                0.542307                0.543419   \n",
       "1170904                0.549531                0.551363   \n",
       "236142                 0.548730                0.573657   \n",
       "1032646                0.546622                0.552885   \n",
       "1114270                0.546230                0.556546   \n",
       "1356987                0.541158                0.552933   \n",
       "733775                 0.547103                0.549461   \n",
       "1444026                0.546239                0.544724   \n",
       "908121                 0.542739                0.553073   \n",
       "331402                 0.542451                0.533976   \n",
       "1097332                0.549324                0.548978   \n",
       "397251                 0.544153                0.557978   \n",
       "235312                 0.547964                0.555214   \n",
       "...                         ...                     ...   \n",
       "1628586                0.546448                0.549117   \n",
       "1628796                0.547201                0.557112   \n",
       "1629071                0.544490                0.553296   \n",
       "1629289                0.546581                0.548384   \n",
       "1629517                0.546820                0.549350   \n",
       "1630611                0.546531                0.554139   \n",
       "1630812                0.547961                0.552239   \n",
       "1631297                0.547374                0.549731   \n",
       "1631353                0.547795                0.556519   \n",
       "1631387                0.546323                0.550027   \n",
       "1631434                0.548548                0.551878   \n",
       "1631931                0.545444                0.560076   \n",
       "1632020                0.545291                0.550157   \n",
       "1632116                0.549130                0.552879   \n",
       "1632229                0.547851                0.551781   \n",
       "1632770                0.549260                0.553634   \n",
       "1633171                0.547034                0.549835   \n",
       "1633366                0.545933                0.550599   \n",
       "1633566                0.545219                0.552416   \n",
       "1633856                0.547486                0.552366   \n",
       "1634139                0.546948                0.548728   \n",
       "1634471                0.546410                0.547896   \n",
       "1634793                0.547203                0.558576   \n",
       "1634929                0.549207                0.559056   \n",
       "1635338                0.548184                0.548592   \n",
       "1635449                0.550220                0.550137   \n",
       "1635524                0.546881                0.549683   \n",
       "1635645                0.547072                0.555442   \n",
       "1635987                0.550115                0.556899   \n",
       "1636114                0.547649                0.550784   \n",
       "\n",
       "         Momentum_PSAR_period_10  \n",
       "325954                  0.521832  \n",
       "526571                  0.542767  \n",
       "59147                   0.533322  \n",
       "1303011                 0.532962  \n",
       "1076272                 0.536456  \n",
       "505393                  0.545266  \n",
       "602609                  0.538051  \n",
       "768053                  0.536743  \n",
       "1538843                 0.533598  \n",
       "713395                  0.535588  \n",
       "931274                  0.538428  \n",
       "49852                   0.534722  \n",
       "1490884                 0.543048  \n",
       "1616019                 0.545361  \n",
       "1398205                 0.537163  \n",
       "902057                  0.542388  \n",
       "1040527                 0.533676  \n",
       "1148777                 0.516360  \n",
       "1170904                 0.541799  \n",
       "236142                  0.578901  \n",
       "1032646                 0.536742  \n",
       "1114270                 0.545296  \n",
       "1356987                 0.541857  \n",
       "733775                  0.536898  \n",
       "1444026                 0.532052  \n",
       "908121                  0.543271  \n",
       "331402                  0.523600  \n",
       "1097332                 0.535961  \n",
       "397251                  0.543159  \n",
       "235312                  0.543650  \n",
       "...                          ...  \n",
       "1628586                 0.535503  \n",
       "1628796                 0.546045  \n",
       "1629071                 0.539661  \n",
       "1629289                 0.536531  \n",
       "1629517                 0.540852  \n",
       "1630611                 0.540262  \n",
       "1630812                 0.538869  \n",
       "1631297                 0.535471  \n",
       "1631353                 0.541075  \n",
       "1631387                 0.559187  \n",
       "1631434                 0.538022  \n",
       "1631931                 0.546868  \n",
       "1632020                 0.536194  \n",
       "1632116                 0.542844  \n",
       "1632229                 0.537437  \n",
       "1632770                 0.539282  \n",
       "1633171                 0.539973  \n",
       "1633366                 0.537841  \n",
       "1633566                 0.546591  \n",
       "1633856                 0.540251  \n",
       "1634139                 0.536530  \n",
       "1634471                 0.537635  \n",
       "1634793                 0.547887  \n",
       "1634929                 0.546610  \n",
       "1635338                 0.534131  \n",
       "1635449                 0.535755  \n",
       "1635524                 0.539354  \n",
       "1635645                 0.543097  \n",
       "1635987                 0.543850  \n",
       "1636114                 0.535019  \n",
       "\n",
       "[119493 rows x 17 columns]"
      ],
      "text/html": "<div>\n<style scoped>\n    .dataframe tbody tr th:only-of-type {\n        vertical-align: middle;\n    }\n\n    .dataframe tbody tr th {\n        vertical-align: top;\n    }\n\n    .dataframe thead th {\n        text-align: right;\n    }\n</style>\n<table border=\"1\" class=\"dataframe\">\n  <thead>\n    <tr style=\"text-align: right;\">\n      <th></th>\n      <th>CCI</th>\n      <th>PSAR</th>\n      <th>Momentum_CCI_period_1</th>\n      <th>Momentum_CCI_period_5</th>\n      <th>Momentum_CCI_period_10</th>\n      <th>RateOfChange_close_period_1</th>\n      <th>RateOfChange_close_period_5</th>\n      <th>RateOfChange_close_period_10</th>\n      <th>Momentum_close_period_1</th>\n      <th>Momentum_close_period_5</th>\n      <th>Momentum_close_period_10</th>\n      <th>Momentum_close_period_1</th>\n      <th>Momentum_close_period_5</th>\n      <th>Momentum_close_period_10</th>\n      <th>Momentum_PSAR_period_1</th>\n      <th>Momentum_PSAR_period_5</th>\n      <th>Momentum_PSAR_period_10</th>\n    </tr>\n  </thead>\n  <tbody>\n    <tr>\n      <th>325954</th>\n      <td>0.546527</td>\n      <td>0.464072</td>\n      <td>0.518387</td>\n      <td>0.570784</td>\n      <td>0.552686</td>\n      <td>0.491117</td>\n      <td>0.487212</td>\n      <td>0.434680</td>\n      <td>0.508776</td>\n      <td>0.483720</td>\n      <td>0.539591</td>\n      <td>0.508776</td>\n      <td>0.483720</td>\n      <td>0.539591</td>\n      <td>0.527192</td>\n      <td>0.531434</td>\n      <td>0.521832</td>\n    </tr>\n    <tr>\n      <th>526571</th>\n      <td>0.525615</td>\n      <td>0.479767</td>\n      <td>0.511832</td>\n      <td>0.558172</td>\n      <td>0.542837</td>\n      <td>0.475401</td>\n      <td>0.469197</td>\n      <td>0.428813</td>\n      <td>0.493994</td>\n      <td>0.469829</td>\n      <td>0.534523</td>\n      <td>0.493994</td>\n      <td>0.469829</td>\n      <td>0.534523</td>\n      <td>0.547135</td>\n      <td>0.552054</td>\n      <td>0.542767</td>\n    </tr>\n    <tr>\n      <th>59147</th>\n      <td>0.533184</td>\n      <td>0.474888</td>\n      <td>0.507870</td>\n      <td>0.558050</td>\n      <td>0.551035</td>\n      <td>0.477449</td>\n      <td>0.472301</td>\n      <td>0.440296</td>\n      <td>0.495506</td>\n      <td>0.471824</td>\n      <td>0.540951</td>\n      <td>0.495506</td>\n      <td>0.471824</td>\n      <td>0.540951</td>\n      <td>0.547400</td>\n      <td>0.550388</td>\n      <td>0.533322</td>\n    </tr>\n    <tr>\n      <th>1303011</th>\n      <td>0.491059</td>\n      <td>0.482611</td>\n      <td>0.517791</td>\n      <td>0.562446</td>\n      <td>0.555186</td>\n      <td>0.480098</td>\n      <td>0.471894</td>\n      <td>0.431841</td>\n      <td>0.499838</td>\n      <td>0.471945</td>\n      <td>0.537566</td>\n      <td>0.499838</td>\n      <td>0.471945</td>\n      <td>0.537566</td>\n      <td>0.544227</td>\n      <td>0.547746</td>\n      <td>0.532962</td>\n    </tr>\n    <tr>\n      <th>1076272</th>\n      <td>0.534067</td>\n      <td>0.502200</td>\n      <td>0.506216</td>\n      <td>0.555852</td>\n      <td>0.551531</td>\n      <td>0.473820</td>\n      <td>0.469432</td>\n      <td>0.428937</td>\n      <td>0.491113</td>\n      <td>0.469101</td>\n      <td>0.533776</td>\n      <td>0.491113</td>\n      <td>0.469101</td>\n      <td>0.533776</td>\n      <td>0.547445</td>\n      <td>0.550412</td>\n      <td>0.536456</td>\n    </tr>\n    <tr>\n      <th>505393</th>\n      <td>0.525915</td>\n      <td>0.489872</td>\n      <td>0.511645</td>\n      <td>0.559189</td>\n      <td>0.551329</td>\n      <td>0.476690</td>\n      <td>0.468203</td>\n      <td>0.430633</td>\n      <td>0.495116</td>\n      <td>0.468916</td>\n      <td>0.536002</td>\n      <td>0.495116</td>\n      <td>0.468916</td>\n      <td>0.536002</td>\n      <td>0.545994</td>\n      <td>0.549574</td>\n      <td>0.545266</td>\n    </tr>\n    <tr>\n      <th>602609</th>\n      <td>0.529200</td>\n      <td>0.487294</td>\n      <td>0.504705</td>\n      <td>0.552760</td>\n      <td>0.536475</td>\n      <td>0.474214</td>\n      <td>0.467613</td>\n      <td>0.425666</td>\n      <td>0.493007</td>\n      <td>0.468749</td>\n      <td>0.532043</td>\n      <td>0.493007</td>\n      <td>0.468749</td>\n      <td>0.532043</td>\n      <td>0.547121</td>\n      <td>0.550541</td>\n      <td>0.538051</td>\n    </tr>\n    <tr>\n      <th>768053</th>\n      <td>0.508806</td>\n      <td>0.480190</td>\n      <td>0.514235</td>\n      <td>0.570855</td>\n      <td>0.553251</td>\n      <td>0.477710</td>\n      <td>0.473353</td>\n      <td>0.431108</td>\n      <td>0.495555</td>\n      <td>0.472165</td>\n      <td>0.536201</td>\n      <td>0.495555</td>\n      <td>0.472165</td>\n      <td>0.536201</td>\n      <td>0.546671</td>\n      <td>0.549148</td>\n      <td>0.536743</td>\n    </tr>\n    <tr>\n      <th>1538843</th>\n      <td>0.541289</td>\n      <td>0.483036</td>\n      <td>0.509669</td>\n      <td>0.566700</td>\n      <td>0.544222</td>\n      <td>0.477832</td>\n      <td>0.475388</td>\n      <td>0.430214</td>\n      <td>0.496620</td>\n      <td>0.475647</td>\n      <td>0.535499</td>\n      <td>0.496620</td>\n      <td>0.475647</td>\n      <td>0.535499</td>\n      <td>0.546187</td>\n      <td>0.544365</td>\n      <td>0.533598</td>\n    </tr>\n    <tr>\n      <th>713395</th>\n      <td>0.562238</td>\n      <td>0.500363</td>\n      <td>0.507336</td>\n      <td>0.554242</td>\n      <td>0.537533</td>\n      <td>0.473937</td>\n      <td>0.471436</td>\n      <td>0.431850</td>\n      <td>0.493682</td>\n      <td>0.471433</td>\n      <td>0.536577</td>\n      <td>0.493682</td>\n      <td>0.471433</td>\n      <td>0.536577</td>\n      <td>0.547114</td>\n      <td>0.548743</td>\n      <td>0.535588</td>\n    </tr>\n    <tr>\n      <th>931274</th>\n      <td>0.510221</td>\n      <td>0.493228</td>\n      <td>0.506127</td>\n      <td>0.553380</td>\n      <td>0.541159</td>\n      <td>0.469472</td>\n      <td>0.465007</td>\n      <td>0.424423</td>\n      <td>0.486735</td>\n      <td>0.465253</td>\n      <td>0.529228</td>\n      <td>0.486735</td>\n      <td>0.465253</td>\n      <td>0.529228</td>\n      <td>0.550065</td>\n      <td>0.552996</td>\n      <td>0.538428</td>\n    </tr>\n    <tr>\n      <th>49852</th>\n      <td>0.473924</td>\n      <td>0.490708</td>\n      <td>0.496546</td>\n      <td>0.565849</td>\n      <td>0.556207</td>\n      <td>0.449127</td>\n      <td>0.482111</td>\n      <td>0.432800</td>\n      <td>0.480857</td>\n      <td>0.475955</td>\n      <td>0.537040</td>\n      <td>0.480857</td>\n      <td>0.475955</td>\n      <td>0.537040</td>\n      <td>0.571996</td>\n      <td>0.548751</td>\n      <td>0.534722</td>\n    </tr>\n    <tr>\n      <th>1490884</th>\n      <td>0.525900</td>\n      <td>0.485822</td>\n      <td>0.509923</td>\n      <td>0.557959</td>\n      <td>0.539944</td>\n      <td>0.475361</td>\n      <td>0.469029</td>\n      <td>0.427081</td>\n      <td>0.493458</td>\n      <td>0.468916</td>\n      <td>0.531796</td>\n      <td>0.493458</td>\n      <td>0.468916</td>\n      <td>0.531796</td>\n      <td>0.547839</td>\n      <td>0.550055</td>\n      <td>0.543048</td>\n    </tr>\n    <tr>\n      <th>1616019</th>\n      <td>0.483699</td>\n      <td>0.487971</td>\n      <td>0.511541</td>\n      <td>0.546779</td>\n      <td>0.535306</td>\n      <td>0.476019</td>\n      <td>0.467028</td>\n      <td>0.426568</td>\n      <td>0.494173</td>\n      <td>0.466117</td>\n      <td>0.530450</td>\n      <td>0.494173</td>\n      <td>0.466117</td>\n      <td>0.530450</td>\n      <td>0.545376</td>\n      <td>0.558213</td>\n      <td>0.545361</td>\n    </tr>\n    <tr>\n      <th>1398205</th>\n      <td>0.524801</td>\n      <td>0.474893</td>\n      <td>0.513986</td>\n      <td>0.569991</td>\n      <td>0.553147</td>\n      <td>0.479148</td>\n      <td>0.474717</td>\n      <td>0.432282</td>\n      <td>0.497498</td>\n      <td>0.474049</td>\n      <td>0.537498</td>\n      <td>0.497498</td>\n      <td>0.474049</td>\n      <td>0.537498</td>\n      <td>0.546451</td>\n      <td>0.548395</td>\n      <td>0.537163</td>\n    </tr>\n    <tr>\n      <th>902057</th>\n      <td>0.572600</td>\n      <td>0.483488</td>\n      <td>0.505222</td>\n      <td>0.549234</td>\n      <td>0.525760</td>\n      <td>0.474286</td>\n      <td>0.469552</td>\n      <td>0.428762</td>\n      <td>0.493177</td>\n      <td>0.470182</td>\n      <td>0.534593</td>\n      <td>0.493177</td>\n      <td>0.470182</td>\n      <td>0.534593</td>\n      <td>0.551188</td>\n      <td>0.553503</td>\n      <td>0.542388</td>\n    </tr>\n    <tr>\n      <th>1040527</th>\n      <td>0.458048</td>\n      <td>0.487178</td>\n      <td>0.522410</td>\n      <td>0.556307</td>\n      <td>0.551643</td>\n      <td>0.481773</td>\n      <td>0.466605</td>\n      <td>0.429901</td>\n      <td>0.502773</td>\n      <td>0.465440</td>\n      <td>0.534982</td>\n      <td>0.502773</td>\n      <td>0.465440</td>\n      <td>0.534982</td>\n      <td>0.542169</td>\n      <td>0.549512</td>\n      <td>0.533676</td>\n    </tr>\n    <tr>\n      <th>1148777</th>\n      <td>0.527125</td>\n      <td>0.500147</td>\n      <td>0.509681</td>\n      <td>0.560139</td>\n      <td>0.552018</td>\n      <td>0.476159</td>\n      <td>0.472625</td>\n      <td>0.429061</td>\n      <td>0.494448</td>\n      <td>0.472704</td>\n      <td>0.534086</td>\n      <td>0.494448</td>\n      <td>0.472704</td>\n      <td>0.534086</td>\n      <td>0.542307</td>\n      <td>0.543419</td>\n      <td>0.516360</td>\n    </tr>\n    <tr>\n      <th>1170904</th>\n      <td>0.486022</td>\n      <td>0.487494</td>\n      <td>0.494201</td>\n      <td>0.543260</td>\n      <td>0.531044</td>\n      <td>0.473273</td>\n      <td>0.467311</td>\n      <td>0.427453</td>\n      <td>0.491123</td>\n      <td>0.467431</td>\n      <td>0.532507</td>\n      <td>0.491123</td>\n      <td>0.467431</td>\n      <td>0.532507</td>\n      <td>0.549531</td>\n      <td>0.551363</td>\n      <td>0.541799</td>\n    </tr>\n    <tr>\n      <th>236142</th>\n      <td>0.465953</td>\n      <td>0.530300</td>\n      <td>0.501071</td>\n      <td>0.534965</td>\n      <td>0.518230</td>\n      <td>0.456769</td>\n      <td>0.438135</td>\n      <td>0.401648</td>\n      <td>0.463692</td>\n      <td>0.427761</td>\n      <td>0.492768</td>\n      <td>0.463692</td>\n      <td>0.427761</td>\n      <td>0.492768</td>\n      <td>0.548730</td>\n      <td>0.573657</td>\n      <td>0.578901</td>\n    </tr>\n    <tr>\n      <th>1032646</th>\n      <td>0.502999</td>\n      <td>0.475213</td>\n      <td>0.511306</td>\n      <td>0.558306</td>\n      <td>0.553289</td>\n      <td>0.477134</td>\n      <td>0.470805</td>\n      <td>0.432335</td>\n      <td>0.495870</td>\n      <td>0.470591</td>\n      <td>0.538557</td>\n      <td>0.495870</td>\n      <td>0.470591</td>\n      <td>0.538557</td>\n      <td>0.546622</td>\n      <td>0.552885</td>\n      <td>0.536742</td>\n    </tr>\n    <tr>\n      <th>1114270</th>\n      <td>0.486097</td>\n      <td>0.486442</td>\n      <td>0.511574</td>\n      <td>0.558542</td>\n      <td>0.545544</td>\n      <td>0.476847</td>\n      <td>0.467504</td>\n      <td>0.427683</td>\n      <td>0.495297</td>\n      <td>0.467898</td>\n      <td>0.532996</td>\n      <td>0.495297</td>\n      <td>0.467898</td>\n      <td>0.532996</td>\n      <td>0.546230</td>\n      <td>0.556546</td>\n      <td>0.545296</td>\n    </tr>\n    <tr>\n      <th>1356987</th>\n      <td>0.474598</td>\n      <td>0.503722</td>\n      <td>0.508710</td>\n      <td>0.548996</td>\n      <td>0.533007</td>\n      <td>0.474066</td>\n      <td>0.447664</td>\n      <td>0.406348</td>\n      <td>0.492956</td>\n      <td>0.455260</td>\n      <td>0.517191</td>\n      <td>0.492956</td>\n      <td>0.455260</td>\n      <td>0.517191</td>\n      <td>0.541158</td>\n      <td>0.552933</td>\n      <td>0.541857</td>\n    </tr>\n    <tr>\n      <th>733775</th>\n      <td>0.525697</td>\n      <td>0.478184</td>\n      <td>0.511370</td>\n      <td>0.562304</td>\n      <td>0.547822</td>\n      <td>0.476777</td>\n      <td>0.472268</td>\n      <td>0.431532</td>\n      <td>0.495127</td>\n      <td>0.471765</td>\n      <td>0.536403</td>\n      <td>0.495127</td>\n      <td>0.471765</td>\n      <td>0.536403</td>\n      <td>0.547103</td>\n      <td>0.549461</td>\n      <td>0.536898</td>\n    </tr>\n    <tr>\n      <th>1444026</th>\n      <td>0.492646</td>\n      <td>0.482610</td>\n      <td>0.512294</td>\n      <td>0.562983</td>\n      <td>0.551556</td>\n      <td>0.480747</td>\n      <td>0.474877</td>\n      <td>0.431669</td>\n      <td>0.500318</td>\n      <td>0.475048</td>\n      <td>0.537247</td>\n      <td>0.500318</td>\n      <td>0.475048</td>\n      <td>0.537247</td>\n      <td>0.546239</td>\n      <td>0.544724</td>\n      <td>0.532052</td>\n    </tr>\n    <tr>\n      <th>908121</th>\n      <td>0.512117</td>\n      <td>0.483380</td>\n      <td>0.515439</td>\n      <td>0.563706</td>\n      <td>0.549250</td>\n      <td>0.485569</td>\n      <td>0.473353</td>\n      <td>0.427702</td>\n      <td>0.503476</td>\n      <td>0.472919</td>\n      <td>0.533412</td>\n      <td>0.503476</td>\n      <td>0.472919</td>\n      <td>0.533412</td>\n      <td>0.542739</td>\n      <td>0.553073</td>\n      <td>0.543271</td>\n    </tr>\n    <tr>\n      <th>331402</th>\n      <td>0.511560</td>\n      <td>0.467709</td>\n      <td>0.520944</td>\n      <td>0.584377</td>\n      <td>0.565343</td>\n      <td>0.487501</td>\n      <td>0.486658</td>\n      <td>0.439605</td>\n      <td>0.504929</td>\n      <td>0.482800</td>\n      <td>0.543617</td>\n      <td>0.504929</td>\n      <td>0.482800</td>\n      <td>0.543617</td>\n      <td>0.542451</td>\n      <td>0.533976</td>\n      <td>0.523600</td>\n    </tr>\n    <tr>\n      <th>1097332</th>\n      <td>0.547474</td>\n      <td>0.497764</td>\n      <td>0.504763</td>\n      <td>0.557259</td>\n      <td>0.538164</td>\n      <td>0.472531</td>\n      <td>0.470973</td>\n      <td>0.426548</td>\n      <td>0.489549</td>\n      <td>0.470912</td>\n      <td>0.530856</td>\n      <td>0.489549</td>\n      <td>0.470912</td>\n      <td>0.530856</td>\n      <td>0.549324</td>\n      <td>0.548978</td>\n      <td>0.535961</td>\n    </tr>\n    <tr>\n      <th>397251</th>\n      <td>0.531848</td>\n      <td>0.486977</td>\n      <td>0.504507</td>\n      <td>0.546908</td>\n      <td>0.542300</td>\n      <td>0.475957</td>\n      <td>0.466366</td>\n      <td>0.429513</td>\n      <td>0.494301</td>\n      <td>0.466705</td>\n      <td>0.534822</td>\n      <td>0.494301</td>\n      <td>0.466705</td>\n      <td>0.534822</td>\n      <td>0.544153</td>\n      <td>0.557978</td>\n      <td>0.543159</td>\n    </tr>\n    <tr>\n      <th>235312</th>\n      <td>0.500085</td>\n      <td>0.477848</td>\n      <td>0.509014</td>\n      <td>0.557671</td>\n      <td>0.554802</td>\n      <td>0.476115</td>\n      <td>0.468438</td>\n      <td>0.433030</td>\n      <td>0.494270</td>\n      <td>0.467611</td>\n      <td>0.539468</td>\n      <td>0.494270</td>\n      <td>0.467611</td>\n      <td>0.539468</td>\n      <td>0.547964</td>\n      <td>0.555214</td>\n      <td>0.543650</td>\n    </tr>\n    <tr>\n      <th>...</th>\n      <td>...</td>\n      <td>...</td>\n      <td>...</td>\n      <td>...</td>\n      <td>...</td>\n      <td>...</td>\n      <td>...</td>\n      <td>...</td>\n      <td>...</td>\n      <td>...</td>\n      <td>...</td>\n      <td>...</td>\n      <td>...</td>\n      <td>...</td>\n      <td>...</td>\n      <td>...</td>\n      <td>...</td>\n    </tr>\n    <tr>\n      <th>1628586</th>\n      <td>0.490503</td>\n      <td>0.485058</td>\n      <td>0.509349</td>\n      <td>0.559077</td>\n      <td>0.549112</td>\n      <td>0.476230</td>\n      <td>0.471002</td>\n      <td>0.430397</td>\n      <td>0.494491</td>\n      <td>0.470912</td>\n      <td>0.535692</td>\n      <td>0.494491</td>\n      <td>0.470912</td>\n      <td>0.535692</td>\n      <td>0.546448</td>\n      <td>0.549117</td>\n      <td>0.535503</td>\n    </tr>\n    <tr>\n      <th>1628796</th>\n      <td>0.523892</td>\n      <td>0.490549</td>\n      <td>0.510654</td>\n      <td>0.546903</td>\n      <td>0.532747</td>\n      <td>0.474906</td>\n      <td>0.465316</td>\n      <td>0.425815</td>\n      <td>0.492586</td>\n      <td>0.464158</td>\n      <td>0.529511</td>\n      <td>0.492586</td>\n      <td>0.464158</td>\n      <td>0.529511</td>\n      <td>0.547201</td>\n      <td>0.557112</td>\n      <td>0.546045</td>\n    </tr>\n    <tr>\n      <th>1629071</th>\n      <td>0.469328</td>\n      <td>0.486406</td>\n      <td>0.508918</td>\n      <td>0.541073</td>\n      <td>0.530344</td>\n      <td>0.474416</td>\n      <td>0.463652</td>\n      <td>0.424645</td>\n      <td>0.491895</td>\n      <td>0.462220</td>\n      <td>0.527967</td>\n      <td>0.491895</td>\n      <td>0.462220</td>\n      <td>0.527967</td>\n      <td>0.544490</td>\n      <td>0.553296</td>\n      <td>0.539661</td>\n    </tr>\n    <tr>\n      <th>1629289</th>\n      <td>0.471512</td>\n      <td>0.485133</td>\n      <td>0.501123</td>\n      <td>0.557052</td>\n      <td>0.536499</td>\n      <td>0.475971</td>\n      <td>0.470690</td>\n      <td>0.428429</td>\n      <td>0.494121</td>\n      <td>0.470543</td>\n      <td>0.533053</td>\n      <td>0.494121</td>\n      <td>0.470543</td>\n      <td>0.533053</td>\n      <td>0.546581</td>\n      <td>0.548384</td>\n      <td>0.536531</td>\n    </tr>\n    <tr>\n      <th>1629517</th>\n      <td>0.524648</td>\n      <td>0.485937</td>\n      <td>0.511891</td>\n      <td>0.558465</td>\n      <td>0.542956</td>\n      <td>0.476375</td>\n      <td>0.470119</td>\n      <td>0.428632</td>\n      <td>0.494696</td>\n      <td>0.469861</td>\n      <td>0.533312</td>\n      <td>0.494696</td>\n      <td>0.469861</td>\n      <td>0.533312</td>\n      <td>0.546820</td>\n      <td>0.549350</td>\n      <td>0.540852</td>\n    </tr>\n    <tr>\n      <th>1630611</th>\n      <td>0.472025</td>\n      <td>0.490145</td>\n      <td>0.503795</td>\n      <td>0.546353</td>\n      <td>0.533122</td>\n      <td>0.469115</td>\n      <td>0.461034</td>\n      <td>0.421260</td>\n      <td>0.484372</td>\n      <td>0.459196</td>\n      <td>0.523486</td>\n      <td>0.484372</td>\n      <td>0.459196</td>\n      <td>0.523486</td>\n      <td>0.546531</td>\n      <td>0.554139</td>\n      <td>0.540262</td>\n    </tr>\n    <tr>\n      <th>1630812</th>\n      <td>0.484410</td>\n      <td>0.491100</td>\n      <td>0.502258</td>\n      <td>0.535217</td>\n      <td>0.543262</td>\n      <td>0.474471</td>\n      <td>0.465679</td>\n      <td>0.424022</td>\n      <td>0.491982</td>\n      <td>0.464640</td>\n      <td>0.527153</td>\n      <td>0.491982</td>\n      <td>0.464640</td>\n      <td>0.527153</td>\n      <td>0.547961</td>\n      <td>0.552239</td>\n      <td>0.538869</td>\n    </tr>\n    <tr>\n      <th>1631297</th>\n      <td>0.518047</td>\n      <td>0.482119</td>\n      <td>0.506546</td>\n      <td>0.558974</td>\n      <td>0.545227</td>\n      <td>0.476106</td>\n      <td>0.471018</td>\n      <td>0.430091</td>\n      <td>0.494309</td>\n      <td>0.470928</td>\n      <td>0.535279</td>\n      <td>0.494309</td>\n      <td>0.470928</td>\n      <td>0.535279</td>\n      <td>0.547374</td>\n      <td>0.549731</td>\n      <td>0.535471</td>\n    </tr>\n    <tr>\n      <th>1631353</th>\n      <td>0.602348</td>\n      <td>0.470897</td>\n      <td>0.509469</td>\n      <td>0.532951</td>\n      <td>0.519187</td>\n      <td>0.475414</td>\n      <td>0.466559</td>\n      <td>0.430001</td>\n      <td>0.493294</td>\n      <td>0.465562</td>\n      <td>0.535148</td>\n      <td>0.493294</td>\n      <td>0.465562</td>\n      <td>0.535148</td>\n      <td>0.547795</td>\n      <td>0.556519</td>\n      <td>0.541075</td>\n    </tr>\n    <tr>\n      <th>1631387</th>\n      <td>0.562296</td>\n      <td>0.502418</td>\n      <td>0.506692</td>\n      <td>0.549644</td>\n      <td>0.524486</td>\n      <td>0.476074</td>\n      <td>0.465786</td>\n      <td>0.423636</td>\n      <td>0.494252</td>\n      <td>0.464614</td>\n      <td>0.526424</td>\n      <td>0.494252</td>\n      <td>0.464614</td>\n      <td>0.526424</td>\n      <td>0.546323</td>\n      <td>0.550027</td>\n      <td>0.559187</td>\n    </tr>\n    <tr>\n      <th>1631434</th>\n      <td>0.539151</td>\n      <td>0.477135</td>\n      <td>0.509453</td>\n      <td>0.557455</td>\n      <td>0.546029</td>\n      <td>0.475328</td>\n      <td>0.469859</td>\n      <td>0.430832</td>\n      <td>0.493161</td>\n      <td>0.469522</td>\n      <td>0.536282</td>\n      <td>0.493161</td>\n      <td>0.469522</td>\n      <td>0.536282</td>\n      <td>0.548548</td>\n      <td>0.551878</td>\n      <td>0.538022</td>\n    </tr>\n    <tr>\n      <th>1631931</th>\n      <td>0.463918</td>\n      <td>0.488938</td>\n      <td>0.511252</td>\n      <td>0.533544</td>\n      <td>0.527999</td>\n      <td>0.474644</td>\n      <td>0.463717</td>\n      <td>0.426347</td>\n      <td>0.492177</td>\n      <td>0.462153</td>\n      <td>0.530166</td>\n      <td>0.492177</td>\n      <td>0.462153</td>\n      <td>0.530166</td>\n      <td>0.545444</td>\n      <td>0.560076</td>\n      <td>0.546868</td>\n    </tr>\n    <tr>\n      <th>1632020</th>\n      <td>0.489648</td>\n      <td>0.488520</td>\n      <td>0.511162</td>\n      <td>0.542580</td>\n      <td>0.530049</td>\n      <td>0.476411</td>\n      <td>0.466962</td>\n      <td>0.426335</td>\n      <td>0.494745</td>\n      <td>0.466045</td>\n      <td>0.530138</td>\n      <td>0.494745</td>\n      <td>0.466045</td>\n      <td>0.530138</td>\n      <td>0.545291</td>\n      <td>0.550157</td>\n      <td>0.536194</td>\n    </tr>\n    <tr>\n      <th>1632116</th>\n      <td>0.524772</td>\n      <td>0.473565</td>\n      <td>0.495667</td>\n      <td>0.553357</td>\n      <td>0.530682</td>\n      <td>0.474420</td>\n      <td>0.469326</td>\n      <td>0.427965</td>\n      <td>0.491835</td>\n      <td>0.468882</td>\n      <td>0.532357</td>\n      <td>0.491835</td>\n      <td>0.468882</td>\n      <td>0.532357</td>\n      <td>0.549130</td>\n      <td>0.552879</td>\n      <td>0.542844</td>\n    </tr>\n    <tr>\n      <th>1632229</th>\n      <td>0.483329</td>\n      <td>0.488413</td>\n      <td>0.503694</td>\n      <td>0.545347</td>\n      <td>0.529152</td>\n      <td>0.472959</td>\n      <td>0.466059</td>\n      <td>0.425888</td>\n      <td>0.489716</td>\n      <td>0.464957</td>\n      <td>0.529527</td>\n      <td>0.489716</td>\n      <td>0.464957</td>\n      <td>0.529527</td>\n      <td>0.547851</td>\n      <td>0.551781</td>\n      <td>0.537437</td>\n    </tr>\n    <tr>\n      <th>1632770</th>\n      <td>0.407540</td>\n      <td>0.500868</td>\n      <td>0.506810</td>\n      <td>0.556388</td>\n      <td>0.559311</td>\n      <td>0.470739</td>\n      <td>0.464448</td>\n      <td>0.426194</td>\n      <td>0.486620</td>\n      <td>0.463153</td>\n      <td>0.530043</td>\n      <td>0.486620</td>\n      <td>0.463153</td>\n      <td>0.530043</td>\n      <td>0.549260</td>\n      <td>0.553634</td>\n      <td>0.539282</td>\n    </tr>\n    <tr>\n      <th>1633171</th>\n      <td>0.483073</td>\n      <td>0.484528</td>\n      <td>0.506146</td>\n      <td>0.555587</td>\n      <td>0.533549</td>\n      <td>0.476145</td>\n      <td>0.470244</td>\n      <td>0.428513</td>\n      <td>0.494369</td>\n      <td>0.470015</td>\n      <td>0.533162</td>\n      <td>0.494369</td>\n      <td>0.470015</td>\n      <td>0.533162</td>\n      <td>0.547034</td>\n      <td>0.549835</td>\n      <td>0.539973</td>\n    </tr>\n    <tr>\n      <th>1633366</th>\n      <td>0.505443</td>\n      <td>0.484947</td>\n      <td>0.513991</td>\n      <td>0.550903</td>\n      <td>0.534194</td>\n      <td>0.476142</td>\n      <td>0.466860</td>\n      <td>0.426307</td>\n      <td>0.494362</td>\n      <td>0.465998</td>\n      <td>0.530181</td>\n      <td>0.494362</td>\n      <td>0.465998</td>\n      <td>0.530181</td>\n      <td>0.545933</td>\n      <td>0.550599</td>\n      <td>0.537841</td>\n    </tr>\n    <tr>\n      <th>1633566</th>\n      <td>0.479098</td>\n      <td>0.493900</td>\n      <td>0.501540</td>\n      <td>0.538183</td>\n      <td>0.511467</td>\n      <td>0.473875</td>\n      <td>0.464708</td>\n      <td>0.421673</td>\n      <td>0.491102</td>\n      <td>0.463435</td>\n      <td>0.523908</td>\n      <td>0.491102</td>\n      <td>0.463435</td>\n      <td>0.523908</td>\n      <td>0.545219</td>\n      <td>0.552416</td>\n      <td>0.546591</td>\n    </tr>\n    <tr>\n      <th>1633856</th>\n      <td>0.478115</td>\n      <td>0.477854</td>\n      <td>0.508521</td>\n      <td>0.558418</td>\n      <td>0.548141</td>\n      <td>0.475254</td>\n      <td>0.469859</td>\n      <td>0.428744</td>\n      <td>0.493094</td>\n      <td>0.469562</td>\n      <td>0.533475</td>\n      <td>0.493094</td>\n      <td>0.469562</td>\n      <td>0.533475</td>\n      <td>0.547486</td>\n      <td>0.552366</td>\n      <td>0.540251</td>\n    </tr>\n    <tr>\n      <th>1634139</th>\n      <td>0.517822</td>\n      <td>0.483442</td>\n      <td>0.510577</td>\n      <td>0.559504</td>\n      <td>0.544806</td>\n      <td>0.476284</td>\n      <td>0.470354</td>\n      <td>0.428370</td>\n      <td>0.494565</td>\n      <td>0.470137</td>\n      <td>0.532952</td>\n      <td>0.494565</td>\n      <td>0.470137</td>\n      <td>0.532952</td>\n      <td>0.546948</td>\n      <td>0.548728</td>\n      <td>0.536530</td>\n    </tr>\n    <tr>\n      <th>1634471</th>\n      <td>0.459613</td>\n      <td>0.489402</td>\n      <td>0.509647</td>\n      <td>0.554005</td>\n      <td>0.535550</td>\n      <td>0.475201</td>\n      <td>0.466425</td>\n      <td>0.423016</td>\n      <td>0.493011</td>\n      <td>0.465478</td>\n      <td>0.525731</td>\n      <td>0.493011</td>\n      <td>0.465478</td>\n      <td>0.525731</td>\n      <td>0.546410</td>\n      <td>0.547896</td>\n      <td>0.537635</td>\n    </tr>\n    <tr>\n      <th>1634793</th>\n      <td>0.457266</td>\n      <td>0.491806</td>\n      <td>0.510351</td>\n      <td>0.540229</td>\n      <td>0.524473</td>\n      <td>0.474159</td>\n      <td>0.462164</td>\n      <td>0.422651</td>\n      <td>0.491528</td>\n      <td>0.460459</td>\n      <td>0.525283</td>\n      <td>0.491528</td>\n      <td>0.460459</td>\n      <td>0.525283</td>\n      <td>0.547203</td>\n      <td>0.558576</td>\n      <td>0.547887</td>\n    </tr>\n    <tr>\n      <th>1634929</th>\n      <td>0.462181</td>\n      <td>0.489975</td>\n      <td>0.492281</td>\n      <td>0.533726</td>\n      <td>0.521152</td>\n      <td>0.471058</td>\n      <td>0.465299</td>\n      <td>0.425892</td>\n      <td>0.487080</td>\n      <td>0.464164</td>\n      <td>0.529638</td>\n      <td>0.487080</td>\n      <td>0.464164</td>\n      <td>0.529638</td>\n      <td>0.549207</td>\n      <td>0.559056</td>\n      <td>0.546610</td>\n    </tr>\n    <tr>\n      <th>1635338</th>\n      <td>0.449323</td>\n      <td>0.488677</td>\n      <td>0.507064</td>\n      <td>0.553868</td>\n      <td>0.533579</td>\n      <td>0.474210</td>\n      <td>0.467882</td>\n      <td>0.425826</td>\n      <td>0.491593</td>\n      <td>0.467219</td>\n      <td>0.529544</td>\n      <td>0.491593</td>\n      <td>0.467219</td>\n      <td>0.529544</td>\n      <td>0.548184</td>\n      <td>0.548592</td>\n      <td>0.534131</td>\n    </tr>\n    <tr>\n      <th>1635449</th>\n      <td>0.467185</td>\n      <td>0.490783</td>\n      <td>0.499888</td>\n      <td>0.558681</td>\n      <td>0.545708</td>\n      <td>0.471727</td>\n      <td>0.470300</td>\n      <td>0.427294</td>\n      <td>0.488032</td>\n      <td>0.470080</td>\n      <td>0.531521</td>\n      <td>0.488032</td>\n      <td>0.470080</td>\n      <td>0.531521</td>\n      <td>0.550220</td>\n      <td>0.550137</td>\n      <td>0.535755</td>\n    </tr>\n    <tr>\n      <th>1635524</th>\n      <td>0.485705</td>\n      <td>0.485166</td>\n      <td>0.508314</td>\n      <td>0.556524</td>\n      <td>0.537318</td>\n      <td>0.474313</td>\n      <td>0.468232</td>\n      <td>0.425505</td>\n      <td>0.491737</td>\n      <td>0.467627</td>\n      <td>0.529101</td>\n      <td>0.491737</td>\n      <td>0.467627</td>\n      <td>0.529101</td>\n      <td>0.546881</td>\n      <td>0.549683</td>\n      <td>0.539354</td>\n    </tr>\n    <tr>\n      <th>1635645</th>\n      <td>0.531883</td>\n      <td>0.486052</td>\n      <td>0.509969</td>\n      <td>0.555171</td>\n      <td>0.543129</td>\n      <td>0.476322</td>\n      <td>0.468912</td>\n      <td>0.427846</td>\n      <td>0.494619</td>\n      <td>0.468416</td>\n      <td>0.532237</td>\n      <td>0.494619</td>\n      <td>0.468416</td>\n      <td>0.532237</td>\n      <td>0.547072</td>\n      <td>0.555442</td>\n      <td>0.543097</td>\n    </tr>\n    <tr>\n      <th>1635987</th>\n      <td>0.500088</td>\n      <td>0.488456</td>\n      <td>0.489470</td>\n      <td>0.540530</td>\n      <td>0.535694</td>\n      <td>0.471801</td>\n      <td>0.466337</td>\n      <td>0.428233</td>\n      <td>0.488068</td>\n      <td>0.465327</td>\n      <td>0.532752</td>\n      <td>0.488068</td>\n      <td>0.465327</td>\n      <td>0.532752</td>\n      <td>0.550115</td>\n      <td>0.556899</td>\n      <td>0.543850</td>\n    </tr>\n    <tr>\n      <th>1636114</th>\n      <td>0.495698</td>\n      <td>0.488172</td>\n      <td>0.513658</td>\n      <td>0.550482</td>\n      <td>0.547779</td>\n      <td>0.474311</td>\n      <td>0.470084</td>\n      <td>0.430343</td>\n      <td>0.491702</td>\n      <td>0.469808</td>\n      <td>0.535616</td>\n      <td>0.491702</td>\n      <td>0.469808</td>\n      <td>0.535616</td>\n      <td>0.547649</td>\n      <td>0.550784</td>\n      <td>0.535019</td>\n    </tr>\n  </tbody>\n</table>\n<p>119493 rows × 17 columns</p>\n</div>"
     },
     "metadata": {},
     "execution_count": 14
    }
   ],
   "source": [
    "filtered_balanced_data_buy"
   ]
  },
  {
   "cell_type": "code",
   "execution_count": 15,
   "metadata": {},
   "outputs": [
    {
     "output_type": "execute_result",
     "data": {
      "text/plain": [
       "RandomForestClassifier(bootstrap=True, ccp_alpha=0.0, class_weight=None,\n",
       "                       criterion='gini', max_depth=None, max_features='auto',\n",
       "                       max_leaf_nodes=None, max_samples=None,\n",
       "                       min_impurity_decrease=0.0, min_impurity_split=None,\n",
       "                       min_samples_leaf=2, min_samples_split=2,\n",
       "                       min_weight_fraction_leaf=0.0, n_estimators=100,\n",
       "                       n_jobs=-1, oob_score=False, random_state=69420,\n",
       "                       verbose=0, warm_start=False)"
      ]
     },
     "metadata": {},
     "execution_count": 15
    }
   ],
   "source": [
    "\n",
    "clf_buy = RandomForestClassifier(random_state=69420, n_jobs=-1, n_estimators=100, criterion='gini', min_samples_leaf=2)\n",
    "\n",
    "clf_buy.fit(filtered_balanced_data_buy, balanced_data_optimal_buy)"
   ]
  },
  {
   "cell_type": "code",
   "execution_count": 16,
   "metadata": {},
   "outputs": [],
   "source": [
    "# from sklearn.inspection import permutation_importance\n",
    "# feature_importances = permutation_importance(clf_buy, filtered_balanced_data_buy.values, balanced_data_optimal_buy.values, n_repeats=10, random_state=69420)\n",
    "\n",
    "# for i in range(len(feature_importances.importances_mean)):\n",
    "#     print('i: {}, Feature: {}, Score: {}'.format(i, filtered_balanced_data_buy.columns[i], feature_importances.importances_mean[i]))"
   ]
  },
  {
   "source": [
    "def insert_buys(close, prediction):\n",
    "    if prediction == 1:\n",
    "        return close\n",
    "    else:\n",
    "        return None\n",
    "\n",
    "def insert_sells(close, prediction):\n",
    "    if prediction == -1:\n",
    "        return close\n",
    "    else:\n",
    "        return None\n",
    "\n"
   ],
   "cell_type": "code",
   "metadata": {},
   "execution_count": 17,
   "outputs": []
  },
  {
   "cell_type": "code",
   "execution_count": 18,
   "metadata": {},
   "outputs": [],
   "source": [
    "import pickle"
   ]
  },
  {
   "cell_type": "code",
   "execution_count": 19,
   "metadata": {},
   "outputs": [],
   "source": [
    "filtered_test = test[[\"close\", 'optimal', 'volume']]\n",
    "filtered_test_2 = test[features]"
   ]
  },
  {
   "cell_type": "code",
   "execution_count": 20,
   "metadata": {},
   "outputs": [],
   "source": [
    "# filtered_sell = test[[\"close\", \"rsi\", \"MACD\", \"stosc_k\", \"stosc_d\", \"slope\", \"variance\"]]"
   ]
  },
  {
   "cell_type": "code",
   "execution_count": 21,
   "metadata": {},
   "outputs": [],
   "source": [
    "# sell_model = pickle.load(open('./v2/strategy/saved_models/optimal_v2_sell_rf.sav', 'rb'))"
   ]
  },
  {
   "cell_type": "code",
   "execution_count": 22,
   "metadata": {},
   "outputs": [],
   "source": [
    "filtered_test['predict_buy'] = clf_buy.predict(filtered_test_2.values)\n",
    "# filtered_test['predict_sell'] = sell_model.predict(filtered_sell)"
   ]
  },
  {
   "cell_type": "code",
   "execution_count": 23,
   "metadata": {},
   "outputs": [
    {
     "output_type": "execute_result",
     "data": {
      "text/plain": [
       "85876"
      ]
     },
     "metadata": {},
     "execution_count": 23
    }
   ],
   "source": [
    "len(filtered_test)"
   ]
  },
  {
   "cell_type": "code",
   "execution_count": 24,
   "metadata": {},
   "outputs": [
    {
     "output_type": "execute_result",
     "data": {
      "text/plain": [
       "920"
      ]
     },
     "metadata": {},
     "execution_count": 24
    }
   ],
   "source": [
    "len(filtered_test[filtered_test['predict_buy'] != 0.0])"
   ]
  },
  {
   "cell_type": "code",
   "execution_count": 25,
   "metadata": {},
   "outputs": [],
   "source": [
    "\n",
    "filtered_test['buy'] = filtered_test.apply(lambda x: insert_buys(x.close, x.predict_buy), axis=1)\n",
    "filtered_test['optimal_buy'] = filtered_test.apply(lambda x: insert_buys(x.close, x.optimal), axis=1)\n",
    "# filtered_test['sell'] = filtered_test.apply(lambda x: insert_sells(x.close, x.predict_sell), axis=1)\n",
    "\n"
   ]
  },
  {
   "cell_type": "code",
   "execution_count": 26,
   "metadata": {},
   "outputs": [],
   "source": [
    "from v2.strategy.indicators.bollinger_bands import BollingerBands"
   ]
  },
  {
   "cell_type": "code",
   "execution_count": 27,
   "metadata": {},
   "outputs": [
    {
     "output_type": "execute_result",
     "data": {
      "text/plain": [
       "['boll_upper', 'boll_upper']"
      ]
     },
     "metadata": {},
     "execution_count": 27
    }
   ],
   "source": [
    "bollinger_bands_params = Param(0,0,0,'period',175)\n",
    "boll = BollingerBands(_params=[bollinger_bands_params])\n",
    "boll.genData(filtered_test, gen_new_values=False)\n"
   ]
  },
  {
   "cell_type": "code",
   "execution_count": 28,
   "metadata": {},
   "outputs": [],
   "source": [
    "reset_filtered = filtered_test.reset_index(drop=True)"
   ]
  },
  {
   "cell_type": "code",
   "execution_count": 29,
   "metadata": {},
   "outputs": [],
   "source": [
    "# reset_filtered"
   ]
  },
  {
   "cell_type": "code",
   "execution_count": 30,
   "metadata": {},
   "outputs": [],
   "source": [
    "# reset_filtered['count'] = reset_filtered['sell'].rolling(60).count() - reset_filtered['buy'].rolling(60).count() "
   ]
  },
  {
   "cell_type": "code",
   "execution_count": 31,
   "metadata": {},
   "outputs": [],
   "source": [
    "# reset_filtered"
   ]
  },
  {
   "source": [
    "first_amnt = reset_filtered[29000:30000]\n",
    "first_amnt['volume'] = first_amnt['volume'].rolling(window=10).mean()"
   ],
   "cell_type": "code",
   "metadata": {},
   "execution_count": 32,
   "outputs": []
  },
  {
   "source": [
    "import matplotlib.pyplot as plt\n",
    "plt.clf()\n",
    "\n",
    "plt.figure(figsize=(20,10))\n",
    "plt.scatter(x=first_amnt.index, y=first_amnt['buy'], color='red')\n",
    "\n",
    "# plt.scatter(x=first_amnt.index, y=first_amnt['optimal_buy'], color='purple')\n",
    "\n",
    "# plt.scatter(x=first_amnt.index, y=first_amnt['sell'], color='green')\n",
    "\n",
    "plt.plot(first_amnt.index, first_amnt['close'], color='blue')\n",
    "plt.show()"
   ],
   "cell_type": "code",
   "metadata": {},
   "execution_count": 33,
   "outputs": [
    {
     "output_type": "display_data",
     "data": {
      "text/plain": "<Figure size 432x288 with 0 Axes>"
     },
     "metadata": {}
    },
    {
     "output_type": "display_data",
     "data": {
      "text/plain": "<Figure size 1440x720 with 1 Axes>",
      "image/svg+xml": "<?xml version=\"1.0\" encoding=\"utf-8\" standalone=\"no\"?>\n<!DOCTYPE svg PUBLIC \"-//W3C//DTD SVG 1.1//EN\"\n  \"http://www.w3.org/Graphics/SVG/1.1/DTD/svg11.dtd\">\n<!-- Created with matplotlib (https://matplotlib.org/) -->\n<svg height=\"574.678125pt\" version=\"1.1\" viewBox=\"0 0 1169.2125 574.678125\" width=\"1169.2125pt\" xmlns=\"http://www.w3.org/2000/svg\" xmlns:xlink=\"http://www.w3.org/1999/xlink\">\n <defs>\n  <style type=\"text/css\">\n*{stroke-linecap:butt;stroke-linejoin:round;}\n  </style>\n </defs>\n <g id=\"figure_1\">\n  <g id=\"patch_1\">\n   <path d=\"M 0 574.678125 \nL 1169.2125 574.678125 \nL 1169.2125 0 \nL 0 0 \nz\n\" style=\"fill:none;\"/>\n  </g>\n  <g id=\"axes_1\">\n   <g id=\"patch_2\">\n    <path d=\"M 46.0125 550.8 \nL 1162.0125 550.8 \nL 1162.0125 7.2 \nL 46.0125 7.2 \nz\n\" style=\"fill:#ffffff;\"/>\n   </g>\n   <g id=\"PathCollection_1\">\n    <defs>\n     <path d=\"M 0 3 \nC 0.795609 3 1.55874 2.683901 2.12132 2.12132 \nC 2.683901 1.55874 3 0.795609 3 0 \nC 3 -0.795609 2.683901 -1.55874 2.12132 -2.12132 \nC 1.55874 -2.683901 0.795609 -3 0 -3 \nC -0.795609 -3 -1.55874 -2.683901 -2.12132 -2.12132 \nC -2.683901 -1.55874 -3 -0.795609 -3 0 \nC -3 0.795609 -2.683901 1.55874 -2.12132 2.12132 \nC -1.55874 2.683901 -0.795609 3 0 3 \nz\n\" id=\"m1173ac49a3\" style=\"stroke:#ff0000;\"/>\n    </defs>\n    <g clip-path=\"url(#p642dc0f2a5)\">\n     <use style=\"fill:#ff0000;stroke:#ff0000;\" x=\"110.957627\" xlink:href=\"#m1173ac49a3\" y=\"473.020643\"/>\n     <use style=\"fill:#ff0000;stroke:#ff0000;\" x=\"111.973188\" xlink:href=\"#m1173ac49a3\" y=\"474.967974\"/>\n     <use style=\"fill:#ff0000;stroke:#ff0000;\" x=\"205.404801\" xlink:href=\"#m1173ac49a3\" y=\"526.085599\"/>\n     <use style=\"fill:#ff0000;stroke:#ff0000;\" x=\"399.376955\" xlink:href=\"#m1173ac49a3\" y=\"365.693021\"/>\n     <use style=\"fill:#ff0000;stroke:#ff0000;\" x=\"414.610371\" xlink:href=\"#m1173ac49a3\" y=\"400.037711\"/>\n     <use style=\"fill:#ff0000;stroke:#ff0000;\" x=\"482.652959\" xlink:href=\"#m1173ac49a3\" y=\"338.35748\"/>\n     <use style=\"fill:#ff0000;stroke:#ff0000;\" x=\"580.146816\" xlink:href=\"#m1173ac49a3\" y=\"368.60082\"/>\n     <use style=\"fill:#ff0000;stroke:#ff0000;\" x=\"598.426914\" xlink:href=\"#m1173ac49a3\" y=\"427.357944\"/>\n     <use style=\"fill:#ff0000;stroke:#ff0000;\" x=\"600.458036\" xlink:href=\"#m1173ac49a3\" y=\"433.024278\"/>\n     <use style=\"fill:#ff0000;stroke:#ff0000;\" x=\"603.504719\" xlink:href=\"#m1173ac49a3\" y=\"463.108497\"/>\n     <use style=\"fill:#ff0000;stroke:#ff0000;\" x=\"605.535842\" xlink:href=\"#m1173ac49a3\" y=\"483.852712\"/>\n     <use style=\"fill:#ff0000;stroke:#ff0000;\" x=\"695.920772\" xlink:href=\"#m1173ac49a3\" y=\"477.159133\"/>\n     <use style=\"fill:#ff0000;stroke:#ff0000;\" x=\"727.403163\" xlink:href=\"#m1173ac49a3\" y=\"475.913926\"/>\n     <use style=\"fill:#ff0000;stroke:#ff0000;\" x=\"728.418724\" xlink:href=\"#m1173ac49a3\" y=\"479.267471\"/>\n     <use style=\"fill:#ff0000;stroke:#ff0000;\" x=\"730.449846\" xlink:href=\"#m1173ac49a3\" y=\"487.4258\"/>\n     <use style=\"fill:#ff0000;stroke:#ff0000;\" x=\"732.480968\" xlink:href=\"#m1173ac49a3\" y=\"489.826198\"/>\n     <use style=\"fill:#ff0000;stroke:#ff0000;\" x=\"733.496529\" xlink:href=\"#m1173ac49a3\" y=\"493.281178\"/>\n    </g>\n   </g>\n   <g id=\"matplotlib.axis_1\">\n    <g id=\"xtick_1\">\n     <g id=\"line2d_1\">\n      <defs>\n       <path d=\"M 0 0 \nL 0 3.5 \n\" id=\"me88b894bac\" style=\"stroke:#000000;stroke-width:0.8;\"/>\n      </defs>\n      <g>\n       <use style=\"stroke:#000000;stroke-width:0.8;\" x=\"96.739773\" xlink:href=\"#me88b894bac\" y=\"550.8\"/>\n      </g>\n     </g>\n     <g id=\"text_1\">\n      <!-- 29000 -->\n      <defs>\n       <path d=\"M 19.1875 8.296875 \nL 53.609375 8.296875 \nL 53.609375 0 \nL 7.328125 0 \nL 7.328125 8.296875 \nQ 12.9375 14.109375 22.625 23.890625 \nQ 32.328125 33.6875 34.8125 36.53125 \nQ 39.546875 41.84375 41.421875 45.53125 \nQ 43.3125 49.21875 43.3125 52.78125 \nQ 43.3125 58.59375 39.234375 62.25 \nQ 35.15625 65.921875 28.609375 65.921875 \nQ 23.96875 65.921875 18.8125 64.3125 \nQ 13.671875 62.703125 7.8125 59.421875 \nL 7.8125 69.390625 \nQ 13.765625 71.78125 18.9375 73 \nQ 24.125 74.21875 28.421875 74.21875 \nQ 39.75 74.21875 46.484375 68.546875 \nQ 53.21875 62.890625 53.21875 53.421875 \nQ 53.21875 48.921875 51.53125 44.890625 \nQ 49.859375 40.875 45.40625 35.40625 \nQ 44.1875 33.984375 37.640625 27.21875 \nQ 31.109375 20.453125 19.1875 8.296875 \nz\n\" id=\"DejaVuSans-50\"/>\n       <path d=\"M 10.984375 1.515625 \nL 10.984375 10.5 \nQ 14.703125 8.734375 18.5 7.8125 \nQ 22.3125 6.890625 25.984375 6.890625 \nQ 35.75 6.890625 40.890625 13.453125 \nQ 46.046875 20.015625 46.78125 33.40625 \nQ 43.953125 29.203125 39.59375 26.953125 \nQ 35.25 24.703125 29.984375 24.703125 \nQ 19.046875 24.703125 12.671875 31.3125 \nQ 6.296875 37.9375 6.296875 49.421875 \nQ 6.296875 60.640625 12.9375 67.421875 \nQ 19.578125 74.21875 30.609375 74.21875 \nQ 43.265625 74.21875 49.921875 64.515625 \nQ 56.59375 54.828125 56.59375 36.375 \nQ 56.59375 19.140625 48.40625 8.859375 \nQ 40.234375 -1.421875 26.421875 -1.421875 \nQ 22.703125 -1.421875 18.890625 -0.6875 \nQ 15.09375 0.046875 10.984375 1.515625 \nz\nM 30.609375 32.421875 \nQ 37.25 32.421875 41.125 36.953125 \nQ 45.015625 41.5 45.015625 49.421875 \nQ 45.015625 57.28125 41.125 61.84375 \nQ 37.25 66.40625 30.609375 66.40625 \nQ 23.96875 66.40625 20.09375 61.84375 \nQ 16.21875 57.28125 16.21875 49.421875 \nQ 16.21875 41.5 20.09375 36.953125 \nQ 23.96875 32.421875 30.609375 32.421875 \nz\n\" id=\"DejaVuSans-57\"/>\n       <path d=\"M 31.78125 66.40625 \nQ 24.171875 66.40625 20.328125 58.90625 \nQ 16.5 51.421875 16.5 36.375 \nQ 16.5 21.390625 20.328125 13.890625 \nQ 24.171875 6.390625 31.78125 6.390625 \nQ 39.453125 6.390625 43.28125 13.890625 \nQ 47.125 21.390625 47.125 36.375 \nQ 47.125 51.421875 43.28125 58.90625 \nQ 39.453125 66.40625 31.78125 66.40625 \nz\nM 31.78125 74.21875 \nQ 44.046875 74.21875 50.515625 64.515625 \nQ 56.984375 54.828125 56.984375 36.375 \nQ 56.984375 17.96875 50.515625 8.265625 \nQ 44.046875 -1.421875 31.78125 -1.421875 \nQ 19.53125 -1.421875 13.0625 8.265625 \nQ 6.59375 17.96875 6.59375 36.375 \nQ 6.59375 54.828125 13.0625 64.515625 \nQ 19.53125 74.21875 31.78125 74.21875 \nz\n\" id=\"DejaVuSans-48\"/>\n      </defs>\n      <g transform=\"translate(80.833523 565.398438)scale(0.1 -0.1)\">\n       <use xlink:href=\"#DejaVuSans-50\"/>\n       <use x=\"63.623047\" xlink:href=\"#DejaVuSans-57\"/>\n       <use x=\"127.246094\" xlink:href=\"#DejaVuSans-48\"/>\n       <use x=\"190.869141\" xlink:href=\"#DejaVuSans-48\"/>\n       <use x=\"254.492188\" xlink:href=\"#DejaVuSans-48\"/>\n      </g>\n     </g>\n    </g>\n    <g id=\"xtick_2\">\n     <g id=\"line2d_2\">\n      <g>\n       <use style=\"stroke:#000000;stroke-width:0.8;\" x=\"299.851976\" xlink:href=\"#me88b894bac\" y=\"550.8\"/>\n      </g>\n     </g>\n     <g id=\"text_2\">\n      <!-- 29200 -->\n      <g transform=\"translate(283.945726 565.398438)scale(0.1 -0.1)\">\n       <use xlink:href=\"#DejaVuSans-50\"/>\n       <use x=\"63.623047\" xlink:href=\"#DejaVuSans-57\"/>\n       <use x=\"127.246094\" xlink:href=\"#DejaVuSans-50\"/>\n       <use x=\"190.869141\" xlink:href=\"#DejaVuSans-48\"/>\n       <use x=\"254.492188\" xlink:href=\"#DejaVuSans-48\"/>\n      </g>\n     </g>\n    </g>\n    <g id=\"xtick_3\">\n     <g id=\"line2d_3\">\n      <g>\n       <use style=\"stroke:#000000;stroke-width:0.8;\" x=\"502.964179\" xlink:href=\"#me88b894bac\" y=\"550.8\"/>\n      </g>\n     </g>\n     <g id=\"text_3\">\n      <!-- 29400 -->\n      <defs>\n       <path d=\"M 37.796875 64.3125 \nL 12.890625 25.390625 \nL 37.796875 25.390625 \nz\nM 35.203125 72.90625 \nL 47.609375 72.90625 \nL 47.609375 25.390625 \nL 58.015625 25.390625 \nL 58.015625 17.1875 \nL 47.609375 17.1875 \nL 47.609375 0 \nL 37.796875 0 \nL 37.796875 17.1875 \nL 4.890625 17.1875 \nL 4.890625 26.703125 \nz\n\" id=\"DejaVuSans-52\"/>\n      </defs>\n      <g transform=\"translate(487.057929 565.398438)scale(0.1 -0.1)\">\n       <use xlink:href=\"#DejaVuSans-50\"/>\n       <use x=\"63.623047\" xlink:href=\"#DejaVuSans-57\"/>\n       <use x=\"127.246094\" xlink:href=\"#DejaVuSans-52\"/>\n       <use x=\"190.869141\" xlink:href=\"#DejaVuSans-48\"/>\n       <use x=\"254.492188\" xlink:href=\"#DejaVuSans-48\"/>\n      </g>\n     </g>\n    </g>\n    <g id=\"xtick_4\">\n     <g id=\"line2d_4\">\n      <g>\n       <use style=\"stroke:#000000;stroke-width:0.8;\" x=\"706.076382\" xlink:href=\"#me88b894bac\" y=\"550.8\"/>\n      </g>\n     </g>\n     <g id=\"text_4\">\n      <!-- 29600 -->\n      <defs>\n       <path d=\"M 33.015625 40.375 \nQ 26.375 40.375 22.484375 35.828125 \nQ 18.609375 31.296875 18.609375 23.390625 \nQ 18.609375 15.53125 22.484375 10.953125 \nQ 26.375 6.390625 33.015625 6.390625 \nQ 39.65625 6.390625 43.53125 10.953125 \nQ 47.40625 15.53125 47.40625 23.390625 \nQ 47.40625 31.296875 43.53125 35.828125 \nQ 39.65625 40.375 33.015625 40.375 \nz\nM 52.59375 71.296875 \nL 52.59375 62.3125 \nQ 48.875 64.0625 45.09375 64.984375 \nQ 41.3125 65.921875 37.59375 65.921875 \nQ 27.828125 65.921875 22.671875 59.328125 \nQ 17.53125 52.734375 16.796875 39.40625 \nQ 19.671875 43.65625 24.015625 45.921875 \nQ 28.375 48.1875 33.59375 48.1875 \nQ 44.578125 48.1875 50.953125 41.515625 \nQ 57.328125 34.859375 57.328125 23.390625 \nQ 57.328125 12.15625 50.6875 5.359375 \nQ 44.046875 -1.421875 33.015625 -1.421875 \nQ 20.359375 -1.421875 13.671875 8.265625 \nQ 6.984375 17.96875 6.984375 36.375 \nQ 6.984375 53.65625 15.1875 63.9375 \nQ 23.390625 74.21875 37.203125 74.21875 \nQ 40.921875 74.21875 44.703125 73.484375 \nQ 48.484375 72.75 52.59375 71.296875 \nz\n\" id=\"DejaVuSans-54\"/>\n      </defs>\n      <g transform=\"translate(690.170132 565.398438)scale(0.1 -0.1)\">\n       <use xlink:href=\"#DejaVuSans-50\"/>\n       <use x=\"63.623047\" xlink:href=\"#DejaVuSans-57\"/>\n       <use x=\"127.246094\" xlink:href=\"#DejaVuSans-54\"/>\n       <use x=\"190.869141\" xlink:href=\"#DejaVuSans-48\"/>\n       <use x=\"254.492188\" xlink:href=\"#DejaVuSans-48\"/>\n      </g>\n     </g>\n    </g>\n    <g id=\"xtick_5\">\n     <g id=\"line2d_5\">\n      <g>\n       <use style=\"stroke:#000000;stroke-width:0.8;\" x=\"909.188585\" xlink:href=\"#me88b894bac\" y=\"550.8\"/>\n      </g>\n     </g>\n     <g id=\"text_5\">\n      <!-- 29800 -->\n      <defs>\n       <path d=\"M 31.78125 34.625 \nQ 24.75 34.625 20.71875 30.859375 \nQ 16.703125 27.09375 16.703125 20.515625 \nQ 16.703125 13.921875 20.71875 10.15625 \nQ 24.75 6.390625 31.78125 6.390625 \nQ 38.8125 6.390625 42.859375 10.171875 \nQ 46.921875 13.96875 46.921875 20.515625 \nQ 46.921875 27.09375 42.890625 30.859375 \nQ 38.875 34.625 31.78125 34.625 \nz\nM 21.921875 38.8125 \nQ 15.578125 40.375 12.03125 44.71875 \nQ 8.5 49.078125 8.5 55.328125 \nQ 8.5 64.0625 14.71875 69.140625 \nQ 20.953125 74.21875 31.78125 74.21875 \nQ 42.671875 74.21875 48.875 69.140625 \nQ 55.078125 64.0625 55.078125 55.328125 \nQ 55.078125 49.078125 51.53125 44.71875 \nQ 48 40.375 41.703125 38.8125 \nQ 48.828125 37.15625 52.796875 32.3125 \nQ 56.78125 27.484375 56.78125 20.515625 \nQ 56.78125 9.90625 50.3125 4.234375 \nQ 43.84375 -1.421875 31.78125 -1.421875 \nQ 19.734375 -1.421875 13.25 4.234375 \nQ 6.78125 9.90625 6.78125 20.515625 \nQ 6.78125 27.484375 10.78125 32.3125 \nQ 14.796875 37.15625 21.921875 38.8125 \nz\nM 18.3125 54.390625 \nQ 18.3125 48.734375 21.84375 45.5625 \nQ 25.390625 42.390625 31.78125 42.390625 \nQ 38.140625 42.390625 41.71875 45.5625 \nQ 45.3125 48.734375 45.3125 54.390625 \nQ 45.3125 60.0625 41.71875 63.234375 \nQ 38.140625 66.40625 31.78125 66.40625 \nQ 25.390625 66.40625 21.84375 63.234375 \nQ 18.3125 60.0625 18.3125 54.390625 \nz\n\" id=\"DejaVuSans-56\"/>\n      </defs>\n      <g transform=\"translate(893.282335 565.398438)scale(0.1 -0.1)\">\n       <use xlink:href=\"#DejaVuSans-50\"/>\n       <use x=\"63.623047\" xlink:href=\"#DejaVuSans-57\"/>\n       <use x=\"127.246094\" xlink:href=\"#DejaVuSans-56\"/>\n       <use x=\"190.869141\" xlink:href=\"#DejaVuSans-48\"/>\n       <use x=\"254.492188\" xlink:href=\"#DejaVuSans-48\"/>\n      </g>\n     </g>\n    </g>\n    <g id=\"xtick_6\">\n     <g id=\"line2d_6\">\n      <g>\n       <use style=\"stroke:#000000;stroke-width:0.8;\" x=\"1112.300788\" xlink:href=\"#me88b894bac\" y=\"550.8\"/>\n      </g>\n     </g>\n     <g id=\"text_6\">\n      <!-- 30000 -->\n      <defs>\n       <path d=\"M 40.578125 39.3125 \nQ 47.65625 37.796875 51.625 33 \nQ 55.609375 28.21875 55.609375 21.1875 \nQ 55.609375 10.40625 48.1875 4.484375 \nQ 40.765625 -1.421875 27.09375 -1.421875 \nQ 22.515625 -1.421875 17.65625 -0.515625 \nQ 12.796875 0.390625 7.625 2.203125 \nL 7.625 11.71875 \nQ 11.71875 9.328125 16.59375 8.109375 \nQ 21.484375 6.890625 26.8125 6.890625 \nQ 36.078125 6.890625 40.9375 10.546875 \nQ 45.796875 14.203125 45.796875 21.1875 \nQ 45.796875 27.640625 41.28125 31.265625 \nQ 36.765625 34.90625 28.71875 34.90625 \nL 20.21875 34.90625 \nL 20.21875 43.015625 \nL 29.109375 43.015625 \nQ 36.375 43.015625 40.234375 45.921875 \nQ 44.09375 48.828125 44.09375 54.296875 \nQ 44.09375 59.90625 40.109375 62.90625 \nQ 36.140625 65.921875 28.71875 65.921875 \nQ 24.65625 65.921875 20.015625 65.03125 \nQ 15.375 64.15625 9.8125 62.3125 \nL 9.8125 71.09375 \nQ 15.4375 72.65625 20.34375 73.4375 \nQ 25.25 74.21875 29.59375 74.21875 \nQ 40.828125 74.21875 47.359375 69.109375 \nQ 53.90625 64.015625 53.90625 55.328125 \nQ 53.90625 49.265625 50.4375 45.09375 \nQ 46.96875 40.921875 40.578125 39.3125 \nz\n\" id=\"DejaVuSans-51\"/>\n      </defs>\n      <g transform=\"translate(1096.394538 565.398438)scale(0.1 -0.1)\">\n       <use xlink:href=\"#DejaVuSans-51\"/>\n       <use x=\"63.623047\" xlink:href=\"#DejaVuSans-48\"/>\n       <use x=\"127.246094\" xlink:href=\"#DejaVuSans-48\"/>\n       <use x=\"190.869141\" xlink:href=\"#DejaVuSans-48\"/>\n       <use x=\"254.492188\" xlink:href=\"#DejaVuSans-48\"/>\n      </g>\n     </g>\n    </g>\n   </g>\n   <g id=\"matplotlib.axis_2\">\n    <g id=\"ytick_1\">\n     <g id=\"line2d_7\">\n      <defs>\n       <path d=\"M 0 0 \nL -3.5 0 \n\" id=\"m03682e9804\" style=\"stroke:#000000;stroke-width:0.8;\"/>\n      </defs>\n      <g>\n       <use style=\"stroke:#000000;stroke-width:0.8;\" x=\"46.0125\" xlink:href=\"#m03682e9804\" y=\"502.384138\"/>\n      </g>\n     </g>\n     <g id=\"text_7\">\n      <!-- 12700 -->\n      <defs>\n       <path d=\"M 12.40625 8.296875 \nL 28.515625 8.296875 \nL 28.515625 63.921875 \nL 10.984375 60.40625 \nL 10.984375 69.390625 \nL 28.421875 72.90625 \nL 38.28125 72.90625 \nL 38.28125 8.296875 \nL 54.390625 8.296875 \nL 54.390625 0 \nL 12.40625 0 \nz\n\" id=\"DejaVuSans-49\"/>\n       <path d=\"M 8.203125 72.90625 \nL 55.078125 72.90625 \nL 55.078125 68.703125 \nL 28.609375 0 \nL 18.3125 0 \nL 43.21875 64.59375 \nL 8.203125 64.59375 \nz\n\" id=\"DejaVuSans-55\"/>\n      </defs>\n      <g transform=\"translate(7.2 506.183357)scale(0.1 -0.1)\">\n       <use xlink:href=\"#DejaVuSans-49\"/>\n       <use x=\"63.623047\" xlink:href=\"#DejaVuSans-50\"/>\n       <use x=\"127.246094\" xlink:href=\"#DejaVuSans-55\"/>\n       <use x=\"190.869141\" xlink:href=\"#DejaVuSans-48\"/>\n       <use x=\"254.492188\" xlink:href=\"#DejaVuSans-48\"/>\n      </g>\n     </g>\n    </g>\n    <g id=\"ytick_2\">\n     <g id=\"line2d_8\">\n      <g>\n       <use style=\"stroke:#000000;stroke-width:0.8;\" x=\"46.0125\" xlink:href=\"#m03682e9804\" y=\"406.166404\"/>\n      </g>\n     </g>\n     <g id=\"text_8\">\n      <!-- 12800 -->\n      <g transform=\"translate(7.2 409.965623)scale(0.1 -0.1)\">\n       <use xlink:href=\"#DejaVuSans-49\"/>\n       <use x=\"63.623047\" xlink:href=\"#DejaVuSans-50\"/>\n       <use x=\"127.246094\" xlink:href=\"#DejaVuSans-56\"/>\n       <use x=\"190.869141\" xlink:href=\"#DejaVuSans-48\"/>\n       <use x=\"254.492188\" xlink:href=\"#DejaVuSans-48\"/>\n      </g>\n     </g>\n    </g>\n    <g id=\"ytick_3\">\n     <g id=\"line2d_9\">\n      <g>\n       <use style=\"stroke:#000000;stroke-width:0.8;\" x=\"46.0125\" xlink:href=\"#m03682e9804\" y=\"309.948669\"/>\n      </g>\n     </g>\n     <g id=\"text_9\">\n      <!-- 12900 -->\n      <g transform=\"translate(7.2 313.747888)scale(0.1 -0.1)\">\n       <use xlink:href=\"#DejaVuSans-49\"/>\n       <use x=\"63.623047\" xlink:href=\"#DejaVuSans-50\"/>\n       <use x=\"127.246094\" xlink:href=\"#DejaVuSans-57\"/>\n       <use x=\"190.869141\" xlink:href=\"#DejaVuSans-48\"/>\n       <use x=\"254.492188\" xlink:href=\"#DejaVuSans-48\"/>\n      </g>\n     </g>\n    </g>\n    <g id=\"ytick_4\">\n     <g id=\"line2d_10\">\n      <g>\n       <use style=\"stroke:#000000;stroke-width:0.8;\" x=\"46.0125\" xlink:href=\"#m03682e9804\" y=\"213.730934\"/>\n      </g>\n     </g>\n     <g id=\"text_10\">\n      <!-- 13000 -->\n      <g transform=\"translate(7.2 217.530153)scale(0.1 -0.1)\">\n       <use xlink:href=\"#DejaVuSans-49\"/>\n       <use x=\"63.623047\" xlink:href=\"#DejaVuSans-51\"/>\n       <use x=\"127.246094\" xlink:href=\"#DejaVuSans-48\"/>\n       <use x=\"190.869141\" xlink:href=\"#DejaVuSans-48\"/>\n       <use x=\"254.492188\" xlink:href=\"#DejaVuSans-48\"/>\n      </g>\n     </g>\n    </g>\n    <g id=\"ytick_5\">\n     <g id=\"line2d_11\">\n      <g>\n       <use style=\"stroke:#000000;stroke-width:0.8;\" x=\"46.0125\" xlink:href=\"#m03682e9804\" y=\"117.5132\"/>\n      </g>\n     </g>\n     <g id=\"text_11\">\n      <!-- 13100 -->\n      <g transform=\"translate(7.2 121.312419)scale(0.1 -0.1)\">\n       <use xlink:href=\"#DejaVuSans-49\"/>\n       <use x=\"63.623047\" xlink:href=\"#DejaVuSans-51\"/>\n       <use x=\"127.246094\" xlink:href=\"#DejaVuSans-49\"/>\n       <use x=\"190.869141\" xlink:href=\"#DejaVuSans-48\"/>\n       <use x=\"254.492188\" xlink:href=\"#DejaVuSans-48\"/>\n      </g>\n     </g>\n    </g>\n    <g id=\"ytick_6\">\n     <g id=\"line2d_12\">\n      <g>\n       <use style=\"stroke:#000000;stroke-width:0.8;\" x=\"46.0125\" xlink:href=\"#m03682e9804\" y=\"21.295465\"/>\n      </g>\n     </g>\n     <g id=\"text_12\">\n      <!-- 13200 -->\n      <g transform=\"translate(7.2 25.094684)scale(0.1 -0.1)\">\n       <use xlink:href=\"#DejaVuSans-49\"/>\n       <use x=\"63.623047\" xlink:href=\"#DejaVuSans-51\"/>\n       <use x=\"127.246094\" xlink:href=\"#DejaVuSans-50\"/>\n       <use x=\"190.869141\" xlink:href=\"#DejaVuSans-48\"/>\n       <use x=\"254.492188\" xlink:href=\"#DejaVuSans-48\"/>\n      </g>\n     </g>\n    </g>\n   </g>\n   <g id=\"line2d_13\">\n    <path clip-path=\"url(#p642dc0f2a5)\" d=\"M 96.739773 424.927909 \nL 97.755334 423.54285 \nL 99.786456 422.631545 \nL 101.817578 437.589282 \nL 102.833139 440.645112 \nL 103.8487 442.649305 \nL 104.864261 448.236176 \nL 105.879822 459.434231 \nL 106.895383 465.538402 \nL 107.910944 468.311456 \nL 108.926505 464.588821 \nL 110.957627 473.020643 \nL 111.973188 474.967974 \nL 112.988749 472.193958 \nL 114.00431 474.949124 \nL 115.019871 470.693158 \nL 117.050993 466.101216 \nL 118.066554 463.363429 \nL 119.082115 460.041315 \nL 120.097676 463.465366 \nL 121.113237 462.771948 \nL 122.128798 457.489269 \nL 123.144359 450.272776 \nL 124.15992 447.400595 \nL 125.175481 446.955548 \nL 126.191042 451.70267 \nL 127.206603 455.707121 \nL 128.222164 459.147802 \nL 129.237725 458.611837 \nL 130.253286 454.817474 \nL 131.268847 452.371852 \nL 132.284408 448.478999 \nL 133.299969 443.843286 \nL 134.31553 444.94116 \nL 135.331091 446.70244 \nL 136.346652 440.443724 \nL 137.362213 437.261446 \nL 139.393335 448.054162 \nL 140.408896 447.320818 \nL 141.424457 443.095815 \nL 142.440018 442.955777 \nL 143.455579 443.313927 \nL 144.47114 446.995327 \nL 145.486701 454.108759 \nL 146.502262 451.021641 \nL 148.533385 445.711525 \nL 149.548946 436.44113 \nL 150.564507 432.104208 \nL 151.580068 429.310331 \nL 152.595629 428.471456 \nL 153.61119 434.768016 \nL 154.626751 446.070749 \nL 155.642312 454.988708 \nL 156.657873 456.883484 \nL 158.688995 459.454369 \nL 159.704556 459.101882 \nL 160.720117 456.852147 \nL 161.735678 460.898982 \nL 162.751239 462.879102 \nL 163.7668 465.326861 \nL 164.782361 469.418029 \nL 165.797922 470.477381 \nL 166.813483 469.376166 \nL 167.829044 469.951306 \nL 168.844605 464.220457 \nL 169.860166 465.526071 \nL 171.891288 457.203432 \nL 172.906849 456.470607 \nL 173.92241 454.218326 \nL 174.937971 448.699846 \nL 175.953532 446.195583 \nL 176.969093 446.608019 \nL 177.984654 449.484278 \nL 179.000215 454.049485 \nL 180.015776 449.255273 \nL 181.031337 445.309062 \nL 182.046898 440.170393 \nL 183.062459 438.086958 \nL 184.07802 441.615583 \nL 185.093581 438.997178 \nL 186.109142 444.7696 \nL 187.124703 443.407799 \nL 188.140264 439.715283 \nL 189.155825 440.452471 \nL 191.186947 441.274772 \nL 192.202508 443.161381 \nL 193.218069 439.57283 \nL 194.23363 441.444451 \nL 195.249191 473.593294 \nL 196.264752 480.844549 \nL 197.280313 486.293503 \nL 198.295874 494.584176 \nL 199.311435 506.984994 \nL 200.326996 508.850794 \nL 201.342557 509.860668 \nL 202.358118 517.399122 \nL 203.373679 521.476245 \nL 204.38924 524.481795 \nL 205.404801 526.085599 \nL 206.420362 525.429802 \nL 207.435923 521.113679 \nL 208.451484 514.303489 \nL 209.467045 517.604771 \nL 210.482606 515.589516 \nL 211.498167 510.507067 \nL 212.513729 511.371951 \nL 213.52929 512.732894 \nL 214.544851 509.622387 \nL 215.560412 512.329579 \nL 216.575973 507.9053 \nL 217.591534 505.144719 \nL 218.607095 510.82681 \nL 219.622656 512.450702 \nL 220.638217 510.164436 \nL 221.653778 506.861216 \nL 222.669339 504.868032 \nL 223.6849 501.355347 \nL 224.700461 498.367417 \nL 225.716022 496.329822 \nL 227.747144 491.667333 \nL 228.762705 489.665079 \nL 229.778266 486.402835 \nL 231.809388 486.388056 \nL 232.824949 485.72169 \nL 233.84051 475.733058 \nL 234.856071 472.985425 \nL 235.871632 475.354479 \nL 236.887193 475.009144 \nL 237.902754 473.936841 \nL 238.918315 472.525108 \nL 239.933876 479.290548 \nL 240.949437 478.55515 \nL 241.964998 477.663064 \nL 242.980559 479.22316 \nL 245.011681 475.127717 \nL 246.027242 475.867562 \nL 247.042803 475.708287 \nL 248.058364 475.970223 \nL 249.073925 464.887013 \nL 250.089486 457.94063 \nL 251.105047 455.092853 \nL 252.120608 453.106091 \nL 253.136169 450.15468 \nL 254.15173 448.818489 \nL 255.167291 446.822589 \nL 256.182852 443.958015 \nL 257.198413 438.859833 \nL 259.229535 434.648919 \nL 260.245096 431.472701 \nL 261.260657 434.584828 \nL 262.276218 435.048821 \nL 263.291779 435.988017 \nL 264.30734 436.32291 \nL 265.322901 425.757269 \nL 266.338462 412.72411 \nL 267.354023 398.163727 \nL 268.369584 385.851349 \nL 269.385145 383.110889 \nL 270.400706 377.564809 \nL 271.416267 387.535809 \nL 272.431828 383.861712 \nL 273.447389 386.801874 \nL 274.46295 380.011663 \nL 275.478511 377.213107 \nL 276.494072 378.743659 \nL 277.509633 373.225917 \nL 278.525195 365.160638 \nL 279.540756 364.582215 \nL 280.556317 360.184507 \nL 281.571878 357.196667 \nL 282.587439 357.627102 \nL 283.603 361.238805 \nL 284.618561 366.378601 \nL 285.634122 369.102448 \nL 286.649683 370.473993 \nL 287.665244 364.669879 \nL 288.680805 353.026441 \nL 289.696366 345.645995 \nL 290.711927 344.471865 \nL 291.727488 339.925441 \nL 292.743049 332.894262 \nL 293.75861 321.421465 \nL 296.805293 260.120365 \nL 297.820854 283.648982 \nL 298.836415 293.695804 \nL 299.851976 311.953964 \nL 300.867537 333.557673 \nL 301.883098 363.636751 \nL 302.898659 385.858944 \nL 303.91422 382.114022 \nL 304.929781 377.229946 \nL 305.945342 386.887288 \nL 306.960903 379.693553 \nL 307.976464 386.507445 \nL 308.992025 386.695907 \nL 310.007586 383.648629 \nL 311.023147 371.786395 \nL 312.038708 361.919972 \nL 313.054269 349.16907 \nL 314.06983 318.82097 \nL 315.085391 322.452677 \nL 316.100952 314.483186 \nL 317.116513 313.914171 \nL 318.132074 298.662994 \nL 320.163196 284.056643 \nL 321.178757 284.98025 \nL 322.194318 292.696871 \nL 323.209879 289.65637 \nL 324.22544 293.471392 \nL 325.241001 299.030367 \nL 326.256562 294.011407 \nL 327.272123 305.780638 \nL 328.287684 302.870953 \nL 329.303245 301.762495 \nL 330.318806 295.271631 \nL 331.334367 297.525043 \nL 332.349928 306.570468 \nL 333.365489 306.291916 \nL 334.38105 303.299784 \nL 335.396611 299.706171 \nL 336.412172 292.627012 \nL 337.427733 283.660751 \nL 338.443294 280.712294 \nL 339.458855 276.409264 \nL 340.474416 266.916336 \nL 341.489977 269.843236 \nL 343.5211 262.005307 \nL 344.536661 254.706224 \nL 345.552222 260.919001 \nL 346.567783 251.165889 \nL 347.583344 232.448412 \nL 348.598905 233.54373 \nL 349.614466 244.011438 \nL 350.630027 250.601961 \nL 351.645588 253.401702 \nL 352.661149 247.998978 \nL 353.67671 236.435963 \nL 354.692271 226.964506 \nL 355.707832 219.5876 \nL 356.723393 221.268097 \nL 357.738954 223.806588 \nL 358.754515 219.230606 \nL 359.770076 216.706882 \nL 360.785637 208.238312 \nL 361.801198 194.425551 \nL 362.816759 183.487647 \nL 363.83232 164.69735 \nL 364.847881 160.517203 \nL 365.863442 144.364908 \nL 366.879003 134.999442 \nL 367.894564 131.062397 \nL 368.910125 144.921692 \nL 369.925686 155.661561 \nL 370.941247 159.924992 \nL 371.956808 168.065505 \nL 372.972369 159.088637 \nL 373.98793 159.083949 \nL 375.003491 146.84752 \nL 376.019052 137.866828 \nL 377.034613 134.911155 \nL 378.050174 132.817525 \nL 379.065735 121.393627 \nL 380.081296 114.642527 \nL 381.096857 109.559112 \nL 382.112418 102.860798 \nL 383.127979 100.560415 \nL 384.14354 98.900269 \nL 385.159101 88.963187 \nL 386.174662 75.132993 \nL 387.190223 65.668126 \nL 388.205784 58.746739 \nL 389.221345 40.507002 \nL 390.236906 37.395931 \nL 391.252467 41.079451 \nL 392.268028 31.909091 \nL 393.283589 39.048042 \nL 394.29915 88.619217 \nL 395.314711 157.520635 \nL 396.330272 198.369824 \nL 397.345833 226.328267 \nL 398.361394 314.722284 \nL 399.376955 365.693021 \nL 400.392516 365.608527 \nL 401.408077 363.512031 \nL 402.423638 359.812985 \nL 403.439199 346.956153 \nL 404.45476 335.938151 \nL 405.470321 327.643646 \nL 406.485882 329.683194 \nL 407.501443 336.937878 \nL 408.517005 353.876943 \nL 409.532566 347.062288 \nL 410.548127 358.015458 \nL 411.563688 359.08046 \nL 412.579249 369.566685 \nL 413.59481 399.739813 \nL 414.610371 400.037711 \nL 415.625932 385.465347 \nL 416.641493 376.36546 \nL 417.657054 363.815012 \nL 418.672615 348.139316 \nL 419.688176 345.386575 \nL 420.703737 353.684897 \nL 421.719298 352.263052 \nL 422.734859 359.076356 \nL 423.75042 362.203977 \nL 424.765981 359.057929 \nL 425.781542 358.091077 \nL 426.797103 354.754795 \nL 427.812664 356.439842 \nL 428.828225 353.909934 \nL 429.843786 345.317999 \nL 430.859347 341.161548 \nL 431.874908 350.942158 \nL 432.890469 362.442621 \nL 433.90603 372.277296 \nL 434.921591 392.060273 \nL 435.937152 396.043993 \nL 436.952713 403.847404 \nL 437.968274 405.006904 \nL 438.983835 409.117845 \nL 439.999396 414.396609 \nL 442.030518 421.078645 \nL 443.046079 418.077405 \nL 444.06164 409.576945 \nL 445.077201 397.720704 \nL 446.092762 398.532635 \nL 447.108323 395.67682 \nL 448.123884 394.662648 \nL 449.139445 393.934261 \nL 450.155006 392.367347 \nL 451.170567 392.170817 \nL 452.186128 397.061442 \nL 453.201689 410.773851 \nL 454.21725 404.789799 \nL 455.232811 395.803408 \nL 457.263933 364.042193 \nL 458.279494 357.254075 \nL 459.295055 357.987757 \nL 460.310616 354.424103 \nL 461.326177 348.735837 \nL 462.341738 337.188809 \nL 463.357299 336.890085 \nL 464.37286 334.248683 \nL 465.388421 326.909563 \nL 466.403982 322.441395 \nL 467.419543 320.216934 \nL 468.435104 317.416081 \nL 469.450665 315.135263 \nL 470.466226 302.400617 \nL 471.481787 299.198857 \nL 472.497348 294.283276 \nL 473.51291 298.623269 \nL 474.528471 306.773198 \nL 475.544032 308.466773 \nL 476.559593 312.378095 \nL 477.575154 313.717963 \nL 478.590715 317.029074 \nL 479.606276 330.235568 \nL 480.621837 336.497242 \nL 481.637398 338.151137 \nL 482.652959 338.35748 \nL 483.66852 347.736042 \nL 484.684081 344.540279 \nL 485.699642 340.67647 \nL 486.715203 341.611854 \nL 487.730764 336.78757 \nL 488.746325 340.696934 \nL 489.761886 343.238544 \nL 490.777447 339.982304 \nL 491.793008 344.031031 \nL 492.808569 351.053905 \nL 493.82413 356.489697 \nL 494.839691 359.650195 \nL 495.855252 355.096563 \nL 496.870813 344.049501 \nL 497.886374 337.318437 \nL 498.901935 335.343251 \nL 499.917496 336.602343 \nL 500.933057 334.354978 \nL 501.948618 328.848578 \nL 502.964179 328.27471 \nL 503.97974 321.521944 \nL 504.995301 320.757872 \nL 506.010862 322.757225 \nL 507.026423 327.639288 \nL 508.041984 326.510641 \nL 509.057545 324.156667 \nL 510.073106 323.157684 \nL 511.088667 322.340673 \nL 512.104228 317.082794 \nL 513.119789 315.589224 \nL 514.13535 310.358692 \nL 515.150911 313.631952 \nL 517.182033 312.471515 \nL 518.197594 314.467062 \nL 519.213155 315.527378 \nL 520.228716 319.776351 \nL 521.244277 327.168758 \nL 522.259838 333.275216 \nL 523.275399 340.8603 \nL 524.29096 340.611698 \nL 525.306521 347.251503 \nL 527.337643 350.218001 \nL 529.368765 345.754246 \nL 530.384326 347.229709 \nL 531.399887 350.252612 \nL 532.415448 349.344188 \nL 533.431009 344.714126 \nL 536.477692 320.289919 \nL 537.493253 323.475804 \nL 538.508814 325.227506 \nL 539.524376 322.341244 \nL 540.539937 321.489852 \nL 541.555498 325.932773 \nL 542.571059 319.980537 \nL 543.58662 317.331559 \nL 544.602181 320.760227 \nL 545.617742 316.331058 \nL 546.633303 314.183826 \nL 547.648864 315.866848 \nL 548.664425 317.2568 \nL 549.679986 321.997732 \nL 550.695547 327.682899 \nL 551.711108 334.201 \nL 552.726669 334.438813 \nL 553.74223 341.34107 \nL 554.757791 339.023946 \nL 555.773352 343.104439 \nL 556.788913 340.742724 \nL 557.804474 344.541135 \nL 558.820035 346.652019 \nL 559.835596 352.075746 \nL 560.851157 345.661358 \nL 561.866718 344.099487 \nL 562.882279 343.323362 \nL 563.89784 340.741536 \nL 564.913401 341.865687 \nL 565.928962 342.432574 \nL 566.944523 339.627428 \nL 567.960084 335.713573 \nL 569.991206 326.786221 \nL 571.006767 326.545953 \nL 572.022328 331.405086 \nL 573.037889 337.534225 \nL 574.05345 346.256397 \nL 575.069011 353.167253 \nL 576.084572 351.046863 \nL 577.100133 355.730867 \nL 579.131255 366.462606 \nL 581.162377 370.814918 \nL 582.177938 372.499273 \nL 583.193499 372.802632 \nL 584.20906 376.014035 \nL 585.224621 390.488859 \nL 586.240182 402.873919 \nL 587.255743 402.725701 \nL 588.271304 405.095522 \nL 589.286865 402.450967 \nL 590.302426 404.905235 \nL 591.317987 403.37092 \nL 592.333548 402.319921 \nL 593.349109 407.625216 \nL 594.36467 411.701886 \nL 595.380231 411.339588 \nL 596.395792 422.213857 \nL 597.411353 425.659284 \nL 598.426914 427.357944 \nL 599.442475 430.487634 \nL 600.458036 433.024278 \nL 601.473597 431.9064 \nL 602.489158 448.878332 \nL 603.504719 463.108497 \nL 604.520281 482.746318 \nL 605.535842 483.852712 \nL 607.566964 458.727774 \nL 608.582525 449.689307 \nL 609.598086 455.345099 \nL 610.613647 454.805374 \nL 611.629208 462.44461 \nL 612.644769 463.993489 \nL 613.66033 462.670382 \nL 614.675891 460.089284 \nL 615.691452 448.426464 \nL 617.722574 441.99098 \nL 618.738135 442.076219 \nL 619.753696 436.53821 \nL 621.784818 432.223539 \nL 622.800379 428.215384 \nL 623.81594 426.730882 \nL 624.831501 428.14872 \nL 625.847062 427.428805 \nL 626.862623 430.152626 \nL 628.893745 439.633123 \nL 629.909306 443.346032 \nL 630.924867 433.497599 \nL 631.940428 426.7693 \nL 632.955989 428.206416 \nL 633.97155 426.389636 \nL 634.987111 422.383035 \nL 636.002672 417.358498 \nL 637.018233 416.303928 \nL 638.033794 416.378004 \nL 639.049355 418.108474 \nL 640.064916 414.542882 \nL 641.080477 414.56898 \nL 642.096038 418.103598 \nL 643.111599 423.20004 \nL 644.12716 427.133797 \nL 645.142721 426.334415 \nL 646.158282 427.166312 \nL 647.173843 423.993338 \nL 648.189404 421.945006 \nL 649.204965 425.96265 \nL 650.220526 430.492376 \nL 651.236087 431.006076 \nL 652.251648 427.250647 \nL 653.267209 428.495198 \nL 654.28277 431.75865 \nL 655.298331 433.635732 \nL 656.313892 425.573103 \nL 657.329453 422.734889 \nL 659.360575 411.862441 \nL 660.376136 409.524377 \nL 662.407258 414.376175 \nL 663.422819 417.660812 \nL 664.43838 423.945635 \nL 665.453941 427.468107 \nL 666.469502 431.875331 \nL 667.485063 430.437102 \nL 669.516186 427.044393 \nL 670.531747 426.130954 \nL 671.547308 429.138073 \nL 672.562869 435.274517 \nL 673.57843 442.451236 \nL 674.593991 447.785947 \nL 675.609552 451.732999 \nL 676.625113 452.527857 \nL 677.640674 449.220904 \nL 678.656235 448.837501 \nL 679.671796 440.972435 \nL 680.687357 441.162832 \nL 681.702918 445.37615 \nL 682.718479 448.1419 \nL 683.73404 449.630615 \nL 684.749601 448.339967 \nL 685.765162 444.851409 \nL 686.780723 443.121563 \nL 687.796284 441.780362 \nL 688.811845 441.340684 \nL 690.842967 437.830929 \nL 691.858528 434.718651 \nL 692.874089 445.920984 \nL 693.88965 463.323255 \nL 694.905211 475.132224 \nL 695.920772 477.159133 \nL 696.936333 480.986957 \nL 697.951894 475.679727 \nL 699.983016 457.045344 \nL 702.014138 451.342786 \nL 703.029699 449.672331 \nL 704.04526 452.156615 \nL 705.060821 451.926625 \nL 706.076382 450.681072 \nL 707.091943 445.261842 \nL 708.107504 444.57761 \nL 709.123065 445.221725 \nL 710.138626 444.596039 \nL 711.154187 445.120289 \nL 712.169748 445.868314 \nL 713.185309 442.504268 \nL 714.20087 437.733655 \nL 715.216431 436.690587 \nL 716.231992 438.064542 \nL 717.247553 438.640869 \nL 718.263114 438.650001 \nL 719.278675 439.005761 \nL 720.294236 440.242037 \nL 721.309797 442.750853 \nL 722.325358 450.432606 \nL 724.35648 458.608986 \nL 725.372041 464.15398 \nL 726.387602 472.545593 \nL 728.418724 479.267471 \nL 729.434285 487.323479 \nL 730.449846 487.4258 \nL 731.465407 485.36017 \nL 732.480968 489.826198 \nL 733.496529 493.281178 \nL 734.51209 497.308272 \nL 735.527652 500.567838 \nL 736.543213 499.91245 \nL 737.558774 499.623243 \nL 738.574335 494.715862 \nL 739.589896 493.301323 \nL 740.605457 489.798928 \nL 741.621018 489.808515 \nL 742.636579 486.142602 \nL 743.65214 480.691859 \nL 744.667701 471.548764 \nL 745.683262 466.12569 \nL 746.698823 461.937211 \nL 747.714384 462.921939 \nL 748.729945 459.589648 \nL 749.745506 461.089065 \nL 750.761067 460.539835 \nL 751.776628 456.801381 \nL 752.792189 456.683317 \nL 753.80775 455.29167 \nL 754.823311 452.349162 \nL 755.838872 451.787165 \nL 756.854433 451.645683 \nL 757.869994 451.757755 \nL 758.885555 460.27133 \nL 759.901116 474.068106 \nL 761.932238 487.542765 \nL 762.947799 490.099645 \nL 763.96336 483.31985 \nL 764.978921 480.733371 \nL 765.994482 478.526062 \nL 767.010043 481.617501 \nL 768.025604 479.261592 \nL 769.041165 476.399827 \nL 771.072287 472.569693 \nL 772.087848 467.487681 \nL 773.103409 458.023809 \nL 774.11897 450.280258 \nL 775.134531 446.249724 \nL 776.150092 445.461232 \nL 777.165653 441.819638 \nL 778.181214 439.955543 \nL 780.212336 444.551837 \nL 781.227897 445.882363 \nL 782.243458 439.855683 \nL 783.259019 432.310487 \nL 784.27458 429.399038 \nL 785.290141 425.229974 \nL 786.305702 427.730216 \nL 787.321263 421.759197 \nL 788.336824 420.731718 \nL 789.352385 423.907929 \nL 790.367946 424.283691 \nL 791.383507 422.080561 \nL 792.399068 423.557631 \nL 793.414629 425.551808 \nL 794.43019 426.356461 \nL 795.445751 425.888017 \nL 796.461312 426.538998 \nL 798.492434 430.623371 \nL 799.507995 433.279771 \nL 800.523557 438.091053 \nL 801.539118 440.020416 \nL 802.554679 434.346074 \nL 803.57024 429.48352 \nL 804.585801 426.460503 \nL 805.601362 422.702311 \nL 806.616923 417.8116 \nL 807.632484 421.129687 \nL 808.648045 427.200313 \nL 809.663606 431.924248 \nL 810.679167 437.374804 \nL 812.710289 444.152007 \nL 813.72585 445.153251 \nL 814.741411 445.066944 \nL 815.756972 441.531087 \nL 816.772533 440.504035 \nL 817.788094 438.662705 \nL 818.803655 440.662248 \nL 819.819216 430.76055 \nL 820.834777 425.69905 \nL 821.850338 426.006724 \nL 822.865899 429.292448 \nL 823.88146 436.025228 \nL 824.897021 436.230866 \nL 825.912582 437.238131 \nL 826.928143 433.445642 \nL 827.943704 433.276506 \nL 828.959265 432.22976 \nL 832.005948 423.363868 \nL 833.021509 422.260497 \nL 834.03707 419.183097 \nL 835.052631 417.904184 \nL 836.068192 415.773353 \nL 837.083753 415.270811 \nL 838.099314 412.715125 \nL 839.114875 411.129386 \nL 840.130436 412.010705 \nL 841.145997 410.137328 \nL 842.161558 409.806811 \nL 843.177119 409.299979 \nL 844.19268 404.981364 \nL 845.208241 399.382273 \nL 846.223802 396.549051 \nL 847.239363 397.537883 \nL 848.254924 398.840528 \nL 849.270485 396.023202 \nL 850.286046 400.531929 \nL 851.301607 401.925144 \nL 852.317168 403.660903 \nL 853.332729 404.610568 \nL 854.34829 408.972596 \nL 855.363851 409.835428 \nL 856.379412 412.811802 \nL 857.394973 416.748731 \nL 858.410534 416.802463 \nL 859.426095 420.384574 \nL 860.441656 422.570122 \nL 861.457217 421.945409 \nL 862.472778 421.108667 \nL 863.488339 420.887542 \nL 864.5039 416.764699 \nL 865.519462 416.863367 \nL 867.550584 412.694165 \nL 868.566145 411.311341 \nL 869.581706 406.631704 \nL 870.597267 399.663812 \nL 871.612828 396.001864 \nL 872.628389 393.386715 \nL 873.64395 391.116963 \nL 874.659511 394.215668 \nL 875.675072 397.852945 \nL 876.690633 400.566408 \nL 877.706194 399.310829 \nL 878.721755 396.960741 \nL 879.737316 396.358193 \nL 880.752877 399.174374 \nL 882.783999 412.736419 \nL 883.79956 414.262298 \nL 884.815121 419.143357 \nL 885.830682 418.904222 \nL 886.846243 419.429314 \nL 888.877365 422.71207 \nL 889.892926 420.948367 \nL 890.908487 418.551086 \nL 891.924048 416.813626 \nL 892.939609 413.375882 \nL 893.95517 408.703126 \nL 894.970731 408.38251 \nL 895.986292 413.716234 \nL 897.001853 414.752206 \nL 898.017414 419.960806 \nL 899.032975 427.068096 \nL 901.064097 437.007393 \nL 902.079658 439.319827 \nL 903.095219 433.808155 \nL 904.11078 432.024118 \nL 905.126341 430.665443 \nL 906.141902 430.284381 \nL 907.157463 429.776332 \nL 908.173024 431.533257 \nL 910.204146 421.817183 \nL 911.219707 424.821099 \nL 912.235268 431.942173 \nL 913.250829 431.552972 \nL 914.26639 428.481462 \nL 915.281951 428.7546 \nL 916.297512 424.623912 \nL 917.313073 423.920049 \nL 918.328634 421.095322 \nL 919.344195 419.370251 \nL 920.359756 421.639602 \nL 921.375317 423.27461 \nL 922.390878 427.118162 \nL 923.406439 430.24266 \nL 924.422 432.079129 \nL 925.437561 433.180178 \nL 926.453122 438.142285 \nL 927.468683 445.366873 \nL 928.484244 450.691842 \nL 929.499805 459.39199 \nL 930.515367 458.950421 \nL 931.530928 462.87181 \nL 933.56205 474.022629 \nL 934.577611 472.163888 \nL 935.593172 466.741148 \nL 936.608733 465.39126 \nL 937.624294 468.21383 \nL 938.639855 462.519436 \nL 939.655416 459.527912 \nL 940.670977 456.155904 \nL 941.686538 455.460943 \nL 942.702099 452.284661 \nL 943.71766 450.253918 \nL 944.733221 444.009113 \nL 945.748782 442.965014 \nL 946.764343 439.917248 \nL 947.779904 438.941807 \nL 948.795465 433.311248 \nL 949.811026 425.054856 \nL 950.826587 425.266079 \nL 951.842148 424.048697 \nL 952.857709 421.789872 \nL 953.87327 423.86451 \nL 954.888831 422.549306 \nL 955.904392 423.998872 \nL 956.919953 425.791672 \nL 957.935514 426.928616 \nL 958.951075 429.031761 \nL 959.966636 434.855733 \nL 960.982197 439.850833 \nL 961.997758 440.640518 \nL 963.013319 436.051282 \nL 964.02888 423.735587 \nL 965.044441 421.176283 \nL 967.075563 406.551253 \nL 969.106685 388.16406 \nL 970.122246 388.024547 \nL 971.137807 383.466233 \nL 972.153368 377.718427 \nL 973.168929 374.247974 \nL 974.18449 373.527845 \nL 975.200051 372.633771 \nL 976.215612 373.043073 \nL 977.231173 377.091622 \nL 978.246734 378.976381 \nL 979.262295 378.797824 \nL 980.277856 378.049453 \nL 981.293417 376.232002 \nL 982.308978 376.766543 \nL 983.324539 381.426153 \nL 984.3401 379.498323 \nL 985.355661 372.761344 \nL 986.371222 366.867139 \nL 987.386783 367.148141 \nL 988.402344 366.740202 \nL 989.417905 365.694326 \nL 990.433466 362.318533 \nL 991.449027 363.026458 \nL 992.464588 367.378267 \nL 994.49571 379.003445 \nL 995.511271 383.49716 \nL 996.526833 385.917209 \nL 997.542394 380.300585 \nL 998.557955 379.777444 \nL 1000.589077 385.802811 \nL 1001.604638 391.231452 \nL 1002.620199 390.097062 \nL 1003.63576 389.76079 \nL 1004.651321 388.202308 \nL 1005.666882 439.544213 \nL 1006.682443 450.758452 \nL 1007.698004 447.744462 \nL 1009.729126 443.456181 \nL 1010.744687 435.428919 \nL 1011.760248 428.846275 \nL 1012.775809 429.61053 \nL 1013.79137 430.136985 \nL 1014.806931 428.278611 \nL 1015.822492 423.491093 \nL 1016.838053 418.027988 \nL 1017.853614 414.974106 \nL 1018.869175 411.532432 \nL 1019.884736 404.548485 \nL 1020.900297 385.627998 \nL 1021.915858 377.134743 \nL 1022.931419 347.885937 \nL 1023.94698 346.573257 \nL 1024.962541 349.24124 \nL 1025.978102 352.850781 \nL 1026.993663 353.443208 \nL 1028.009224 358.434847 \nL 1029.024785 361.835113 \nL 1030.040346 363.366865 \nL 1031.055907 361.212533 \nL 1032.071468 356.62342 \nL 1033.087029 347.035559 \nL 1034.10259 342.775637 \nL 1035.118151 341.75699 \nL 1036.133712 339.809212 \nL 1037.149273 340.11983 \nL 1038.164834 339.972053 \nL 1039.180395 340.374442 \nL 1040.195956 340.527528 \nL 1041.211517 336.418599 \nL 1042.227078 331.2996 \nL 1043.242639 329.235622 \nL 1045.273761 330.307166 \nL 1046.289322 335.195615 \nL 1047.304883 343.037654 \nL 1048.320444 345.193078 \nL 1049.336005 353.068573 \nL 1051.367127 353.483568 \nL 1052.382688 356.756784 \nL 1053.398249 356.276602 \nL 1054.41381 351.317031 \nL 1055.429371 354.129221 \nL 1056.444932 353.086574 \nL 1057.460493 354.018139 \nL 1058.476054 355.104526 \nL 1059.491615 348.590148 \nL 1061.522738 340.760102 \nL 1062.538299 338.040694 \nL 1063.55386 341.72761 \nL 1064.569421 349.411485 \nL 1065.584982 354.388791 \nL 1066.600543 354.779898 \nL 1067.616104 352.069676 \nL 1068.631665 351.186031 \nL 1069.647226 347.458374 \nL 1070.662787 348.428157 \nL 1071.678348 350.952865 \nL 1072.693909 347.346601 \nL 1073.70947 350.508304 \nL 1074.725031 352.608732 \nL 1075.740592 335.276547 \nL 1076.756153 326.225584 \nL 1077.771714 327.906146 \nL 1078.787275 326.706612 \nL 1079.802836 318.0005 \nL 1080.818397 311.318975 \nL 1081.833958 301.502759 \nL 1082.849519 296.257889 \nL 1083.86508 288.670619 \nL 1084.880641 284.395895 \nL 1085.896202 282.734811 \nL 1086.911763 277.24252 \nL 1087.927324 267.919892 \nL 1088.942885 262.662028 \nL 1089.958446 265.161501 \nL 1090.974007 251.473435 \nL 1091.989568 248.160592 \nL 1093.005129 254.326673 \nL 1094.02069 251.169993 \nL 1095.036251 243.914807 \nL 1096.051812 247.15716 \nL 1097.067373 248.09038 \nL 1098.082934 249.663494 \nL 1099.098495 253.341393 \nL 1101.129617 247.99588 \nL 1102.145178 250.005925 \nL 1104.1763 263.215942 \nL 1105.191861 273.405287 \nL 1106.207422 265.217101 \nL 1107.222983 263.557317 \nL 1108.238544 260.37009 \nL 1109.254105 263.510389 \nL 1110.269666 260.274463 \nL 1111.285227 259.724517 \nL 1111.285227 259.724517 \n\" style=\"fill:none;stroke:#0000ff;stroke-linecap:square;stroke-width:1.5;\"/>\n   </g>\n   <g id=\"patch_3\">\n    <path d=\"M 46.0125 550.8 \nL 46.0125 7.2 \n\" style=\"fill:none;stroke:#000000;stroke-linecap:square;stroke-linejoin:miter;stroke-width:0.8;\"/>\n   </g>\n   <g id=\"patch_4\">\n    <path d=\"M 1162.0125 550.8 \nL 1162.0125 7.2 \n\" style=\"fill:none;stroke:#000000;stroke-linecap:square;stroke-linejoin:miter;stroke-width:0.8;\"/>\n   </g>\n   <g id=\"patch_5\">\n    <path d=\"M 46.0125 550.8 \nL 1162.0125 550.8 \n\" style=\"fill:none;stroke:#000000;stroke-linecap:square;stroke-linejoin:miter;stroke-width:0.8;\"/>\n   </g>\n   <g id=\"patch_6\">\n    <path d=\"M 46.0125 7.2 \nL 1162.0125 7.2 \n\" style=\"fill:none;stroke:#000000;stroke-linecap:square;stroke-linejoin:miter;stroke-width:0.8;\"/>\n   </g>\n  </g>\n </g>\n <defs>\n  <clipPath id=\"p642dc0f2a5\">\n   <rect height=\"543.6\" width=\"1116\" x=\"46.0125\" y=\"7.2\"/>\n  </clipPath>\n </defs>\n</svg>\n",
      "image/png": "[encoded data removed]"
     },
     "metadata": {
      "needs_background": "light"
     }
    }
   ]
  },
  {
   "cell_type": "code",
   "execution_count": 34,
   "metadata": {},
   "outputs": [],
   "source": [
    "# plt.figure(figsize=(20,10))\n",
    "# plt.plot(first_amnt.index, first_amnt['count'].rolling(480).mean(), color='purple')\n",
    "# plt.plot(first_amnt.index, first_amnt['count'].rolling(1440).mean(), color='blue')\n",
    "# plt.plot(first_amnt.index, first_amnt['count'].rolling(4320).mean(), color='orange')\n",
    "# plt.show()"
   ]
  },
  {
   "cell_type": "code",
   "execution_count": 35,
   "metadata": {},
   "outputs": [],
   "source": [
    "from v2.research.scripts import notebook_utils as nu"
   ]
  },
  {
   "cell_type": "code",
   "execution_count": 38,
   "metadata": {},
   "outputs": [],
   "source": []
  },
  {
   "cell_type": "code",
   "execution_count": 36,
   "metadata": {},
   "outputs": [],
   "source": [
    "test_coin, test_freq = 'COMP', 1"
   ]
  },
  {
   "cell_type": "code",
   "execution_count": 37,
   "metadata": {},
   "outputs": [
    {
     "output_type": "stream",
     "name": "stdout",
     "text": [
      "Loading data from COMPUSDT-1m...\nLoading data from chunk 0...\n"
     ]
    }
   ],
   "source": [
    "test_dataset, test_features, test_scaler = nu.loadData(indicators=['cci', 'psar'],\n",
    "                            param_spec={},\n",
    "                            test=True,\n",
    "                            test_coin=test_coin,\n",
    "                            test_freq=test_freq,\n",
    "                            spans=[{'indicator_name':'momentum',\n",
    "                                    'column_name': 'CCI',\n",
    "                                    'param_name': 'period',\n",
    "                                    'param_values': [1,5,10]},\n",
    "                                    {'indicator_name':'roc',\n",
    "                                    'column_name': 'close',\n",
    "                                    'param_name': 'period',\n",
    "                                    'param_values': [1,5,10]},\n",
    "                                    {'indicator_name':'momentum',\n",
    "                                    'column_name': 'close',\n",
    "                                    'param_name': 'period',\n",
    "                                    'param_values': [1,5,10]},\n",
    "                                    {'indicator_name':'momentum',\n",
    "                                    'column_name': 'close',\n",
    "                                    'param_name': 'period',\n",
    "                                    'param_values': [1,5,10]},\n",
    "                                    {'indicator_name':'roc',\n",
    "                                    'column_name': 'PSAR',\n",
    "                                    'param_name': 'period',\n",
    "                                    'param_values': [1,5,10]},\n",
    "                                    {'indicator_name':'momentum',\n",
    "                                    'column_name': 'PSAR',\n",
    "                                    'param_name': 'period',\n",
    "                                    'param_values': [1,5,10]}\n",
    "                                    ],\n",
    "\n",
    "                            scale='minmax')"
   ]
  },
  {
   "cell_type": "code",
   "execution_count": 38,
   "metadata": {},
   "outputs": [
    {
     "output_type": "execute_result",
     "data": {
      "text/plain": [
       "[[MinMaxScaler(copy=True, feature_range=(0, 1)), 'BTCUSDT-1m']]"
      ]
     },
     "metadata": {},
     "execution_count": 38
    }
   ],
   "source": [
    "scalers"
   ]
  },
  {
   "cell_type": "code",
   "execution_count": null,
   "metadata": {},
   "outputs": [],
   "source": []
  },
  {
   "cell_type": "code",
   "execution_count": 40,
   "metadata": {},
   "outputs": [],
   "source": [
    "model_dir, model_files, scaler_files = nu.saveModels([[clf_buy, 'clf_buy']], scalers + test_scaler, 'test_133')"
   ]
  },
  {
   "cell_type": "code",
   "execution_count": 41,
   "metadata": {},
   "outputs": [
    {
     "output_type": "execute_result",
     "data": {
      "text/plain": [
       "['model_test_133_clf_buy.sav']"
      ]
     },
     "metadata": {},
     "execution_count": 41
    }
   ],
   "source": [
    "model_files"
   ]
  },
  {
   "cell_type": "code",
   "execution_count": 43,
   "metadata": {},
   "outputs": [
    {
     "output_type": "execute_result",
     "data": {
      "text/plain": [
       "['CCI',\n",
       " 'PSAR',\n",
       " 'Momentum_CCI_period_1',\n",
       " 'Momentum_CCI_period_5',\n",
       " 'Momentum_CCI_period_10',\n",
       " 'RateOfChange_close_period_1',\n",
       " 'RateOfChange_close_period_5',\n",
       " 'RateOfChange_close_period_10',\n",
       " 'Momentum_close_period_1',\n",
       " 'Momentum_close_period_5',\n",
       " 'Momentum_close_period_10',\n",
       " 'Momentum_close_period_1',\n",
       " 'Momentum_close_period_5',\n",
       " 'Momentum_close_period_10',\n",
       " 'Momentum_PSAR_period_1',\n",
       " 'Momentum_PSAR_period_5',\n",
       " 'Momentum_PSAR_period_10']"
      ]
     },
     "metadata": {},
     "execution_count": 43
    }
   ],
   "source": [
    "test_features"
   ]
  },
  {
   "cell_type": "code",
   "execution_count": 42,
   "metadata": {},
   "outputs": [
    {
     "output_type": "stream",
     "name": "stdout",
     "text": [
      "Running benchmark...\n"
     ]
    },
    {
     "output_type": "error",
     "ename": "TypeError",
     "evalue": "tuple indices must be integers or slices, not list",
     "traceback": [
      "\u001b[0;31m---------------------------------------------------------------------------\u001b[0m",
      "\u001b[0;31mTypeError\u001b[0m                                 Traceback (most recent call last)",
      "\u001b[0;32m<ipython-input-42-bd842007edf7>\u001b[0m in \u001b[0;36m<module>\u001b[0;34m\u001b[0m\n\u001b[0;32m----> 1\u001b[0;31m \u001b[0mresult\u001b[0m\u001b[0;34m,\u001b[0m \u001b[0mnum_entries\u001b[0m\u001b[0;34m,\u001b[0m \u001b[0mnum_exits\u001b[0m \u001b[0;34m=\u001b[0m \u001b[0mnu\u001b[0m\u001b[0;34m.\u001b[0m\u001b[0mtestModel\u001b[0m\u001b[0;34m(\u001b[0m\u001b[0mdataset\u001b[0m\u001b[0;34m=\u001b[0m\u001b[0;34m[\u001b[0m\u001b[0;34m[\u001b[0m\u001b[0mtest_dataset\u001b[0m\u001b[0;34m]\u001b[0m\u001b[0;34m,\u001b[0m \u001b[0;34mf'{test_coin}USDT-{test_freq}m-data_chunk000001.csv'\u001b[0m\u001b[0;34m]\u001b[0m\u001b[0;34m,\u001b[0m \u001b[0mfeatures\u001b[0m\u001b[0;34m=\u001b[0m\u001b[0mtest_features\u001b[0m\u001b[0;34m,\u001b[0m \u001b[0mmodel_directory\u001b[0m\u001b[0;34m=\u001b[0m\u001b[0mmodel_dir\u001b[0m\u001b[0;34m,\u001b[0m \u001b[0mmodel_name\u001b[0m\u001b[0;34m=\u001b[0m\u001b[0mmodel_files\u001b[0m\u001b[0;34m[\u001b[0m\u001b[0;36m0\u001b[0m\u001b[0;34m]\u001b[0m\u001b[0;34m,\u001b[0m \u001b[0mscaler_name\u001b[0m\u001b[0;34m=\u001b[0m\u001b[0mscaler_files\u001b[0m\u001b[0;34m[\u001b[0m\u001b[0;34m-\u001b[0m\u001b[0;36m1\u001b[0m\u001b[0;34m]\u001b[0m\u001b[0;34m,\u001b[0m \u001b[0mstrategy_type\u001b[0m\u001b[0;34m=\u001b[0m\u001b[0;34m'buy'\u001b[0m\u001b[0;34m)\u001b[0m\u001b[0;34m\u001b[0m\u001b[0;34m\u001b[0m\u001b[0m\n\u001b[0m",
      "\u001b[0;32m~/Repos/vivaldi/back_testing/v2/research/scripts/notebook_utils.py\u001b[0m in \u001b[0;36mtestModel\u001b[0;34m(dataset, features, model_directory, model_name, scaler_name, strategy_type)\u001b[0m\n\u001b[1;32m    357\u001b[0m     \u001b[0mtrading_model\u001b[0m \u001b[0;34m=\u001b[0m \u001b[0mTrading\u001b[0m\u001b[0;34m(\u001b[0m\u001b[0mload_config\u001b[0m\u001b[0;34m(\u001b[0m\u001b[0;34m'config.hjson'\u001b[0m\u001b[0;34m)\u001b[0m\u001b[0;34m)\u001b[0m\u001b[0;34m\u001b[0m\u001b[0;34m\u001b[0m\u001b[0m\n\u001b[1;32m    358\u001b[0m     \u001b[0mstrategy\u001b[0m \u001b[0;34m=\u001b[0m \u001b[0mtrading_model\u001b[0m\u001b[0;34m.\u001b[0m\u001b[0mimportStrategy\u001b[0m\u001b[0;34m(\u001b[0m\u001b[0;34mf'{strategy_type}_benchmark'\u001b[0m\u001b[0;34m,\u001b[0m \u001b[0;34m'latest'\u001b[0m\u001b[0;34m)\u001b[0m\u001b[0;34m(\u001b[0m\u001b[0mscaler\u001b[0m\u001b[0;34m=\u001b[0m\u001b[0mscaler\u001b[0m\u001b[0;34m,\u001b[0m \u001b[0mbuy_model\u001b[0m\u001b[0;34m=\u001b[0m\u001b[0mmodel\u001b[0m\u001b[0;34m,\u001b[0m \u001b[0mbuy_model_features\u001b[0m\u001b[0;34m=\u001b[0m\u001b[0mfeatures\u001b[0m\u001b[0;34m)\u001b[0m\u001b[0;34m\u001b[0m\u001b[0;34m\u001b[0m\u001b[0m\n\u001b[0;32m--> 359\u001b[0;31m     \u001b[0mresult\u001b[0m\u001b[0;34m,\u001b[0m \u001b[0mentries\u001b[0m\u001b[0;34m,\u001b[0m \u001b[0mexits\u001b[0m \u001b[0;34m=\u001b[0m \u001b[0mtrading_model\u001b[0m\u001b[0;34m.\u001b[0m\u001b[0mexecuteStrategy\u001b[0m\u001b[0;34m(\u001b[0m\u001b[0mstrategy\u001b[0m\u001b[0;34m=\u001b[0m\u001b[0mstrategy\u001b[0m\u001b[0;34m,\u001b[0m \u001b[0mmy_dataset_group\u001b[0m\u001b[0;34m=\u001b[0m\u001b[0mdataset\u001b[0m\u001b[0;34m,\u001b[0m \u001b[0mshould_print\u001b[0m\u001b[0;34m=\u001b[0m\u001b[0;32mFalse\u001b[0m\u001b[0;34m,\u001b[0m \u001b[0mplot\u001b[0m\u001b[0;34m=\u001b[0m\u001b[0;32mFalse\u001b[0m\u001b[0;34m)\u001b[0m\u001b[0;34m\u001b[0m\u001b[0;34m\u001b[0m\u001b[0m\n\u001b[0m\u001b[1;32m    360\u001b[0m     \u001b[0;32mreturn\u001b[0m \u001b[0mresult\u001b[0m\u001b[0;34m,\u001b[0m \u001b[0mlen\u001b[0m\u001b[0;34m(\u001b[0m\u001b[0mentries\u001b[0m\u001b[0;34m)\u001b[0m\u001b[0;34m,\u001b[0m \u001b[0mlen\u001b[0m\u001b[0;34m(\u001b[0m\u001b[0mexits\u001b[0m\u001b[0;34m)\u001b[0m\u001b[0;34m\u001b[0m\u001b[0;34m\u001b[0m\u001b[0m\n",
      "\u001b[0;32m~/Repos/vivaldi/back_testing/v2/model.py\u001b[0m in \u001b[0;36mexecuteStrategy\u001b[0;34m(self, strategy, my_dataset_group, should_print, plot, *args)\u001b[0m\n\u001b[1;32m    279\u001b[0m             \u001b[0;32mif\u001b[0m \u001b[0;32mnot\u001b[0m \u001b[0mposition_taken\u001b[0m\u001b[0;34m:\u001b[0m \u001b[0;31m# if we are not entered into a position\u001b[0m\u001b[0;34m\u001b[0m\u001b[0;34m\u001b[0m\u001b[0m\n\u001b[1;32m    280\u001b[0m \u001b[0;34m\u001b[0m\u001b[0m\n\u001b[0;32m--> 281\u001b[0;31m                 \u001b[0;31m# run the entry function for our strategy\u001b[0m\u001b[0;34m\u001b[0m\u001b[0;34m\u001b[0m\u001b[0;34m\u001b[0m\u001b[0m\n\u001b[0m\u001b[1;32m    282\u001b[0m                 \u001b[0;32mif\u001b[0m \u001b[0mstrategy\u001b[0m\u001b[0;34m.\u001b[0m\u001b[0mcalc_entry\u001b[0m\u001b[0;34m(\u001b[0m\u001b[0mrow\u001b[0m\u001b[0;34m)\u001b[0m\u001b[0;34m:\u001b[0m\u001b[0;34m\u001b[0m\u001b[0;34m\u001b[0m\u001b[0m\n\u001b[1;32m    283\u001b[0m                     \u001b[0;31m# if the entry function returns True, it is signaling to enter, so take a position\u001b[0m\u001b[0;34m\u001b[0m\u001b[0;34m\u001b[0m\u001b[0;34m\u001b[0m\u001b[0m\n",
      "\u001b[0;32m~/Repos/vivaldi/back_testing/v2/strategy/strategies/buy_benchmark/buy_benchmark_v1_0.py\u001b[0m in \u001b[0;36mcalc_entry\u001b[0;34m(self, data)\u001b[0m\n\u001b[1;32m     30\u001b[0m             \u001b[0mself\u001b[0m\u001b[0;34m.\u001b[0m\u001b[0mlooking_for_entry\u001b[0m \u001b[0;34m=\u001b[0m \u001b[0;32mFalse\u001b[0m\u001b[0;34m\u001b[0m\u001b[0;34m\u001b[0m\u001b[0m\n\u001b[1;32m     31\u001b[0m             \u001b[0;32mreturn\u001b[0m \u001b[0;32mTrue\u001b[0m\u001b[0;34m\u001b[0m\u001b[0;34m\u001b[0m\u001b[0m\n\u001b[0;32m---> 32\u001b[0;31m         \u001b[0mbuy_model_data\u001b[0m \u001b[0;34m=\u001b[0m \u001b[0mnp\u001b[0m\u001b[0;34m.\u001b[0m\u001b[0marray\u001b[0m\u001b[0;34m(\u001b[0m\u001b[0mdata\u001b[0m\u001b[0;34m[\u001b[0m\u001b[0mself\u001b[0m\u001b[0;34m.\u001b[0m\u001b[0mbuy_model_features\u001b[0m\u001b[0;34m]\u001b[0m\u001b[0;34m)\u001b[0m\u001b[0;34m\u001b[0m\u001b[0;34m\u001b[0m\u001b[0m\n\u001b[0m\u001b[1;32m     33\u001b[0m         \u001b[0mbuy_model_data\u001b[0m \u001b[0;34m=\u001b[0m \u001b[0mbuy_model_data\u001b[0m\u001b[0;34m.\u001b[0m\u001b[0mreshape\u001b[0m\u001b[0;34m(\u001b[0m\u001b[0;36m1\u001b[0m\u001b[0;34m,\u001b[0m \u001b[0;34m-\u001b[0m\u001b[0;36m1\u001b[0m\u001b[0;34m)\u001b[0m\u001b[0;34m\u001b[0m\u001b[0;34m\u001b[0m\u001b[0m\n\u001b[1;32m     34\u001b[0m         \u001b[0mbuy_model_data\u001b[0m \u001b[0;34m=\u001b[0m \u001b[0mself\u001b[0m\u001b[0;34m.\u001b[0m\u001b[0mscaler\u001b[0m\u001b[0;34m.\u001b[0m\u001b[0mtransform\u001b[0m\u001b[0;34m(\u001b[0m\u001b[0mbuy_model_data\u001b[0m\u001b[0;34m)\u001b[0m\u001b[0;34m\u001b[0m\u001b[0;34m\u001b[0m\u001b[0m\n",
      "\u001b[0;31mTypeError\u001b[0m: tuple indices must be integers or slices, not list"
     ]
    }
   ],
   "source": [
    "result, num_entries, num_exits = nu.testModel(dataset=[[test_dataset], f'{test_coin}USDT-{test_freq}m-data_chunk000001.csv'], features=test_features, model_directory=model_dir, model_name=model_files[0], scaler_name=scaler_files[-1], strategy_type='buy')"
   ]
  },
  {
   "cell_type": "code",
   "execution_count": 56,
   "metadata": {},
   "outputs": [
    {
     "output_type": "execute_result",
     "data": {
      "text/plain": [
       "1593089519999"
      ]
     },
     "metadata": {},
     "execution_count": 56
    }
   ],
   "source": [
    "test_dataset.head(1).time.values[0]"
   ]
  },
  {
   "cell_type": "code",
   "execution_count": 2,
   "metadata": {},
   "outputs": [
    {
     "output_type": "error",
     "ename": "NameError",
     "evalue": "name 'result' is not defined",
     "traceback": [
      "\u001b[0;31m---------------------------------------------------------------------------\u001b[0m",
      "\u001b[0;31mNameError\u001b[0m                                 Traceback (most recent call last)",
      "\u001b[0;32m<ipython-input-2-0ac921c19f1a>\u001b[0m in \u001b[0;36m<module>\u001b[0;34m\u001b[0m\n\u001b[0;32m----> 1\u001b[0;31m \u001b[0mresult\u001b[0m\u001b[0;34m\u001b[0m\u001b[0;34m\u001b[0m\u001b[0m\n\u001b[0m",
      "\u001b[0;31mNameError\u001b[0m: name 'result' is not defined"
     ]
    }
   ],
   "source": [
    "result"
   ]
  },
  {
   "cell_type": "code",
   "execution_count": null,
   "metadata": {},
   "outputs": [],
   "source": []
  }
 ]
}