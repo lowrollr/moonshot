{
 "cells": [
  {
   "cell_type": "markdown",
   "metadata": {},
   "source": [
    "<h3>Optimal Trading</h3>\n",
    "<p> Instead of doing simple maximum and minima, we use an algorithm below which calculates the most optimal times to buy and sell and then we use this for the models that we have </p>"
   ]
  },
  {
   "cell_type": "code",
   "execution_count": 1,
   "metadata": {},
   "outputs": [
    {
     "name": "stdout",
     "output_type": "stream",
     "text": [
      "/Users/rosscopeland/Desktop/personal/code/vivaldi/back_testing\n"
     ]
    }
   ],
   "source": [
    "import pandas as pd\n",
    "import numpy as np\n",
    "import os\n",
    "os.chdir('../../../')\n",
    "print(os.getcwd())\n",
    "from v2.model import Trading\n",
    "import plotly.graph_objs as go\n",
    "from plotly.offline import plot\n",
    "from scipy.signal import argrelextrema\n",
    "from tensorflow.keras.models import load_model\n",
    "import pickle\n",
    "from v2.strategy.indicators.param import Param\n",
    "from v2.strategy.indicators.rsi import RSI\n",
    "from v2.strategy.indicators.macd import MACD\n",
    "from v2.strategy.indicators.mmroc import MinMaxRateOfChange\n",
    "from v2.strategy.indicators.stochastic_oscillator import StochasticOscillator"
   ]
  },
  {
   "source": [
    "Load the Trading configuration and instantiate a Trading model"
   ],
   "cell_type": "markdown",
   "metadata": {}
  },
  {
   "cell_type": "code",
   "execution_count": 2,
   "metadata": {},
   "outputs": [],
   "source": [
    "def load_config():\n",
    "    my_config = {}\n",
    "    with open('config.config') as config:\n",
    "        for line in config:\n",
    "            args = line.split('=')\n",
    "            my_config[args[0]] = args[1].rstrip().split(',')\n",
    "    return my_config\n",
    "\n",
    "model = Trading(load_config())"
   ]
  },
  {
   "source": [
    "Compute optimal times to buy/sell for each dataset:"
   ],
   "cell_type": "markdown",
   "metadata": {}
  },
  {
   "cell_type": "code",
   "execution_count": 3,
   "metadata": {},
   "outputs": [],
   "source": [
    "#this only works on one dataset at a time\n",
    "candle, buys, sells = None, None, None\n",
    "datasets = model.dfs\n",
    "fee = 0.0026\n",
    "model_trough = load_model('v2/strategy/saved_models/boost_rf_lstm.sav')\n",
    "model_boost = pickle.load(open('v2/strategy/saved_models/lstm_trough/part_boost_lstm.sav', 'rb'))\n",
    "model_rf = pickle.load(open('v2/strategy/saved_models/lstm_trough/part_rf_lstm.sav', 'rb'))\n",
    "for d in datasets:\n",
    "    ## indicator setup\n",
    "    dataset = d[0]\n",
    "\n",
    "    stoch_highlow = Param(5, 10000, 0, 'highlow_range', 90.0)\n",
    "    stoch_k = Param(5, 10000, 0, 'k_period', 270.0)\n",
    "    stoch_oscillator = StochasticOscillator(_params=[stoch_highlow, stoch_k], _name='stochastic_oscillator')\n",
    "    stoch_oscillator.genData(dataset, gen_new_values=False)\n",
    "\n",
    "    ema_fast = Param(5, 10000, 0, 'ema_fast', 60)\n",
    "    ema_slow= Param(6, 10001, 0, 'ema_slow', 120)\n",
    "    signal = Param(5, 10001, 0, 'signal', 90)\n",
    "    macd_ = MACD(_params=[ema_fast, ema_slow, signal], _name='macd')\n",
    "    macd_.genData(dataset, gen_new_values=False)\n",
    "\n",
    "    rsi_period = Param(5, 10000, 0, 'period', 90.0)\n",
    "    rsi_ = RSI(_params=[rsi_period], _name='rsi')\n",
    "    rsi_.genData(dataset, gen_new_values=False)\n",
    "\n",
    "    mmroc_period = Param(5, 10001, 0, 'period', 30)\n",
    "    mmroc = MinMaxRateOfChange(_params=[mmroc_period], _name='mmroc')\n",
    "    mmroc.genData(dataset, gen_new_values=False)\n",
    "\n",
    "    buy_prices = []\n",
    "    buy_times = []\n",
    "    sell_prices = []\n",
    "    sell_times = []\n",
    "    prediction_times = []\n",
    "    prediction_prices = []\n",
    "    name = d[1]\n",
    "    cur_min = 99999999999999999.00\n",
    "    cur_max = 0.00\n",
    "    cur_min_time = 00.0\n",
    "    cur_max_time = 00.0\n",
    "    last_buy_price = 000.00\n",
    "    last_buy_time = 000.00\n",
    "    sell_time = 0000.0\n",
    "    \n",
    "    looking_for_buy = True\n",
    "\n",
    "    for row in dataset.itertuples():\n",
    "\n",
    "        close = row.close\n",
    "        time = row.time\n",
    "        ## model stuff\n",
    "        rf_model_data = np.array([row.stosc_k, row.mmroc, row.macd_diff, row.rsi])\n",
    "        \n",
    "        if not np.isnan(np.sum(rf_model_data)):\n",
    "            rf_model_data = rf_model_data.reshape(1, -1)\n",
    "            rf_model_prediction = model_rf.predict(rf_model_data)[0]\n",
    "        else:\n",
    "            rf_model_prediction = 0.0\n",
    "\n",
    "        boost_model_data = np.array([row.stosc_k, row.mmroc, row.macd_diff, row.rsi, rf_model_prediction])\n",
    "        if not np.isnan(np.sum(boost_model_data)):\n",
    "            boost_model_data = boost_model_data.reshape(1, -1)\n",
    "            boost_model_prediction = model_boost.predict(boost_model_data)[0]\n",
    "        else:\n",
    "            boost_model_prediction = 0.0\n",
    "\n",
    "        nn_model_data = np.array([row.stosc_k, row.mmroc, row.macd_diff, row.rsi, rf_model_prediction, boost_model_prediction])\n",
    "        if not np.isnan(np.sum(nn_model_data)):\n",
    "            nn_model_data = nn_model_data.reshape(1, -1)\n",
    "            nn_model_data = np.reshape(nn_model_data, (nn_model_data.shape[0], 1, nn_model_data.shape[1]))\n",
    "            prediction = model_trough.predict(nn_model_data)[0][1]\n",
    "        else:\n",
    "            prediction = 0.0\n",
    "        if prediction > 0.85:\n",
    "            prediction_prices.append(close)\n",
    "            prediction_times.append(time)\n",
    "\n",
    "\n",
    "        ## optimal stuff\n",
    "        \n",
    "        if looking_for_buy:\n",
    "            if close < cur_min:\n",
    "                cur_min = close\n",
    "                cur_min_time = time\n",
    "                cur_max = close\n",
    "                cur_max_time = time\n",
    "            elif close > cur_max:\n",
    "                cur_max = close\n",
    "                cur_max_time = time\n",
    "                delta = cur_max - cur_min\n",
    "                if delta > ((cur_min * fee) + (cur_max * fee)):\n",
    "                    looking_for_buy = False\n",
    "                    last_buy_price = cur_min\n",
    "                    last_buy_time = cur_min_time\n",
    "        else:\n",
    "            trade_fee = ((cur_min * fee) + (cur_max * fee))\n",
    "            if close > cur_max:\n",
    "                cur_max = close\n",
    "                cur_max_time = time\n",
    "            elif close < cur_max - trade_fee:\n",
    "                looking_for_buy = True\n",
    "                buy_prices.append(cur_min)\n",
    "                buy_times.append(cur_min_time)\n",
    "                sell_prices.append(cur_max)\n",
    "                sell_times.append(cur_max_time)\n",
    "                cur_min = close\n",
    "                cur_min_time = time\n",
    "                cur_max = close\n",
    "                cur_max_time = time\n",
    "\n",
    "    candle = go.Candlestick(x=dataset['time'], open=dataset['open'], close=dataset['close'], high=dataset['high'], low=dataset['low'], name='Candlesticks')\n",
    "\n",
    "    buys = go.Scatter(x=buy_times, y=buy_prices, name='Optimal Entries', mode='markers')\n",
    "    sells = go.Scatter(x=sell_times, y=sell_prices, name='Optimal Exits', mode='markers')\n",
    "    predicts = go.Scatter(x=prediction_times, y=prediction_prices,  name='ML Entries', mode='markers')\n",
    "    dataset['trough'] = dataset.iloc[argrelextrema(dataset.close.values, np.less_equal, order=480)[0]]['close']\n",
    "    dataset['trough'] = dataset['trough'].fillna(0)\n",
    "    trough_values = []\n",
    "    trough_times = []\n",
    "    for x in dataset[['time', 'trough']].itertuples():\n",
    "        if x.trough:\n",
    "            trough_times.append(x.time)\n",
    "            trough_values.append(x.trough)\n",
    "    troughs = go.Scatter(x=trough_times, y=trough_values, name='Troughs (Local Maximums)', mode='markers')\n",
    "    data = [buys] + [sells] + [candle] + [troughs] + [predicts]"
   ]
  },
  {
   "source": [
    "Plot optimal points to buy/sell"
   ],
   "cell_type": "markdown",
   "metadata": {}
  },
  {
   "cell_type": "code",
   "execution_count": 4,
   "metadata": {},
   "outputs": [
    {
     "data": {
      "text/plain": [
       "'plots/optimal_XBTUSD.html'"
      ]
     },
     "execution_count": 4,
     "metadata": {},
     "output_type": "execute_result"
    }
   ],
   "source": [
    "layout = go.Layout(title='Optimal Buying Times/Detected Troughs for ' + name)\n",
    "fig = go.Figure(data=data, layout=layout)\n",
    "plot(fig, filename='plots/optimal_' + name + '.html')"
   ]
  }
 ],
 "metadata": {
  "kernelspec": {
   "display_name": "Python 3.8.5 64-bit",
   "language": "python",
   "name": "python38564bitbf960d00bf8447f58cc83a94e3f130e4"
  },
  "language_info": {
   "codemirror_mode": {
    "name": "ipython",
    "version": 3
   },
   "file_extension": ".py",
   "mimetype": "text/x-python",
   "name": "python",
   "nbconvert_exporter": "python",
   "pygments_lexer": "ipython3",
   "version": "3.8.5"
  }
 },
 "nbformat": 4,
 "nbformat_minor": 2
}