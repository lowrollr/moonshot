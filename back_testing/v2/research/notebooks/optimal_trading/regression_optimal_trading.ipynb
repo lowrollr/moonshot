{
 "nbformat": 4,
 "nbformat_minor": 2,
 "metadata": {
  "language_info": {
   "name": "python",
   "codemirror_mode": {
    "name": "ipython",
    "version": 3
   },
   "version": "3.8.5-final"
  },
  "orig_nbformat": 2,
  "file_extension": ".py",
  "mimetype": "text/x-python",
  "name": "python",
  "npconvert_exporter": "python",
  "pygments_lexer": "ipython3",
  "version": 3,
  "kernelspec": {
   "name": "python38564bitbf960d00bf8447f58cc83a94e3f130e4",
   "display_name": "Python 3.8.5 64-bit"
  }
 },
 "cells": [
  {
   "cell_type": "code",
   "execution_count": 1,
   "metadata": {},
   "outputs": [
    {
     "output_type": "stream",
     "name": "stdout",
     "text": "/Users/rosscopeland/Desktop/personal/code/vivaldi/back_testing\n"
    }
   ],
   "source": [
    "import pandas as pd\n",
    "import numpy as np\n",
    "import os\n",
    "os.chdir('../../../../')\n",
    "print(os.getcwd())\n",
    "from v2.strategy.indicators.optimal_v2 import Optimal_v2\n",
    "from v2.model import Trading\n",
    "from v2.strategy.indicators.param import Param\n",
    "from v2.strategy.indicators.notebook_utils import fetchIndicators, genDataForAll\n",
    ""
   ]
  },
  {
   "cell_type": "code",
   "execution_count": 2,
   "metadata": {},
   "outputs": [],
   "source": [
    "def load_config():\n",
    "    my_config = {}\n",
    "    with open('config.config') as config:\n",
    "        for line in config:\n",
    "            args = line.split('=')\n",
    "            my_config[args[0]] = args[1].rstrip().split(',')\n",
    "    return my_config\n",
    "\n",
    "model = Trading(load_config())\n",
    "dataset = model.dfs[0][0]"
   ]
  },
  {
   "cell_type": "code",
   "execution_count": 3,
   "metadata": {},
   "outputs": [],
   "source": [
    "optimal = Optimal_v2(_params=[], _name='optimal')\n",
    "optimal.genData(dataset, gen_new_values=False)"
   ]
  },
  {
   "cell_type": "markdown",
   "metadata": {},
   "source": [
    "<h3>Features</h3>\n",
    "<p>Close</p>\n",
    "<p>RSI</p>\n",
    "<p>MACD</p>\n",
    "<p>Oscillator</p>\n"
   ]
  },
  {
   "cell_type": "code",
   "execution_count": 4,
   "metadata": {},
   "outputs": [],
   "source": [
    "my_inds = fetchIndicators([\"rsi\", \"macd\", \"stochastic_oscillator\", \"optimal_v2\"])\n",
    "genDataForAll(dataset, my_inds)\n",
    "dataset.dropna(inplace=True)"
   ]
  },
  {
   "cell_type": "code",
   "execution_count": 5,
   "metadata": {},
   "outputs": [
    {
     "output_type": "execute_result",
     "data": {
      "text/plain": "               time    open    high     low        close    volume  trades  \\\n1671589  1586844900  6887.7  6888.8  6887.7  6890.153062  0.011762       4   \n1671590  1586844960  6888.7  6888.8  6888.7  6889.700635  2.324006       7   \n1671591  1586845080  6886.7  6886.7  6886.7  6888.837370  0.300000       2   \n1671592  1586845140  6888.8  6888.8  6883.2  6887.262211  0.557481      10   \n1671593  1586845200  6883.3  6883.3  6882.3  6885.652868  0.053421       5   \n...             ...     ...     ...     ...          ...       ...     ...   \n1671918  1586865300  6841.7  6841.7  6841.7  6846.496657  0.008483       3   \n1671919  1586865360  6841.4  6844.2  6841.4  6845.342093  2.648649      13   \n1671920  1586865420  6844.1  6846.7  6844.1  6845.392929  0.110863       3   \n1671921  1586865480  6846.7  6846.7  6846.2  6845.607406  0.418624       6   \n1671922  1586865540  6846.6  6846.7  6843.0  6845.009173  0.161049       6   \n\n          optimal  rsi_diff     rsi_u  ...        rsi     ema_slow  \\\n1671589  0.000000 -0.896416  0.000000  ...  48.580556  6895.776616   \n1671590  0.000000 -0.448208  0.000000  ...  48.418313  6895.668709   \n1671591  0.000000 -1.274104  0.000000  ...  47.957905  6895.541525   \n1671592  0.000000 -2.287052  0.000000  ...  47.144168  6895.378641   \n1671593  0.000000 -1.643526  0.000000  ...  46.569942  6895.191284   \n...           ...       ...       ...  ...        ...          ...   \n1671918  0.000000 -2.475058  0.000000  ...  48.741256  6850.530182   \n1671919  0.266667  0.012471  0.012471  ...  48.744707  6850.425344   \n1671920  0.000000  1.256236  1.256236  ...  49.093833  6850.343004   \n1671921 -0.300000  0.378118  0.378118  ...  49.199155  6850.268275   \n1671922  0.000000 -1.410941  0.000000  ...  48.818031  6850.171460   \n\n            ema_fast      MACD    signal  macd_diff  stosc_high_price  \\\n1671589  6895.288182 -0.488434  3.224221  -3.712655            6882.5   \n1671590  6895.090150 -0.578559  3.140643  -3.719202            6882.5   \n1671591  6894.856837 -0.684688  3.056570  -3.741258            6882.5   \n1671592  6894.556188 -0.822453  2.971317  -3.793770            6882.5   \n1671593  6894.211511 -0.979773  2.884480  -3.864253            6882.3   \n...              ...       ...       ...        ...               ...   \n1671918  6852.752584  2.222402  4.414078  -2.191675            6829.1   \n1671919  6852.471763  2.046418  4.362041  -2.315623            6829.1   \n1671920  6852.241336  1.898332  4.307894  -2.409562            6829.1   \n1671921  6852.030863  1.762588  4.251953  -2.489366            6829.1   \n1671922  6851.781029  1.609569  4.193879  -2.584309            6829.1   \n\n         stosc_low_price    stosc_k    stosc_d  \n1671589           6911.7  75.354740  40.442476  \n1671590           6911.7  76.889699  40.476030  \n1671591           6911.7  81.253069  40.579516  \n1671592           6911.7  89.085438  40.718943  \n1671593           6911.7  94.069639  40.876836  \n...                  ...        ...        ...  \n1671918           6879.6  70.148400  50.762092  \n1671919           6879.6  70.123705  50.998482  \n1671920           6879.6  67.636110  51.225971  \n1671921           6879.6  66.887362  51.450842  \n1671922           6879.6  69.681305  51.686848  \n\n[334 rows x 23 columns]",
      "text/html": "<div>\n<style scoped>\n    .dataframe tbody tr th:only-of-type {\n        vertical-align: middle;\n    }\n\n    .dataframe tbody tr th {\n        vertical-align: top;\n    }\n\n    .dataframe thead th {\n        text-align: right;\n    }\n</style>\n<table border=\"1\" class=\"dataframe\">\n  <thead>\n    <tr style=\"text-align: right;\">\n      <th></th>\n      <th>time</th>\n      <th>open</th>\n      <th>high</th>\n      <th>low</th>\n      <th>close</th>\n      <th>volume</th>\n      <th>trades</th>\n      <th>optimal</th>\n      <th>rsi_diff</th>\n      <th>rsi_u</th>\n      <th>...</th>\n      <th>rsi</th>\n      <th>ema_slow</th>\n      <th>ema_fast</th>\n      <th>MACD</th>\n      <th>signal</th>\n      <th>macd_diff</th>\n      <th>stosc_high_price</th>\n      <th>stosc_low_price</th>\n      <th>stosc_k</th>\n      <th>stosc_d</th>\n    </tr>\n  </thead>\n  <tbody>\n    <tr>\n      <th>1671589</th>\n      <td>1586844900</td>\n      <td>6887.7</td>\n      <td>6888.8</td>\n      <td>6887.7</td>\n      <td>6890.153062</td>\n      <td>0.011762</td>\n      <td>4</td>\n      <td>0.000000</td>\n      <td>-0.896416</td>\n      <td>0.000000</td>\n      <td>...</td>\n      <td>48.580556</td>\n      <td>6895.776616</td>\n      <td>6895.288182</td>\n      <td>-0.488434</td>\n      <td>3.224221</td>\n      <td>-3.712655</td>\n      <td>6882.5</td>\n      <td>6911.7</td>\n      <td>75.354740</td>\n      <td>40.442476</td>\n    </tr>\n    <tr>\n      <th>1671590</th>\n      <td>1586844960</td>\n      <td>6888.7</td>\n      <td>6888.8</td>\n      <td>6888.7</td>\n      <td>6889.700635</td>\n      <td>2.324006</td>\n      <td>7</td>\n      <td>0.000000</td>\n      <td>-0.448208</td>\n      <td>0.000000</td>\n      <td>...</td>\n      <td>48.418313</td>\n      <td>6895.668709</td>\n      <td>6895.090150</td>\n      <td>-0.578559</td>\n      <td>3.140643</td>\n      <td>-3.719202</td>\n      <td>6882.5</td>\n      <td>6911.7</td>\n      <td>76.889699</td>\n      <td>40.476030</td>\n    </tr>\n    <tr>\n      <th>1671591</th>\n      <td>1586845080</td>\n      <td>6886.7</td>\n      <td>6886.7</td>\n      <td>6886.7</td>\n      <td>6888.837370</td>\n      <td>0.300000</td>\n      <td>2</td>\n      <td>0.000000</td>\n      <td>-1.274104</td>\n      <td>0.000000</td>\n      <td>...</td>\n      <td>47.957905</td>\n      <td>6895.541525</td>\n      <td>6894.856837</td>\n      <td>-0.684688</td>\n      <td>3.056570</td>\n      <td>-3.741258</td>\n      <td>6882.5</td>\n      <td>6911.7</td>\n      <td>81.253069</td>\n      <td>40.579516</td>\n    </tr>\n    <tr>\n      <th>1671592</th>\n      <td>1586845140</td>\n      <td>6888.8</td>\n      <td>6888.8</td>\n      <td>6883.2</td>\n      <td>6887.262211</td>\n      <td>0.557481</td>\n      <td>10</td>\n      <td>0.000000</td>\n      <td>-2.287052</td>\n      <td>0.000000</td>\n      <td>...</td>\n      <td>47.144168</td>\n      <td>6895.378641</td>\n      <td>6894.556188</td>\n      <td>-0.822453</td>\n      <td>2.971317</td>\n      <td>-3.793770</td>\n      <td>6882.5</td>\n      <td>6911.7</td>\n      <td>89.085438</td>\n      <td>40.718943</td>\n    </tr>\n    <tr>\n      <th>1671593</th>\n      <td>1586845200</td>\n      <td>6883.3</td>\n      <td>6883.3</td>\n      <td>6882.3</td>\n      <td>6885.652868</td>\n      <td>0.053421</td>\n      <td>5</td>\n      <td>0.000000</td>\n      <td>-1.643526</td>\n      <td>0.000000</td>\n      <td>...</td>\n      <td>46.569942</td>\n      <td>6895.191284</td>\n      <td>6894.211511</td>\n      <td>-0.979773</td>\n      <td>2.884480</td>\n      <td>-3.864253</td>\n      <td>6882.3</td>\n      <td>6911.7</td>\n      <td>94.069639</td>\n      <td>40.876836</td>\n    </tr>\n    <tr>\n      <th>...</th>\n      <td>...</td>\n      <td>...</td>\n      <td>...</td>\n      <td>...</td>\n      <td>...</td>\n      <td>...</td>\n      <td>...</td>\n      <td>...</td>\n      <td>...</td>\n      <td>...</td>\n      <td>...</td>\n      <td>...</td>\n      <td>...</td>\n      <td>...</td>\n      <td>...</td>\n      <td>...</td>\n      <td>...</td>\n      <td>...</td>\n      <td>...</td>\n      <td>...</td>\n      <td>...</td>\n    </tr>\n    <tr>\n      <th>1671918</th>\n      <td>1586865300</td>\n      <td>6841.7</td>\n      <td>6841.7</td>\n      <td>6841.7</td>\n      <td>6846.496657</td>\n      <td>0.008483</td>\n      <td>3</td>\n      <td>0.000000</td>\n      <td>-2.475058</td>\n      <td>0.000000</td>\n      <td>...</td>\n      <td>48.741256</td>\n      <td>6850.530182</td>\n      <td>6852.752584</td>\n      <td>2.222402</td>\n      <td>4.414078</td>\n      <td>-2.191675</td>\n      <td>6829.1</td>\n      <td>6879.6</td>\n      <td>70.148400</td>\n      <td>50.762092</td>\n    </tr>\n    <tr>\n      <th>1671919</th>\n      <td>1586865360</td>\n      <td>6841.4</td>\n      <td>6844.2</td>\n      <td>6841.4</td>\n      <td>6845.342093</td>\n      <td>2.648649</td>\n      <td>13</td>\n      <td>0.266667</td>\n      <td>0.012471</td>\n      <td>0.012471</td>\n      <td>...</td>\n      <td>48.744707</td>\n      <td>6850.425344</td>\n      <td>6852.471763</td>\n      <td>2.046418</td>\n      <td>4.362041</td>\n      <td>-2.315623</td>\n      <td>6829.1</td>\n      <td>6879.6</td>\n      <td>70.123705</td>\n      <td>50.998482</td>\n    </tr>\n    <tr>\n      <th>1671920</th>\n      <td>1586865420</td>\n      <td>6844.1</td>\n      <td>6846.7</td>\n      <td>6844.1</td>\n      <td>6845.392929</td>\n      <td>0.110863</td>\n      <td>3</td>\n      <td>0.000000</td>\n      <td>1.256236</td>\n      <td>1.256236</td>\n      <td>...</td>\n      <td>49.093833</td>\n      <td>6850.343004</td>\n      <td>6852.241336</td>\n      <td>1.898332</td>\n      <td>4.307894</td>\n      <td>-2.409562</td>\n      <td>6829.1</td>\n      <td>6879.6</td>\n      <td>67.636110</td>\n      <td>51.225971</td>\n    </tr>\n    <tr>\n      <th>1671921</th>\n      <td>1586865480</td>\n      <td>6846.7</td>\n      <td>6846.7</td>\n      <td>6846.2</td>\n      <td>6845.607406</td>\n      <td>0.418624</td>\n      <td>6</td>\n      <td>-0.300000</td>\n      <td>0.378118</td>\n      <td>0.378118</td>\n      <td>...</td>\n      <td>49.199155</td>\n      <td>6850.268275</td>\n      <td>6852.030863</td>\n      <td>1.762588</td>\n      <td>4.251953</td>\n      <td>-2.489366</td>\n      <td>6829.1</td>\n      <td>6879.6</td>\n      <td>66.887362</td>\n      <td>51.450842</td>\n    </tr>\n    <tr>\n      <th>1671922</th>\n      <td>1586865540</td>\n      <td>6846.6</td>\n      <td>6846.7</td>\n      <td>6843.0</td>\n      <td>6845.009173</td>\n      <td>0.161049</td>\n      <td>6</td>\n      <td>0.000000</td>\n      <td>-1.410941</td>\n      <td>0.000000</td>\n      <td>...</td>\n      <td>48.818031</td>\n      <td>6850.171460</td>\n      <td>6851.781029</td>\n      <td>1.609569</td>\n      <td>4.193879</td>\n      <td>-2.584309</td>\n      <td>6829.1</td>\n      <td>6879.6</td>\n      <td>69.681305</td>\n      <td>51.686848</td>\n    </tr>\n  </tbody>\n</table>\n<p>334 rows × 23 columns</p>\n</div>"
     },
     "metadata": {},
     "execution_count": 5
    }
   ],
   "source": [
    "dataset"
   ]
  },
  {
   "cell_type": "markdown",
   "metadata": {},
   "source": [
    "<h3>Models</h3>\n",
    "<p>Linear Regression </p>\n",
    "<p>Random Forest</p>\n",
    "<p>Gradeint Boosting</p>\n",
    "<p>Neural Network</p>"
   ]
  },
  {
   "cell_type": "code",
   "execution_count": null,
   "metadata": {},
   "outputs": [],
   "source": []
  }
 ]
}