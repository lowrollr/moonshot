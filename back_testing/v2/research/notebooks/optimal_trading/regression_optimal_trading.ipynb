{
 "nbformat": 4,
 "nbformat_minor": 2,
 "metadata": {
  "language_info": {
   "name": "python",
   "codemirror_mode": {
    "name": "ipython",
    "version": 3
   },
   "version": "3.8.5-final"
  },
  "orig_nbformat": 2,
  "file_extension": ".py",
  "mimetype": "text/x-python",
  "name": "python",
  "npconvert_exporter": "python",
  "pygments_lexer": "ipython3",
  "version": 3,
  "kernelspec": {
   "name": "python38564bitbf960d00bf8447f58cc83a94e3f130e4",
   "display_name": "Python 3.8.5 64-bit"
  }
 },
 "cells": [
  {
   "cell_type": "code",
   "execution_count": 8,
   "metadata": {},
   "outputs": [
    {
     "output_type": "stream",
     "name": "stdout",
     "text": "/Users/rosscopeland/Desktop\n"
    }
   ],
   "source": [
    "import pandas as pd\n",
    "import numpy as np\n",
    "import os\n",
    "os.chdir('../../../../')\n",
    "print(os.getcwd())\n",
    "from v2.strategy.indicators.optimal_v2 import Optimal_v2\n",
    "from v2.model import Trading\n",
    "from v2.strategy.indicators.param import Param\n",
    "from v2.strategy.indicators.notebook_utils import fetchIndicators, genDataForAll\n",
    ""
   ]
  },
  {
   "cell_type": "code",
   "execution_count": 2,
   "metadata": {},
   "outputs": [],
   "source": [
    "def load_config():\n",
    "    my_config = {}\n",
    "    with open('config.config') as config:\n",
    "        for line in config:\n",
    "            args = line.split('=')\n",
    "            my_config[args[0]] = args[1].rstrip().split(',')\n",
    "    return my_config\n",
    "\n",
    "model = Trading(load_config())\n",
    "dataset = model.dfs[0][0]"
   ]
  },
  {
   "cell_type": "code",
   "execution_count": 4,
   "metadata": {},
   "outputs": [],
   "source": [
    "optimal = Optimal_v2(_params=[], _name='optimal')\n",
    "optimal.genData(dataset, gen_new_values=False)"
   ]
  },
  {
   "cell_type": "markdown",
   "metadata": {},
   "source": [
    "<h3>Features</h3>\n",
    "<p>Close</p>\n",
    "<p>RSI</p>\n",
    "<p>MACD</p>\n",
    "<p>Oscillator</p>\n"
   ]
  },
  {
   "cell_type": "code",
   "execution_count": 13,
   "metadata": {},
   "outputs": [],
   "source": [
    "my_inds = fetchIndicators([\"rsi\", \"macd\", \"stochastic_oscillator\", \"optimal_v2\"])\n",
    "genDataForAll(dataset, my_inds)"
   ]
  },
  {
   "cell_type": "code",
   "execution_count": 14,
   "metadata": {},
   "outputs": [
    {
     "output_type": "execute_result",
     "data": {
      "text/plain": "               time    open    high     low        close     volume  trades  \\\n1671231  1586822460  6872.0  6881.0  6872.0  6880.400000   5.806000      21   \n1671232  1586822520  6880.4  6881.1  6880.4  6880.538272   2.245397       6   \n1671233  1586822580  6882.8  6889.0  6881.4  6881.156006   6.518462      13   \n1671234  1586822640  6885.4  6890.0  6885.4  6882.324156  12.893542       7   \n1671235  1586822700  6890.0  6890.0  6880.1  6883.060968   3.551707      23   \n...             ...     ...     ...     ...          ...        ...     ...   \n1671572  1586843580  6889.3  6889.4  6889.3  6890.753099   0.019640       8   \n1671573  1586843640  6892.0  6892.0  6892.0  6890.526256   0.008596       3   \n1671574  1586843700  6892.0  6892.1  6892.0  6890.533830   0.211031       8   \n1671575  1586843820  6892.0  6892.0  6892.0  6890.709853   0.001626       2   \n1671576  1586843880  6892.1  6900.4  6892.1  6891.485019   1.448809       8   \n\n          optimal  rsi_diff     rsi_u  ...         rsi     ema_slow  \\\n1671231  0.647059       NaN       NaN  ...         NaN  6880.400000   \n1671232  0.000000  0.207407  0.207407  ...  100.000000  6880.403428   \n1671233  0.000000  1.011899  1.011899  ...  100.000000  6880.423525   \n1671234  0.000000  1.726981  1.726981  ...  100.000000  6880.471836   \n1671235 -0.647059  0.405441  0.405441  ...  100.000000  6880.526049   \n...           ...       ...       ...  ...         ...          ...   \n1671572  0.000000 -0.571414  0.000000  ...   48.160600  6897.298203   \n1671573  0.000000 -0.087213  0.000000  ...   48.116836  6897.182520   \n1671574  0.000000  0.241992  0.241992  ...   48.248787  6897.072750   \n1671575  0.000000  0.344471  0.344471  ...   48.437553  6896.970488   \n1671576  0.000000  1.374311  1.374311  ...   49.185337  6896.892631   \n\n            ema_fast      MACD    signal  macd_diff  stosc_high_price  \\\n1671231  6880.400000  0.000000  0.000000   0.000000               NaN   \n1671232  6880.406800  0.003372  0.000074   0.003298               NaN   \n1671233  6880.446555  0.023029  0.000579   0.022451               NaN   \n1671234  6880.541628  0.069792  0.002100   0.067692               NaN   \n1671235  6880.646877  0.120828  0.004709   0.116119               NaN   \n...              ...       ...       ...        ...               ...   \n1671572  6898.527578  1.229375  4.812057  -3.582682            6883.5   \n1671573  6898.257802  1.075282  4.729930  -3.654648            6883.5   \n1671574  6898.004806  0.932056  4.646460  -3.714405            6883.5   \n1671575  6897.771398  0.800911  4.561943  -3.761032            6883.5   \n1671576  6897.590703  0.698071  4.477022  -3.778951            6883.5   \n\n         stosc_low_price    stosc_k  stosc_d  \n1671231              NaN        NaN      NaN  \n1671232              NaN        NaN      NaN  \n1671233              NaN        NaN      NaN  \n1671234              NaN        NaN      NaN  \n1671235              NaN        NaN      NaN  \n...                  ...        ...      ...  \n1671572           6928.5  84.696388      NaN  \n1671573           6928.5  84.890195      NaN  \n1671574           6928.5  84.352435      NaN  \n1671575           6928.5  83.586944      NaN  \n1671576           6928.5  80.532919      NaN  \n\n[346 rows x 23 columns]",
      "text/html": "<div>\n<style scoped>\n    .dataframe tbody tr th:only-of-type {\n        vertical-align: middle;\n    }\n\n    .dataframe tbody tr th {\n        vertical-align: top;\n    }\n\n    .dataframe thead th {\n        text-align: right;\n    }\n</style>\n<table border=\"1\" class=\"dataframe\">\n  <thead>\n    <tr style=\"text-align: right;\">\n      <th></th>\n      <th>time</th>\n      <th>open</th>\n      <th>high</th>\n      <th>low</th>\n      <th>close</th>\n      <th>volume</th>\n      <th>trades</th>\n      <th>optimal</th>\n      <th>rsi_diff</th>\n      <th>rsi_u</th>\n      <th>...</th>\n      <th>rsi</th>\n      <th>ema_slow</th>\n      <th>ema_fast</th>\n      <th>MACD</th>\n      <th>signal</th>\n      <th>macd_diff</th>\n      <th>stosc_high_price</th>\n      <th>stosc_low_price</th>\n      <th>stosc_k</th>\n      <th>stosc_d</th>\n    </tr>\n  </thead>\n  <tbody>\n    <tr>\n      <th>1671231</th>\n      <td>1586822460</td>\n      <td>6872.0</td>\n      <td>6881.0</td>\n      <td>6872.0</td>\n      <td>6880.400000</td>\n      <td>5.806000</td>\n      <td>21</td>\n      <td>0.647059</td>\n      <td>NaN</td>\n      <td>NaN</td>\n      <td>...</td>\n      <td>NaN</td>\n      <td>6880.400000</td>\n      <td>6880.400000</td>\n      <td>0.000000</td>\n      <td>0.000000</td>\n      <td>0.000000</td>\n      <td>NaN</td>\n      <td>NaN</td>\n      <td>NaN</td>\n      <td>NaN</td>\n    </tr>\n    <tr>\n      <th>1671232</th>\n      <td>1586822520</td>\n      <td>6880.4</td>\n      <td>6881.1</td>\n      <td>6880.4</td>\n      <td>6880.538272</td>\n      <td>2.245397</td>\n      <td>6</td>\n      <td>0.000000</td>\n      <td>0.207407</td>\n      <td>0.207407</td>\n      <td>...</td>\n      <td>100.000000</td>\n      <td>6880.403428</td>\n      <td>6880.406800</td>\n      <td>0.003372</td>\n      <td>0.000074</td>\n      <td>0.003298</td>\n      <td>NaN</td>\n      <td>NaN</td>\n      <td>NaN</td>\n      <td>NaN</td>\n    </tr>\n    <tr>\n      <th>1671233</th>\n      <td>1586822580</td>\n      <td>6882.8</td>\n      <td>6889.0</td>\n      <td>6881.4</td>\n      <td>6881.156006</td>\n      <td>6.518462</td>\n      <td>13</td>\n      <td>0.000000</td>\n      <td>1.011899</td>\n      <td>1.011899</td>\n      <td>...</td>\n      <td>100.000000</td>\n      <td>6880.423525</td>\n      <td>6880.446555</td>\n      <td>0.023029</td>\n      <td>0.000579</td>\n      <td>0.022451</td>\n      <td>NaN</td>\n      <td>NaN</td>\n      <td>NaN</td>\n      <td>NaN</td>\n    </tr>\n    <tr>\n      <th>1671234</th>\n      <td>1586822640</td>\n      <td>6885.4</td>\n      <td>6890.0</td>\n      <td>6885.4</td>\n      <td>6882.324156</td>\n      <td>12.893542</td>\n      <td>7</td>\n      <td>0.000000</td>\n      <td>1.726981</td>\n      <td>1.726981</td>\n      <td>...</td>\n      <td>100.000000</td>\n      <td>6880.471836</td>\n      <td>6880.541628</td>\n      <td>0.069792</td>\n      <td>0.002100</td>\n      <td>0.067692</td>\n      <td>NaN</td>\n      <td>NaN</td>\n      <td>NaN</td>\n      <td>NaN</td>\n    </tr>\n    <tr>\n      <th>1671235</th>\n      <td>1586822700</td>\n      <td>6890.0</td>\n      <td>6890.0</td>\n      <td>6880.1</td>\n      <td>6883.060968</td>\n      <td>3.551707</td>\n      <td>23</td>\n      <td>-0.647059</td>\n      <td>0.405441</td>\n      <td>0.405441</td>\n      <td>...</td>\n      <td>100.000000</td>\n      <td>6880.526049</td>\n      <td>6880.646877</td>\n      <td>0.120828</td>\n      <td>0.004709</td>\n      <td>0.116119</td>\n      <td>NaN</td>\n      <td>NaN</td>\n      <td>NaN</td>\n      <td>NaN</td>\n    </tr>\n    <tr>\n      <th>...</th>\n      <td>...</td>\n      <td>...</td>\n      <td>...</td>\n      <td>...</td>\n      <td>...</td>\n      <td>...</td>\n      <td>...</td>\n      <td>...</td>\n      <td>...</td>\n      <td>...</td>\n      <td>...</td>\n      <td>...</td>\n      <td>...</td>\n      <td>...</td>\n      <td>...</td>\n      <td>...</td>\n      <td>...</td>\n      <td>...</td>\n      <td>...</td>\n      <td>...</td>\n      <td>...</td>\n    </tr>\n    <tr>\n      <th>1671572</th>\n      <td>1586843580</td>\n      <td>6889.3</td>\n      <td>6889.4</td>\n      <td>6889.3</td>\n      <td>6890.753099</td>\n      <td>0.019640</td>\n      <td>8</td>\n      <td>0.000000</td>\n      <td>-0.571414</td>\n      <td>0.000000</td>\n      <td>...</td>\n      <td>48.160600</td>\n      <td>6897.298203</td>\n      <td>6898.527578</td>\n      <td>1.229375</td>\n      <td>4.812057</td>\n      <td>-3.582682</td>\n      <td>6883.5</td>\n      <td>6928.5</td>\n      <td>84.696388</td>\n      <td>NaN</td>\n    </tr>\n    <tr>\n      <th>1671573</th>\n      <td>1586843640</td>\n      <td>6892.0</td>\n      <td>6892.0</td>\n      <td>6892.0</td>\n      <td>6890.526256</td>\n      <td>0.008596</td>\n      <td>3</td>\n      <td>0.000000</td>\n      <td>-0.087213</td>\n      <td>0.000000</td>\n      <td>...</td>\n      <td>48.116836</td>\n      <td>6897.182520</td>\n      <td>6898.257802</td>\n      <td>1.075282</td>\n      <td>4.729930</td>\n      <td>-3.654648</td>\n      <td>6883.5</td>\n      <td>6928.5</td>\n      <td>84.890195</td>\n      <td>NaN</td>\n    </tr>\n    <tr>\n      <th>1671574</th>\n      <td>1586843700</td>\n      <td>6892.0</td>\n      <td>6892.1</td>\n      <td>6892.0</td>\n      <td>6890.533830</td>\n      <td>0.211031</td>\n      <td>8</td>\n      <td>0.000000</td>\n      <td>0.241992</td>\n      <td>0.241992</td>\n      <td>...</td>\n      <td>48.248787</td>\n      <td>6897.072750</td>\n      <td>6898.004806</td>\n      <td>0.932056</td>\n      <td>4.646460</td>\n      <td>-3.714405</td>\n      <td>6883.5</td>\n      <td>6928.5</td>\n      <td>84.352435</td>\n      <td>NaN</td>\n    </tr>\n    <tr>\n      <th>1671575</th>\n      <td>1586843820</td>\n      <td>6892.0</td>\n      <td>6892.0</td>\n      <td>6892.0</td>\n      <td>6890.709853</td>\n      <td>0.001626</td>\n      <td>2</td>\n      <td>0.000000</td>\n      <td>0.344471</td>\n      <td>0.344471</td>\n      <td>...</td>\n      <td>48.437553</td>\n      <td>6896.970488</td>\n      <td>6897.771398</td>\n      <td>0.800911</td>\n      <td>4.561943</td>\n      <td>-3.761032</td>\n      <td>6883.5</td>\n      <td>6928.5</td>\n      <td>83.586944</td>\n      <td>NaN</td>\n    </tr>\n    <tr>\n      <th>1671576</th>\n      <td>1586843880</td>\n      <td>6892.1</td>\n      <td>6900.4</td>\n      <td>6892.1</td>\n      <td>6891.485019</td>\n      <td>1.448809</td>\n      <td>8</td>\n      <td>0.000000</td>\n      <td>1.374311</td>\n      <td>1.374311</td>\n      <td>...</td>\n      <td>49.185337</td>\n      <td>6896.892631</td>\n      <td>6897.590703</td>\n      <td>0.698071</td>\n      <td>4.477022</td>\n      <td>-3.778951</td>\n      <td>6883.5</td>\n      <td>6928.5</td>\n      <td>80.532919</td>\n      <td>NaN</td>\n    </tr>\n  </tbody>\n</table>\n<p>346 rows × 23 columns</p>\n</div>"
     },
     "metadata": {},
     "execution_count": 14
    }
   ],
   "source": [
    "dataset"
   ]
  },
  {
   "cell_type": "markdown",
   "metadata": {},
   "source": [
    "<h3>Models</h3>\n",
    "<p>Linear Regression </p>\n",
    "<p>Random Forest</p>\n",
    "<p>Gradeint Boosting</p>\n",
    "<p>Neural Network</p>"
   ]
  },
  {
   "cell_type": "code",
   "execution_count": null,
   "metadata": {},
   "outputs": [],
   "source": []
  }
 ]
}