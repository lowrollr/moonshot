{
 "metadata": {
  "language_info": {
   "codemirror_mode": {
    "name": "ipython",
    "version": 3
   },
   "file_extension": ".py",
   "mimetype": "text/x-python",
   "name": "python",
   "nbconvert_exporter": "python",
   "pygments_lexer": "ipython3",
   "version": "3.8.5-final"
  },
  "orig_nbformat": 2,
  "kernelspec": {
   "name": "python38564bitbf960d00bf8447f58cc83a94e3f130e4",
   "display_name": "Python 3.8.5 64-bit",
   "metadata": {
    "interpreter": {
     "hash": "31f2aee4e71d21fbe5cf8b01ff0e069b9275f58929596ceb00d14d90e3e16cd6"
    }
   }
  }
 },
 "nbformat": 4,
 "nbformat_minor": 2,
 "cells": [
  {
   "cell_type": "code",
   "execution_count": 1,
   "metadata": {},
   "outputs": [
    {
     "output_type": "stream",
     "name": "stdout",
     "text": "/Users/rosscopeland/Desktop/personal/code/vivaldi/back_testing\n"
    }
   ],
   "source": [
    "import pandas as pd\n",
    "import os\n",
    "os.chdir('../../../../')\n",
    "print(os.getcwd())\n",
    "from v2.model import Trading"
   ]
  },
  {
   "cell_type": "code",
   "execution_count": 2,
   "metadata": {},
   "outputs": [],
   "source": [
    "import sys\n",
    "from v2.model import Trading\n",
    "from v2.strategy.indicators.smma import SMMA\n",
    "from v2.strategy.indicators.stochastic_oscillator import StochasticOscillator\n",
    "from v2.strategy.indicators.bollinger_bands import BollingerBands\n",
    "from v2.strategy.indicators.rsi import RSI\n",
    "from v2.strategy.indicators.macd import MACD\n",
    "from v2.strategy.indicators.param import Param\n",
    "import collections\n",
    "import numpy as np\n",
    "import matplotlib.pyplot as plt"
   ]
  },
  {
   "cell_type": "code",
   "execution_count": 3,
   "metadata": {},
   "outputs": [],
   "source": [
    "from sklearn.ensemble import RandomForestClassifier\n",
    "from xgboost import XGBClassifier\n",
    "from sklearn.tree import DecisionTreeClassifier\n",
    "from sklearn.model_selection import train_test_split\n",
    "from sklearn.linear_model import LogisticRegression\n",
    "from sklearn.svm import SVC\n",
    "from sklearn.metrics import confusion_matrix"
   ]
  },
  {
   "cell_type": "code",
   "execution_count": 25,
   "metadata": {},
   "outputs": [],
   "source": [
    "import tensorflow as tf\n",
    "from tensorflow.keras.models import Sequential\n",
    "from tensorflow.keras.layers import Dense, Dropout, LSTM, RNN, BatchNormalization\n",
    "from tensorflow.keras.utils import to_categorical \n",
    "from keras.optimizers import SGD"
   ]
  },
  {
   "cell_type": "code",
   "execution_count": 5,
   "metadata": {},
   "outputs": [],
   "source": [
    "def load_config():\n",
    "    my_config = {}\n",
    "    with open('config.config') as config:\n",
    "        for line in config:\n",
    "            args = line.split('=')\n",
    "            my_config[args[0]] = args[1].rstrip().split(',')\n",
    "    return my_config\n",
    "\n",
    "model = Trading(load_config())"
   ]
  },
  {
   "cell_type": "code",
   "execution_count": 6,
   "metadata": {},
   "outputs": [],
   "source": [
    "#only one data set rn\n",
    "if len(model.dfs) != 1:\n",
    "    raise ValueError(\"only one dataset to be used here\")\n",
    "\n",
    "dataset = model.dfs[0][0]\n",
    "buy_prices = []\n",
    "buy_times = []\n",
    "sell_prices = []\n",
    "sell_times = []\n",
    "name = ''\n",
    "candle, buys, sells = None, None, None\n",
    "fee = 0.0026\n",
    "\n",
    "\n",
    "cur_min = sys.maxsize\n",
    "cur_max = 0.00\n",
    "cur_min_time = 00.0\n",
    "cur_max_time = 00.0\n",
    "last_buy_price = 000.00\n",
    "last_buy_time = 000.00\n",
    "sell_time = 0000.0\n",
    "looking_for_buy = True\n",
    "for row in dataset.itertuples():\n",
    "    close = row.close\n",
    "    time = row.time\n",
    "    if looking_for_buy:\n",
    "        if close < cur_min:\n",
    "            cur_min = close\n",
    "            cur_min_time = time\n",
    "            cur_max = close\n",
    "            cur_max_time = time\n",
    "        elif close > cur_max:\n",
    "            cur_max = close\n",
    "            cur_max_time = time\n",
    "            delta = cur_max - cur_min\n",
    "            if delta > ((cur_min * fee) + (cur_max * fee)):\n",
    "                looking_for_buy = False\n",
    "                last_buy_price = cur_min\n",
    "                last_buy_time = cur_min_time\n",
    "    else:\n",
    "        trade_fee = ((cur_min * fee) + (cur_max * fee))\n",
    "        if close > cur_max:\n",
    "            cur_max = close\n",
    "            cur_max_time = time\n",
    "        elif close < cur_max - trade_fee:\n",
    "            looking_for_buy = True\n",
    "            buy_prices.append(cur_min)\n",
    "            buy_times.append(cur_min_time)\n",
    "            sell_prices.append(cur_max)\n",
    "            sell_times.append(cur_max_time)\n",
    "            cur_min = close\n",
    "            cur_min_time = time\n",
    "            cur_max = close\n",
    "            cur_max_time = time"
   ]
  },
  {
   "cell_type": "code",
   "execution_count": 7,
   "metadata": {},
   "outputs": [],
   "source": [
    "#making set of buy and sell times\n",
    "optimal_buy_times = set(sell_times)\n",
    "optimal_sell_times = set(buy_times)"
   ]
  },
  {
   "cell_type": "code",
   "execution_count": 8,
   "metadata": {},
   "outputs": [],
   "source": [
    "def identify_peak_trough(row):\n",
    "    if row.time in optimal_buy_times and row.time in optimal_sell_times:\n",
    "        raise ValueError(\"There's something wrong with the algo\")\n",
    "    elif row.time in optimal_buy_times:\n",
    "        return -1\n",
    "    elif row.time in optimal_sell_times:\n",
    "        return 1\n",
    "    else:\n",
    "        return 0"
   ]
  },
  {
   "cell_type": "code",
   "execution_count": 9,
   "metadata": {},
   "outputs": [],
   "source": [
    "dataset[\"peak_trough_wait\"] = dataset.apply(lambda x: identify_peak_trough(x), axis=1)"
   ]
  },
  {
   "cell_type": "code",
   "execution_count": 10,
   "metadata": {},
   "outputs": [
    {
     "output_type": "stream",
     "name": "stdout",
     "text": "33601 33601\n"
    }
   ],
   "source": [
    "print(len(optimal_buy_times), len(optimal_sell_times))"
   ]
  },
  {
   "cell_type": "code",
   "execution_count": 11,
   "metadata": {},
   "outputs": [],
   "source": [
    "#lets add in some indicators\n",
    "training_set = dataset\n",
    "appended_dataset = pd.DataFrame()\n",
    "ema_fast = Param(5, 10000, 0, 'ema_fast', 60)\n",
    "ema_slow = Param(6, 10001, 0, 'ema_slow', 120)\n",
    "signal = Param(5, 10001, 0, 'signal', 90)\n",
    "macd_ = MACD(_params=[ema_fast, ema_slow, signal], _name='macd')\n",
    "macd_.genData(training_set, gen_new_values=False)\n",
    "boll_period = Param(5, 10000, 0, 'period', 90)\n",
    "boll_bands = BollingerBands(_params=[boll_period], _name='bollinger_bands')\n",
    "boll_bands.genData(training_set, gen_new_values=False)\n",
    "stoch_highlow = Param(5, 10000, 0, 'highlow_range', 90.0)\n",
    "stoch_k = Param(5, 10000, 0, 'k_period', 270.0)\n",
    "stoch_oscillator = StochasticOscillator(_params=[stoch_highlow, stoch_k], _name='stochastic_oscillator')\n",
    "stoch_oscillator.genData(training_set, gen_new_values=False)\n",
    "rsi_period = Param(5, 10000, 0, 'period', 90.0)\n",
    "rsi_ = RSI(_params=[rsi_period], _name='rsi')\n",
    "rsi_.genData(training_set, gen_new_values=False)\n",
    "smma_period = Param(5, 10000, 0, 'period', 90.0)\n",
    "smma_ = SMMA(_params=[smma_period], _name='smma')\n",
    "smma_.genData(training_set, gen_new_values=False)\n",
    "training_set['slope'] = (training_set['close'].rolling(window=30).max() - training_set['close'].rolling(window=30).min()) / training_set['close'].rolling(window=30).max()\n",
    "training_set = training_set.dropna()\n",
    "appended_dataset = appended_dataset.append(training_set)"
   ]
  },
  {
   "cell_type": "code",
   "execution_count": 12,
   "metadata": {},
   "outputs": [],
   "source": [
    "#add timing data\n",
    "date = pd.to_datetime(appended_dataset['time'], unit='s')\n",
    "appended_dataset[\"DayOfWeek\"] = date.dt.dayofweek\n",
    "appended_dataset[\"DayOfMonth\"] = date.dt.day\n",
    "appended_dataset[\"DayOfYear\"] = date.dt.dayofyear\n",
    "appended_dataset[\"Week\"] = date.dt.dayofyear\n",
    "appended_dataset['Month'] = date.dt.month\n",
    "appended_dataset['Year'] = date.dt.year -2013\n",
    "appended_dataset[\"hour\"] = date.dt.hour\n",
    "appended_dataset[\"minute\"] = date.dt.minute"
   ]
  },
  {
   "cell_type": "code",
   "execution_count": 13,
   "metadata": {},
   "outputs": [
    {
     "output_type": "execute_result",
     "data": {
      "text/plain": "               time        open        high         low       close    volume  \\\n358      1383503820   207.67198   207.67198   207.67198   207.67198  0.100000   \n359      1383505860   207.43988   207.43988   206.89000   207.01377  1.263692   \n360      1383507660   207.59295   207.75000   207.59295   207.75000  0.100000   \n361      1383507720   207.75000   207.75000   207.75000   207.75000  0.100000   \n362      1383510600   207.75000   207.75000   207.75000   207.75000  0.314611   \n...             ...         ...         ...         ...         ...       ...   \n1737853  1590987240  9548.10000  9549.80000  9548.10000  9549.80000  0.599862   \n1737854  1590987300  9546.20000  9546.20000  9546.20000  9546.20000  0.114211   \n1737855  1590987360  9547.40000  9547.40000  9544.00000  9545.20000  7.608574   \n1737856  1590987420  9543.90000  9544.00000  9543.90000  9543.90000  0.618188   \n1737857  1590987480  9543.80000  9543.80000  9541.00000  9541.00000  1.717000   \n\n         trades  peak_trough_wait     ema_slow     ema_fast  ...         smma  \\\n358           1                 0   203.646855   205.570957  ...   201.724654   \n359           5                 0   203.702506   205.618262  ...   201.784494   \n360           2                 0   203.769407   205.688155  ...   201.851973   \n361           1                 0   203.835202   205.755757  ...   201.918675   \n362           1                 0   203.899909   205.821142  ...   201.984609   \n...         ...               ...          ...          ...  ...          ...   \n1737853      15                 0  9546.714275  9555.564116  ...  9537.146659   \n1737854       2                 0  9546.705775  9555.257096  ...  9537.247252   \n1737855      15                 0  9546.680886  9554.927355  ...  9537.335616   \n1737856       5                 0  9546.634921  9554.565802  ...  9537.408553   \n1737857       5                 0  9546.541781  9554.121022  ...  9537.448458   \n\n            slope  DayOfWeek  DayOfMonth  DayOfYear  Week  Month  Year  hour  \\\n358      0.013416          6           3        307   307     11     0    18   \n359      0.013416          6           3        307   307     11     0    19   \n360      0.013767          6           3        307   307     11     0    19   \n361      0.012649          6           3        307   307     11     0    19   \n362      0.009771          6           3        307   307     11     0    20   \n...           ...        ...         ...        ...   ...    ...   ...   ...   \n1737853  0.006402          0           1        153   153      6     7     4   \n1737854  0.006402          0           1        153   153      6     7     4   \n1737855  0.006402          0           1        153   153      6     7     4   \n1737856  0.006475          0           1        153   153      6     7     4   \n1737857  0.006777          0           1        153   153      6     7     4   \n\n         minute  \n358          37  \n359          11  \n360          41  \n361          42  \n362          30  \n...         ...  \n1737853      54  \n1737854      55  \n1737855      56  \n1737856      57  \n1737857      58  \n\n[1737224 rows x 37 columns]",
      "text/html": "<div>\n<style scoped>\n    .dataframe tbody tr th:only-of-type {\n        vertical-align: middle;\n    }\n\n    .dataframe tbody tr th {\n        vertical-align: top;\n    }\n\n    .dataframe thead th {\n        text-align: right;\n    }\n</style>\n<table border=\"1\" class=\"dataframe\">\n  <thead>\n    <tr style=\"text-align: right;\">\n      <th></th>\n      <th>time</th>\n      <th>open</th>\n      <th>high</th>\n      <th>low</th>\n      <th>close</th>\n      <th>volume</th>\n      <th>trades</th>\n      <th>peak_trough_wait</th>\n      <th>ema_slow</th>\n      <th>ema_fast</th>\n      <th>...</th>\n      <th>smma</th>\n      <th>slope</th>\n      <th>DayOfWeek</th>\n      <th>DayOfMonth</th>\n      <th>DayOfYear</th>\n      <th>Week</th>\n      <th>Month</th>\n      <th>Year</th>\n      <th>hour</th>\n      <th>minute</th>\n    </tr>\n  </thead>\n  <tbody>\n    <tr>\n      <th>358</th>\n      <td>1383503820</td>\n      <td>207.67198</td>\n      <td>207.67198</td>\n      <td>207.67198</td>\n      <td>207.67198</td>\n      <td>0.100000</td>\n      <td>1</td>\n      <td>0</td>\n      <td>203.646855</td>\n      <td>205.570957</td>\n      <td>...</td>\n      <td>201.724654</td>\n      <td>0.013416</td>\n      <td>6</td>\n      <td>3</td>\n      <td>307</td>\n      <td>307</td>\n      <td>11</td>\n      <td>0</td>\n      <td>18</td>\n      <td>37</td>\n    </tr>\n    <tr>\n      <th>359</th>\n      <td>1383505860</td>\n      <td>207.43988</td>\n      <td>207.43988</td>\n      <td>206.89000</td>\n      <td>207.01377</td>\n      <td>1.263692</td>\n      <td>5</td>\n      <td>0</td>\n      <td>203.702506</td>\n      <td>205.618262</td>\n      <td>...</td>\n      <td>201.784494</td>\n      <td>0.013416</td>\n      <td>6</td>\n      <td>3</td>\n      <td>307</td>\n      <td>307</td>\n      <td>11</td>\n      <td>0</td>\n      <td>19</td>\n      <td>11</td>\n    </tr>\n    <tr>\n      <th>360</th>\n      <td>1383507660</td>\n      <td>207.59295</td>\n      <td>207.75000</td>\n      <td>207.59295</td>\n      <td>207.75000</td>\n      <td>0.100000</td>\n      <td>2</td>\n      <td>0</td>\n      <td>203.769407</td>\n      <td>205.688155</td>\n      <td>...</td>\n      <td>201.851973</td>\n      <td>0.013767</td>\n      <td>6</td>\n      <td>3</td>\n      <td>307</td>\n      <td>307</td>\n      <td>11</td>\n      <td>0</td>\n      <td>19</td>\n      <td>41</td>\n    </tr>\n    <tr>\n      <th>361</th>\n      <td>1383507720</td>\n      <td>207.75000</td>\n      <td>207.75000</td>\n      <td>207.75000</td>\n      <td>207.75000</td>\n      <td>0.100000</td>\n      <td>1</td>\n      <td>0</td>\n      <td>203.835202</td>\n      <td>205.755757</td>\n      <td>...</td>\n      <td>201.918675</td>\n      <td>0.012649</td>\n      <td>6</td>\n      <td>3</td>\n      <td>307</td>\n      <td>307</td>\n      <td>11</td>\n      <td>0</td>\n      <td>19</td>\n      <td>42</td>\n    </tr>\n    <tr>\n      <th>362</th>\n      <td>1383510600</td>\n      <td>207.75000</td>\n      <td>207.75000</td>\n      <td>207.75000</td>\n      <td>207.75000</td>\n      <td>0.314611</td>\n      <td>1</td>\n      <td>0</td>\n      <td>203.899909</td>\n      <td>205.821142</td>\n      <td>...</td>\n      <td>201.984609</td>\n      <td>0.009771</td>\n      <td>6</td>\n      <td>3</td>\n      <td>307</td>\n      <td>307</td>\n      <td>11</td>\n      <td>0</td>\n      <td>20</td>\n      <td>30</td>\n    </tr>\n    <tr>\n      <th>...</th>\n      <td>...</td>\n      <td>...</td>\n      <td>...</td>\n      <td>...</td>\n      <td>...</td>\n      <td>...</td>\n      <td>...</td>\n      <td>...</td>\n      <td>...</td>\n      <td>...</td>\n      <td>...</td>\n      <td>...</td>\n      <td>...</td>\n      <td>...</td>\n      <td>...</td>\n      <td>...</td>\n      <td>...</td>\n      <td>...</td>\n      <td>...</td>\n      <td>...</td>\n      <td>...</td>\n    </tr>\n    <tr>\n      <th>1737853</th>\n      <td>1590987240</td>\n      <td>9548.10000</td>\n      <td>9549.80000</td>\n      <td>9548.10000</td>\n      <td>9549.80000</td>\n      <td>0.599862</td>\n      <td>15</td>\n      <td>0</td>\n      <td>9546.714275</td>\n      <td>9555.564116</td>\n      <td>...</td>\n      <td>9537.146659</td>\n      <td>0.006402</td>\n      <td>0</td>\n      <td>1</td>\n      <td>153</td>\n      <td>153</td>\n      <td>6</td>\n      <td>7</td>\n      <td>4</td>\n      <td>54</td>\n    </tr>\n    <tr>\n      <th>1737854</th>\n      <td>1590987300</td>\n      <td>9546.20000</td>\n      <td>9546.20000</td>\n      <td>9546.20000</td>\n      <td>9546.20000</td>\n      <td>0.114211</td>\n      <td>2</td>\n      <td>0</td>\n      <td>9546.705775</td>\n      <td>9555.257096</td>\n      <td>...</td>\n      <td>9537.247252</td>\n      <td>0.006402</td>\n      <td>0</td>\n      <td>1</td>\n      <td>153</td>\n      <td>153</td>\n      <td>6</td>\n      <td>7</td>\n      <td>4</td>\n      <td>55</td>\n    </tr>\n    <tr>\n      <th>1737855</th>\n      <td>1590987360</td>\n      <td>9547.40000</td>\n      <td>9547.40000</td>\n      <td>9544.00000</td>\n      <td>9545.20000</td>\n      <td>7.608574</td>\n      <td>15</td>\n      <td>0</td>\n      <td>9546.680886</td>\n      <td>9554.927355</td>\n      <td>...</td>\n      <td>9537.335616</td>\n      <td>0.006402</td>\n      <td>0</td>\n      <td>1</td>\n      <td>153</td>\n      <td>153</td>\n      <td>6</td>\n      <td>7</td>\n      <td>4</td>\n      <td>56</td>\n    </tr>\n    <tr>\n      <th>1737856</th>\n      <td>1590987420</td>\n      <td>9543.90000</td>\n      <td>9544.00000</td>\n      <td>9543.90000</td>\n      <td>9543.90000</td>\n      <td>0.618188</td>\n      <td>5</td>\n      <td>0</td>\n      <td>9546.634921</td>\n      <td>9554.565802</td>\n      <td>...</td>\n      <td>9537.408553</td>\n      <td>0.006475</td>\n      <td>0</td>\n      <td>1</td>\n      <td>153</td>\n      <td>153</td>\n      <td>6</td>\n      <td>7</td>\n      <td>4</td>\n      <td>57</td>\n    </tr>\n    <tr>\n      <th>1737857</th>\n      <td>1590987480</td>\n      <td>9543.80000</td>\n      <td>9543.80000</td>\n      <td>9541.00000</td>\n      <td>9541.00000</td>\n      <td>1.717000</td>\n      <td>5</td>\n      <td>0</td>\n      <td>9546.541781</td>\n      <td>9554.121022</td>\n      <td>...</td>\n      <td>9537.448458</td>\n      <td>0.006777</td>\n      <td>0</td>\n      <td>1</td>\n      <td>153</td>\n      <td>153</td>\n      <td>6</td>\n      <td>7</td>\n      <td>4</td>\n      <td>58</td>\n    </tr>\n  </tbody>\n</table>\n<p>1737224 rows × 37 columns</p>\n</div>"
     },
     "metadata": {},
     "execution_count": 13
    }
   ],
   "source": [
    "appended_dataset"
   ]
  },
  {
   "cell_type": "code",
   "execution_count": 14,
   "metadata": {},
   "outputs": [],
   "source": [
    "#split the data and such. Split so that may use model predictions as features\n",
    "X = appended_dataset.drop(\"peak_trough_wait\", axis=1)\n",
    "y = appended_dataset[[\"peak_trough_wait\"]]\n",
    "X_train, X_test, y_train, y_test = train_test_split(X, y, test_size=0.2, shuffle=False)"
   ]
  },
  {
   "cell_type": "code",
   "execution_count": 100,
   "metadata": {},
   "outputs": [
    {
     "output_type": "execute_result",
     "data": {
      "text/plain": "0.9113931701420369"
     },
     "metadata": {},
     "execution_count": 100
    }
   ],
   "source": [
    "#lets test out some classifying models\n",
    "#Decision Tree\n",
    "dec_tree = DecisionTreeClassifier()\n",
    "dec_tree.fit(X_train.values, y_train.values)\n",
    "dec_tree.score(X_test.values, y_test.values)\n",
    ""
   ]
  },
  {
   "cell_type": "code",
   "execution_count": 101,
   "metadata": {},
   "outputs": [
    {
     "output_type": "stream",
     "name": "stderr",
     "text": "<ipython-input-101-323335def364>:3: DataConversionWarning:\n\nA column-vector y was passed when a 1d array was expected. Please change the shape of y to (n_samples,), for example using ravel().\n\n"
    },
    {
     "output_type": "execute_result",
     "data": {
      "text/plain": "0.9806818345349624"
     },
     "metadata": {},
     "execution_count": 101
    }
   ],
   "source": [
    "#random forest\n",
    "ran_forest = RandomForestClassifier(n_jobs = -1)\n",
    "ran_forest.fit(X_train.values, y_train.values)\n",
    "ran_forest.score(X_test.values, y_test.values)"
   ]
  },
  {
   "cell_type": "code",
   "execution_count": 21,
   "metadata": {},
   "outputs": [
    {
     "output_type": "stream",
     "name": "stdout",
     "text": "30264 1329251 30264\n"
    }
   ],
   "source": [
    "#weights for rf\n",
    "y_vals = y_train.values\n",
    "\n",
    "buy_weight = len([x for x in y_vals if x== -1])\n",
    "sell_weight = len([x for x in y_vals if x == 1])\n",
    "zero_weight = len([x for x in y_vals if x != -1 and x != 1])\n",
    "print(buy_weight, zero_weight, sell_weight)"
   ]
  },
  {
   "cell_type": "code",
   "execution_count": 103,
   "metadata": {},
   "outputs": [
    {
     "output_type": "stream",
     "name": "stderr",
     "text": "<ipython-input-103-1a9723687244>:4: DataConversionWarning:\n\nA column-vector y was passed when a 1d array was expected. Please change the shape of y to (n_samples,), for example using ravel().\n\n"
    },
    {
     "output_type": "execute_result",
     "data": {
      "text/plain": "0.9717912187540474"
     },
     "metadata": {},
     "execution_count": 103
    }
   ],
   "source": [
    "#using rf model with weighted classes\n",
    "class_weights = {-1: buy_weight, 0: zero_weight, 1: sell_weight}\n",
    "weight_rf_forest = RandomForestClassifier(n_jobs=-1, class_weight=class_weights)\n",
    "weight_rf_forest.fit(X_train, y_train)\n",
    "weight_rf_forest.score(X_test, y_test)"
   ]
  },
  {
   "cell_type": "code",
   "execution_count": 104,
   "metadata": {},
   "outputs": [
    {
     "output_type": "stream",
     "name": "stderr",
     "text": "/usr/local/lib/python3.8/site-packages/sklearn/utils/validation.py:72: DataConversionWarning:\n\nA column-vector y was passed when a 1d array was expected. Please change the shape of y to (n_samples, ), for example using ravel().\n\n"
    },
    {
     "output_type": "execute_result",
     "data": {
      "text/plain": "0.9789491862021327"
     },
     "metadata": {},
     "execution_count": 104
    }
   ],
   "source": [
    "boost = XGBClassifier(n_jobs= -1)\n",
    "boost.fit(X_train.values, y_train.values)\n",
    "boost.score(X_test.values, y_test.values)"
   ]
  },
  {
   "cell_type": "code",
   "execution_count": 22,
   "metadata": {},
   "outputs": [],
   "source": [
    "#weights for boost\n",
    "boost_weights = []\n",
    "numerator = (zero_weight * buy_weight * sell_weight) / ((zero_weight * buy_weight) + (buy_weight * sell_weight) + (zero_weight * sell_weight))\n",
    "\n",
    "for x in y_vals:\n",
    "    if x == 0:\n",
    "        boost_weights.append(numerator/zero_weight)\n",
    "    elif x == 1:\n",
    "        boost_weights.append(numerator/sell_weight)\n",
    "    elif x == -1:\n",
    "        boost_weights.append(numerator/buy_weight)\n",
    "    else:\n",
    "        raise ValueError(\"this is the value in validation data\")"
   ]
  },
  {
   "cell_type": "code",
   "execution_count": 302,
   "metadata": {},
   "outputs": [
    {
     "output_type": "stream",
     "name": "stderr",
     "text": "/usr/local/lib/python3.8/site-packages/sklearn/utils/validation.py:72: DataConversionWarning:\n\nA column-vector y was passed when a 1d array was expected. Please change the shape of y to (n_samples, ), for example using ravel().\n\n"
    },
    {
     "output_type": "execute_result",
     "data": {
      "text/plain": "0.8742851386550389"
     },
     "metadata": {},
     "execution_count": 302
    }
   ],
   "source": [
    "weights_boost = XGBClassifier(n_jobs= -1)\n",
    "weights_boost.fit(X_train.values, y_train.values, sample_weight=boost_weights)\n",
    "weights_boost.score(X_test.values, y_test.values)"
   ]
  },
  {
   "cell_type": "code",
   "execution_count": 296,
   "metadata": {},
   "outputs": [
    {
     "output_type": "stream",
     "name": "stderr",
     "text": "/usr/local/lib/python3.8/site-packages/sklearn/utils/validation.py:72: DataConversionWarning:\n\nA column-vector y was passed when a 1d array was expected. Please change the shape of y to (n_samples, ), for example using ravel().\n\n"
    },
    {
     "output_type": "execute_result",
     "data": {
      "text/plain": "0.9810675070874527"
     },
     "metadata": {},
     "execution_count": 296
    }
   ],
   "source": [
    "log_weights = {-1: 1/buy_weight, 0: 1/zero_weight, 1: 1/sell_weight}\n",
    "# class_weights = {-1: buy_weight, 0: zero_weight, 1: sell_weight}\n",
    "log_reg = LogisticRegression(class_weight=log_weights)\n",
    "log_reg.fit(X_train.values, y_train.values)\n",
    "log_reg.score(X_test.values, y_test.values)"
   ]
  },
  {
   "cell_type": "code",
   "execution_count": 300,
   "metadata": {},
   "outputs": [
    {
     "output_type": "stream",
     "name": "stdout",
     "text": "Standard Random Forest\nCounter({0: 347069, 1: 297, -1: 79})\n[[    27   3262      0]\n [    52 340612    203]\n [     0   3195     94]] \n\nWeighted Random Forest\nCounter({0: 341052, 1: 3281, -1: 3112})\n[[   698   2591      0]\n [  2414 336059   2394]\n [     0   2402    887]] \n\nDecision Tree\nCounter({0: 319889, -1: 17056, 1: 10500})\n[[   829   2459      1]\n [ 16226 314986   9655]\n [     1   2444    844]] \n\nStandard Boost\nCounter({0: 345541, 1: 1504, -1: 400})\n[[   142   3147      0]\n [   258 339547   1062]\n [     0   2847    442]] \n\nWeighted Boost\nCounter({0: 347445})\n[[     0   3289      0]\n [     0 340867      0]\n [     0   3289      0]] \n\nLogistic Regression\nCounter({0: 347445})\n[[     0   3289      0]\n [     0 340867      0]\n [     0   3289      0]] \n\n"
    }
   ],
   "source": [
    "#analasis of each method\n",
    "rf_pred = ran_forest.predict(X_test.values)\n",
    "rf_weight_pred = weight_rf_forest.predict(X_test.values)\n",
    "dec_pred = dec_tree.predict(X_test.values)\n",
    "boost_pred = boost.predict(X_test.values)\n",
    "weights_boost_pred = weights_boost.predict(X_test.values)\n",
    "log_reg_pred = log_reg.predict(X_test.values)\n",
    "\n",
    "count_rf_pred = collections.Counter(rf_pred)\n",
    "count_rf_weight_pred = collections.Counter(rf_weight_pred)\n",
    "count_dec_pred = collections.Counter(dec_pred)\n",
    "count_boost_pred = collections.Counter(boost_pred)\n",
    "count_weights_boost_pred = collections.Counter(weights_boost_pred)\n",
    "count_log_pred = collections.Counter(log_reg_pred)\n",
    "\n",
    "print(\"Standard Random Forest\")\n",
    "print(count_rf_pred)\n",
    "print(confusion_matrix(y_test.values, rf_pred), \"\\n\")\n",
    "\n",
    "print(\"Weighted Random Forest\")\n",
    "print(count_rf_weight_pred)\n",
    "print(confusion_matrix(y_test.values, rf_weight_pred), \"\\n\")\n",
    "\n",
    "print(\"Decision Tree\")\n",
    "print(count_dec_pred)\n",
    "print(confusion_matrix(y_test.values, dec_pred), \"\\n\")\n",
    "\n",
    "print(\"Standard Boost\")\n",
    "print(count_boost_pred)\n",
    "print(confusion_matrix(y_test.values, boost_pred), \"\\n\")\n",
    "\n",
    "print(\"Weighted Boost\")\n",
    "print(count_weights_boost_pred)\n",
    "print(confusion_matrix(y_test.values, weights_boost_pred), \"\\n\")\n",
    "\n",
    "print(\"Logistic Regression\")\n",
    "print(count_log_pred)\n",
    "print(confusion_matrix(y_test.values, log_reg_pred), \"\\n\")"
   ]
  },
  {
   "cell_type": "code",
   "execution_count": 109,
   "metadata": {},
   "outputs": [
    {
     "output_type": "stream",
     "name": "stderr",
     "text": "<ipython-input-109-d551ebeb4bf7>:9: DataConversionWarning:\n\nA column-vector y was passed when a 1d array was expected. Please change the shape of y to (n_samples,), for example using ravel().\n\n"
    },
    {
     "output_type": "execute_result",
     "data": {
      "text/plain": "0.9113931701420369"
     },
     "metadata": {},
     "execution_count": 109
    }
   ],
   "source": [
    "#dec in RF with just predict not probability of each\n",
    "RF_copy_X_train = X_train.copy()\n",
    "RF_copy_X_test = X_test.copy()\n",
    "\n",
    "RF_copy_X_train[\"dec_tree_pred\"] = dec_tree.predict(X_train.values)\n",
    "RF_copy_X_test[\"dec_tree_pred\"] = dec_tree.predict(X_test.values)\n",
    "\n",
    "rf_dec_mod = RandomForestClassifier(class_weight=class_weights, n_jobs=-1)\n",
    "rf_dec_mod.fit(RF_copy_X_train.values, y_train.values)\n",
    "rf_dec_mod.score(RF_copy_X_test.values, y_test.values)"
   ]
  },
  {
   "cell_type": "code",
   "execution_count": 110,
   "metadata": {},
   "outputs": [
    {
     "output_type": "stream",
     "name": "stderr",
     "text": "/usr/local/lib/python3.8/site-packages/sklearn/utils/validation.py:72: DataConversionWarning:\n\nA column-vector y was passed when a 1d array was expected. Please change the shape of y to (n_samples, ), for example using ravel().\n\n"
    },
    {
     "output_type": "execute_result",
     "data": {
      "text/plain": "0.9113931701420369"
     },
     "metadata": {},
     "execution_count": 110
    }
   ],
   "source": [
    "#dec in boost just predict not probability of each\n",
    "boost_dec_mod = XGBClassifier(n_jobs=-1)\n",
    "boost_dec_mod.fit(RF_copy_X_train.values, y_train.values)\n",
    "boost_dec_mod.score(RF_copy_X_test.values, y_test.values)"
   ]
  },
  {
   "cell_type": "code",
   "execution_count": 111,
   "metadata": {},
   "outputs": [
    {
     "output_type": "stream",
     "name": "stderr",
     "text": "<ipython-input-111-323e58ba5d1f>:9: DataConversionWarning:\n\nA column-vector y was passed when a 1d array was expected. Please change the shape of y to (n_samples,), for example using ravel().\n\n"
    },
    {
     "output_type": "execute_result",
     "data": {
      "text/plain": "0.9726949589143605"
     },
     "metadata": {},
     "execution_count": 111
    }
   ],
   "source": [
    "#boost in RF\n",
    "RF_boost_X_train = X_train.copy()\n",
    "RF_boost_X_test = X_test.copy()\n",
    "\n",
    "RF_boost_X_train[\"boost_pred\"] = boost.predict(X_train.values)\n",
    "RF_boost_X_test[\"boost_pred\"] = boost.predict(X_test.values)\n",
    "\n",
    "rf_boost_mod = RandomForestClassifier(class_weight=class_weights, n_jobs=-1)\n",
    "rf_boost_mod.fit(RF_boost_X_train.values, y_train.values)\n",
    "rf_boost_mod.score(RF_boost_X_test.values, y_test.values)"
   ]
  },
  {
   "cell_type": "code",
   "execution_count": 112,
   "metadata": {},
   "outputs": [
    {
     "output_type": "stream",
     "name": "stderr",
     "text": "<ipython-input-112-64795c7e4025>:17: DataConversionWarning:\n\nA column-vector y was passed when a 1d array was expected. Please change the shape of y to (n_samples,), for example using ravel().\n\n"
    },
    {
     "output_type": "execute_result",
     "data": {
      "text/plain": "0.9559642533350602"
     },
     "metadata": {},
     "execution_count": 112
    }
   ],
   "source": [
    "#boost proba in rf\n",
    "RF_boost_prob_X_train = X_train.copy()\n",
    "RF_boost_prob_X_test = X_test.copy()\n",
    "\n",
    "RF_boost_prob_train_pred = boost.predict_proba(X_train.values)\n",
    "RF_boost_prob_test_pred = boost.predict_proba(X_test.values)\n",
    "\n",
    "RF_boost_prob_X_train[\"neg_val\"] = RF_boost_prob_train_pred[:,0]\n",
    "RF_boost_prob_X_train[\"zero_val\"] = RF_boost_prob_train_pred[:,1]\n",
    "RF_boost_prob_X_train[\"pos_val\"] = RF_boost_prob_train_pred[:,2]\n",
    "\n",
    "RF_boost_prob_X_test[\"neg_val\"] = RF_boost_prob_test_pred[:,0]\n",
    "RF_boost_prob_X_test[\"zero_val\"] = RF_boost_prob_test_pred[:,1]\n",
    "RF_boost_prob_X_test[\"pos_val\"] = RF_boost_prob_test_pred[:,2]\n",
    "\n",
    "rf_boost_prob_mod = RandomForestClassifier(class_weight=class_weights, n_jobs=-1)\n",
    "rf_boost_prob_mod.fit(RF_boost_prob_X_train.values, y_train.values)\n",
    "rf_boost_prob_mod.score(RF_boost_prob_X_test.values, y_test.values)"
   ]
  },
  {
   "cell_type": "code",
   "execution_count": 113,
   "metadata": {},
   "outputs": [
    {
     "output_type": "stream",
     "name": "stderr",
     "text": "/usr/local/lib/python3.8/site-packages/sklearn/utils/validation.py:72: DataConversionWarning:\n\nA column-vector y was passed when a 1d array was expected. Please change the shape of y to (n_samples, ), for example using ravel().\n\n"
    },
    {
     "output_type": "execute_result",
     "data": {
      "text/plain": "0.9717912187540474"
     },
     "metadata": {},
     "execution_count": 113
    }
   ],
   "source": [
    "#RF in boost\n",
    "boost_RF_X_train = X_train.copy()\n",
    "boost_RF_X_test = X_test.copy()\n",
    "\n",
    "boost_RF_X_train[\"rf_pred\"] = weight_rf_forest.predict(X_train.values)\n",
    "boost_RF_X_test[\"rf_pred\"] = weight_rf_forest.predict(X_test.values)\n",
    "\n",
    "boost_rf_mod = XGBClassifier(n_jobs=-1)\n",
    "boost_rf_mod.fit(boost_RF_X_train.values, y_train.values)\n",
    "boost_rf_mod.score(boost_RF_X_test.values, y_test.values)"
   ]
  },
  {
   "cell_type": "code",
   "execution_count": 114,
   "metadata": {},
   "outputs": [
    {
     "output_type": "execute_result",
     "data": {
      "text/plain": "0.9689533595245291"
     },
     "metadata": {},
     "execution_count": 114
    }
   ],
   "source": [
    "#rf proba in boost\n",
    "boost_RF_prob_X_train = X_train.copy()\n",
    "boost_RF_prob_X_test = X_test.copy()\n",
    "\n",
    "boost_RF_prob_train_pred = boost.predict_proba(X_train.values)\n",
    "boost_RF_prob_test_pred = boost.predict_proba(X_test.values)\n",
    "\n",
    "boost_RF_prob_X_train[\"neg_val\"] = boost_RF_prob_train_pred[:,0]\n",
    "boost_RF_prob_X_train[\"zero_val\"] = boost_RF_prob_train_pred[:,1]\n",
    "boost_RF_prob_X_train[\"pos_val\"] = boost_RF_prob_train_pred[:,2]\n",
    "\n",
    "boost_RF_prob_X_test[\"neg_val\"] = boost_RF_prob_test_pred[:,0]\n",
    "boost_RF_prob_X_test[\"zero_val\"] = boost_RF_prob_test_pred[:,1]\n",
    "boost_RF_prob_X_test[\"pos_val\"] = boost_RF_prob_test_pred[:,2]\n",
    "\n",
    "boost_rf_prob_mod = XGBClassifier(n_jobs=-1)\n",
    "boost_rf_prob_mod.fit(boost_RF_prob_X_train.values, y_train.values)\n",
    "boost_rf_prob_mod.score(boost_RF_prob_X_test.values, y_test.values)"
   ]
  },
  {
   "cell_type": "code",
   "execution_count": 115,
   "metadata": {},
   "outputs": [
    {
     "output_type": "stream",
     "name": "stdout",
     "text": "Decision Tree in Random Forest\nCounter({0: 319889, -1: 17056, 1: 10500})\n[[   829   2459      1]\n [ 16226 314986   9655]\n [     1   2444    844]] \n\nDecision Tree in Boost\nCounter({0: 319889, -1: 17056, 1: 10500})\n[[   829   2459      1]\n [ 16226 314986   9655]\n [     1   2444    844]]\nBoost in RF\nCounter({0: 341634, 1: 3142, -1: 2669})\n[[   597   2692      0]\n [  2072 336507   2288]\n [     0   2435    854]]\nBoost probabilities in RF\nCounter({0: 333465, 1: 7634, -1: 6346})\n[[  1138   2151      0]\n [  5208 329516   6143]\n [     0   1798   1491]]\nRF in Boost\nCounter({0: 341052, 1: 3281, -1: 3112})\n[[   698   2591      0]\n [  2414 336059   2394]\n [     0   2402    887]]\nRF probabilities in Boost\nCounter({0: 340050, 1: 4315, -1: 3080})\n[[   616   2673      0]\n [  2464 335065   3338]\n [     0   2312    977]]\n"
    }
   ],
   "source": [
    "#analysis of model in model\n",
    "rf_dec_pred = rf_dec_mod.predict(RF_copy_X_test.values)\n",
    "boost_dec_pred = boost_dec_mod.predict(RF_copy_X_test.values)\n",
    "rf_boost_mod_pred = rf_boost_mod.predict(RF_boost_X_test.values)\n",
    "rf_boost_prob_mod_pred = rf_boost_prob_mod.predict(RF_boost_prob_X_test.values)\n",
    "boost_rf_mod_pred = boost_rf_mod.predict(boost_RF_X_test.values)\n",
    "boost_rf_prob_mod_pred = boost_rf_prob_mod.predict(boost_RF_prob_X_test.values)\n",
    "\n",
    "count_rf_dec = collections.Counter(rf_dec_pred)\n",
    "count_boost_dec = collections.Counter(boost_dec_pred)\n",
    "count_rf_boost_mod = collections.Counter(rf_boost_mod_pred)\n",
    "count_rf_boost_prob_mod = collections.Counter(rf_boost_prob_mod_pred)\n",
    "count_boost_rf_mod = collections.Counter(boost_rf_mod_pred)\n",
    "count_boost_rf_prob_mod = collections.Counter(boost_rf_prob_mod_pred)\n",
    "\n",
    "print(\"Decision Tree in Random Forest\")\n",
    "print(count_rf_dec)\n",
    "print(confusion_matrix(y_test.values, rf_dec_pred), \"\\n\")\n",
    "\n",
    "print(\"Decision Tree in Boost\")\n",
    "print(count_boost_dec)\n",
    "print(confusion_matrix(y_test.values, boost_dec_pred))\n",
    "\n",
    "print(\"Boost in RF\")\n",
    "print(count_rf_boost_mod)\n",
    "print(confusion_matrix(y_test.values, rf_boost_mod_pred))\n",
    "\n",
    "print(\"Boost probabilities in RF\")\n",
    "print(count_rf_boost_prob_mod)\n",
    "print(confusion_matrix(y_test.values, rf_boost_prob_mod_pred))\n",
    "\n",
    "print(\"RF in Boost\")\n",
    "print(count_boost_rf_mod)\n",
    "print(confusion_matrix(y_test.values, boost_rf_mod_pred))\n",
    "\n",
    "print(\"RF probabilities in Boost\")\n",
    "print(count_boost_rf_prob_mod)\n",
    "print(confusion_matrix(y_test.values, boost_rf_prob_mod_pred))"
   ]
  },
  {
   "cell_type": "code",
   "execution_count": 303,
   "metadata": {},
   "outputs": [
    {
     "output_type": "stream",
     "name": "stderr",
     "text": "/usr/local/lib/python3.8/site-packages/sklearn/utils/validation.py:72: DataConversionWarning:\n\nA column-vector y was passed when a 1d array was expected. Please change the shape of y to (n_samples, ), for example using ravel().\n\n"
    },
    {
     "output_type": "execute_result",
     "data": {
      "text/plain": "0.9717912187540474"
     },
     "metadata": {},
     "execution_count": 303
    }
   ],
   "source": [
    "#this is the boost with the correct weights\n",
    "#weighted RF in weighted boost\n",
    "#weighted proba in weighted boost\n",
    "#dec in weighted boost\n",
    "#dec proba in weighted boost\n",
    "#weighted boost in weighted rf\n",
    "#weighted boost proba in weighted rf\n",
    "weight_boost_rf_X_train = X_train.copy()\n",
    "weight_boost_rf_X_test = X_test.copy()\n",
    "\n",
    "weight_boost_rf_X_train[\"rf_pred\"] = weight_rf_forest.predict(X_train.values)\n",
    "weight_boost_rf_X_test[\"rf_pred\"] = weight_rf_forest.predict(X_test.values)\n",
    "\n",
    "weight_boost_rf_mod = XGBClassifier(n_jobs= -1)\n",
    "weight_boost_rf_mod.fit(weight_boost_rf_X_train.values, y_train.values, sample_weight=boost_weights)\n",
    "weight_boost_rf_mod.score(weight_boost_rf_X_test.values, y_test.values)"
   ]
  },
  {
   "cell_type": "code",
   "execution_count": 304,
   "metadata": {},
   "outputs": [
    {
     "output_type": "stream",
     "name": "stderr",
     "text": "/usr/local/lib/python3.8/site-packages/sklearn/utils/validation.py:72: DataConversionWarning:\n\nA column-vector y was passed when a 1d array was expected. Please change the shape of y to (n_samples, ), for example using ravel().\n\n"
    },
    {
     "output_type": "execute_result",
     "data": {
      "text/plain": "0.9676322871245808"
     },
     "metadata": {},
     "execution_count": 304
    }
   ],
   "source": [
    "w_boost_rf_proba_X_train = X_train.copy()\n",
    "w_boost_rf_proba_X_test = X_test.copy()\n",
    "\n",
    "X_train_rf_predict = weight_rf_forest.predict_proba(X_train.values)\n",
    "X_test_rf_predict = weight_rf_forest.predict_proba(X_test.values)\n",
    "\n",
    "w_boost_rf_proba_X_train[\"neg_weight\"] = X_train_rf_predict[:,0]\n",
    "w_boost_rf_proba_X_train[\"zero_weight\"] = X_train_rf_predict[:,1]\n",
    "w_boost_rf_proba_X_train[\"pos_weight\"] = X_train_rf_predict[:,2]\n",
    "\n",
    "w_boost_rf_proba_X_test[\"neg_weight\"] = X_test_rf_predict[:,0]\n",
    "w_boost_rf_proba_X_test[\"zero_weight\"] = X_test_rf_predict[:,1]\n",
    "w_boost_rf_proba_X_test[\"pos_weight\"] = X_test_rf_predict[:,2]\n",
    "\n",
    "w_boost_rf_proba_mod = XGBClassifier(n_jobs= -1)\n",
    "w_boost_rf_proba_mod.fit(w_boost_rf_proba_X_train.values, y_train.values, sample_weight=boost_weights)\n",
    "w_boost_rf_proba_mod.score(w_boost_rf_proba_X_test.values, y_test.values)"
   ]
  },
  {
   "cell_type": "code",
   "execution_count": 305,
   "metadata": {},
   "outputs": [
    {
     "output_type": "stream",
     "name": "stderr",
     "text": "/usr/local/lib/python3.8/site-packages/sklearn/utils/validation.py:72: DataConversionWarning:\n\nA column-vector y was passed when a 1d array was expected. Please change the shape of y to (n_samples, ), for example using ravel().\n\n"
    },
    {
     "output_type": "execute_result",
     "data": {
      "text/plain": "0.9113931701420369"
     },
     "metadata": {},
     "execution_count": 305
    }
   ],
   "source": [
    "#dec in weighted boost\n",
    "weight_boost_dec_X_train = X_train.copy()\n",
    "weight_boost_dec_X_test = X_test.copy()\n",
    "\n",
    "weight_boost_dec_X_train[\"dec_pred\"] = dec_tree.predict(X_train.values)\n",
    "weight_boost_dec_X_test[\"dec_pred\"] = dec_tree.predict(X_test.values)\n",
    "\n",
    "weight_boost_dec_mod = XGBClassifier(n_jobs= -1)\n",
    "weight_boost_dec_mod.fit(weight_boost_dec_X_train.values, y_train.values, sample_weight=boost_weights)\n",
    "weight_boost_dec_mod.score(weight_boost_dec_X_test.values, y_test.values)"
   ]
  },
  {
   "cell_type": "code",
   "execution_count": 306,
   "metadata": {},
   "outputs": [
    {
     "output_type": "stream",
     "name": "stderr",
     "text": "/usr/local/lib/python3.8/site-packages/sklearn/utils/validation.py:72: DataConversionWarning:\n\nA column-vector y was passed when a 1d array was expected. Please change the shape of y to (n_samples, ), for example using ravel().\n\n"
    },
    {
     "output_type": "execute_result",
     "data": {
      "text/plain": "0.9113931701420369"
     },
     "metadata": {},
     "execution_count": 306
    }
   ],
   "source": [
    "#dec proba in weighted boost\n",
    "w_boost_dec_train_X = X_train.copy()\n",
    "w_boost_dec_test_X = X_test.copy()\n",
    "\n",
    "X_train_dec_predict = dec_tree.predict_proba(X_train.values)\n",
    "X_test_dec_predict = dec_tree.predict_proba(X_test.values)\n",
    "\n",
    "w_boost_dec_train_X[\"neg_weight\"] = X_train_dec_predict[:,0]\n",
    "w_boost_dec_train_X[\"zero_weight\"] = X_train_dec_predict[:,1]\n",
    "w_boost_dec_train_X[\"pos_weight\"] = X_train_dec_predict[:,2]\n",
    "\n",
    "w_boost_dec_test_X[\"neg_weight\"] = X_test_dec_predict[:,0]\n",
    "w_boost_dec_test_X[\"zero_weight\"] = X_test_dec_predict[:,1]\n",
    "w_boost_dec_test_X[\"pos_weight\"] = X_test_dec_predict[:,2]\n",
    "\n",
    "w_boost_probs_mod = XGBClassifier(n_jobs= -1)\n",
    "w_boost_probs_mod.fit(w_boost_dec_train_X.values, y_train.values, sample_weight=boost_weights)\n",
    "w_boost_probs_mod.score(w_boost_dec_test_X.values, y_test.values)"
   ]
  },
  {
   "cell_type": "code",
   "execution_count": 307,
   "metadata": {},
   "outputs": [
    {
     "output_type": "stream",
     "name": "stderr",
     "text": "<ipython-input-307-5a5262a170fb>:9: DataConversionWarning:\n\nA column-vector y was passed when a 1d array was expected. Please change the shape of y to (n_samples,), for example using ravel().\n\n"
    },
    {
     "output_type": "execute_result",
     "data": {
      "text/plain": "0.9680150815236944"
     },
     "metadata": {},
     "execution_count": 307
    }
   ],
   "source": [
    "#w boost in RF\n",
    "RF_w_boost_X_train = X_train.copy()\n",
    "RF_w_boost_X_test = X_test.copy()\n",
    "\n",
    "RF_w_boost_X_train[\"boost_pred\"] = weights_boost.predict(X_train.values)\n",
    "RF_w_boost_X_test[\"boost_pred\"] = weights_boost.predict(X_test.values)\n",
    "\n",
    "rf_w_boost_mod = RandomForestClassifier(class_weight=class_weights, n_jobs=-1)\n",
    "rf_w_boost_mod.fit(RF_w_boost_X_train.values, y_train.values)\n",
    "rf_w_boost_mod.score(RF_w_boost_X_test.values, y_test.values)"
   ]
  },
  {
   "cell_type": "code",
   "execution_count": 308,
   "metadata": {},
   "outputs": [
    {
     "output_type": "stream",
     "name": "stderr",
     "text": "<ipython-input-308-f0e3100bcb3a>:18: DataConversionWarning:\n\nA column-vector y was passed when a 1d array was expected. Please change the shape of y to (n_samples,), for example using ravel().\n\n"
    },
    {
     "output_type": "execute_result",
     "data": {
      "text/plain": "0.9569572162500539"
     },
     "metadata": {},
     "execution_count": 308
    }
   ],
   "source": [
    "#w boost proba in RF\n",
    "#dec in RF with dec probability\n",
    "rf_w_boost_train_X = X_train.copy()\n",
    "rf_w_boost_test_X = X_test.copy()\n",
    "\n",
    "X_train_w_boost_predict = weights_boost.predict_proba(X_train.values)\n",
    "X_test_w_boost_predict = weights_boost.predict_proba(X_test.values)\n",
    "\n",
    "rf_w_boost_train_X[\"neg_weight\"] = X_train_w_boost_predict[:,0]\n",
    "rf_w_boost_train_X[\"zero_weight\"] = X_train_w_boost_predict[:,1]\n",
    "rf_w_boost_train_X[\"pos_weight\"] = X_train_w_boost_predict[:,2]\n",
    "\n",
    "rf_w_boost_test_X[\"neg_weight\"] = X_test_w_boost_predict[:,0]\n",
    "rf_w_boost_test_X[\"zero_weight\"] = X_test_w_boost_predict[:,1]\n",
    "rf_w_boost_test_X[\"pos_weight\"] = X_test_w_boost_predict[:,2]\n",
    "\n",
    "rf_probs_w_boost_mod = RandomForestClassifier(n_jobs=-1, class_weight=class_weights)\n",
    "rf_probs_w_boost_mod.fit(rf_w_boost_train_X.values, y_train.values)\n",
    "rf_probs_w_boost_mod.score(rf_w_boost_test_X.values, y_test.values)"
   ]
  },
  {
   "cell_type": "code",
   "execution_count": 312,
   "metadata": {},
   "outputs": [
    {
     "output_type": "stream",
     "name": "stdout",
     "text": "Random forest in Weighted Grad Boost\nCounter({0: 341052, 1: 3281, -1: 3112})\n[[   829   2459      1]\n [ 16226 314986   9655]\n [     1   2444    844]] \n\nRandom Forest Proba in Weighted Grad Boost\nCounter({0: 338895, -1: 4416, 1: 4134})\n[[   829   2459      1]\n [ 16226 314986   9655]\n [     1   2444    844]] \n\nDec Tree in Weighted Boost\nCounter({0: 319889, -1: 17056, 1: 10500})\n[[   597   2692      0]\n [  2072 336507   2288]\n [     0   2435    854]] \n\nDec Tree Prob in Weighted Boost\nCounter({0: 319889, -1: 17056, 1: 10500})\n[[  1138   2151      0]\n [  5208 329516   6143]\n [     0   1798   1491]] \n\nBoost in RF\nCounter({0: 339304, -1: 4288, 1: 3853})\n[[   698   2591      0]\n [  2414 336059   2394]\n [     0   2402    887]] \n\nBoost proba in RF\nCounter({0: 333846, -1: 8881, 1: 4718})\n[[   616   2673      0]\n [  2464 335065   3338]\n [     0   2312    977]] \n\n"
    }
   ],
   "source": [
    "#analysis of model in model\n",
    "w_boost_rf_pred = weight_boost_rf_mod.predict(weight_boost_rf_X_test.values)\n",
    "w_boost_rf_proba_pred = w_boost_rf_proba_mod.predict(w_boost_rf_proba_X_test.values)\n",
    "weight_boost_dec_pred = weight_boost_dec_mod.predict(weight_boost_dec_X_test.values)\n",
    "w_boost_probs_pred = w_boost_probs_mod.predict(w_boost_dec_test_X.values)\n",
    "rf_w_boost_pred = rf_w_boost_mod.predict(RF_w_boost_X_test.values)\n",
    "rf_probs_w_boost_pred = rf_probs_w_boost_mod.predict(rf_w_boost_test_X.values)\n",
    "\n",
    "count_rf_dec = collections.Counter(w_boost_rf_pred)\n",
    "count_boost_dec = collections.Counter(w_boost_rf_proba_pred)\n",
    "count_rf_boost_mod = collections.Counter(weight_boost_dec_pred)\n",
    "count_rf_boost_prob_mod = collections.Counter(w_boost_probs_pred)\n",
    "count_boost_rf_mod = collections.Counter(rf_w_boost_pred)\n",
    "count_boost_rf_prob_mod = collections.Counter(rf_probs_w_boost_pred)\n",
    "\n",
    "print(\"Random forest in Weighted Grad Boost\")\n",
    "print(count_rf_dec)\n",
    "print(confusion_matrix(y_test.values, rf_dec_pred), \"\\n\")\n",
    "\n",
    "print(\"Random Forest Proba in Weighted Grad Boost\")\n",
    "print(count_boost_dec)\n",
    "print(confusion_matrix(y_test.values, boost_dec_pred), \"\\n\")\n",
    "\n",
    "print(\"Dec Tree in Weighted Boost\")\n",
    "print(count_rf_boost_mod)\n",
    "print(confusion_matrix(y_test.values, rf_boost_mod_pred), \"\\n\")\n",
    "\n",
    "print(\"Dec Tree Prob in Weighted Boost\")\n",
    "print(count_rf_boost_prob_mod)\n",
    "print(confusion_matrix(y_test.values, rf_boost_prob_mod_pred), \"\\n\")\n",
    "\n",
    "print(\"Boost in RF\")\n",
    "print(count_boost_rf_mod)\n",
    "print(confusion_matrix(y_test.values, boost_rf_mod_pred), \"\\n\")\n",
    "\n",
    "print(\"Boost proba in RF\")\n",
    "print(count_boost_rf_prob_mod)\n",
    "print(confusion_matrix(y_test.values, boost_rf_prob_mod_pred), \"\\n\")"
   ]
  },
  {
   "cell_type": "code",
   "execution_count": 116,
   "metadata": {},
   "outputs": [
    {
     "output_type": "stream",
     "name": "stderr",
     "text": "<ipython-input-116-9de08d862394>:17: DataConversionWarning:\n\nA column-vector y was passed when a 1d array was expected. Please change the shape of y to (n_samples,), for example using ravel().\n\n"
    },
    {
     "output_type": "execute_result",
     "data": {
      "text/plain": "0.9113931701420369"
     },
     "metadata": {},
     "execution_count": 116
    }
   ],
   "source": [
    "#dec in RF with dec probability\n",
    "rf_dec_train_X = X_train.copy()\n",
    "rf_dec_test_X = X_test.copy()\n",
    "\n",
    "X_train_dec_predict = dec_tree.predict_proba(X_train.values)\n",
    "X_test_dec_predict = dec_tree.predict_proba(X_test.values)\n",
    "\n",
    "rf_dec_train_X[\"neg_weight\"] = X_train_dec_predict[:,0]\n",
    "rf_dec_train_X[\"zero_weight\"] = X_train_dec_predict[:,1]\n",
    "rf_dec_train_X[\"pos_weight\"] = X_train_dec_predict[:,2]\n",
    "\n",
    "rf_dec_test_X[\"neg_weight\"] = X_test_dec_predict[:,0]\n",
    "rf_dec_test_X[\"zero_weight\"] = X_test_dec_predict[:,1]\n",
    "rf_dec_test_X[\"pos_weight\"] = X_test_dec_predict[:,2]\n",
    "\n",
    "rf_probs_mod = RandomForestClassifier(n_jobs=-1, class_weight=class_weights)\n",
    "rf_probs_mod.fit(rf_dec_train_X.values, y_train.values)\n",
    "rf_probs_mod.score(rf_dec_test_X.values, y_test.values)"
   ]
  },
  {
   "cell_type": "code",
   "execution_count": 117,
   "metadata": {},
   "outputs": [
    {
     "output_type": "stream",
     "name": "stderr",
     "text": "/usr/local/lib/python3.8/site-packages/sklearn/utils/validation.py:72: DataConversionWarning:\n\nA column-vector y was passed when a 1d array was expected. Please change the shape of y to (n_samples, ), for example using ravel().\n\n"
    },
    {
     "output_type": "execute_result",
     "data": {
      "text/plain": "0.9113931701420369"
     },
     "metadata": {},
     "execution_count": 117
    }
   ],
   "source": [
    "#dec in RF with dec probability of each\n",
    "boost_dec_train_X = X_train.copy()\n",
    "boost_dec_test_X = X_test.copy()\n",
    "\n",
    "boost_dec_train_X[\"neg_weight\"] = X_train_dec_predict[:,0]\n",
    "boost_dec_train_X[\"zero_weight\"] = X_train_dec_predict[:,1]\n",
    "boost_dec_train_X[\"pos_weight\"] = X_train_dec_predict[:,2]\n",
    "\n",
    "boost_dec_test_X[\"neg_weight\"] = X_test_dec_predict[:,0]\n",
    "boost_dec_test_X[\"zero_weight\"] = X_test_dec_predict[:,1]\n",
    "boost_dec_test_X[\"pos_weight\"] = X_test_dec_predict[:,2]\n",
    "\n",
    "boost_probs_mod = XGBClassifier(n_jobs= -1)\n",
    "boost_probs_mod.fit(boost_dec_train_X.values, y_train.values)\n",
    "boost_probs_mod.score(boost_dec_test_X.values, y_test.values)"
   ]
  },
  {
   "cell_type": "code",
   "execution_count": 118,
   "metadata": {},
   "outputs": [
    {
     "output_type": "stream",
     "name": "stdout",
     "text": "Dec probability in RF\nCounter({0: 319889, -1: 17056, 1: 10500})\n[[   829   2459      1]\n [ 16226 314986   9655]\n [     1   2444    844]]\nDec probability in Boost\nCounter({0: 319889, -1: 17056, 1: 10500})\n[[   829   2459      1]\n [ 16226 314986   9655]\n [     1   2444    844]]\n"
    }
   ],
   "source": [
    "#analysis on the probability of the different models\n",
    "rf_probs_pred = rf_probs_mod.predict(rf_dec_test_X.values)\n",
    "boost_probs_pred = boost_probs_mod.predict(boost_dec_test_X.values)\n",
    "\n",
    "count_rf_probs_pred = collections.Counter(rf_probs_pred)\n",
    "count_boost_probs_pred = collections.Counter(boost_probs_pred)\n",
    "\n",
    "print(\"Dec probability in RF\")\n",
    "print(count_rf_probs_pred)\n",
    "print(confusion_matrix(y_test.values, rf_probs_pred))\n",
    "\n",
    "print(\"Dec probability in Boost\")\n",
    "print(count_boost_probs_pred)\n",
    "print(confusion_matrix(y_test.values, boost_probs_pred))"
   ]
  },
  {
   "cell_type": "code",
   "execution_count": 119,
   "metadata": {},
   "outputs": [
    {
     "output_type": "stream",
     "name": "stderr",
     "text": "<ipython-input-119-e8da793dde59>:11: DataConversionWarning:\n\nA column-vector y was passed when a 1d array was expected. Please change the shape of y to (n_samples,), for example using ravel().\n\n"
    },
    {
     "output_type": "execute_result",
     "data": {
      "text/plain": "0.9113931701420369"
     },
     "metadata": {},
     "execution_count": 119
    }
   ],
   "source": [
    "#two mods in RF\n",
    "rf_mult_X_train = X_train.copy()\n",
    "rf_mult_X_test = X_test.copy()\n",
    "\n",
    "rf_mult_X_train[\"dec_pred\"] = dec_tree.predict(X_train.values)\n",
    "rf_mult_X_train[\"boost_pred\"] = boost.predict(X_train.values)\n",
    "rf_mult_X_test[\"dec_pred\"] = dec_tree.predict(X_test.values)\n",
    "rf_mult_X_test[\"boost_pred\"] = boost.predict(X_test.values)\n",
    "\n",
    "rf_mult_mod = RandomForestClassifier(n_jobs=-1, class_weight=class_weights)\n",
    "rf_mult_mod.fit(rf_mult_X_train.values, y_train.values)\n",
    "rf_mult_mod.score(rf_mult_X_test.values, y_test.values)"
   ]
  },
  {
   "cell_type": "code",
   "execution_count": 120,
   "metadata": {},
   "outputs": [
    {
     "output_type": "stream",
     "name": "stderr",
     "text": "/usr/local/lib/python3.8/site-packages/sklearn/utils/validation.py:72: DataConversionWarning:\n\nA column-vector y was passed when a 1d array was expected. Please change the shape of y to (n_samples, ), for example using ravel().\n\n"
    },
    {
     "output_type": "execute_result",
     "data": {
      "text/plain": "0.9113931701420369"
     },
     "metadata": {},
     "execution_count": 120
    }
   ],
   "source": [
    "boost_mult_X_train = X_train.copy()\n",
    "boost_mult_X_test = X_test.copy()\n",
    "\n",
    "boost_mult_X_train[\"dec_pred\"] = dec_tree.predict(X_train.values)\n",
    "boost_mult_X_train[\"rf_pred\"] = weight_rf_forest.predict(X_train.values)\n",
    "boost_mult_X_test[\"dec_pred\"] = dec_tree.predict(X_test.values)\n",
    "boost_mult_X_test[\"rf_pred\"] = weight_rf_forest.predict(X_test.values)\n",
    "\n",
    "boost_mult_mod = XGBClassifier(n_jobs= -1)\n",
    "boost_mult_mod.fit(boost_mult_X_train.values, y_train.values)\n",
    "boost_mult_mod.score(boost_mult_X_test.values, y_test.values)"
   ]
  },
  {
   "cell_type": "code",
   "execution_count": 121,
   "metadata": {},
   "outputs": [
    {
     "output_type": "stream",
     "name": "stderr",
     "text": "<ipython-input-121-ad8faddb2a2f>:28: DataConversionWarning:\n\nA column-vector y was passed when a 1d array was expected. Please change the shape of y to (n_samples,), for example using ravel().\n\n"
    },
    {
     "output_type": "execute_result",
     "data": {
      "text/plain": "0.9113931701420369"
     },
     "metadata": {},
     "execution_count": 121
    }
   ],
   "source": [
    "#both probs for thing\n",
    "rf_both_train_X = X_train.copy()\n",
    "rf_both_test_X = X_test.copy()\n",
    "\n",
    "X_train_dec_predict = dec_tree.predict_proba(X_train.values)\n",
    "X_test_dec_predict = dec_tree.predict_proba(X_test.values)\n",
    "\n",
    "X_train_boost_predict = boost.predict_proba(X_train.values)\n",
    "X_test_boost_predict = boost.predict_proba(X_test.values)\n",
    "\n",
    "rf_both_train_X[\"dec_neg_weight\"] = X_train_dec_predict[:,0]\n",
    "rf_both_train_X[\"dec_zero_weight\"] = X_train_dec_predict[:,1]\n",
    "rf_both_train_X[\"dec_pos_weight\"] = X_train_dec_predict[:,2]\n",
    "\n",
    "rf_both_test_X[\"dec_neg_weight\"] = X_test_dec_predict[:,0]\n",
    "rf_both_test_X[\"dec_zero_weight\"] = X_test_dec_predict[:,1]\n",
    "rf_both_test_X[\"dec_pos_weight\"] = X_test_dec_predict[:,2]\n",
    "\n",
    "rf_both_train_X[\"boost_neg_weight\"] = X_train_boost_predict[:,0]\n",
    "rf_both_train_X[\"boost_zero_weight\"] = X_train_boost_predict[:,1]\n",
    "rf_both_train_X[\"boost_pos_weight\"] = X_train_boost_predict[:,2]\n",
    "\n",
    "rf_both_test_X[\"boost_neg_weight\"] = X_test_boost_predict[:,0]\n",
    "rf_both_test_X[\"boost_zero_weight\"] = X_test_boost_predict[:,1]\n",
    "rf_both_test_X[\"boost_pos_weight\"] = X_test_boost_predict[:,2]\n",
    "\n",
    "rf_both_probs_mod = RandomForestClassifier(n_jobs=-1, class_weight=class_weights)\n",
    "rf_both_probs_mod.fit(rf_both_train_X.values, y_train.values)\n",
    "rf_both_probs_mod.score(rf_both_test_X.values, y_test.values)"
   ]
  },
  {
   "cell_type": "code",
   "execution_count": 122,
   "metadata": {},
   "outputs": [
    {
     "output_type": "stream",
     "name": "stderr",
     "text": "/usr/local/lib/python3.8/site-packages/sklearn/utils/validation.py:72: DataConversionWarning:\n\nA column-vector y was passed when a 1d array was expected. Please change the shape of y to (n_samples, ), for example using ravel().\n\n"
    },
    {
     "output_type": "execute_result",
     "data": {
      "text/plain": "0.9113931701420369"
     },
     "metadata": {},
     "execution_count": 122
    }
   ],
   "source": [
    "#both probs for boost\n",
    "boost_both_train_X = X_train.copy()\n",
    "boost_both_test_X = X_test.copy()\n",
    "\n",
    "X_train_rf_predict = boost.predict_proba(X_train.values)\n",
    "X_test_rf_predict = boost.predict_proba(X_test.values)\n",
    "\n",
    "boost_both_train_X[\"dec_neg_weight\"] = X_train_dec_predict[:,0]\n",
    "boost_both_train_X[\"dec_zero_weight\"] = X_train_dec_predict[:,1]\n",
    "boost_both_train_X[\"dec_pos_weight\"] = X_train_dec_predict[:,2]\n",
    "\n",
    "boost_both_test_X[\"dec_neg_weight\"] = X_test_dec_predict[:,0]\n",
    "boost_both_test_X[\"dec_zero_weight\"] = X_test_dec_predict[:,1]\n",
    "boost_both_test_X[\"dec_pos_weight\"] = X_test_dec_predict[:,2]\n",
    "\n",
    "boost_both_train_X[\"boost_neg_weight\"] = X_train_rf_predict[:,0]\n",
    "boost_both_train_X[\"boost_zero_weight\"] = X_train_rf_predict[:,1]\n",
    "boost_both_train_X[\"boost_pos_weight\"] = X_train_rf_predict[:,2]\n",
    "\n",
    "boost_both_test_X[\"boost_neg_weight\"] = X_test_rf_predict[:,0]\n",
    "boost_both_test_X[\"boost_zero_weight\"] = X_test_rf_predict[:,1]\n",
    "boost_both_test_X[\"boost_pos_weight\"] = X_test_rf_predict[:,2]\n",
    "\n",
    "boost_both_probs_mod = XGBClassifier(n_jobs= -1)\n",
    "boost_both_probs_mod.fit(boost_both_train_X.values, y_train.values)\n",
    "boost_both_probs_mod.score(boost_both_test_X.values, y_test.values)"
   ]
  },
  {
   "cell_type": "code",
   "execution_count": 123,
   "metadata": {},
   "outputs": [
    {
     "output_type": "stream",
     "name": "stdout",
     "text": "RF with both models\nCounter({0: 319889, -1: 17056, 1: 10500})\n[[   829   2459      1]\n [ 16226 314986   9655]\n [     1   2444    844]]\nBoost with both models\nCounter({0: 319889, -1: 17056, 1: 10500})\n[[   829   2459      1]\n [ 16226 314986   9655]\n [     1   2444    844]]\nRF with probabilities\nCounter({0: 319889, -1: 17056, 1: 10500})\n[[   829   2459      1]\n [ 16226 314986   9655]\n [     1   2444    844]]\nBoost with probabilities\nCounter({0: 319889, -1: 17056, 1: 10500})\n[[   829   2459      1]\n [ 16226 314986   9655]\n [     1   2444    844]]\n"
    }
   ],
   "source": [
    "#analysis of the two models in one\n",
    "rf_mult_pred = rf_mult_mod.predict(rf_mult_X_test.values)\n",
    "boost_mult_pred = boost_mult_mod.predict(boost_mult_X_test.values)\n",
    "rf_both_pred = rf_both_probs_mod.predict(rf_both_test_X.values)\n",
    "boost_both_pred = boost_both_probs_mod.predict(boost_both_test_X.values)\n",
    "\n",
    "count_rf_mult_pred = collections.Counter(rf_mult_pred)\n",
    "count_boost_mult_pred = collections.Counter(boost_mult_pred)\n",
    "count_rf_both_pred = collections.Counter(rf_both_pred)\n",
    "count_boost_both_pred = collections.Counter(boost_both_pred)\n",
    "\n",
    "print(\"RF with both models\")\n",
    "print(count_rf_mult_pred)\n",
    "print(confusion_matrix(y_test.values, rf_mult_pred))\n",
    "\n",
    "print(\"Boost with both models\")\n",
    "print(count_boost_mult_pred)\n",
    "print(confusion_matrix(y_test.values, boost_mult_pred))\n",
    "\n",
    "print(\"RF with probabilities\")\n",
    "print(count_rf_both_pred)\n",
    "print(confusion_matrix(y_test.values, rf_both_pred))\n",
    "\n",
    "print(\"Boost with probabilities\")\n",
    "print(count_boost_both_pred)\n",
    "print(confusion_matrix(y_test.values, boost_both_pred))"
   ]
  },
  {
   "cell_type": "code",
   "execution_count": 129,
   "metadata": {},
   "outputs": [],
   "source": [
    "def entry_exit(row):\n",
    "    if row.predicted == -1 or row.predicted == 1:\n",
    "        return row.close\n",
    "    else:\n",
    "        return None"
   ]
  },
  {
   "cell_type": "code",
   "execution_count": 131,
   "metadata": {},
   "outputs": [
    {
     "output_type": "stream",
     "name": "stderr",
     "text": "<ipython-input-131-80d418778d95>:2: SettingWithCopyWarning:\n\n\nA value is trying to be set on a copy of a slice from a DataFrame.\nTry using .loc[row_indexer,col_indexer] = value instead\n\nSee the caveats in the documentation: https://pandas.pydata.org/pandas-docs/stable/user_guide/indexing.html#returning-a-view-versus-a-copy\n\n<ipython-input-131-80d418778d95>:3: SettingWithCopyWarning:\n\n\nA value is trying to be set on a copy of a slice from a DataFrame.\nTry using .loc[row_indexer,col_indexer] = value instead\n\nSee the caveats in the documentation: https://pandas.pydata.org/pandas-docs/stable/user_guide/indexing.html#returning-a-view-versus-a-copy\n\n"
    }
   ],
   "source": [
    "#graph one of the best\n",
    "X_test[\"predicted\"] = boost_rf_mod_pred\n",
    "X_test[\"entry_exit\"] = X_test.apply(lambda x: entry_exit(x), axis=1)"
   ]
  },
  {
   "cell_type": "code",
   "execution_count": 138,
   "metadata": {},
   "outputs": [
    {
     "output_type": "execute_result",
     "data": {
      "text/plain": "1390413    1568168760\n1390414    1568168820\n1390415    1568168880\n1390416    1568168940\n1390417    1568169000\n              ...    \n1737853    1590987240\n1737854    1590987300\n1737855    1590987360\n1737856    1590987420\n1737857    1590987480\nName: time, Length: 347445, dtype: int64"
     },
     "metadata": {},
     "execution_count": 138
    }
   ],
   "source": [
    "X_test.time"
   ]
  },
  {
   "cell_type": "code",
   "execution_count": 163,
   "metadata": {},
   "outputs": [],
   "source": [
    "copied_X_test = X_test.copy()\n",
    "copied_X_test = copied_X_test[(copied_X_test.time < 1588933795) & (copied_X_test.time > 1588705608)]"
   ]
  },
  {
   "cell_type": "code",
   "execution_count": 164,
   "metadata": {},
   "outputs": [
    {
     "output_type": "display_data",
     "data": {
      "text/plain": "<Figure size 2160x360 with 1 Axes>",
      "image/svg+xml": "<?xml version=\"1.0\" encoding=\"utf-8\" standalone=\"no\"?>\n<!DOCTYPE svg PUBLIC \"-//W3C//DTD SVG 1.1//EN\"\n  \"http://www.w3.org/Graphics/SVG/1.1/DTD/svg11.dtd\">\n<!-- Created with matplotlib (https://matplotlib.org/) -->\n<svg height=\"315.55625pt\" version=\"1.1\" viewBox=\"0 0 1727.2125 315.55625\" width=\"1727.2125pt\" xmlns=\"http://www.w3.org/2000/svg\" xmlns:xlink=\"http://www.w3.org/1999/xlink\">\n <metadata>\n  <rdf:RDF xmlns:cc=\"http://creativecommons.org/ns#\" xmlns:dc=\"http://purl.org/dc/elements/1.1/\" xmlns:rdf=\"http://www.w3.org/1999/02/22-rdf-syntax-ns#\">\n   <cc:Work>\n    <dc:type rdf:resource=\"http://purl.org/dc/dcmitype/StillImage\"/>\n    <dc:date>2020-10-27T01:08:01.188275</dc:date>\n    <dc:format>image/svg+xml</dc:format>\n    <dc:creator>\n     <cc:Agent>\n      <dc:title>Matplotlib v3.3.1, https://matplotlib.org/</dc:title>\n     </cc:Agent>\n    </dc:creator>\n   </cc:Work>\n  </rdf:RDF>\n </metadata>\n <defs>\n  <style type=\"text/css\">*{stroke-linecap:butt;stroke-linejoin:round;}</style>\n </defs>\n <g id=\"figure_1\">\n  <g id=\"patch_1\">\n   <path d=\"M 0 315.55625 \nL 1727.2125 315.55625 \nL 1727.2125 0 \nL 0 0 \nz\n\" style=\"fill:none;\"/>\n  </g>\n  <g id=\"axes_1\">\n   <g id=\"patch_2\">\n    <path d=\"M 46.0125 279 \nL 1720.0125 279 \nL 1720.0125 7.2 \nL 46.0125 7.2 \nz\n\" style=\"fill:#ffffff;\"/>\n   </g>\n   <g id=\"PathCollection_1\">\n    <defs>\n     <path d=\"M 0 3 \nC 0.795609 3 1.55874 2.683901 2.12132 2.12132 \nC 2.683901 1.55874 3 0.795609 3 0 \nC 3 -0.795609 2.683901 -1.55874 2.12132 -2.12132 \nC 1.55874 -2.683901 0.795609 -3 0 -3 \nC -0.795609 -3 -1.55874 -2.683901 -2.12132 -2.12132 \nC -2.683901 -1.55874 -3 -0.795609 -3 0 \nC -3 0.795609 -2.683901 1.55874 -2.12132 2.12132 \nC -1.55874 2.683901 -0.795609 3 0 3 \nz\n\" id=\"mf163c69302\" style=\"stroke:#ff0000;\"/>\n    </defs>\n    <g clip-path=\"url(#p1ca77037a5)\">\n     <use style=\"fill:#ff0000;stroke:#ff0000;\" x=\"167.333671\" xlink:href=\"#mf163c69302\" y=\"243.795289\"/>\n     <use style=\"fill:#ff0000;stroke:#ff0000;\" x=\"258.594729\" xlink:href=\"#mf163c69302\" y=\"258.416053\"/>\n     <use style=\"fill:#ff0000;stroke:#ff0000;\" x=\"330.242666\" xlink:href=\"#mf163c69302\" y=\"230.009998\"/>\n     <use style=\"fill:#ff0000;stroke:#ff0000;\" x=\"333.845076\" xlink:href=\"#mf163c69302\" y=\"249.768916\"/>\n     <use style=\"fill:#ff0000;stroke:#ff0000;\" x=\"431.51042\" xlink:href=\"#mf163c69302\" y=\"228.046638\"/>\n     <use style=\"fill:#ff0000;stroke:#ff0000;\" x=\"487.147644\" xlink:href=\"#mf163c69302\" y=\"214.595535\"/>\n     <use style=\"fill:#ff0000;stroke:#ff0000;\" x=\"487.547912\" xlink:href=\"#mf163c69302\" y=\"207.556682\"/>\n     <use style=\"fill:#ff0000;stroke:#ff0000;\" x=\"487.94818\" xlink:href=\"#mf163c69302\" y=\"201.687489\"/>\n     <use style=\"fill:#ff0000;stroke:#ff0000;\" x=\"491.55059\" xlink:href=\"#mf163c69302\" y=\"193.666956\"/>\n     <use style=\"fill:#ff0000;stroke:#ff0000;\" x=\"491.950858\" xlink:href=\"#mf163c69302\" y=\"183.18178\"/>\n     <use style=\"fill:#ff0000;stroke:#ff0000;\" x=\"495.153\" xlink:href=\"#mf163c69302\" y=\"203.609076\"/>\n     <use style=\"fill:#ff0000;stroke:#ff0000;\" x=\"521.570675\" xlink:href=\"#mf163c69302\" y=\"181.970345\"/>\n     <use style=\"fill:#ff0000;stroke:#ff0000;\" x=\"522.771479\" xlink:href=\"#mf163c69302\" y=\"176.790417\"/>\n     <use style=\"fill:#ff0000;stroke:#ff0000;\" x=\"525.173085\" xlink:href=\"#mf163c69302\" y=\"169.375601\"/>\n     <use style=\"fill:#ff0000;stroke:#ff0000;\" x=\"527.574692\" xlink:href=\"#mf163c69302\" y=\"166.70209\"/>\n     <use style=\"fill:#ff0000;stroke:#ff0000;\" x=\"528.775496\" xlink:href=\"#mf163c69302\" y=\"164.007692\"/>\n     <use style=\"fill:#ff0000;stroke:#ff0000;\" x=\"529.175763\" xlink:href=\"#mf163c69302\" y=\"162.336748\"/>\n     <use style=\"fill:#ff0000;stroke:#ff0000;\" x=\"551.190492\" xlink:href=\"#mf163c69302\" y=\"194.627749\"/>\n     <use style=\"fill:#ff0000;stroke:#ff0000;\" x=\"560.79692\" xlink:href=\"#mf163c69302\" y=\"214.783516\"/>\n     <use style=\"fill:#ff0000;stroke:#ff0000;\" x=\"770.937516\" xlink:href=\"#mf163c69302\" y=\"170.607923\"/>\n     <use style=\"fill:#ff0000;stroke:#ff0000;\" x=\"788.149031\" xlink:href=\"#mf163c69302\" y=\"163.924145\"/>\n     <use style=\"fill:#ff0000;stroke:#ff0000;\" x=\"791.751441\" xlink:href=\"#mf163c69302\" y=\"162.065219\"/>\n     <use style=\"fill:#ff0000;stroke:#ff0000;\" x=\"792.551977\" xlink:href=\"#mf163c69302\" y=\"157.658103\"/>\n     <use style=\"fill:#ff0000;stroke:#ff0000;\" x=\"811.364564\" xlink:href=\"#mf163c69302\" y=\"193.165673\"/>\n     <use style=\"fill:#ff0000;stroke:#ff0000;\" x=\"811.764831\" xlink:href=\"#mf163c69302\" y=\"199.682356\"/>\n     <use style=\"fill:#ff0000;stroke:#ff0000;\" x=\"814.166438\" xlink:href=\"#mf163c69302\" y=\"222.198332\"/>\n     <use style=\"fill:#ff0000;stroke:#ff0000;\" x=\"816.167777\" xlink:href=\"#mf163c69302\" y=\"225.456674\"/>\n     <use style=\"fill:#ff0000;stroke:#ff0000;\" x=\"879.009822\" xlink:href=\"#mf163c69302\" y=\"178.544909\"/>\n     <use style=\"fill:#ff0000;stroke:#ff0000;\" x=\"879.41009\" xlink:href=\"#mf163c69302\" y=\"172.153546\"/>\n     <use style=\"fill:#ff0000;stroke:#ff0000;\" x=\"881.811697\" xlink:href=\"#mf163c69302\" y=\"168.373035\"/>\n     <use style=\"fill:#ff0000;stroke:#ff0000;\" x=\"1133.980412\" xlink:href=\"#mf163c69302\" y=\"156.488442\"/>\n     <use style=\"fill:#ff0000;stroke:#ff0000;\" x=\"1134.380679\" xlink:href=\"#mf163c69302\" y=\"150.765458\"/>\n     <use style=\"fill:#ff0000;stroke:#ff0000;\" x=\"1134.780947\" xlink:href=\"#mf163c69302\" y=\"146.379228\"/>\n     <use style=\"fill:#ff0000;stroke:#ff0000;\" x=\"1135.981751\" xlink:href=\"#mf163c69302\" y=\"143.455076\"/>\n     <use style=\"fill:#ff0000;stroke:#ff0000;\" x=\"1136.782286\" xlink:href=\"#mf163c69302\" y=\"125.701291\"/>\n     <use style=\"fill:#ff0000;stroke:#ff0000;\" x=\"1137.182554\" xlink:href=\"#mf163c69302\" y=\"118.45357\"/>\n     <use style=\"fill:#ff0000;stroke:#ff0000;\" x=\"1137.98309\" xlink:href=\"#mf163c69302\" y=\"144.833605\"/>\n     <use style=\"fill:#ff0000;stroke:#ff0000;\" x=\"1182.012548\" xlink:href=\"#mf163c69302\" y=\"127.789972\"/>\n     <use style=\"fill:#ff0000;stroke:#ff0000;\" x=\"1182.412816\" xlink:href=\"#mf163c69302\" y=\"123.905026\"/>\n     <use style=\"fill:#ff0000;stroke:#ff0000;\" x=\"1200.424867\" xlink:href=\"#mf163c69302\" y=\"125.200008\"/>\n     <use style=\"fill:#ff0000;stroke:#ff0000;\" x=\"1220.037989\" xlink:href=\"#mf163c69302\" y=\"111.038754\"/>\n     <use style=\"fill:#ff0000;stroke:#ff0000;\" x=\"1224.040667\" xlink:href=\"#mf163c69302\" y=\"105.315769\"/>\n     <use style=\"fill:#ff0000;stroke:#ff0000;\" x=\"1224.440935\" xlink:href=\"#mf163c69302\" y=\"99.592784\"/>\n     <use style=\"fill:#ff0000;stroke:#ff0000;\" x=\"1225.641738\" xlink:href=\"#mf163c69302\" y=\"99.551011\"/>\n     <use style=\"fill:#ff0000;stroke:#ff0000;\" x=\"1226.042006\" xlink:href=\"#mf163c69302\" y=\"98.130708\"/>\n     <use style=\"fill:#ff0000;stroke:#ff0000;\" x=\"1226.442274\" xlink:href=\"#mf163c69302\" y=\"97.378783\"/>\n     <use style=\"fill:#ff0000;stroke:#ff0000;\" x=\"1227.242809\" xlink:href=\"#mf163c69302\" y=\"90.193722\"/>\n     <use style=\"fill:#ff0000;stroke:#ff0000;\" x=\"1228.043345\" xlink:href=\"#mf163c69302\" y=\"89.212042\"/>\n     <use style=\"fill:#ff0000;stroke:#ff0000;\" x=\"1228.443613\" xlink:href=\"#mf163c69302\" y=\"87.039814\"/>\n     <use style=\"fill:#ff0000;stroke:#ff0000;\" x=\"1233.647094\" xlink:href=\"#mf163c69302\" y=\"77.410997\"/>\n     <use style=\"fill:#ff0000;stroke:#ff0000;\" x=\"1234.047362\" xlink:href=\"#mf163c69302\" y=\"73.087428\"/>\n     <use style=\"fill:#ff0000;stroke:#ff0000;\" x=\"1237.649772\" xlink:href=\"#mf163c69302\" y=\"65.94414\"/>\n     <use style=\"fill:#ff0000;stroke:#ff0000;\" x=\"1239.250843\" xlink:href=\"#mf163c69302\" y=\"61.578798\"/>\n     <use style=\"fill:#ff0000;stroke:#ff0000;\" x=\"1239.651111\" xlink:href=\"#mf163c69302\" y=\"57.589418\"/>\n     <use style=\"fill:#ff0000;stroke:#ff0000;\" x=\"1240.051379\" xlink:href=\"#mf163c69302\" y=\"55.730493\"/>\n     <use style=\"fill:#ff0000;stroke:#ff0000;\" x=\"1241.252182\" xlink:href=\"#mf163c69302\" y=\"78.998394\"/>\n     <use style=\"fill:#ff0000;stroke:#ff0000;\" x=\"1285.281641\" xlink:href=\"#mf163c69302\" y=\"55.730493\"/>\n     <use style=\"fill:#ff0000;stroke:#ff0000;\" x=\"1285.681908\" xlink:href=\"#mf163c69302\" y=\"51.866434\"/>\n     <use style=\"fill:#ff0000;stroke:#ff0000;\" x=\"1286.082176\" xlink:href=\"#mf163c69302\" y=\"49.694206\"/>\n     <use style=\"fill:#ff0000;stroke:#ff0000;\" x=\"1286.482444\" xlink:href=\"#mf163c69302\" y=\"47.37577\"/>\n     <use style=\"fill:#ff0000;stroke:#ff0000;\" x=\"1287.683247\" xlink:href=\"#mf163c69302\" y=\"45.036448\"/>\n     <use style=\"fill:#ff0000;stroke:#ff0000;\" x=\"1292.886729\" xlink:href=\"#mf163c69302\" y=\"68.492331\"/>\n     <use style=\"fill:#ff0000;stroke:#ff0000;\" x=\"1310.89878\" xlink:href=\"#mf163c69302\" y=\"77.661638\"/>\n     <use style=\"fill:#ff0000;stroke:#ff0000;\" x=\"1316.502529\" xlink:href=\"#mf163c69302\" y=\"86.601191\"/>\n     <use style=\"fill:#ff0000;stroke:#ff0000;\" x=\"1344.921543\" xlink:href=\"#mf163c69302\" y=\"50.216376\"/>\n     <use style=\"fill:#ff0000;stroke:#ff0000;\" x=\"1345.321811\" xlink:href=\"#mf163c69302\" y=\"49.464451\"/>\n     <use style=\"fill:#ff0000;stroke:#ff0000;\" x=\"1378.143771\" xlink:href=\"#mf163c69302\" y=\"35.261423\"/>\n     <use style=\"fill:#ff0000;stroke:#ff0000;\" x=\"1384.948323\" xlink:href=\"#mf163c69302\" y=\"31.543572\"/>\n     <use style=\"fill:#ff0000;stroke:#ff0000;\" x=\"1386.149127\" xlink:href=\"#mf163c69302\" y=\"22.374264\"/>\n     <use style=\"fill:#ff0000;stroke:#ff0000;\" x=\"1386.549394\" xlink:href=\"#mf163c69302\" y=\"19.554545\"/>\n     <use style=\"fill:#ff0000;stroke:#ff0000;\" x=\"1393.754215\" xlink:href=\"#mf163c69302\" y=\"57.338777\"/>\n     <use style=\"fill:#ff0000;stroke:#ff0000;\" x=\"1456.996528\" xlink:href=\"#mf163c69302\" y=\"59.907854\"/>\n     <use style=\"fill:#ff0000;stroke:#ff0000;\" x=\"1520.639108\" xlink:href=\"#mf163c69302\" y=\"70.413917\"/>\n     <use style=\"fill:#ff0000;stroke:#ff0000;\" x=\"1549.058122\" xlink:href=\"#mf163c69302\" y=\"79.750319\"/>\n     <use style=\"fill:#ff0000;stroke:#ff0000;\" x=\"1561.066156\" xlink:href=\"#mf163c69302\" y=\"88.105041\"/>\n     <use style=\"fill:#ff0000;stroke:#ff0000;\" x=\"1597.890794\" xlink:href=\"#mf163c69302\" y=\"55.730493\"/>\n    </g>\n   </g>\n   <g id=\"matplotlib.axis_1\">\n    <g id=\"xtick_1\">\n     <g id=\"line2d_1\">\n      <defs>\n       <path d=\"M 0 0 \nL 0 3.5 \n\" id=\"mdcb82b6c70\" style=\"stroke:#000000;stroke-width:0.8;\"/>\n      </defs>\n      <g>\n       <use style=\"stroke:#000000;stroke-width:0.8;\" x=\"84.611658\" xlink:href=\"#mdcb82b6c70\" y=\"279\"/>\n      </g>\n     </g>\n     <g id=\"text_1\">\n      <!-- 700000 -->\n      <g transform=\"translate(65.524158 293.598438)scale(0.1 -0.1)\">\n       <defs>\n        <path d=\"M 8.203125 72.90625 \nL 55.078125 72.90625 \nL 55.078125 68.703125 \nL 28.609375 0 \nL 18.3125 0 \nL 43.21875 64.59375 \nL 8.203125 64.59375 \nz\n\" id=\"DejaVuSans-55\"/>\n        <path d=\"M 31.78125 66.40625 \nQ 24.171875 66.40625 20.328125 58.90625 \nQ 16.5 51.421875 16.5 36.375 \nQ 16.5 21.390625 20.328125 13.890625 \nQ 24.171875 6.390625 31.78125 6.390625 \nQ 39.453125 6.390625 43.28125 13.890625 \nQ 47.125 21.390625 47.125 36.375 \nQ 47.125 51.421875 43.28125 58.90625 \nQ 39.453125 66.40625 31.78125 66.40625 \nz\nM 31.78125 74.21875 \nQ 44.046875 74.21875 50.515625 64.515625 \nQ 56.984375 54.828125 56.984375 36.375 \nQ 56.984375 17.96875 50.515625 8.265625 \nQ 44.046875 -1.421875 31.78125 -1.421875 \nQ 19.53125 -1.421875 13.0625 8.265625 \nQ 6.59375 17.96875 6.59375 36.375 \nQ 6.59375 54.828125 13.0625 64.515625 \nQ 19.53125 74.21875 31.78125 74.21875 \nz\n\" id=\"DejaVuSans-48\"/>\n       </defs>\n       <use xlink:href=\"#DejaVuSans-55\"/>\n       <use x=\"63.623047\" xlink:href=\"#DejaVuSans-48\"/>\n       <use x=\"127.246094\" xlink:href=\"#DejaVuSans-48\"/>\n       <use x=\"190.869141\" xlink:href=\"#DejaVuSans-48\"/>\n       <use x=\"254.492188\" xlink:href=\"#DejaVuSans-48\"/>\n       <use x=\"318.115234\" xlink:href=\"#DejaVuSans-48\"/>\n      </g>\n     </g>\n    </g>\n    <g id=\"xtick_2\">\n     <g id=\"line2d_2\">\n      <g>\n       <use style=\"stroke:#000000;stroke-width:0.8;\" x=\"418.16816\" xlink:href=\"#mdcb82b6c70\" y=\"279\"/>\n      </g>\n     </g>\n     <g id=\"text_2\">\n      <!-- 750000 -->\n      <g transform=\"translate(399.08066 293.598438)scale(0.1 -0.1)\">\n       <defs>\n        <path d=\"M 10.796875 72.90625 \nL 49.515625 72.90625 \nL 49.515625 64.59375 \nL 19.828125 64.59375 \nL 19.828125 46.734375 \nQ 21.96875 47.46875 24.109375 47.828125 \nQ 26.265625 48.1875 28.421875 48.1875 \nQ 40.625 48.1875 47.75 41.5 \nQ 54.890625 34.8125 54.890625 23.390625 \nQ 54.890625 11.625 47.5625 5.09375 \nQ 40.234375 -1.421875 26.90625 -1.421875 \nQ 22.3125 -1.421875 17.546875 -0.640625 \nQ 12.796875 0.140625 7.71875 1.703125 \nL 7.71875 11.625 \nQ 12.109375 9.234375 16.796875 8.0625 \nQ 21.484375 6.890625 26.703125 6.890625 \nQ 35.15625 6.890625 40.078125 11.328125 \nQ 45.015625 15.765625 45.015625 23.390625 \nQ 45.015625 31 40.078125 35.4375 \nQ 35.15625 39.890625 26.703125 39.890625 \nQ 22.75 39.890625 18.8125 39.015625 \nQ 14.890625 38.140625 10.796875 36.28125 \nz\n\" id=\"DejaVuSans-53\"/>\n       </defs>\n       <use xlink:href=\"#DejaVuSans-55\"/>\n       <use x=\"63.623047\" xlink:href=\"#DejaVuSans-53\"/>\n       <use x=\"127.246094\" xlink:href=\"#DejaVuSans-48\"/>\n       <use x=\"190.869141\" xlink:href=\"#DejaVuSans-48\"/>\n       <use x=\"254.492188\" xlink:href=\"#DejaVuSans-48\"/>\n       <use x=\"318.115234\" xlink:href=\"#DejaVuSans-48\"/>\n      </g>\n     </g>\n    </g>\n    <g id=\"xtick_3\">\n     <g id=\"line2d_3\">\n      <g>\n       <use style=\"stroke:#000000;stroke-width:0.8;\" x=\"751.724661\" xlink:href=\"#mdcb82b6c70\" y=\"279\"/>\n      </g>\n     </g>\n     <g id=\"text_3\">\n      <!-- 800000 -->\n      <g transform=\"translate(732.637161 293.598438)scale(0.1 -0.1)\">\n       <defs>\n        <path d=\"M 31.78125 34.625 \nQ 24.75 34.625 20.71875 30.859375 \nQ 16.703125 27.09375 16.703125 20.515625 \nQ 16.703125 13.921875 20.71875 10.15625 \nQ 24.75 6.390625 31.78125 6.390625 \nQ 38.8125 6.390625 42.859375 10.171875 \nQ 46.921875 13.96875 46.921875 20.515625 \nQ 46.921875 27.09375 42.890625 30.859375 \nQ 38.875 34.625 31.78125 34.625 \nz\nM 21.921875 38.8125 \nQ 15.578125 40.375 12.03125 44.71875 \nQ 8.5 49.078125 8.5 55.328125 \nQ 8.5 64.0625 14.71875 69.140625 \nQ 20.953125 74.21875 31.78125 74.21875 \nQ 42.671875 74.21875 48.875 69.140625 \nQ 55.078125 64.0625 55.078125 55.328125 \nQ 55.078125 49.078125 51.53125 44.71875 \nQ 48 40.375 41.703125 38.8125 \nQ 48.828125 37.15625 52.796875 32.3125 \nQ 56.78125 27.484375 56.78125 20.515625 \nQ 56.78125 9.90625 50.3125 4.234375 \nQ 43.84375 -1.421875 31.78125 -1.421875 \nQ 19.734375 -1.421875 13.25 4.234375 \nQ 6.78125 9.90625 6.78125 20.515625 \nQ 6.78125 27.484375 10.78125 32.3125 \nQ 14.796875 37.15625 21.921875 38.8125 \nz\nM 18.3125 54.390625 \nQ 18.3125 48.734375 21.84375 45.5625 \nQ 25.390625 42.390625 31.78125 42.390625 \nQ 38.140625 42.390625 41.71875 45.5625 \nQ 45.3125 48.734375 45.3125 54.390625 \nQ 45.3125 60.0625 41.71875 63.234375 \nQ 38.140625 66.40625 31.78125 66.40625 \nQ 25.390625 66.40625 21.84375 63.234375 \nQ 18.3125 60.0625 18.3125 54.390625 \nz\n\" id=\"DejaVuSans-56\"/>\n       </defs>\n       <use xlink:href=\"#DejaVuSans-56\"/>\n       <use x=\"63.623047\" xlink:href=\"#DejaVuSans-48\"/>\n       <use x=\"127.246094\" xlink:href=\"#DejaVuSans-48\"/>\n       <use x=\"190.869141\" xlink:href=\"#DejaVuSans-48\"/>\n       <use x=\"254.492188\" xlink:href=\"#DejaVuSans-48\"/>\n       <use x=\"318.115234\" xlink:href=\"#DejaVuSans-48\"/>\n      </g>\n     </g>\n    </g>\n    <g id=\"xtick_4\">\n     <g id=\"line2d_4\">\n      <g>\n       <use style=\"stroke:#000000;stroke-width:0.8;\" x=\"1085.281162\" xlink:href=\"#mdcb82b6c70\" y=\"279\"/>\n      </g>\n     </g>\n     <g id=\"text_4\">\n      <!-- 850000 -->\n      <g transform=\"translate(1066.193662 293.598438)scale(0.1 -0.1)\">\n       <use xlink:href=\"#DejaVuSans-56\"/>\n       <use x=\"63.623047\" xlink:href=\"#DejaVuSans-53\"/>\n       <use x=\"127.246094\" xlink:href=\"#DejaVuSans-48\"/>\n       <use x=\"190.869141\" xlink:href=\"#DejaVuSans-48\"/>\n       <use x=\"254.492188\" xlink:href=\"#DejaVuSans-48\"/>\n       <use x=\"318.115234\" xlink:href=\"#DejaVuSans-48\"/>\n      </g>\n     </g>\n    </g>\n    <g id=\"xtick_5\">\n     <g id=\"line2d_5\">\n      <g>\n       <use style=\"stroke:#000000;stroke-width:0.8;\" x=\"1418.837664\" xlink:href=\"#mdcb82b6c70\" y=\"279\"/>\n      </g>\n     </g>\n     <g id=\"text_5\">\n      <!-- 900000 -->\n      <g transform=\"translate(1399.750164 293.598438)scale(0.1 -0.1)\">\n       <defs>\n        <path d=\"M 10.984375 1.515625 \nL 10.984375 10.5 \nQ 14.703125 8.734375 18.5 7.8125 \nQ 22.3125 6.890625 25.984375 6.890625 \nQ 35.75 6.890625 40.890625 13.453125 \nQ 46.046875 20.015625 46.78125 33.40625 \nQ 43.953125 29.203125 39.59375 26.953125 \nQ 35.25 24.703125 29.984375 24.703125 \nQ 19.046875 24.703125 12.671875 31.3125 \nQ 6.296875 37.9375 6.296875 49.421875 \nQ 6.296875 60.640625 12.9375 67.421875 \nQ 19.578125 74.21875 30.609375 74.21875 \nQ 43.265625 74.21875 49.921875 64.515625 \nQ 56.59375 54.828125 56.59375 36.375 \nQ 56.59375 19.140625 48.40625 8.859375 \nQ 40.234375 -1.421875 26.421875 -1.421875 \nQ 22.703125 -1.421875 18.890625 -0.6875 \nQ 15.09375 0.046875 10.984375 1.515625 \nz\nM 30.609375 32.421875 \nQ 37.25 32.421875 41.125 36.953125 \nQ 45.015625 41.5 45.015625 49.421875 \nQ 45.015625 57.28125 41.125 61.84375 \nQ 37.25 66.40625 30.609375 66.40625 \nQ 23.96875 66.40625 20.09375 61.84375 \nQ 16.21875 57.28125 16.21875 49.421875 \nQ 16.21875 41.5 20.09375 36.953125 \nQ 23.96875 32.421875 30.609375 32.421875 \nz\n\" id=\"DejaVuSans-57\"/>\n       </defs>\n       <use xlink:href=\"#DejaVuSans-57\"/>\n       <use x=\"63.623047\" xlink:href=\"#DejaVuSans-48\"/>\n       <use x=\"127.246094\" xlink:href=\"#DejaVuSans-48\"/>\n       <use x=\"190.869141\" xlink:href=\"#DejaVuSans-48\"/>\n       <use x=\"254.492188\" xlink:href=\"#DejaVuSans-48\"/>\n       <use x=\"318.115234\" xlink:href=\"#DejaVuSans-48\"/>\n      </g>\n     </g>\n    </g>\n    <g id=\"text_6\">\n     <!-- +1.588e9 -->\n     <g transform=\"translate(1670.489063 306.276563)scale(0.1 -0.1)\">\n      <defs>\n       <path d=\"M 46 62.703125 \nL 46 35.5 \nL 73.1875 35.5 \nL 73.1875 27.203125 \nL 46 27.203125 \nL 46 0 \nL 37.796875 0 \nL 37.796875 27.203125 \nL 10.59375 27.203125 \nL 10.59375 35.5 \nL 37.796875 35.5 \nL 37.796875 62.703125 \nz\n\" id=\"DejaVuSans-43\"/>\n       <path d=\"M 12.40625 8.296875 \nL 28.515625 8.296875 \nL 28.515625 63.921875 \nL 10.984375 60.40625 \nL 10.984375 69.390625 \nL 28.421875 72.90625 \nL 38.28125 72.90625 \nL 38.28125 8.296875 \nL 54.390625 8.296875 \nL 54.390625 0 \nL 12.40625 0 \nz\n\" id=\"DejaVuSans-49\"/>\n       <path d=\"M 10.6875 12.40625 \nL 21 12.40625 \nL 21 0 \nL 10.6875 0 \nz\n\" id=\"DejaVuSans-46\"/>\n       <path d=\"M 56.203125 29.59375 \nL 56.203125 25.203125 \nL 14.890625 25.203125 \nQ 15.484375 15.921875 20.484375 11.0625 \nQ 25.484375 6.203125 34.421875 6.203125 \nQ 39.59375 6.203125 44.453125 7.46875 \nQ 49.3125 8.734375 54.109375 11.28125 \nL 54.109375 2.78125 \nQ 49.265625 0.734375 44.1875 -0.34375 \nQ 39.109375 -1.421875 33.890625 -1.421875 \nQ 20.796875 -1.421875 13.15625 6.1875 \nQ 5.515625 13.8125 5.515625 26.8125 \nQ 5.515625 40.234375 12.765625 48.109375 \nQ 20.015625 56 32.328125 56 \nQ 43.359375 56 49.78125 48.890625 \nQ 56.203125 41.796875 56.203125 29.59375 \nz\nM 47.21875 32.234375 \nQ 47.125 39.59375 43.09375 43.984375 \nQ 39.0625 48.390625 32.421875 48.390625 \nQ 24.90625 48.390625 20.390625 44.140625 \nQ 15.875 39.890625 15.1875 32.171875 \nz\n\" id=\"DejaVuSans-101\"/>\n      </defs>\n      <use xlink:href=\"#DejaVuSans-43\"/>\n      <use x=\"83.789062\" xlink:href=\"#DejaVuSans-49\"/>\n      <use x=\"147.412109\" xlink:href=\"#DejaVuSans-46\"/>\n      <use x=\"179.199219\" xlink:href=\"#DejaVuSans-53\"/>\n      <use x=\"242.822266\" xlink:href=\"#DejaVuSans-56\"/>\n      <use x=\"306.445312\" xlink:href=\"#DejaVuSans-56\"/>\n      <use x=\"370.068359\" xlink:href=\"#DejaVuSans-101\"/>\n      <use x=\"431.591797\" xlink:href=\"#DejaVuSans-57\"/>\n     </g>\n    </g>\n   </g>\n   <g id=\"matplotlib.axis_2\">\n    <g id=\"ytick_1\">\n     <g id=\"line2d_6\">\n      <defs>\n       <path d=\"M 0 0 \nL -3.5 0 \n\" id=\"m084b90ffc4\" style=\"stroke:#000000;stroke-width:0.8;\"/>\n      </defs>\n      <g>\n       <use style=\"stroke:#000000;stroke-width:0.8;\" x=\"46.0125\" xlink:href=\"#m084b90ffc4\" y=\"243.711742\"/>\n      </g>\n     </g>\n     <g id=\"text_7\">\n      <!-- 9000 -->\n      <g transform=\"translate(13.5625 247.510961)scale(0.1 -0.1)\">\n       <use xlink:href=\"#DejaVuSans-57\"/>\n       <use x=\"63.623047\" xlink:href=\"#DejaVuSans-48\"/>\n       <use x=\"127.246094\" xlink:href=\"#DejaVuSans-48\"/>\n       <use x=\"190.869141\" xlink:href=\"#DejaVuSans-48\"/>\n      </g>\n     </g>\n    </g>\n    <g id=\"ytick_2\">\n     <g id=\"line2d_7\">\n      <g>\n       <use style=\"stroke:#000000;stroke-width:0.8;\" x=\"46.0125\" xlink:href=\"#m084b90ffc4\" y=\"201.938131\"/>\n      </g>\n     </g>\n     <g id=\"text_8\">\n      <!-- 9200 -->\n      <g transform=\"translate(13.5625 205.73735)scale(0.1 -0.1)\">\n       <defs>\n        <path d=\"M 19.1875 8.296875 \nL 53.609375 8.296875 \nL 53.609375 0 \nL 7.328125 0 \nL 7.328125 8.296875 \nQ 12.9375 14.109375 22.625 23.890625 \nQ 32.328125 33.6875 34.8125 36.53125 \nQ 39.546875 41.84375 41.421875 45.53125 \nQ 43.3125 49.21875 43.3125 52.78125 \nQ 43.3125 58.59375 39.234375 62.25 \nQ 35.15625 65.921875 28.609375 65.921875 \nQ 23.96875 65.921875 18.8125 64.3125 \nQ 13.671875 62.703125 7.8125 59.421875 \nL 7.8125 69.390625 \nQ 13.765625 71.78125 18.9375 73 \nQ 24.125 74.21875 28.421875 74.21875 \nQ 39.75 74.21875 46.484375 68.546875 \nQ 53.21875 62.890625 53.21875 53.421875 \nQ 53.21875 48.921875 51.53125 44.890625 \nQ 49.859375 40.875 45.40625 35.40625 \nQ 44.1875 33.984375 37.640625 27.21875 \nQ 31.109375 20.453125 19.1875 8.296875 \nz\n\" id=\"DejaVuSans-50\"/>\n       </defs>\n       <use xlink:href=\"#DejaVuSans-57\"/>\n       <use x=\"63.623047\" xlink:href=\"#DejaVuSans-50\"/>\n       <use x=\"127.246094\" xlink:href=\"#DejaVuSans-48\"/>\n       <use x=\"190.869141\" xlink:href=\"#DejaVuSans-48\"/>\n      </g>\n     </g>\n    </g>\n    <g id=\"ytick_3\">\n     <g id=\"line2d_8\">\n      <g>\n       <use style=\"stroke:#000000;stroke-width:0.8;\" x=\"46.0125\" xlink:href=\"#m084b90ffc4\" y=\"160.16452\"/>\n      </g>\n     </g>\n     <g id=\"text_9\">\n      <!-- 9400 -->\n      <g transform=\"translate(13.5625 163.963739)scale(0.1 -0.1)\">\n       <defs>\n        <path d=\"M 37.796875 64.3125 \nL 12.890625 25.390625 \nL 37.796875 25.390625 \nz\nM 35.203125 72.90625 \nL 47.609375 72.90625 \nL 47.609375 25.390625 \nL 58.015625 25.390625 \nL 58.015625 17.1875 \nL 47.609375 17.1875 \nL 47.609375 0 \nL 37.796875 0 \nL 37.796875 17.1875 \nL 4.890625 17.1875 \nL 4.890625 26.703125 \nz\n\" id=\"DejaVuSans-52\"/>\n       </defs>\n       <use xlink:href=\"#DejaVuSans-57\"/>\n       <use x=\"63.623047\" xlink:href=\"#DejaVuSans-52\"/>\n       <use x=\"127.246094\" xlink:href=\"#DejaVuSans-48\"/>\n       <use x=\"190.869141\" xlink:href=\"#DejaVuSans-48\"/>\n      </g>\n     </g>\n    </g>\n    <g id=\"ytick_4\">\n     <g id=\"line2d_9\">\n      <g>\n       <use style=\"stroke:#000000;stroke-width:0.8;\" x=\"46.0125\" xlink:href=\"#m084b90ffc4\" y=\"118.390909\"/>\n      </g>\n     </g>\n     <g id=\"text_10\">\n      <!-- 9600 -->\n      <g transform=\"translate(13.5625 122.190128)scale(0.1 -0.1)\">\n       <defs>\n        <path d=\"M 33.015625 40.375 \nQ 26.375 40.375 22.484375 35.828125 \nQ 18.609375 31.296875 18.609375 23.390625 \nQ 18.609375 15.53125 22.484375 10.953125 \nQ 26.375 6.390625 33.015625 6.390625 \nQ 39.65625 6.390625 43.53125 10.953125 \nQ 47.40625 15.53125 47.40625 23.390625 \nQ 47.40625 31.296875 43.53125 35.828125 \nQ 39.65625 40.375 33.015625 40.375 \nz\nM 52.59375 71.296875 \nL 52.59375 62.3125 \nQ 48.875 64.0625 45.09375 64.984375 \nQ 41.3125 65.921875 37.59375 65.921875 \nQ 27.828125 65.921875 22.671875 59.328125 \nQ 17.53125 52.734375 16.796875 39.40625 \nQ 19.671875 43.65625 24.015625 45.921875 \nQ 28.375 48.1875 33.59375 48.1875 \nQ 44.578125 48.1875 50.953125 41.515625 \nQ 57.328125 34.859375 57.328125 23.390625 \nQ 57.328125 12.15625 50.6875 5.359375 \nQ 44.046875 -1.421875 33.015625 -1.421875 \nQ 20.359375 -1.421875 13.671875 8.265625 \nQ 6.984375 17.96875 6.984375 36.375 \nQ 6.984375 53.65625 15.1875 63.9375 \nQ 23.390625 74.21875 37.203125 74.21875 \nQ 40.921875 74.21875 44.703125 73.484375 \nQ 48.484375 72.75 52.59375 71.296875 \nz\n\" id=\"DejaVuSans-54\"/>\n       </defs>\n       <use xlink:href=\"#DejaVuSans-57\"/>\n       <use x=\"63.623047\" xlink:href=\"#DejaVuSans-54\"/>\n       <use x=\"127.246094\" xlink:href=\"#DejaVuSans-48\"/>\n       <use x=\"190.869141\" xlink:href=\"#DejaVuSans-48\"/>\n      </g>\n     </g>\n    </g>\n    <g id=\"ytick_5\">\n     <g id=\"line2d_10\">\n      <g>\n       <use style=\"stroke:#000000;stroke-width:0.8;\" x=\"46.0125\" xlink:href=\"#m084b90ffc4\" y=\"76.617298\"/>\n      </g>\n     </g>\n     <g id=\"text_11\">\n      <!-- 9800 -->\n      <g transform=\"translate(13.5625 80.416517)scale(0.1 -0.1)\">\n       <use xlink:href=\"#DejaVuSans-57\"/>\n       <use x=\"63.623047\" xlink:href=\"#DejaVuSans-56\"/>\n       <use x=\"127.246094\" xlink:href=\"#DejaVuSans-48\"/>\n       <use x=\"190.869141\" xlink:href=\"#DejaVuSans-48\"/>\n      </g>\n     </g>\n    </g>\n    <g id=\"ytick_6\">\n     <g id=\"line2d_11\">\n      <g>\n       <use style=\"stroke:#000000;stroke-width:0.8;\" x=\"46.0125\" xlink:href=\"#m084b90ffc4\" y=\"34.843687\"/>\n      </g>\n     </g>\n     <g id=\"text_12\">\n      <!-- 10000 -->\n      <g transform=\"translate(7.2 38.642906)scale(0.1 -0.1)\">\n       <use xlink:href=\"#DejaVuSans-49\"/>\n       <use x=\"63.623047\" xlink:href=\"#DejaVuSans-48\"/>\n       <use x=\"127.246094\" xlink:href=\"#DejaVuSans-48\"/>\n       <use x=\"190.869141\" xlink:href=\"#DejaVuSans-48\"/>\n       <use x=\"254.492188\" xlink:href=\"#DejaVuSans-48\"/>\n      </g>\n     </g>\n    </g>\n   </g>\n   <g id=\"line2d_12\">\n    <path clip-path=\"url(#p1ca77037a5)\" d=\"M 122.103409 262.071244 \nL 122.503677 262.071244 \nL 122.903945 260.546507 \nL 123.304212 256.264712 \nL 123.70448 256.912203 \nL 124.104748 257.037524 \nL 124.505016 258.332506 \nL 125.705819 258.311619 \nL 126.106087 260.066111 \nL 126.506355 261.047791 \nL 126.906623 261.110451 \nL 127.306891 260.107884 \nL 127.707158 260.504734 \nL 128.107426 259.627488 \nL 128.507694 259.648375 \nL 128.907962 259.251525 \nL 129.30823 259.251525 \nL 130.108765 260.504734 \nL 130.509033 264.38968 \nL 130.909301 264.515 \nL 131.309569 266.645455 \nL 132.110104 264.807416 \nL 133.310908 264.828302 \nL 133.711175 264.765642 \nL 134.111443 264.828302 \nL 134.511711 266.373926 \nL 134.911979 266.206832 \nL 135.312247 265.830869 \nL 136.51305 265.830869 \nL 136.913318 264.619434 \nL 137.713853 264.598548 \nL 138.114121 263.721302 \nL 138.514389 263.658641 \nL 138.914657 263.742189 \nL 139.314925 262.530754 \nL 139.715192 260.964243 \nL 140.11546 261.632621 \nL 140.515728 261.569961 \nL 140.915996 260.609168 \nL 141.316264 261.047791 \nL 141.716531 262.614301 \nL 142.116799 262.864943 \nL 142.517067 261.486414 \nL 142.917335 261.632621 \nL 143.317603 259.773696 \nL 143.71787 259.376846 \nL 144.118138 258.353393 \nL 144.518406 258.311619 \nL 144.918674 259.397733 \nL 146.119477 259.460393 \nL 146.519745 258.812902 \nL 146.920013 259.063544 \nL 147.720548 259.000884 \nL 148.120816 258.269846 \nL 148.521084 256.87043 \nL 148.921352 255.909637 \nL 150.522423 255.846976 \nL 150.922691 257.434373 \nL 151.322959 257.100184 \nL 151.723226 255.596334 \nL 152.123494 255.993184 \nL 152.523762 255.283032 \nL 152.92403 255.199485 \nL 153.324298 252.108238 \nL 153.724565 252.442427 \nL 154.124833 254.572881 \nL 154.525101 257.664128 \nL 154.925369 259.105318 \nL 155.325637 257.664128 \nL 155.725904 258.228072 \nL 156.126172 258.353393 \nL 156.926708 254.593768 \nL 157.326976 252.066464 \nL 158.127511 254.196918 \nL 158.527779 253.695635 \nL 159.328315 253.737409 \nL 159.728582 254.802636 \nL 160.12885 254.155145 \nL 160.529118 257.664128 \nL 160.929386 257.037524 \nL 161.329654 257.016637 \nL 162.530457 254.948843 \nL 162.930725 254.781749 \nL 163.330993 254.426673 \nL 163.73126 253.131691 \nL 164.131528 253.319673 \nL 164.531796 253.131691 \nL 164.932064 252.4842 \nL 165.332332 252.4842 \nL 166.132867 250.583501 \nL 166.533135 250.938577 \nL 166.933403 253.319673 \nL 167.333671 243.795289 \nL 167.733938 244.923177 \nL 168.134206 247.784669 \nL 169.33501 245.549781 \nL 170.135545 244.944064 \nL 170.535813 247.534028 \nL 170.936081 246.677668 \nL 171.336349 246.802989 \nL 171.736616 247.554914 \nL 172.136884 246.677668 \nL 172.537152 247.095405 \nL 172.93742 245.904857 \nL 173.337688 245.904857 \nL 173.737956 247.408707 \nL 174.138223 247.366933 \nL 174.538491 247.722009 \nL 174.938759 247.868216 \nL 175.339027 246.86565 \nL 175.739295 246.197272 \nL 176.139562 245.988404 \nL 176.53983 244.756082 \nL 176.940098 244.756082 \nL 177.340366 243.711742 \nL 177.740634 244.609875 \nL 178.140901 244.463667 \nL 178.541169 244.150365 \nL 178.941437 244.108591 \nL 179.741973 249.288519 \nL 180.14224 249.121425 \nL 180.542508 249.518274 \nL 181.343044 249.560048 \nL 181.743312 249.079651 \nL 182.143579 249.163198 \nL 182.543847 248.933443 \nL 182.944115 248.933443 \nL 183.344383 248.578368 \nL 183.744651 247.158065 \nL 184.144918 247.178952 \nL 184.545186 244.129478 \nL 184.945454 243.92061 \nL 185.345722 244.213025 \nL 185.74599 248.035311 \nL 186.146257 246.009291 \nL 186.546525 246.364366 \nL 186.946793 248.515707 \nL 187.747329 247.241612 \nL 188.147596 246.990971 \nL 188.547864 247.742896 \nL 188.948132 247.84733 \nL 189.3484 248.661915 \nL 189.748668 248.870783 \nL 190.949471 248.933443 \nL 191.349739 247.638462 \nL 191.750007 247.366933 \nL 192.150274 246.197272 \nL 192.550542 246.427027 \nL 192.95081 246.990971 \nL 193.351078 246.218159 \nL 193.751346 248.661915 \nL 194.151613 248.933443 \nL 194.952149 248.933443 \nL 195.352417 255.36658 \nL 195.752685 257.768562 \nL 196.152952 258.165412 \nL 196.55322 259.105318 \nL 196.953488 258.624921 \nL 197.353756 253.361446 \nL 197.754024 255.241259 \nL 198.154291 255.220372 \nL 198.554559 253.507654 \nL 198.954827 253.737409 \nL 199.355095 253.737409 \nL 199.755363 256.076731 \nL 200.15563 256.139391 \nL 200.555898 256.912203 \nL 200.956166 256.243825 \nL 201.356434 256.661562 \nL 201.756702 257.434373 \nL 202.156969 254.113371 \nL 202.557237 254.3849 \nL 202.957505 254.343126 \nL 203.357773 253.507654 \nL 203.758041 253.737409 \nL 204.158308 253.110805 \nL 204.558576 251.627841 \nL 204.958844 248.89167 \nL 205.75938 248.829009 \nL 206.159647 250.207539 \nL 206.559915 249.977784 \nL 206.960183 249.915123 \nL 207.360451 250.91769 \nL 207.760719 250.353746 \nL 208.160986 251.022124 \nL 208.561254 250.45818 \nL 208.961522 250.520841 \nL 209.36179 252.066464 \nL 209.762058 252.045577 \nL 210.162325 253.758296 \nL 210.562593 253.215239 \nL 211.763397 252.212672 \nL 212.163664 253.967164 \nL 212.9642 252.651295 \nL 214.165003 248.390387 \nL 214.565271 249.894237 \nL 214.965539 248.95433 \nL 215.365807 248.724575 \nL 216.166342 248.641028 \nL 216.56661 248.808123 \nL 216.966878 250.646162 \nL 217.367146 247.325159 \nL 217.767414 248.077084 \nL 218.167681 244.776969 \nL 219.368485 244.651648 \nL 219.768753 247.220725 \nL 220.16902 245.695989 \nL 220.569288 245.94663 \nL 220.969556 245.967517 \nL 221.369824 246.698555 \nL 221.770092 246.176385 \nL 222.170359 244.96495 \nL 224.171699 251.711389 \nL 224.972234 249.4765 \nL 225.372502 251.857596 \nL 225.77277 251.523407 \nL 226.173038 251.356313 \nL 226.573305 250.249312 \nL 226.973573 250.019557 \nL 227.373841 249.560048 \nL 228.174377 250.687935 \nL 228.974912 250.667048 \nL 229.37518 250.061331 \nL 229.775448 250.687935 \nL 230.175716 252.066464 \nL 230.575983 251.189218 \nL 230.976251 250.792369 \nL 231.376519 250.91769 \nL 231.776787 252.003804 \nL 232.177055 251.648728 \nL 232.577322 249.560048 \nL 232.97759 249.560048 \nL 233.377858 248.515707 \nL 233.778126 249.998671 \nL 234.978929 249.977784 \nL 235.779465 247.889103 \nL 236.179733 246.322593 \nL 236.58 246.907423 \nL 236.980268 246.301706 \nL 237.380536 245.173818 \nL 237.780804 238.761569 \nL 238.181072 237.466587 \nL 238.581339 235.398794 \nL 238.981607 237.988757 \nL 239.381875 235.712096 \nL 239.782143 238.657135 \nL 240.182411 245.695989 \nL 240.982946 241.769269 \nL 241.383214 243.356666 \nL 241.783482 243.356666 \nL 242.18375 243.669968 \nL 242.584017 244.90229 \nL 242.984285 243.711742 \nL 243.384553 244.547214 \nL 243.784821 247.596688 \nL 244.185089 245.3618 \nL 244.585356 245.069384 \nL 244.985624 245.236479 \nL 245.385892 245.967517 \nL 246.186428 243.878837 \nL 246.586695 243.377553 \nL 246.986963 242.124345 \nL 247.387231 243.231346 \nL 247.787499 245.027611 \nL 248.187767 245.528894 \nL 248.588034 244.463667 \nL 248.988302 244.96495 \nL 249.38857 244.96495 \nL 249.788838 245.800423 \nL 250.189106 247.011857 \nL 250.589373 247.074518 \nL 250.989641 248.390387 \nL 251.389909 250.249312 \nL 251.790177 250.186652 \nL 252.190445 251.147445 \nL 252.590712 248.494821 \nL 252.99098 247.408707 \nL 253.391248 247.408707 \nL 254.191784 246.970084 \nL 254.592051 247.137178 \nL 254.992319 246.844763 \nL 255.392587 247.074518 \nL 255.792855 245.842196 \nL 256.193123 246.552348 \nL 256.59339 246.719442 \nL 256.993658 247.889103 \nL 257.393926 249.768916 \nL 257.794194 249.87335 \nL 258.594729 258.416053 \nL 258.994997 256.786882 \nL 259.395265 257.288166 \nL 259.795533 257.267279 \nL 260.195801 256.139391 \nL 260.596068 254.364013 \nL 260.996336 255.36658 \nL 261.396604 254.364013 \nL 261.796872 254.468447 \nL 262.19714 255.032391 \nL 262.597407 254.364013 \nL 262.997675 254.364013 \nL 263.397943 254.677315 \nL 263.798211 255.554561 \nL 264.198479 252.170898 \nL 264.999014 252.191785 \nL 265.399282 251.857596 \nL 265.79955 250.834143 \nL 266.600085 251.147445 \nL 267.000353 250.332859 \nL 267.400621 250.729709 \nL 267.800889 250.792369 \nL 268.201157 252.191785 \nL 268.601424 252.191785 \nL 269.001692 252.505087 \nL 269.40196 252.087351 \nL 269.802228 249.831576 \nL 270.202496 249.831576 \nL 270.602763 250.562614 \nL 271.403299 250.479067 \nL 271.803567 249.748029 \nL 272.203835 249.560048 \nL 272.604103 249.539161 \nL 273.404638 248.578368 \nL 274.605442 248.578368 \nL 275.005709 250.103105 \nL 275.806245 251.126558 \nL 276.606781 249.142312 \nL 277.007048 248.703689 \nL 277.407316 247.053631 \nL 277.807584 247.178952 \nL 278.207852 247.90999 \nL 278.60812 248.202405 \nL 279.008387 248.661915 \nL 279.408655 249.518274 \nL 279.808923 249.601821 \nL 280.209191 250.144878 \nL 281.009726 249.163198 \nL 281.409994 247.053631 \nL 281.810262 247.032744 \nL 282.21053 246.176385 \nL 282.610798 244.818743 \nL 283.011065 245.863083 \nL 283.411333 245.904857 \nL 283.811601 247.074518 \nL 284.211869 247.38782 \nL 284.612137 248.745462 \nL 285.012404 248.620141 \nL 285.412672 247.492254 \nL 285.81294 246.907423 \nL 286.213208 245.236479 \nL 286.613476 245.320026 \nL 287.013743 246.40614 \nL 287.414011 246.510574 \nL 288.214547 248.849896 \nL 288.614815 248.557481 \nL 289.015082 249.225859 \nL 289.41535 249.309406 \nL 289.815618 248.808123 \nL 290.215886 248.766349 \nL 290.616154 247.784669 \nL 291.016421 247.38782 \nL 291.416689 247.554914 \nL 291.816957 248.766349 \nL 292.217225 248.766349 \nL 292.617493 250.353746 \nL 293.01776 250.249312 \nL 293.418028 249.831576 \nL 293.818296 249.956897 \nL 294.618832 249.894237 \nL 295.019099 249.956897 \nL 295.419367 250.249312 \nL 295.819635 252.4842 \nL 296.219903 252.212672 \nL 296.620171 252.463314 \nL 297.020438 253.257012 \nL 297.420706 252.546861 \nL 297.820974 252.922823 \nL 298.221242 252.317106 \nL 299.021777 251.669615 \nL 299.822313 253.716522 \nL 300.222581 253.46588 \nL 300.622849 251.084784 \nL 301.023116 250.792369 \nL 301.423384 251.606955 \nL 302.22392 251.001237 \nL 303.024455 251.001237 \nL 304.225259 250.374633 \nL 304.625527 251.230992 \nL 305.426062 252.42154 \nL 306.226598 252.588634 \nL 306.626866 252.275332 \nL 307.027133 252.275332 \nL 307.827669 249.894237 \nL 308.227937 250.667048 \nL 308.628205 249.016991 \nL 309.42874 248.933443 \nL 310.229276 248.870783 \nL 310.629544 248.139745 \nL 311.029811 248.097971 \nL 311.830347 248.160632 \nL 312.630883 248.160632 \nL 313.03115 246.949197 \nL 313.831686 248.620141 \nL 314.231954 248.620141 \nL 314.632222 248.160632 \nL 315.032489 248.620141 \nL 315.432757 247.680235 \nL 315.833025 248.181518 \nL 316.233293 248.95433 \nL 316.633561 248.014424 \nL 317.033828 247.45048 \nL 317.434096 247.680235 \nL 318.234632 246.844763 \nL 319.035167 246.844763 \nL 319.435435 246.092838 \nL 319.835703 245.006724 \nL 320.235971 245.612441 \nL 320.636239 244.881403 \nL 321.036507 245.027611 \nL 321.436774 246.051064 \nL 321.837042 245.173818 \nL 323.037846 245.152932 \nL 323.438113 244.90229 \nL 323.838381 245.132045 \nL 325.039185 245.215592 \nL 325.83972 241.852816 \nL 326.239988 239.116645 \nL 326.640256 238.740682 \nL 327.040524 240.077438 \nL 327.440791 239.367287 \nL 327.841059 239.033098 \nL 328.241327 239.304626 \nL 328.641595 241.309759 \nL 329.44213 232.87149 \nL 329.842398 231.200546 \nL 330.242666 230.009998 \nL 330.642934 233.143019 \nL 331.043202 234.479774 \nL 331.443469 231.179659 \nL 331.843737 229.40428 \nL 332.244005 232.182225 \nL 332.644273 238.176739 \nL 333.044541 239.40906 \nL 333.444808 238.36472 \nL 333.845076 249.768916 \nL 334.245344 245.88397 \nL 334.645612 247.283386 \nL 335.04588 247.346046 \nL 335.446147 251.022124 \nL 336.246683 242.040798 \nL 336.646951 242.312326 \nL 337.047219 240.265419 \nL 337.447486 237.215946 \nL 337.847754 237.341266 \nL 338.248022 238.928664 \nL 338.64829 238.030531 \nL 339.048558 238.907777 \nL 339.448825 237.90521 \nL 339.849093 238.406494 \nL 340.249361 238.490041 \nL 341.049897 240.996457 \nL 341.450164 240.32808 \nL 341.850432 239.429947 \nL 343.051236 239.40906 \nL 343.451503 238.907777 \nL 343.851771 235.022831 \nL 344.252039 234.333566 \nL 344.652307 234.333566 \nL 345.052575 235.41968 \nL 345.452842 235.210812 \nL 346.253378 233.247453 \nL 346.653646 236.234266 \nL 347.053914 236.004511 \nL 347.454181 234.876623 \nL 347.854449 233.247453 \nL 348.254717 233.706962 \nL 349.055253 233.727849 \nL 349.45552 231.806263 \nL 349.855788 233.372773 \nL 350.256056 232.996811 \nL 350.656324 234.960171 \nL 351.456859 233.602528 \nL 351.857127 234.270906 \nL 352.257395 233.874057 \nL 352.657663 238.281173 \nL 353.057931 239.429947 \nL 353.458198 238.36472 \nL 353.858466 238.197625 \nL 354.258734 237.299493 \nL 354.659002 238.42738 \nL 355.05927 241.769269 \nL 355.459537 241.623062 \nL 355.859805 241.247099 \nL 356.260073 242.521194 \nL 356.660341 240.077438 \nL 357.060609 241.936364 \nL 357.460876 241.643948 \nL 358.261412 239.534381 \nL 358.66168 239.534381 \nL 359.061948 240.411627 \nL 359.462215 238.448267 \nL 359.862483 237.236832 \nL 360.262751 237.007078 \nL 360.663019 238.94955 \nL 361.063287 238.803343 \nL 361.863822 238.657135 \nL 362.26409 238.698909 \nL 363.064626 235.649435 \nL 363.464893 235.41968 \nL 363.865161 235.81653 \nL 364.665697 235.774756 \nL 365.466232 235.774756 \nL 365.8665 234.521548 \nL 366.266768 234.667755 \nL 366.667036 234.542434 \nL 367.067304 234.751303 \nL 367.467571 235.774756 \nL 367.867839 238.385607 \nL 368.268107 237.591908 \nL 368.668375 237.675455 \nL 369.068643 237.591908 \nL 369.468911 236.150719 \nL 369.869178 236.234266 \nL 370.269446 236.568455 \nL 370.669714 235.858303 \nL 371.069982 235.753869 \nL 371.47025 236.547568 \nL 371.870517 236.547568 \nL 372.270785 239.785023 \nL 373.071321 240.244532 \nL 373.471589 240.975571 \nL 373.871856 240.954684 \nL 374.272124 238.615362 \nL 374.672392 238.531814 \nL 375.07266 237.863437 \nL 375.472928 237.550134 \nL 375.873195 237.550134 \nL 376.273463 237.84255 \nL 376.673731 239.680589 \nL 377.073999 239.450834 \nL 378.274802 239.889457 \nL 378.67507 244.463667 \nL 379.875873 241.414193 \nL 380.276141 240.683155 \nL 380.676409 241.163552 \nL 381.076677 240.411627 \nL 382.27748 240.557834 \nL 383.078016 240.536948 \nL 383.478284 238.093191 \nL 383.878551 236.568455 \nL 384.679087 237.487474 \nL 385.079355 236.192492 \nL 385.479623 233.268339 \nL 385.87989 234.250019 \nL 386.680426 232.850603 \nL 387.080694 235.87919 \nL 387.480962 234.89751 \nL 387.881229 235.753869 \nL 388.281497 236.171605 \nL 388.681765 234.354453 \nL 389.082033 234.291793 \nL 389.882568 234.31268 \nL 390.683104 234.270906 \nL 391.48364 231.931584 \nL 391.883907 232.453754 \nL 392.284175 235.900077 \nL 392.684443 235.169039 \nL 393.484979 235.189925 \nL 394.685782 234.082925 \nL 395.08605 234.082925 \nL 395.486318 233.727849 \nL 396.286853 233.706962 \nL 396.687121 234.082925 \nL 397.887924 236.422247 \nL 398.288192 237.988757 \nL 398.68846 237.215946 \nL 399.088728 236.986191 \nL 400.289531 238.322946 \nL 400.689799 241.623062 \nL 401.090067 238.803343 \nL 401.490335 239.179305 \nL 401.890602 240.286306 \nL 402.29087 238.636248 \nL 402.691138 237.612795 \nL 403.091406 237.174172 \nL 403.491674 237.508361 \nL 403.891941 238.302059 \nL 404.692477 238.469154 \nL 405.092745 238.281173 \nL 407.094084 238.281173 \nL 407.494352 236.422247 \nL 407.894619 235.649435 \nL 408.695155 233.059471 \nL 409.095423 234.291793 \nL 409.895958 234.31268 \nL 410.296226 233.122132 \nL 410.696494 233.038584 \nL 411.096762 232.370207 \nL 411.49703 232.015131 \nL 411.897297 232.244886 \nL 412.297565 234.813963 \nL 412.697833 235.148152 \nL 413.098101 235.294359 \nL 413.498369 234.89751 \nL 413.898636 235.565888 \nL 414.298904 235.649435 \nL 415.09944 237.111512 \nL 415.499708 235.753869 \nL 415.899975 235.732982 \nL 416.300243 237.487474 \nL 416.700511 238.552701 \nL 417.100779 239.095758 \nL 417.501047 238.385607 \nL 418.301582 238.385607 \nL 418.70185 239.325513 \nL 419.102118 239.93123 \nL 419.502386 238.093191 \nL 419.902654 237.403927 \nL 420.302921 237.779889 \nL 420.703189 236.296926 \nL 421.103457 236.652002 \nL 421.503725 237.174172 \nL 421.903993 238.114078 \nL 422.30426 238.469154 \nL 422.704528 240.098325 \nL 423.104796 239.617928 \nL 423.505064 238.490041 \nL 423.905332 237.738116 \nL 424.305599 238.030531 \nL 424.705867 238.469154 \nL 425.106135 238.469154 \nL 425.506403 236.422247 \nL 425.906671 235.837416 \nL 426.707206 235.94185 \nL 427.107474 235.628548 \nL 428.708545 235.649435 \nL 429.108813 234.31268 \nL 429.509081 234.772189 \nL 429.909349 234.772189 \nL 430.309616 233.581641 \nL 430.709884 235.315246 \nL 431.110152 235.315246 \nL 431.51042 228.046638 \nL 432.310955 221.88503 \nL 432.711223 225.122485 \nL 433.111491 226.79343 \nL 433.511759 225.895297 \nL 433.912027 235.962737 \nL 434.312294 237.466587 \nL 434.712562 236.171605 \nL 435.11283 233.289226 \nL 435.513098 234.605095 \nL 435.913366 233.289226 \nL 436.713901 227.482694 \nL 437.114169 229.571375 \nL 437.514437 224.537655 \nL 437.914705 226.354807 \nL 438.314972 226.668109 \nL 438.71524 228.547921 \nL 439.115508 229.090978 \nL 439.515776 227.649789 \nL 439.916044 228.130185 \nL 440.316311 228.88211 \nL 440.716579 229.090978 \nL 441.116847 228.673242 \nL 441.517115 225.561108 \nL 441.917383 228.025751 \nL 442.31765 229.362507 \nL 442.717918 232.265773 \nL 443.118186 230.177092 \nL 443.518454 230.302413 \nL 443.918722 231.033451 \nL 444.318989 232.223999 \nL 444.719257 231.179659 \nL 445.119525 229.738469 \nL 445.519793 229.884677 \nL 445.920061 230.490394 \nL 446.320328 230.135319 \nL 446.720596 230.553055 \nL 447.120864 229.86379 \nL 447.521132 231.722716 \nL 447.9214 231.785376 \nL 448.321667 232.432867 \nL 448.721935 232.662622 \nL 449.122203 232.641735 \nL 449.522471 231.451187 \nL 449.922739 232.620848 \nL 450.723274 232.599962 \nL 451.123542 233.790509 \nL 451.52381 233.435434 \nL 451.924078 235.001944 \nL 452.724613 232.453754 \nL 453.525149 237.174172 \nL 453.925417 234.145585 \nL 454.325684 233.560755 \nL 454.725952 233.268339 \nL 455.926756 233.268339 \nL 456.727291 232.161339 \nL 457.527827 232.80883 \nL 457.928095 230.218866 \nL 458.328362 229.529601 \nL 458.72863 229.090978 \nL 459.128898 229.613148 \nL 459.529166 229.174525 \nL 460.729969 229.028318 \nL 461.130237 229.592262 \nL 461.530505 227.294713 \nL 461.930773 227.294713 \nL 462.33104 227.963091 \nL 462.731308 228.401714 \nL 463.131576 230.949904 \nL 463.531844 230.887244 \nL 463.932112 229.571375 \nL 464.332379 229.571375 \nL 464.732647 228.861223 \nL 465.132915 228.568808 \nL 465.533183 228.798563 \nL 465.933451 228.151072 \nL 466.333718 227.942204 \nL 466.733986 228.192846 \nL 467.134254 226.33392 \nL 467.534522 225.143372 \nL 468.335058 225.310466 \nL 468.735325 222.908484 \nL 469.135593 224.328787 \nL 469.535861 222.678729 \nL 469.936129 223.84839 \nL 470.336397 223.869277 \nL 470.736664 224.495881 \nL 471.136932 224.913617 \nL 471.5372 224.474994 \nL 472.337736 228.29728 \nL 472.738003 227.649789 \nL 473.138271 227.336487 \nL 473.538539 225.916184 \nL 473.938807 225.477561 \nL 474.339075 224.495881 \nL 474.739342 224.89273 \nL 475.13961 224.83007 \nL 475.539878 224.349673 \nL 475.940146 224.328787 \nL 476.340414 223.78573 \nL 476.740681 224.119919 \nL 477.140949 224.704749 \nL 477.541217 224.704749 \nL 477.941485 224.140805 \nL 478.341753 223.827503 \nL 478.74202 222.428087 \nL 479.142288 221.801483 \nL 479.542556 220.151425 \nL 479.942824 224.349673 \nL 480.343092 224.704749 \nL 480.743359 224.203466 \nL 481.143627 222.845823 \nL 482.344431 225.310466 \nL 482.744698 226.981411 \nL 483.144966 225.498448 \nL 483.545234 225.331353 \nL 483.945502 226.542788 \nL 484.34577 223.994598 \nL 484.746037 224.287013 \nL 485.546573 223.723069 \nL 485.946841 222.80405 \nL 486.347109 220.736256 \nL 486.747376 220.443841 \nL 487.94818 201.687489 \nL 488.348448 199.598809 \nL 488.748715 206.32436 \nL 489.148983 203.003358 \nL 489.549251 206.512342 \nL 489.949519 202.20966 \nL 490.349787 202.460301 \nL 490.750054 200.998225 \nL 491.150322 198.178506 \nL 491.55059 193.666956 \nL 491.950858 183.18178 \nL 492.351126 190.533935 \nL 492.751393 190.053539 \nL 493.151661 186.481895 \nL 493.551929 188.487028 \nL 493.952197 192.852371 \nL 494.352465 190.659256 \nL 494.752732 192.72705 \nL 495.153 203.609076 \nL 495.553268 200.684923 \nL 495.953536 196.19426 \nL 496.754071 196.486675 \nL 497.154339 197.071505 \nL 497.554607 195.149919 \nL 497.954875 194.81573 \nL 498.355143 196.173373 \nL 498.75541 196.904411 \nL 499.155678 198.846884 \nL 499.555946 199.703243 \nL 499.956214 200.058319 \nL 500.356482 197.865204 \nL 500.756749 197.2386 \nL 501.157017 196.340467 \nL 501.557285 196.71643 \nL 501.957553 196.089826 \nL 502.357821 191.828917 \nL 502.758088 193.562522 \nL 503.158356 193.18656 \nL 503.558624 193.792277 \nL 503.958892 190.24152 \nL 504.35916 189.176293 \nL 504.759427 191.139653 \nL 505.159695 192.330201 \nL 505.559963 194.857504 \nL 505.960231 194.648636 \nL 506.360499 197.656336 \nL 506.760766 197.76077 \nL 507.161034 196.486675 \nL 507.561302 193.395428 \nL 507.96157 195.024598 \nL 508.361838 195.27524 \nL 508.762105 196.71643 \nL 509.162373 197.531015 \nL 509.562641 197.405694 \nL 509.962909 198.888657 \nL 510.363177 198.199393 \nL 510.763444 198.345601 \nL 511.163712 195.254353 \nL 511.56398 195.045485 \nL 511.964248 195.003712 \nL 512.364516 197.739883 \nL 512.764783 197.76077 \nL 513.165051 195.839184 \nL 513.565319 197.614562 \nL 513.965587 193.583409 \nL 514.766122 192.831484 \nL 515.16639 192.956805 \nL 515.566658 192.78971 \nL 515.966926 192.998578 \nL 516.367194 192.580842 \nL 517.167729 190.638369 \nL 517.567997 190.638369 \nL 517.968265 190.450388 \nL 518.368533 187.797764 \nL 518.768801 187.860424 \nL 519.169068 188.152839 \nL 519.569336 191.473842 \nL 519.969604 190.868124 \nL 520.369872 189.489595 \nL 521.170407 185.228687 \nL 521.570675 181.970345 \nL 521.970943 183.536855 \nL 523.171746 173.657396 \nL 523.572014 178.27338 \nL 523.972282 175.370115 \nL 524.37255 175.620756 \nL 524.772818 175.453662 \nL 525.173085 169.375601 \nL 525.973621 172.153546 \nL 526.373889 174.931492 \nL 526.774157 172.989019 \nL 527.174424 173.281434 \nL 527.574692 166.70209 \nL 527.97496 170.336394 \nL 528.375228 168.644563 \nL 528.775496 164.007692 \nL 529.175763 162.336748 \nL 529.576031 167.09894 \nL 529.976299 168.957865 \nL 530.376567 182.283647 \nL 530.776835 178.795551 \nL 531.177102 176.915738 \nL 531.57737 177.16638 \nL 531.977638 174.827058 \nL 532.377906 176.059379 \nL 532.778174 178.524022 \nL 533.178441 176.853078 \nL 533.578709 183.202667 \nL 533.978977 182.764044 \nL 534.379245 183.056459 \nL 534.779513 185.166026 \nL 535.17978 184.434988 \nL 535.580048 181.051326 \nL 535.980316 183.035572 \nL 536.380584 182.304534 \nL 536.780852 182.116553 \nL 537.181119 179.526589 \nL 537.581387 181.030439 \nL 539.582726 181.051326 \nL 539.982994 178.983532 \nL 540.383262 176.1847 \nL 540.78353 177.437908 \nL 541.183797 177.709437 \nL 541.584065 179.986099 \nL 541.984333 178.837324 \nL 542.384601 179.129739 \nL 543.185136 183.307101 \nL 543.585404 184.643856 \nL 543.985672 184.915385 \nL 544.38594 184.16346 \nL 544.786208 185.103366 \nL 545.186475 184.602083 \nL 545.586743 184.560309 \nL 545.987011 184.330554 \nL 546.387279 190.429501 \nL 546.787547 188.319934 \nL 547.187814 193.562522 \nL 547.588082 191.28586 \nL 547.98835 191.202313 \nL 548.388618 190.721917 \nL 548.788886 190.659256 \nL 549.189153 189.802897 \nL 550.389957 192.288427 \nL 550.790225 191.599162 \nL 551.190492 194.627749 \nL 551.59076 186.878744 \nL 551.991028 189.155406 \nL 552.391296 188.194613 \nL 552.791564 188.528802 \nL 553.191831 186.105933 \nL 553.992367 185.813517 \nL 554.392635 184.957158 \nL 554.792903 185.500215 \nL 555.19317 184.998932 \nL 555.593438 188.654123 \nL 555.993706 188.779444 \nL 556.393974 187.923085 \nL 556.794242 190.575709 \nL 557.194509 189.78201 \nL 557.594777 188.319934 \nL 557.995045 188.570576 \nL 558.395313 188.2155 \nL 558.795581 189.635803 \nL 559.195848 190.429501 \nL 559.596116 190.387728 \nL 559.996384 192.998578 \nL 560.396652 201.771037 \nL 560.79692 214.783516 \nL 561.197187 208.204173 \nL 561.597455 208.204173 \nL 561.997723 206.178153 \nL 562.397991 205.823077 \nL 562.798259 205.823077 \nL 563.198526 205.426228 \nL 563.598794 204.026812 \nL 564.39933 197.363921 \nL 564.799598 201.833697 \nL 565.199865 202.460301 \nL 565.600133 200.496942 \nL 566.000401 199.097526 \nL 566.800937 201.332414 \nL 567.201205 202.606509 \nL 568.00174 199.661469 \nL 568.802276 202.857151 \nL 569.202544 202.564735 \nL 569.602811 202.79449 \nL 570.003079 201.186206 \nL 570.403347 200.058319 \nL 570.803615 197.739883 \nL 571.60415 196.236033 \nL 572.004418 196.444901 \nL 572.404686 196.946185 \nL 572.804954 196.611996 \nL 573.205222 198.366487 \nL 573.605489 196.611996 \nL 574.005757 195.588542 \nL 574.406025 195.880958 \nL 574.806293 195.73475 \nL 575.206561 194.627749 \nL 575.606828 194.585976 \nL 576.007096 194.042919 \nL 576.407364 194.606862 \nL 576.807632 194.878391 \nL 577.608167 196.465788 \nL 578.008435 196.904411 \nL 578.408703 196.967071 \nL 578.808971 193.583409 \nL 579.609506 188.946538 \nL 580.009774 190.596596 \nL 580.410042 190.70103 \nL 580.81031 190.17886 \nL 581.610845 191.056105 \nL 582.011113 191.264973 \nL 582.411381 193.165673 \nL 582.811649 193.040352 \nL 583.211917 192.121333 \nL 583.612184 190.450388 \nL 584.012452 195.149919 \nL 584.41272 195.651203 \nL 584.812988 195.233467 \nL 585.213256 196.925298 \nL 585.613523 195.484108 \nL 586.013791 193.061239 \nL 586.414059 193.165673 \nL 586.814327 193.813164 \nL 587.214595 193.458088 \nL 587.614862 192.768823 \nL 588.01513 191.348521 \nL 588.415398 193.750503 \nL 588.815666 193.583409 \nL 589.215934 197.635449 \nL 589.616201 196.027165 \nL 590.016469 197.405694 \nL 590.416737 201.938131 \nL 590.817005 198.825997 \nL 591.217273 199.72413 \nL 591.61754 198.825997 \nL 592.017808 198.867771 \nL 592.818344 196.737317 \nL 593.218612 196.841751 \nL 593.618879 196.31958 \nL 594.019147 194.2309 \nL 594.819683 198.157619 \nL 595.219951 198.345601 \nL 595.620218 199.369054 \nL 596.020486 199.536148 \nL 596.420754 200.643149 \nL 596.821022 200.079205 \nL 597.22129 199.013978 \nL 597.621557 198.784223 \nL 598.021825 194.920164 \nL 598.422093 195.296127 \nL 598.822361 193.583409 \nL 599.222629 193.792277 \nL 599.622896 190.76369 \nL 600.023164 190.993445 \nL 600.423432 190.889011 \nL 600.8237 193.353654 \nL 601.223968 193.374541 \nL 601.624235 192.142219 \nL 602.024503 191.80803 \nL 602.424771 192.601729 \nL 602.825039 192.392861 \nL 603.225307 193.332767 \nL 603.625574 191.933351 \nL 604.025842 192.079559 \nL 604.42611 190.930785 \nL 604.826378 185.228687 \nL 605.226646 185.291347 \nL 605.626913 185.228687 \nL 606.027181 184.100799 \nL 606.427449 184.184346 \nL 607.628252 187.609783 \nL 608.02852 187.338254 \nL 608.428788 186.648989 \nL 608.829056 186.273027 \nL 609.229324 187.254707 \nL 609.629591 186.461008 \nL 610.029859 183.996365 \nL 610.430127 184.873611 \nL 610.830395 184.581196 \nL 611.230663 182.72227 \nL 611.63093 182.492515 \nL 612.031198 180.341174 \nL 612.431466 183.620403 \nL 612.831734 185.750857 \nL 613.232002 185.521102 \nL 613.632269 186.71165 \nL 614.032537 187.547122 \nL 614.432805 187.317367 \nL 614.833073 185.521102 \nL 615.233341 185.876178 \nL 615.633609 185.019819 \nL 616.834412 187.69333 \nL 617.23468 188.299047 \nL 617.634948 187.150273 \nL 618.435483 186.481895 \nL 618.835751 186.565442 \nL 619.636287 187.066726 \nL 620.036554 188.361708 \nL 620.436822 188.131953 \nL 620.83709 189.385161 \nL 621.237358 187.317367 \nL 621.637626 187.526235 \nL 622.037893 185.019819 \nL 622.438161 183.578629 \nL 622.838429 184.769177 \nL 623.238697 184.497649 \nL 623.638965 183.035572 \nL 624.039232 186.941405 \nL 624.4395 187.985745 \nL 624.839768 183.140006 \nL 625.240036 183.432421 \nL 625.640304 183.536855 \nL 626.040571 183.515969 \nL 626.440839 182.680496 \nL 626.841107 178.962645 \nL 627.641643 177.417021 \nL 628.442178 180.529155 \nL 628.842446 181.030439 \nL 629.242714 180.006985 \nL 629.642982 180.006985 \nL 630.443517 187.317367 \nL 630.843785 185.688196 \nL 631.244053 186.273027 \nL 631.644321 191.975125 \nL 632.044588 188.549689 \nL 632.444856 188.487028 \nL 632.845124 188.236387 \nL 633.245392 189.406048 \nL 633.64566 191.494728 \nL 634.045927 190.450388 \nL 634.446195 188.695896 \nL 634.846463 189.531369 \nL 635.246731 189.134519 \nL 636.047266 191.473842 \nL 636.447534 191.494728 \nL 636.847802 191.787144 \nL 637.24807 191.2232 \nL 637.648338 187.547122 \nL 638.048605 187.776877 \nL 638.448873 187.776877 \nL 638.849141 186.461008 \nL 639.249409 187.317367 \nL 639.649677 186.273027 \nL 640.049944 185.855291 \nL 640.450212 184.894498 \nL 640.85048 187.29648 \nL 641.250748 184.852724 \nL 641.651016 187.29648 \nL 642.051283 185.959725 \nL 642.451551 186.586329 \nL 643.252087 185.249574 \nL 643.652355 184.894498 \nL 644.052622 183.954592 \nL 644.45289 185.249574 \nL 644.853158 185.855291 \nL 645.253426 187.17116 \nL 645.653694 185.166026 \nL 646.454229 185.249574 \nL 646.854497 185.228687 \nL 647.655033 185.688196 \nL 648.0553 183.119119 \nL 648.455568 184.998932 \nL 648.855836 184.810951 \nL 649.256104 186.210367 \nL 649.656372 186.25214 \nL 650.056639 188.842104 \nL 650.456907 188.152839 \nL 650.857175 186.669876 \nL 651.257443 186.878744 \nL 651.657711 187.630669 \nL 652.057978 187.630669 \nL 652.458246 189.238953 \nL 653.258782 188.361708 \nL 653.65905 190.17886 \nL 654.059317 190.199746 \nL 654.459585 190.345954 \nL 654.859853 191.494728 \nL 655.260121 193.353654 \nL 655.660389 191.118766 \nL 656.060656 190.325067 \nL 656.460924 191.494728 \nL 656.861192 191.912464 \nL 657.26146 191.891578 \nL 657.661728 191.724483 \nL 658.462263 191.703596 \nL 658.862531 189.406048 \nL 659.262799 189.78201 \nL 659.663067 191.076992 \nL 660.063334 189.635803 \nL 660.463602 189.406048 \nL 660.86387 190.30418 \nL 661.264138 190.137086 \nL 661.664406 191.473842 \nL 662.064673 191.473842 \nL 662.865209 191.076992 \nL 663.265477 189.406048 \nL 663.665745 189.78201 \nL 664.066013 189.594029 \nL 664.46628 190.450388 \nL 666.067352 190.450388 \nL 666.467619 190.199746 \nL 667.268155 188.842104 \nL 667.668423 188.967425 \nL 668.068691 186.273027 \nL 668.468958 186.669876 \nL 668.869226 186.71165 \nL 669.269494 187.317367 \nL 669.669762 187.29648 \nL 670.07003 187.108499 \nL 670.470297 187.129386 \nL 670.870565 184.831837 \nL 671.270833 184.810951 \nL 671.671101 186.648989 \nL 672.071369 186.18948 \nL 672.471636 188.152839 \nL 672.871904 187.421801 \nL 673.272172 188.319934 \nL 673.67244 190.032652 \nL 674.072708 190.450388 \nL 674.472975 190.617483 \nL 675.273511 191.390294 \nL 676.874582 191.327634 \nL 677.27485 189.928218 \nL 677.675118 190.074426 \nL 678.075386 195.358787 \nL 678.475653 196.424014 \nL 678.875921 194.168239 \nL 679.276189 194.001145 \nL 679.676457 194.001145 \nL 680.076725 193.583409 \nL 680.476992 193.583409 \nL 680.87726 194.126466 \nL 681.277528 194.084692 \nL 681.677796 192.330201 \nL 682.078064 192.518182 \nL 682.478331 192.330201 \nL 682.878599 191.348521 \nL 683.278867 191.640936 \nL 683.679135 193.18656 \nL 684.079403 193.499862 \nL 684.47967 193.478975 \nL 684.879938 192.72705 \nL 685.680474 193.520748 \nL 686.080742 192.622616 \nL 686.481009 193.061239 \nL 686.881277 194.042919 \nL 687.281545 193.24922 \nL 687.681813 194.857504 \nL 688.082081 195.901844 \nL 688.482348 195.672089 \nL 688.882616 194.126466 \nL 689.282884 194.251787 \nL 689.683152 196.110712 \nL 690.08342 196.695543 \nL 690.483687 195.692976 \nL 690.883955 195.692976 \nL 691.284223 194.29356 \nL 691.684491 193.70873 \nL 692.084759 193.750503 \nL 692.485026 194.29356 \nL 692.885294 194.29356 \nL 693.285562 193.70873 \nL 693.68583 193.70873 \nL 694.086098 192.539069 \nL 694.486365 193.165673 \nL 694.886633 191.661823 \nL 695.286901 191.494728 \nL 695.687169 191.494728 \nL 696.087437 192.455521 \nL 696.487704 192.016898 \nL 696.887972 192.183993 \nL 697.28824 192.20488 \nL 697.688508 192.518182 \nL 698.088776 192.246653 \nL 698.489043 191.787144 \nL 698.889311 191.578276 \nL 700.090115 188.424368 \nL 700.490382 190.429501 \nL 700.89065 189.301614 \nL 701.290918 187.568009 \nL 701.691186 186.857858 \nL 702.091454 186.795197 \nL 702.491721 186.064159 \nL 703.292257 182.074779 \nL 704.092793 185.291347 \nL 704.49306 184.74829 \nL 704.893328 187.29648 \nL 705.293596 187.066726 \nL 705.693864 186.669876 \nL 706.094132 185.145139 \nL 706.494399 187.066726 \nL 706.894667 187.150273 \nL 707.294935 186.690763 \nL 707.695203 187.839537 \nL 708.095471 187.839537 \nL 708.495738 190.366841 \nL 708.896006 190.868124 \nL 709.296274 190.408614 \nL 709.696542 190.157973 \nL 710.09681 190.387728 \nL 710.897345 188.131953 \nL 711.697881 190.366841 \nL 712.098149 191.74537 \nL 712.498417 189.635803 \nL 712.898684 189.761123 \nL 713.298952 189.25984 \nL 713.69922 190.951671 \nL 714.099488 191.411181 \nL 714.499756 190.325067 \nL 714.900023 190.868124 \nL 715.700559 191.411181 \nL 716.100827 188.445255 \nL 716.501095 187.75599 \nL 717.30163 188.173726 \nL 717.701898 188.257273 \nL 718.102166 190.325067 \nL 718.902701 189.406048 \nL 719.302969 189.238953 \nL 719.703237 190.429501 \nL 720.103505 192.20488 \nL 721.304308 189.489595 \nL 721.704576 191.139653 \nL 722.505112 191.369408 \nL 722.905379 191.348521 \nL 723.305647 193.353654 \nL 723.705915 194.335334 \nL 724.106183 194.314447 \nL 724.506451 193.332767 \nL 724.906718 194.210013 \nL 725.306986 193.437201 \nL 726.107522 194.335334 \nL 726.50779 195.567655 \nL 726.908057 195.630316 \nL 727.308325 194.878391 \nL 727.708593 194.878391 \nL 728.108861 194.29356 \nL 728.509129 192.810597 \nL 729.309664 191.996012 \nL 729.709932 192.016898 \nL 730.1102 192.539069 \nL 730.510468 193.353654 \nL 731.711271 193.353654 \nL 732.111539 193.165673 \nL 732.511807 193.31188 \nL 733.312342 191.954238 \nL 733.71261 189.510482 \nL 734.112878 189.447821 \nL 734.513146 190.283294 \nL 734.913413 190.30418 \nL 735.313681 188.842104 \nL 735.713949 190.909898 \nL 736.114217 190.784577 \nL 736.514485 189.635803 \nL 736.914752 189.155406 \nL 737.31502 189.176293 \nL 737.715288 189.614916 \nL 738.115556 189.426935 \nL 739.316359 189.886444 \nL 739.716627 190.680143 \nL 740.116895 190.533935 \nL 740.517163 188.549689 \nL 740.91743 188.507915 \nL 741.317698 190.24152 \nL 742.118234 190.011765 \nL 742.518502 190.366841 \nL 742.918769 191.244087 \nL 743.319037 191.494728 \nL 743.719305 191.264973 \nL 744.119573 191.473842 \nL 744.519841 190.972558 \nL 745.320376 191.076992 \nL 745.720644 190.805464 \nL 746.921447 190.805464 \nL 747.321715 190.032652 \nL 747.721983 188.988312 \nL 748.122251 187.588896 \nL 748.522519 183.829271 \nL 749.323054 185.541989 \nL 749.723322 185.541989 \nL 750.12359 182.492515 \nL 750.523858 183.098233 \nL 750.924125 183.119119 \nL 751.324393 184.184346 \nL 751.724661 182.450742 \nL 752.124929 182.388081 \nL 752.525197 184.100799 \nL 752.925464 183.724837 \nL 753.726 183.620403 \nL 754.126268 184.518535 \nL 754.526536 184.476762 \nL 755.727339 184.894498 \nL 756.127607 183.119119 \nL 756.928142 182.095666 \nL 758.128946 182.137439 \nL 758.929481 184.330554 \nL 759.329749 184.518535 \nL 760.130285 183.76661 \nL 760.530553 183.495082 \nL 760.930821 182.993799 \nL 761.331088 183.24444 \nL 761.731356 183.286214 \nL 762.131624 183.160893 \nL 762.93216 184.079912 \nL 763.332427 185.333121 \nL 763.732695 185.72997 \nL 764.533231 185.750857 \nL 764.933499 184.539422 \nL 765.333766 184.205233 \nL 765.734034 182.701383 \nL 766.134302 182.137439 \nL 766.53457 180.006985 \nL 766.934838 180.529155 \nL 767.735373 178.983532 \nL 768.135641 178.962645 \nL 768.535909 178.565796 \nL 768.936177 175.829624 \nL 769.336444 177.479682 \nL 769.736712 177.918305 \nL 770.13698 175.808737 \nL 770.537248 174.68085 \nL 770.937516 170.607923 \nL 771.337783 171.631376 \nL 771.738051 171.025659 \nL 772.138319 173.69917 \nL 772.538587 171.798471 \nL 772.938855 171.714924 \nL 773.339122 173.364981 \nL 773.73939 174.304887 \nL 774.139658 175.913171 \nL 774.539926 174.952378 \nL 774.940194 175.411888 \nL 776.140997 173.009905 \nL 776.541265 172.613056 \nL 776.941533 174.22134 \nL 777.3418 176.873964 \nL 777.742068 176.205587 \nL 778.142336 177.584116 \nL 778.942872 176.873964 \nL 779.343139 176.873964 \nL 779.743407 178.064512 \nL 780.143675 182.012119 \nL 780.543943 181.782364 \nL 780.944211 181.260194 \nL 781.344478 179.067079 \nL 781.744746 179.129739 \nL 782.145014 179.568362 \nL 782.545282 179.422155 \nL 782.94555 178.983532 \nL 783.345817 179.526589 \nL 783.746085 179.443042 \nL 784.146353 177.918305 \nL 784.546621 175.558096 \nL 784.946889 173.949812 \nL 785.347156 174.367548 \nL 786.147692 174.325774 \nL 786.54796 171.986452 \nL 786.948228 171.819358 \nL 787.348495 167.474902 \nL 787.748763 166.910958 \nL 788.149031 163.924145 \nL 788.549299 168.748997 \nL 788.949567 166.848298 \nL 789.349834 168.999639 \nL 789.750102 169.500922 \nL 790.15037 167.641996 \nL 790.550638 168.268601 \nL 790.950906 169.584469 \nL 791.751441 162.065219 \nL 792.151709 161.751917 \nL 792.551977 157.658103 \nL 792.952245 160.582256 \nL 793.352512 161.250634 \nL 793.75278 165.553316 \nL 794.153048 168.498355 \nL 794.553316 168.519242 \nL 794.953584 168.20594 \nL 795.353851 168.331261 \nL 795.754119 168.895205 \nL 796.154387 168.185053 \nL 796.554655 172.278867 \nL 796.954923 173.364981 \nL 797.35519 171.714924 \nL 797.755458 174.910605 \nL 798.155726 176.122039 \nL 798.555994 174.15868 \nL 798.956262 172.968132 \nL 799.356529 172.613056 \nL 799.756797 172.529509 \nL 800.157065 172.25798 \nL 800.557333 171.234527 \nL 801.357868 167.68377 \nL 802.158404 168.519242 \nL 802.95894 168.707224 \nL 803.359207 167.704657 \nL 803.759475 168.185053 \nL 804.560011 173.69917 \nL 804.960279 172.884585 \nL 805.360546 178.419588 \nL 805.760814 176.038492 \nL 806.56135 175.349228 \nL 806.961618 176.435342 \nL 807.361885 178.983532 \nL 807.762153 179.944325 \nL 808.162421 181.531722 \nL 808.562689 181.552609 \nL 808.962957 184.936271 \nL 809.363224 182.952025 \nL 809.763492 185.625536 \nL 810.16376 184.476762 \nL 810.564028 186.356574 \nL 810.964296 186.690763 \nL 811.764831 199.682356 \nL 812.165099 201.938131 \nL 812.565367 199.72413 \nL 812.965635 199.222846 \nL 813.365903 200.684923 \nL 813.76617 200.83113 \nL 814.166438 222.198332 \nL 814.966974 208.80989 \nL 815.367242 209.018758 \nL 815.767509 215.472781 \nL 816.167777 225.456674 \nL 816.568045 226.062391 \nL 816.968313 224.036371 \nL 817.368581 222.824937 \nL 817.768848 226.417467 \nL 818.169116 218.81467 \nL 818.569384 216.976631 \nL 818.969652 212.381534 \nL 819.36992 215.472781 \nL 819.770187 212.527741 \nL 820.170455 206.491455 \nL 820.570723 209.164966 \nL 820.970991 206.575002 \nL 821.371259 208.329494 \nL 821.771526 204.862284 \nL 822.171794 205.718643 \nL 822.572062 206.052832 \nL 822.97233 207.890871 \nL 823.372598 211.044778 \nL 823.772865 208.35038 \nL 824.173133 209.144079 \nL 824.573401 209.248513 \nL 824.973669 207.159832 \nL 825.373937 207.159832 \nL 825.774204 206.115492 \nL 826.174472 203.83883 \nL 826.57474 200.893791 \nL 826.975008 201.917244 \nL 827.375276 204.026812 \nL 827.775543 202.063452 \nL 828.175811 201.938131 \nL 828.576079 201.959018 \nL 828.976347 201.854584 \nL 829.376615 200.789357 \nL 829.776882 201.938131 \nL 830.17715 202.669169 \nL 830.577418 202.522962 \nL 830.977686 202.585622 \nL 831.377954 201.938131 \nL 831.778221 201.917244 \nL 832.178489 202.460301 \nL 832.979025 208.204173 \nL 833.77956 205.468001 \nL 834.179828 204.736963 \nL 834.580096 206.366134 \nL 834.980364 205.175586 \nL 835.380632 202.33498 \nL 835.780899 200.893791 \nL 836.581435 200.037432 \nL 836.981703 200.037432 \nL 837.381971 201.708376 \nL 837.782238 204.193906 \nL 838.182506 203.421094 \nL 838.582774 203.609076 \nL 840.183845 199.389941 \nL 840.584113 196.528448 \nL 840.984381 197.134166 \nL 841.384649 195.818297 \nL 841.784916 196.528448 \nL 842.185184 195.818297 \nL 842.585452 196.006278 \nL 842.98572 198.679789 \nL 843.385988 198.450035 \nL 843.786255 196.173373 \nL 844.186523 196.215146 \nL 844.586791 197.948751 \nL 844.987059 197.363921 \nL 845.387327 197.217713 \nL 846.58813 201.938131 \nL 847.388666 201.833697 \nL 847.788933 198.22028 \nL 848.189201 197.593676 \nL 848.589469 195.672089 \nL 848.989737 196.507562 \nL 849.390005 196.758203 \nL 849.790272 196.71643 \nL 850.590808 194.836617 \nL 850.991076 195.442335 \nL 851.391344 195.003712 \nL 851.791611 195.003712 \nL 852.191879 194.836617 \nL 852.592147 192.622616 \nL 852.992415 191.954238 \nL 853.392683 191.891578 \nL 854.193218 191.494728 \nL 854.593486 191.578276 \nL 854.993754 191.912464 \nL 855.394022 191.891578 \nL 855.794289 192.831484 \nL 856.194557 191.912464 \nL 856.995093 191.912464 \nL 857.395361 192.330201 \nL 857.795628 194.168239 \nL 858.596164 192.330201 \nL 858.996432 192.288427 \nL 859.3967 192.121333 \nL 859.796968 191.620049 \nL 860.197235 191.494728 \nL 860.597503 191.515615 \nL 860.997771 191.80803 \nL 861.398039 193.332767 \nL 861.798307 194.251787 \nL 862.598842 196.737317 \nL 862.99911 196.71643 \nL 863.399378 195.943618 \nL 863.799646 196.361354 \nL 864.199913 200.893791 \nL 864.600181 199.995658 \nL 865.000449 199.974771 \nL 865.400717 197.739883 \nL 865.800985 197.886091 \nL 866.201252 198.638016 \nL 866.60152 197.593676 \nL 867.001788 197.551902 \nL 867.402056 196.382241 \nL 867.802324 194.29356 \nL 868.202591 194.69041 \nL 868.602859 194.29356 \nL 869.003127 193.458088 \nL 869.403395 193.583409 \nL 869.803663 195.254353 \nL 870.20393 191.494728 \nL 870.604198 191.494728 \nL 871.004466 190.450388 \nL 871.404734 188.466142 \nL 872.205269 188.361708 \nL 872.605537 189.71935 \nL 873.406073 188.67501 \nL 874.206608 190.325067 \nL 874.606876 189.78201 \nL 875.007144 189.802897 \nL 875.407412 187.400914 \nL 875.80768 187.735103 \nL 876.207947 186.293914 \nL 876.608215 185.395781 \nL 877.008483 184.831837 \nL 877.408751 185.855291 \nL 877.809019 183.70395 \nL 878.209286 183.140006 \nL 878.609554 183.160893 \nL 879.009822 178.544909 \nL 879.41009 172.153546 \nL 879.810358 176.456228 \nL 880.210625 175.098586 \nL 880.610893 177.68855 \nL 881.011161 175.537209 \nL 881.411429 172.71749 \nL 881.811697 168.373035 \nL 882.211964 168.790771 \nL 882.612232 167.474902 \nL 883.0125 173.573849 \nL 883.412768 173.866265 \nL 883.813036 176.163813 \nL 884.213303 174.764397 \nL 884.613571 174.576416 \nL 885.013839 173.740944 \nL 885.814375 177.918305 \nL 886.214642 176.76953 \nL 886.61491 176.832191 \nL 887.015178 175.766964 \nL 887.415446 172.947245 \nL 887.815714 169.145846 \nL 888.215981 175.432775 \nL 888.616249 184.643856 \nL 889.016517 180.633589 \nL 889.416785 179.150626 \nL 890.21732 179.067079 \nL 890.617588 177.918305 \nL 891.017856 177.939192 \nL 891.818392 178.962645 \nL 892.218659 179.171513 \nL 893.019195 180.842458 \nL 893.419463 179.568362 \nL 893.819731 179.610136 \nL 894.219998 176.873964 \nL 894.620266 176.351794 \nL 895.020534 176.518889 \nL 895.82107 177.333474 \nL 896.221337 178.189833 \nL 897.021873 178.607569 \nL 897.422141 176.873964 \nL 897.822409 177.563229 \nL 898.222676 176.623323 \nL 898.622944 174.075133 \nL 899.42348 175.954945 \nL 900.224015 175.954945 \nL 900.624283 176.894851 \nL 901.024551 176.059379 \nL 901.424819 178.565796 \nL 901.825087 179.986099 \nL 902.225354 180.006985 \nL 902.625622 183.140006 \nL 903.02589 183.140006 \nL 903.426158 181.051326 \nL 903.826426 180.926005 \nL 904.226693 181.469062 \nL 904.626961 182.241874 \nL 905.027229 184.142573 \nL 905.427497 184.727403 \nL 905.827765 184.393214 \nL 906.228032 181.093099 \nL 906.6283 181.886798 \nL 907.028568 181.072212 \nL 907.428836 181.072212 \nL 907.829104 179.046192 \nL 908.229372 179.25506 \nL 908.629639 179.798117 \nL 909.029907 181.448175 \nL 909.430175 181.427288 \nL 909.830443 188.361708 \nL 910.230711 184.852724 \nL 911.031246 181.051326 \nL 911.431514 180.23674 \nL 911.831782 182.555176 \nL 912.23205 177.437908 \nL 912.632317 177.270814 \nL 913.032585 176.873964 \nL 913.432853 175.537209 \nL 913.833121 175.829624 \nL 914.233389 176.748644 \nL 916.234728 176.748644 \nL 916.634995 179.672796 \nL 917.035263 178.398701 \nL 917.435531 178.398701 \nL 918.236067 179.568362 \nL 918.636334 178.419588 \nL 919.036602 179.296834 \nL 919.43687 178.398701 \nL 919.837138 177.103719 \nL 920.237406 176.477115 \nL 920.637673 175.307454 \nL 921.037941 176.560662 \nL 921.438209 176.748644 \nL 921.838477 176.581549 \nL 922.238745 176.936625 \nL 922.639012 176.915738 \nL 923.439548 181.051326 \nL 923.839816 184.16346 \nL 924.240084 184.581196 \nL 925.040619 182.680496 \nL 925.841155 182.555176 \nL 926.241423 182.179213 \nL 926.64169 181.051326 \nL 927.041958 180.633589 \nL 927.442226 182.576062 \nL 927.842494 183.307101 \nL 928.242762 185.249574 \nL 928.643029 182.993799 \nL 929.043297 182.680496 \nL 929.443565 183.327987 \nL 929.843833 184.372328 \nL 930.244101 184.602083 \nL 930.644368 186.273027 \nL 931.044636 188.654123 \nL 931.444904 187.338254 \nL 931.845172 188.403481 \nL 932.24544 187.317367 \nL 933.045975 187.317367 \nL 933.446243 185.27046 \nL 934.246779 184.602083 \nL 934.647046 183.76661 \nL 935.047314 183.474195 \nL 935.447582 183.76661 \nL 936.248118 183.140006 \nL 936.648385 183.160893 \nL 937.048653 185.583762 \nL 937.448921 185.249574 \nL 937.849189 186.461008 \nL 938.249457 186.941405 \nL 938.649724 188.361708 \nL 939.049992 187.29648 \nL 939.45026 188.487028 \nL 939.850528 187.463575 \nL 940.250796 188.257273 \nL 940.651063 188.528802 \nL 941.051331 186.377461 \nL 941.451599 187.045839 \nL 941.851867 187.045839 \nL 942.252135 191.494728 \nL 942.652402 190.366841 \nL 943.05267 186.314801 \nL 943.452938 188.006632 \nL 943.853206 187.881311 \nL 944.253474 186.273027 \nL 944.653741 186.273027 \nL 945.054009 185.082479 \nL 945.454277 184.330554 \nL 945.854545 184.664743 \nL 946.254813 182.095666 \nL 946.65508 181.260194 \nL 947.055348 181.051326 \nL 947.455616 181.385514 \nL 947.855884 178.962645 \nL 948.256152 179.067079 \nL 949.056687 179.65191 \nL 950.257491 180.23674 \nL 950.657758 180.612703 \nL 951.058026 180.424721 \nL 951.858562 180.487382 \nL 952.25883 179.693683 \nL 952.659097 179.672796 \nL 953.059365 178.377814 \nL 953.459633 177.918305 \nL 953.859901 178.001852 \nL 954.260169 178.377814 \nL 955.060704 177.939192 \nL 955.460972 180.215853 \nL 955.86124 180.362061 \nL 956.261508 181.051326 \nL 956.661775 182.889364 \nL 957.062043 183.871044 \nL 957.462311 183.014685 \nL 957.862579 182.972912 \nL 958.262847 183.348874 \nL 958.663115 182.931138 \nL 959.063382 184.602083 \nL 959.46365 185.019819 \nL 959.863918 184.247007 \nL 960.664454 183.933705 \nL 961.064721 182.931138 \nL 962.265525 182.931138 \nL 962.665793 181.051326 \nL 963.06606 181.260194 \nL 963.866596 181.406401 \nL 964.266864 180.215853 \nL 964.667132 180.194967 \nL 965.867935 179.65191 \nL 966.668471 178.315154 \nL 967.068738 178.565796 \nL 967.469006 180.445608 \nL 968.269542 179.965212 \nL 968.66981 179.505702 \nL 969.070077 179.735457 \nL 969.470345 180.320287 \nL 969.870613 179.839891 \nL 970.270881 184.309667 \nL 970.671149 182.220987 \nL 971.071416 182.471628 \nL 971.471684 183.432421 \nL 971.871952 182.325421 \nL 972.27222 183.850158 \nL 972.672488 183.307101 \nL 973.072755 183.056459 \nL 973.473023 183.286214 \nL 973.873291 182.868478 \nL 974.273559 182.972912 \nL 975.074094 182.012119 \nL 975.474362 182.074779 \nL 975.87463 181.260194 \nL 976.274898 181.260194 \nL 977.075433 180.967778 \nL 977.475701 181.030439 \nL 977.875969 185.040705 \nL 978.276237 185.228687 \nL 978.676505 185.103366 \nL 979.47704 185.186913 \nL 980.277576 188.152839 \nL 980.677844 188.257273 \nL 981.078111 189.364274 \nL 981.478379 186.398348 \nL 981.878647 189.531369 \nL 982.278915 188.883878 \nL 982.679183 190.513048 \nL 983.479718 188.925651 \nL 983.879986 191.076992 \nL 984.680522 187.212933 \nL 985.080789 187.254707 \nL 985.881325 184.476762 \nL 986.281593 184.184346 \nL 986.681861 183.140006 \nL 987.082128 184.873611 \nL 987.482396 183.599516 \nL 987.882664 183.724837 \nL 988.282932 184.455875 \nL 988.6832 183.808384 \nL 989.083467 184.434988 \nL 989.483735 183.599516 \nL 989.884003 180.006985 \nL 990.284271 181.072212 \nL 990.684539 181.072212 \nL 991.084806 183.119119 \nL 991.485074 183.265327 \nL 991.885342 182.65961 \nL 992.28561 183.160893 \nL 992.685878 183.056459 \nL 993.086145 183.536855 \nL 993.486413 181.343741 \nL 993.886681 183.536855 \nL 994.286949 182.910251 \nL 994.687217 183.536855 \nL 995.087484 182.283647 \nL 995.487752 182.095666 \nL 995.88802 181.385514 \nL 996.288288 182.617836 \nL 996.688556 182.2001 \nL 997.088823 182.137439 \nL 997.489091 182.952025 \nL 997.889359 184.393214 \nL 998.689895 184.351441 \nL 999.49043 182.72227 \nL 999.890698 183.683063 \nL 1000.290966 183.286214 \nL 1000.691234 183.202667 \nL 1001.091501 183.411535 \nL 1001.892037 181.343741 \nL 1002.692573 181.072212 \nL 1003.09284 180.006985 \nL 1003.893376 180.027872 \nL 1004.293644 179.087966 \nL 1005.094179 179.631023 \nL 1005.494447 179.923438 \nL 1005.894715 179.923438 \nL 1006.294983 177.918305 \nL 1006.695251 177.939192 \nL 1007.495786 176.936625 \nL 1007.896054 179.067079 \nL 1008.296322 179.067079 \nL 1008.69659 178.879098 \nL 1009.096858 179.067079 \nL 1009.497125 181.970345 \nL 1009.897393 182.2001 \nL 1010.297661 183.18178 \nL 1010.697929 182.2001 \nL 1011.098197 181.824137 \nL 1011.898732 179.484815 \nL 1012.299 180.508269 \nL 1012.699268 180.048759 \nL 1013.099536 179.965212 \nL 1013.499803 179.150626 \nL 1013.900071 178.001852 \nL 1014.300339 178.941758 \nL 1015.100875 178.941758 \nL 1015.501142 179.463928 \nL 1015.90141 179.401268 \nL 1016.701946 180.006985 \nL 1017.102214 181.636156 \nL 1017.502481 182.555176 \nL 1017.902749 181.970345 \nL 1018.303017 180.738024 \nL 1018.703285 180.550042 \nL 1019.103553 180.675363 \nL 1019.904088 183.536855 \nL 1020.704624 183.536855 \nL 1021.104892 183.474195 \nL 1021.505159 183.536855 \nL 1021.905427 180.508269 \nL 1022.305695 181.489949 \nL 1022.705963 180.006985 \nL 1023.106231 179.422155 \nL 1023.506498 177.918305 \nL 1023.906766 177.918305 \nL 1024.307034 174.785284 \nL 1024.707302 174.785284 \nL 1025.10757 175.182133 \nL 1025.507837 174.806171 \nL 1025.908105 175.182133 \nL 1026.308373 175.20302 \nL 1027.108909 175.996719 \nL 1027.509176 172.842811 \nL 1027.909444 172.842811 \nL 1028.309712 173.448528 \nL 1028.70998 175.349228 \nL 1029.110248 175.20302 \nL 1029.510515 177.500569 \nL 1029.910783 177.897418 \nL 1030.311051 176.477115 \nL 1030.711319 173.678283 \nL 1031.111587 174.242227 \nL 1031.511854 172.090886 \nL 1031.912122 172.445962 \nL 1032.31239 173.678283 \nL 1032.712658 173.23966 \nL 1033.112926 175.766964 \nL 1033.513193 175.474549 \nL 1033.913461 176.539776 \nL 1034.313729 176.873964 \nL 1034.713997 184.393214 \nL 1035.114265 183.578629 \nL 1035.514532 181.949458 \nL 1035.9148 181.051326 \nL 1036.315068 182.26276 \nL 1036.715336 181.051326 \nL 1037.115604 183.014685 \nL 1037.515871 182.555176 \nL 1037.916139 184.664743 \nL 1038.316407 183.891931 \nL 1038.716675 181.15576 \nL 1039.116943 181.051326 \nL 1039.51721 181.260194 \nL 1039.917478 182.241874 \nL 1040.317746 182.241874 \nL 1040.718014 181.260194 \nL 1041.118282 180.842458 \nL 1043.119621 180.842458 \nL 1043.519888 180.654476 \nL 1043.920156 180.027872 \nL 1044.320424 180.027872 \nL 1045.12096 179.819004 \nL 1045.521227 176.936625 \nL 1045.921495 176.873964 \nL 1046.321763 176.64421 \nL 1046.722031 178.503135 \nL 1047.122299 176.727757 \nL 1047.522566 177.124606 \nL 1047.922834 177.041059 \nL 1048.323102 177.145493 \nL 1048.72337 177.103719 \nL 1049.523905 177.479682 \nL 1049.924173 178.252494 \nL 1050.324441 178.14806 \nL 1051.124977 180.341174 \nL 1051.525244 181.051326 \nL 1051.925512 178.607569 \nL 1052.32578 178.753777 \nL 1052.726048 178.753777 \nL 1053.126316 178.544909 \nL 1053.526583 177.605003 \nL 1053.926851 175.829624 \nL 1054.327119 177.312587 \nL 1054.727387 176.372681 \nL 1055.527923 176.289134 \nL 1056.328458 176.372681 \nL 1056.728726 179.380381 \nL 1057.128994 179.380381 \nL 1057.529262 178.27338 \nL 1057.929529 177.980965 \nL 1058.730065 178.649343 \nL 1059.130333 180.633589 \nL 1059.530601 178.168946 \nL 1060.331136 177.855644 \nL 1060.731404 177.75121 \nL 1061.131672 177.208153 \nL 1061.53194 177.312587 \nL 1061.932207 177.291701 \nL 1062.332475 177.68855 \nL 1063.533279 177.68855 \nL 1063.933546 177.625889 \nL 1064.734082 177.68855 \nL 1065.13435 180.445608 \nL 1065.534618 180.967778 \nL 1065.934885 181.030439 \nL 1066.335153 184.643856 \nL 1066.735421 183.871044 \nL 1067.535957 183.808384 \nL 1067.936224 183.808384 \nL 1068.336492 183.662176 \nL 1068.73676 183.829271 \nL 1069.137028 183.411535 \nL 1069.537296 181.803251 \nL 1069.937563 182.972912 \nL 1070.337831 182.972912 \nL 1070.738099 183.098233 \nL 1071.138367 181.949458 \nL 1072.739438 180.153193 \nL 1073.139706 180.215853 \nL 1073.539974 178.962645 \nL 1073.940241 179.65191 \nL 1074.740777 179.213287 \nL 1075.141045 179.71457 \nL 1075.94158 180.194967 \nL 1076.341848 179.71457 \nL 1076.742116 181.510835 \nL 1077.542652 183.014685 \nL 1077.942919 182.367194 \nL 1078.343187 181.991232 \nL 1078.743455 182.074779 \nL 1079.143723 180.529155 \nL 1079.944258 180.529155 \nL 1080.344526 181.051326 \nL 1081.145062 186.273027 \nL 1081.54533 185.186913 \nL 1081.945597 183.327987 \nL 1082.345865 182.388081 \nL 1082.746133 183.140006 \nL 1083.146401 182.388081 \nL 1083.946936 183.056459 \nL 1084.347204 186.105933 \nL 1084.747472 186.064159 \nL 1085.14774 189.531369 \nL 1085.548008 186.795197 \nL 1085.948275 188.152839 \nL 1086.348543 185.228687 \nL 1086.748811 185.79263 \nL 1087.149079 185.249574 \nL 1087.549347 185.249574 \nL 1087.949614 186.565442 \nL 1088.349882 186.669876 \nL 1088.75015 186.25214 \nL 1089.150418 184.810951 \nL 1089.550686 184.205233 \nL 1089.950953 184.184346 \nL 1090.751489 182.26276 \nL 1091.151757 182.179213 \nL 1091.552025 182.638723 \nL 1091.952292 182.638723 \nL 1092.35256 184.267894 \nL 1093.153096 180.006985 \nL 1093.553364 179.129739 \nL 1093.953631 179.025305 \nL 1095.154435 181.21842 \nL 1095.554703 180.591816 \nL 1095.95497 180.424721 \nL 1096.355238 180.612703 \nL 1097.155774 180.612703 \nL 1097.556042 180.362061 \nL 1097.956309 179.881664 \nL 1098.356577 180.591816 \nL 1098.756845 182.241874 \nL 1099.157113 180.75891 \nL 1100.357916 180.842458 \nL 1100.758184 181.845024 \nL 1101.158452 183.515969 \nL 1101.55872 182.095666 \nL 1101.958987 182.513402 \nL 1102.359255 184.16346 \nL 1102.759523 183.18178 \nL 1103.159791 182.993799 \nL 1103.560059 183.223553 \nL 1103.960327 182.325421 \nL 1104.360594 179.986099 \nL 1104.760862 179.108853 \nL 1105.16113 180.111419 \nL 1105.561398 180.257627 \nL 1106.361933 181.051326 \nL 1107.162469 181.134873 \nL 1107.963005 181.489949 \nL 1108.363272 181.489949 \nL 1109.163808 184.184346 \nL 1109.564076 184.16346 \nL 1109.964344 186.273027 \nL 1110.364611 185.458442 \nL 1110.764879 183.411535 \nL 1111.165147 182.471628 \nL 1111.565415 182.2001 \nL 1111.965683 182.388081 \nL 1112.36595 182.2001 \nL 1112.766218 182.492515 \nL 1113.166486 182.492515 \nL 1113.566754 181.573496 \nL 1113.967022 181.594383 \nL 1114.367289 181.406401 \nL 1114.767557 181.761477 \nL 1115.167825 181.385514 \nL 1115.968361 181.260194 \nL 1116.368628 180.946892 \nL 1117.169164 179.338608 \nL 1117.569432 180.153193 \nL 1118.369967 177.918305 \nL 1118.770235 175.808737 \nL 1119.170503 177.041059 \nL 1119.570771 172.696603 \nL 1119.971039 174.68085 \nL 1120.371306 174.785284 \nL 1120.771574 173.093453 \nL 1121.171842 170.75413 \nL 1121.57211 173.469415 \nL 1121.972378 175.286567 \nL 1122.372645 174.827058 \nL 1122.772913 174.054246 \nL 1123.173181 172.25798 \nL 1123.573449 168.707224 \nL 1123.973717 167.809091 \nL 1124.373984 168.122393 \nL 1124.774252 167.809091 \nL 1125.574788 163.506409 \nL 1125.975056 165.866618 \nL 1126.375323 165.386221 \nL 1126.775591 166.17992 \nL 1127.175859 166.430562 \nL 1127.576127 163.527296 \nL 1127.976395 163.339315 \nL 1128.77693 170.064866 \nL 1129.177198 169.354715 \nL 1129.577466 171.025659 \nL 1129.977734 170.357281 \nL 1130.378001 167.537562 \nL 1130.778269 168.811658 \nL 1131.178537 170.566149 \nL 1133.179876 162.942465 \nL 1133.580144 161.480389 \nL 1134.780947 146.379228 \nL 1135.181215 148.13372 \nL 1135.581483 149.219834 \nL 1135.981751 143.455076 \nL 1136.382018 144.478529 \nL 1136.782286 125.701291 \nL 1137.182554 118.45357 \nL 1137.582822 129.62801 \nL 1137.98309 144.833605 \nL 1138.383357 149.783778 \nL 1138.783625 143.16266 \nL 1139.183893 145.251341 \nL 1139.584161 148.927419 \nL 1139.984429 143.538623 \nL 1140.384696 143.580397 \nL 1140.784964 141.805018 \nL 1141.185232 139.486583 \nL 1141.5855 138.233374 \nL 1141.985768 139.277715 \nL 1142.386035 139.486583 \nL 1143.186571 145.460209 \nL 1143.586839 143.768378 \nL 1143.987107 139.361262 \nL 1144.387374 139.194167 \nL 1144.787642 137.189034 \nL 1145.18791 139.215054 \nL 1145.588178 138.233374 \nL 1145.988446 136.687751 \nL 1146.388713 134.181334 \nL 1146.788981 133.993353 \nL 1147.189249 134.975033 \nL 1147.589517 131.152747 \nL 1147.989785 132.552163 \nL 1148.390052 132.677484 \nL 1148.79032 135.330108 \nL 1149.190588 140.322055 \nL 1149.590856 138.964413 \nL 1149.991124 139.486583 \nL 1150.391391 141.303735 \nL 1150.791659 140.635357 \nL 1151.191927 139.277715 \nL 1151.592195 139.758111 \nL 1151.992463 136.144694 \nL 1152.392731 136.332675 \nL 1152.792998 136.144694 \nL 1153.193266 135.434542 \nL 1153.593534 135.601637 \nL 1153.993802 135.267448 \nL 1154.39407 137.585883 \nL 1154.794337 138.024506 \nL 1155.194605 137.230808 \nL 1155.995141 133.366749 \nL 1156.395409 132.364182 \nL 1156.795676 135.371882 \nL 1157.195944 133.659164 \nL 1157.596212 133.784485 \nL 1157.99648 135.100353 \nL 1158.396748 133.700938 \nL 1158.797015 135.100353 \nL 1159.197283 139.027073 \nL 1159.597551 138.609337 \nL 1160.398087 141.888565 \nL 1160.798354 141.011319 \nL 1161.198622 139.486583 \nL 1161.59889 139.611903 \nL 1161.999158 139.486583 \nL 1162.799693 139.507469 \nL 1163.199961 138.504903 \nL 1163.600229 135.935826 \nL 1164.400765 133.178767 \nL 1165.2013 134.870599 \nL 1165.601568 134.13956 \nL 1166.402104 134.056013 \nL 1166.802371 134.223108 \nL 1167.202639 135.05858 \nL 1167.602907 135.100353 \nL 1168.003175 135.392769 \nL 1168.403443 133.575617 \nL 1168.80371 134.264881 \nL 1169.203978 134.348428 \nL 1169.604246 136.290901 \nL 1170.004514 136.980166 \nL 1170.404782 135.079467 \nL 1171.605585 139.277715 \nL 1172.005853 139.904319 \nL 1172.406121 138.358695 \nL 1172.806388 137.60677 \nL 1173.606924 137.815638 \nL 1174.007192 137.314355 \nL 1174.40746 138.108053 \nL 1174.807727 137.502336 \nL 1175.207995 138.045393 \nL 1175.608263 137.230808 \nL 1176.008531 134.557297 \nL 1176.408799 134.118674 \nL 1177.609602 134.097787 \nL 1178.00987 136.833958 \nL 1178.410138 132.301522 \nL 1178.810405 133.053447 \nL 1179.210673 132.781918 \nL 1179.610941 133.178767 \nL 1180.011209 132.928126 \nL 1180.411477 133.951579 \nL 1180.811744 133.951579 \nL 1181.212012 133.011673 \nL 1181.61228 131.340729 \nL 1182.412816 123.905026 \nL 1182.813083 126.703858 \nL 1183.213351 126.745631 \nL 1183.613619 129.711558 \nL 1184.013887 129.252048 \nL 1184.414155 130.922992 \nL 1185.21469 131.110974 \nL 1185.614958 130.943879 \nL 1186.015226 129.481803 \nL 1186.415494 128.855199 \nL 1186.815761 129.669784 \nL 1188.016565 139.256828 \nL 1188.416833 149.971759 \nL 1188.8171 155.987159 \nL 1189.617636 150.201514 \nL 1190.017904 145.209567 \nL 1190.418172 145.564643 \nL 1190.818439 148.906532 \nL 1191.218707 147.402682 \nL 1191.618975 147.340022 \nL 1192.019243 147.987512 \nL 1192.419511 148.238154 \nL 1192.819778 146.796965 \nL 1193.220046 142.619603 \nL 1193.620314 141.366395 \nL 1194.020582 135.935826 \nL 1194.42085 139.215054 \nL 1194.821117 137.397902 \nL 1195.221385 136.228241 \nL 1195.621653 136.541543 \nL 1196.021921 135.12124 \nL 1196.422189 135.12124 \nL 1196.822456 133.951579 \nL 1197.222724 133.61739 \nL 1197.622992 132.865465 \nL 1198.02326 135.64341 \nL 1198.423528 134.0769 \nL 1198.823795 133.868032 \nL 1199.224063 136.499769 \nL 1199.624331 134.494636 \nL 1200.424867 125.200008 \nL 1200.825134 130.212841 \nL 1201.225402 129.857765 \nL 1201.62567 126.912726 \nL 1202.025938 127.99884 \nL 1202.426206 131.800238 \nL 1203.226741 130.066633 \nL 1204.027277 131.674917 \nL 1204.427545 126.996273 \nL 1205.22808 130.379935 \nL 1205.628348 130.442596 \nL 1206.028616 128.019726 \nL 1206.428884 129.022293 \nL 1206.829152 128.938746 \nL 1207.229419 128.040613 \nL 1207.629687 128.165934 \nL 1208.029955 130.860332 \nL 1208.430223 131.904672 \nL 1208.830491 135.100353 \nL 1209.230758 135.246561 \nL 1209.631026 134.097787 \nL 1210.031294 129.920426 \nL 1210.431562 132.11354 \nL 1210.83183 131.445163 \nL 1211.632365 132.134427 \nL 1212.032633 130.797672 \nL 1212.432901 131.382502 \nL 1212.833169 133.178767 \nL 1213.233436 129.690671 \nL 1213.633704 128.58367 \nL 1214.033972 127.810858 \nL 1214.43424 128.374802 \nL 1214.834508 128.312142 \nL 1215.234775 127.789972 \nL 1215.635043 127.810858 \nL 1216.035311 126.808292 \nL 1216.435579 126.912726 \nL 1216.835847 129.189388 \nL 1217.236114 127.748198 \nL 1217.636382 127.184254 \nL 1218.03665 121.377722 \nL 1218.436918 121.210628 \nL 1218.837186 122.484723 \nL 1219.237453 120.458703 \nL 1219.637721 119.435249 \nL 1220.037989 111.038754 \nL 1220.438257 119.832099 \nL 1220.838525 116.197795 \nL 1221.63906 123.591724 \nL 1222.439596 117.033267 \nL 1222.839864 117.492776 \nL 1223.640399 110.913433 \nL 1224.440935 99.592784 \nL 1224.841203 103.623938 \nL 1225.24147 103.41507 \nL 1225.641738 99.551011 \nL 1226.042006 98.130708 \nL 1226.442274 97.378783 \nL 1226.842542 98.423123 \nL 1227.242809 90.193722 \nL 1227.643077 94.371083 \nL 1228.043345 89.212042 \nL 1228.443613 87.039814 \nL 1228.843881 96.438877 \nL 1230.044684 99.383916 \nL 1230.444952 93.93246 \nL 1230.84522 93.180535 \nL 1231.245487 89.796872 \nL 1231.645755 92.49127 \nL 1232.046023 91.238062 \nL 1232.446291 91.927327 \nL 1233.246826 83.885906 \nL 1233.647094 77.410997 \nL 1234.047362 73.087428 \nL 1234.44763 82.778906 \nL 1234.847898 76.450204 \nL 1235.248165 79.040168 \nL 1235.648433 85.097341 \nL 1236.448969 78.852186 \nL 1236.849237 78.664205 \nL 1237.249504 74.800146 \nL 1237.649772 65.94414 \nL 1238.05004 66.299216 \nL 1238.450308 67.343556 \nL 1238.850576 65.965027 \nL 1239.651111 57.589418 \nL 1240.051379 55.730493 \nL 1240.451647 55.709606 \nL 1240.851915 64.732706 \nL 1241.252182 78.998394 \nL 1241.65245 74.465957 \nL 1242.052718 79.833866 \nL 1242.452986 73.170975 \nL 1242.853254 71.082295 \nL 1243.253521 72.35639 \nL 1243.653789 77.118581 \nL 1244.454325 73.024768 \nL 1245.25486 75.802713 \nL 1245.655128 73.484277 \nL 1246.055396 75.510297 \nL 1246.455664 73.609598 \nL 1246.855932 68.032821 \nL 1247.256199 68.575878 \nL 1247.656467 65.192215 \nL 1248.056735 64.565611 \nL 1248.457003 68.095481 \nL 1248.857271 67.970161 \nL 1249.257538 64.043441 \nL 1249.657806 70.205049 \nL 1250.058074 68.701199 \nL 1250.458342 69.327803 \nL 1250.85861 67.823953 \nL 1251.258878 72.439937 \nL 1251.659145 79.47879 \nL 1252.059413 76.220449 \nL 1252.459681 76.617298 \nL 1252.859949 79.624998 \nL 1253.260217 84.700492 \nL 1253.660484 78.914847 \nL 1254.060752 79.332583 \nL 1254.861288 80.711112 \nL 1255.261556 78.580658 \nL 1255.661823 78.580658 \nL 1256.062091 73.045654 \nL 1256.462359 71.583578 \nL 1256.862627 71.124068 \nL 1257.262895 72.168409 \nL 1258.06343 73.191862 \nL 1258.463698 76.679959 \nL 1258.863966 76.659072 \nL 1259.264234 76.47109 \nL 1259.664501 76.826166 \nL 1260.064769 72.87856 \nL 1260.465037 70.664559 \nL 1260.865305 69.41135 \nL 1261.66584 70.768993 \nL 1262.066108 68.88918 \nL 1262.866644 67.823953 \nL 1263.266912 66.654292 \nL 1263.667179 66.173895 \nL 1264.067447 67.155575 \nL 1264.467715 67.32267 \nL 1265.668518 70.351256 \nL 1266.068786 68.659425 \nL 1266.469054 68.387897 \nL 1266.869322 68.346123 \nL 1267.26959 68.910067 \nL 1268.070125 73.546938 \nL 1268.470393 73.254522 \nL 1268.870661 72.460824 \nL 1269.671196 69.494897 \nL 1270.471732 73.46339 \nL 1270.872 73.40073 \nL 1271.272268 74.027334 \nL 1271.672535 74.298863 \nL 1272.473071 68.659425 \nL 1272.873339 68.283463 \nL 1273.273607 69.160709 \nL 1273.673874 68.910067 \nL 1274.074142 69.181595 \nL 1274.874678 67.406217 \nL 1275.274946 67.406217 \nL 1275.675213 70.706332 \nL 1276.075481 70.309483 \nL 1276.475749 68.534104 \nL 1276.876017 70.288596 \nL 1277.276285 69.474011 \nL 1277.676552 69.975294 \nL 1278.07682 69.515784 \nL 1278.477088 71.040521 \nL 1278.877356 71.332936 \nL 1280.078159 71.312049 \nL 1280.478427 70.977861 \nL 1280.878695 70.977861 \nL 1281.278963 69.703765 \nL 1282.079498 62.581365 \nL 1282.479766 61.077515 \nL 1282.880034 62.748459 \nL 1283.280302 62.644025 \nL 1283.680569 63.39595 \nL 1284.080837 63.771913 \nL 1284.481105 63.604818 \nL 1284.881373 61.912987 \nL 1285.281641 55.730493 \nL 1285.681908 51.866434 \nL 1286.482444 47.37577 \nL 1286.882712 46.770053 \nL 1287.28298 52.889887 \nL 1287.683247 45.036448 \nL 1288.083515 44.785807 \nL 1288.483783 46.665619 \nL 1288.884051 46.602959 \nL 1289.684586 51.239829 \nL 1290.084854 46.79094 \nL 1290.485122 47.709959 \nL 1290.88539 46.435864 \nL 1291.285658 44.30541 \nL 1291.685925 45.099109 \nL 1292.086193 43.010428 \nL 1292.486461 45.28709 \nL 1292.886729 68.492331 \nL 1293.286997 55.772266 \nL 1293.687264 53.015208 \nL 1294.087532 54.539945 \nL 1294.4878 61.996534 \nL 1294.888068 57.610305 \nL 1295.288336 55.939361 \nL 1295.688603 59.636325 \nL 1296.088871 59.051495 \nL 1296.489139 65.29665 \nL 1296.889407 63.187082 \nL 1297.289675 68.325236 \nL 1297.689942 62.832006 \nL 1298.09021 61.453477 \nL 1298.490478 61.808553 \nL 1299.291014 57.84006 \nL 1299.691282 56.900154 \nL 1300.091549 56.565965 \nL 1300.491817 55.396304 \nL 1300.892085 55.793153 \nL 1301.692621 55.730493 \nL 1302.092888 58.926174 \nL 1302.493156 58.905287 \nL 1302.893424 58.29957 \nL 1303.293692 60.367363 \nL 1303.69396 60.931307 \nL 1304.094227 65.463744 \nL 1304.494495 64.085215 \nL 1304.894763 63.437724 \nL 1305.295031 65.108668 \nL 1306.095566 61.244609 \nL 1306.495834 60.450911 \nL 1306.896102 61.244609 \nL 1307.29637 58.926174 \nL 1307.696638 59.40657 \nL 1308.096905 59.678099 \nL 1308.497173 59.698986 \nL 1308.897441 64.565611 \nL 1309.697977 69.975294 \nL 1310.098244 68.575878 \nL 1310.498512 69.578445 \nL 1310.89878 77.661638 \nL 1311.699316 74.758372 \nL 1312.099583 70.789879 \nL 1312.499851 72.251956 \nL 1312.900119 72.022201 \nL 1313.300387 70.163275 \nL 1313.700655 70.267709 \nL 1314.100922 71.061408 \nL 1314.50119 71.37471 \nL 1314.901458 73.964674 \nL 1315.301726 77.285676 \nL 1316.102261 79.792093 \nL 1316.502529 86.601191 \nL 1316.902797 83.40551 \nL 1317.303065 83.969454 \nL 1317.703333 85.598624 \nL 1318.1036 84.199208 \nL 1318.503868 81.003527 \nL 1318.904136 81.421263 \nL 1319.304404 80.084508 \nL 1319.704672 76.283109 \nL 1320.104939 74.674825 \nL 1320.505207 78.100261 \nL 1320.905475 78.142035 \nL 1321.305743 79.395243 \nL 1321.706011 83.029547 \nL 1322.106278 79.123715 \nL 1322.506546 78.267356 \nL 1322.906814 82.737132 \nL 1323.307082 79.437017 \nL 1323.70735 79.437017 \nL 1324.107617 80.481357 \nL 1324.507885 80.418697 \nL 1324.908153 80.544018 \nL 1325.308421 79.541451 \nL 1325.708689 73.46339 \nL 1326.108956 71.604465 \nL 1326.509224 70.768993 \nL 1326.909492 70.768993 \nL 1327.30976 69.118935 \nL 1327.710028 69.286029 \nL 1328.110295 70.622785 \nL 1328.510563 72.982994 \nL 1328.910831 73.442504 \nL 1329.311099 72.105748 \nL 1329.711367 72.126635 \nL 1330.111634 70.351256 \nL 1330.511902 70.225936 \nL 1330.91217 68.742972 \nL 1331.312438 68.346123 \nL 1331.712706 67.719519 \nL 1332.112973 68.241689 \nL 1332.513241 68.408784 \nL 1332.913509 72.523484 \nL 1333.313777 69.098048 \nL 1333.714045 69.098048 \nL 1334.114312 69.453124 \nL 1334.914848 73.734919 \nL 1335.315116 70.184162 \nL 1335.715384 71.332936 \nL 1336.115651 68.680312 \nL 1336.515919 68.074595 \nL 1336.916187 68.241689 \nL 1337.316455 69.077161 \nL 1337.716723 69.098048 \nL 1338.517258 67.113802 \nL 1338.917526 66.612518 \nL 1339.317794 68.220802 \nL 1339.718062 68.137255 \nL 1340.118329 66.173895 \nL 1340.518597 68.220802 \nL 1340.918865 64.816253 \nL 1342.119668 62.017421 \nL 1342.519936 62.664912 \nL 1342.920204 59.907854 \nL 1343.320472 58.967947 \nL 1343.72074 58.926174 \nL 1344.121007 59.218589 \nL 1344.521275 56.022908 \nL 1344.921543 50.216376 \nL 1345.321811 49.464451 \nL 1345.722079 51.929094 \nL 1346.122346 51.344263 \nL 1346.522614 51.636679 \nL 1346.922882 52.597472 \nL 1347.32315 54.456397 \nL 1347.723418 52.618359 \nL 1348.123685 54.247529 \nL 1348.924221 55.730493 \nL 1349.324489 53.85068 \nL 1349.724757 51.135395 \nL 1350.125025 51.386037 \nL 1350.525292 52.869 \nL 1351.325828 57.568531 \nL 1351.726096 55.751379 \nL 1352.126364 62.832006 \nL 1352.526631 63.019988 \nL 1352.926899 58.654645 \nL 1353.327167 59.615438 \nL 1353.727435 59.594552 \nL 1354.127703 63.583931 \nL 1354.52797 63.667479 \nL 1354.928238 63.479497 \nL 1355.328506 61.996534 \nL 1356.129042 57.338777 \nL 1356.529309 57.819173 \nL 1356.929577 59.490118 \nL 1357.329845 59.886967 \nL 1357.730113 59.448344 \nL 1358.130381 62.309836 \nL 1358.530648 60.242043 \nL 1359.331184 63.85546 \nL 1359.731452 63.563045 \nL 1360.13172 63.061761 \nL 1360.932255 63.124422 \nL 1361.332523 67.468877 \nL 1361.732791 63.980781 \nL 1362.133059 63.563045 \nL 1362.533326 64.502951 \nL 1362.933594 62.832006 \nL 1363.333862 61.683232 \nL 1363.73413 61.787666 \nL 1364.134398 60.576231 \nL 1364.534665 60.952194 \nL 1364.934933 61.641459 \nL 1365.335201 60.722439 \nL 1365.735469 60.095835 \nL 1366.536004 60.221156 \nL 1367.736808 54.331077 \nL 1368.137076 50.508791 \nL 1368.537343 55.584285 \nL 1368.937611 58.257796 \nL 1369.337879 58.738193 \nL 1369.738147 58.633759 \nL 1370.138415 56.231776 \nL 1370.538682 56.649512 \nL 1370.93895 56.670399 \nL 1371.339218 57.610305 \nL 1371.739486 58.236909 \nL 1372.139754 58.090702 \nL 1372.540021 57.610305 \nL 1372.940289 60.993968 \nL 1373.340557 59.719872 \nL 1373.740825 56.92104 \nL 1374.141093 51.949981 \nL 1374.54136 53.620925 \nL 1374.941628 53.620925 \nL 1375.341896 52.973434 \nL 1375.742164 50.84298 \nL 1376.142432 50.487904 \nL 1376.542699 49.485338 \nL 1376.942967 46.352317 \nL 1377.343235 44.430731 \nL 1377.743503 43.240183 \nL 1378.143771 35.261423 \nL 1378.544038 38.373557 \nL 1378.944306 36.84882 \nL 1379.344574 39.835634 \nL 1379.744842 39.125482 \nL 1380.14511 36.681726 \nL 1380.545377 35.846254 \nL 1380.945645 45.161769 \nL 1381.345913 35.428518 \nL 1381.746181 35.616499 \nL 1382.146449 35.010782 \nL 1382.546716 36.138669 \nL 1382.946984 38.394444 \nL 1383.347252 39.522332 \nL 1383.74752 42.613579 \nL 1384.147788 34.885461 \nL 1384.548055 35.532952 \nL 1384.948323 31.543572 \nL 1385.348591 33.882894 \nL 1385.748859 33.026535 \nL 1386.149127 22.374264 \nL 1386.549394 19.554545 \nL 1386.949662 25.925021 \nL 1387.34993 25.256643 \nL 1387.750198 22.562245 \nL 1388.150466 27.073795 \nL 1388.550733 29.893514 \nL 1388.951001 29.559325 \nL 1389.351269 30.812534 \nL 1389.751537 34.008215 \nL 1390.151805 30.24859 \nL 1390.552072 30.624552 \nL 1390.95234 35.616499 \nL 1391.352608 34.425951 \nL 1391.752876 34.634819 \nL 1392.153144 31.940421 \nL 1392.553411 37.203896 \nL 1393.353947 41.381257 \nL 1393.754215 57.338777 \nL 1394.55475 52.179736 \nL 1394.955018 52.597472 \nL 1395.355286 51.260716 \nL 1395.755554 53.641812 \nL 1396.155822 50.613225 \nL 1396.556089 50.571452 \nL 1396.956357 47.709959 \nL 1397.356625 48.503658 \nL 1397.756893 51.553131 \nL 1398.157161 50.132829 \nL 1398.557429 47.730846 \nL 1398.957696 46.414977 \nL 1399.758232 48.378337 \nL 1400.1585 47.521978 \nL 1400.558768 48.963168 \nL 1400.959035 47.647299 \nL 1401.359303 45.516845 \nL 1401.759571 42.070522 \nL 1402.159839 40.900861 \nL 1402.560107 41.986975 \nL 1402.960374 37.412764 \nL 1403.360642 37.997595 \nL 1403.76091 37.893161 \nL 1404.561446 35.491178 \nL 1404.961713 35.491178 \nL 1405.361981 34.196196 \nL 1405.762249 31.606232 \nL 1406.162517 31.104949 \nL 1406.562785 34.279743 \nL 1406.963052 33.130969 \nL 1407.36332 32.671459 \nL 1407.763588 33.151856 \nL 1408.163856 34.8228 \nL 1408.564124 34.843687 \nL 1408.964391 34.655706 \nL 1409.364659 30.123269 \nL 1409.764927 29.621986 \nL 1410.165195 28.055475 \nL 1410.565463 25.611719 \nL 1410.96573 25.444625 \nL 1411.365998 27.742173 \nL 1411.766266 31.042288 \nL 1412.166534 29.621986 \nL 1412.566802 30.666326 \nL 1412.967069 30.666326 \nL 1413.367337 34.217083 \nL 1413.767605 31.982195 \nL 1414.167873 28.28523 \nL 1414.568141 28.139023 \nL 1414.968408 27.533305 \nL 1415.368676 25.423738 \nL 1416.169212 27.199116 \nL 1416.56948 30.603666 \nL 1416.969747 31.376477 \nL 1417.370015 30.415684 \nL 1417.770283 32.483478 \nL 1418.170551 32.065742 \nL 1418.570819 33.277177 \nL 1418.971086 31.355591 \nL 1419.771622 37.558972 \nL 1420.17189 36.26399 \nL 1420.572158 36.055122 \nL 1420.972425 38.645086 \nL 1421.372693 38.645086 \nL 1421.772961 37.579859 \nL 1422.173229 36.180443 \nL 1422.573497 36.055122 \nL 1422.973764 32.713233 \nL 1423.374032 32.859441 \nL 1423.7743 32.755007 \nL 1424.174568 34.23797 \nL 1424.574836 32.755007 \nL 1424.975103 31.731553 \nL 1425.375371 31.313817 \nL 1425.775639 30.206816 \nL 1426.175907 30.791647 \nL 1426.576175 30.791647 \nL 1427.776978 36.32665 \nL 1428.177246 36.556405 \nL 1428.977781 35.031668 \nL 1429.378049 34.634819 \nL 1429.778317 37.224783 \nL 1430.178585 41.067955 \nL 1430.578853 42.154069 \nL 1430.97912 45.266203 \nL 1431.379388 43.490825 \nL 1431.779656 43.825013 \nL 1432.179924 43.32373 \nL 1432.580192 40.441351 \nL 1432.980459 39.021048 \nL 1433.380727 39.376124 \nL 1433.780995 41.715446 \nL 1434.181263 42.571805 \nL 1434.581531 45.454184 \nL 1434.981798 41.840767 \nL 1435.782334 39.376124 \nL 1436.182602 39.417897 \nL 1436.58287 37.997595 \nL 1436.983137 36.076009 \nL 1437.383405 36.305763 \nL 1437.783673 37.538085 \nL 1438.183941 36.702613 \nL 1438.584209 32.73412 \nL 1438.984476 34.843687 \nL 1439.384744 36.26399 \nL 1439.785012 34.948121 \nL 1440.18528 34.23797 \nL 1440.585548 35.574725 \nL 1440.985815 35.553838 \nL 1441.386083 36.493745 \nL 1441.786351 39.021048 \nL 1442.186619 40.107162 \nL 1442.586887 40.462238 \nL 1442.987154 41.924314 \nL 1443.387422 41.986975 \nL 1443.78769 42.237616 \nL 1444.187958 44.326297 \nL 1444.588226 44.24275 \nL 1445.388761 43.281957 \nL 1445.789029 42.27939 \nL 1446.589565 48.273903 \nL 1446.989833 47.37577 \nL 1447.3901 48.211243 \nL 1447.790368 43.302843 \nL 1448.190636 41.214163 \nL 1448.590904 39.814747 \nL 1448.991172 40.065388 \nL 1449.791707 44.24275 \nL 1450.191975 40.8382 \nL 1450.592243 45.203543 \nL 1451.392778 46.540298 \nL 1451.793046 46.414977 \nL 1452.193314 46.623845 \nL 1452.593582 48.608092 \nL 1452.99385 51.469584 \nL 1453.394117 47.960601 \nL 1453.794385 48.796073 \nL 1454.194653 47.960601 \nL 1454.594921 48.127695 \nL 1454.995189 50.717659 \nL 1455.395456 49.380904 \nL 1455.795724 51.532245 \nL 1456.195992 51.949981 \nL 1456.996528 59.907854 \nL 1457.797063 52.34683 \nL 1458.197331 50.634112 \nL 1458.597599 52.158849 \nL 1458.997867 49.046715 \nL 1459.398134 47.960601 \nL 1459.798402 48.566318 \nL 1460.19867 50.195489 \nL 1460.598938 49.944847 \nL 1460.999206 50.091055 \nL 1461.399473 51.720226 \nL 1462.200009 49.464451 \nL 1462.600277 50.132829 \nL 1463.000545 51.574018 \nL 1463.400812 51.553131 \nL 1464.201348 54.83236 \nL 1464.601616 54.644379 \nL 1465.001884 55.479851 \nL 1465.402151 55.438077 \nL 1466.202687 59.051495 \nL 1466.602955 58.654645 \nL 1467.003223 60.701552 \nL 1467.40349 60.659779 \nL 1467.803758 66.904934 \nL 1468.204026 60.743326 \nL 1468.604294 59.427457 \nL 1470.205365 59.657212 \nL 1470.605633 60.952194 \nL 1471.005901 61.495251 \nL 1471.406168 60.701552 \nL 1471.806436 58.863513 \nL 1472.206704 54.748813 \nL 1472.606972 53.976001 \nL 1473.00724 52.534811 \nL 1473.407507 51.553131 \nL 1473.807775 52.576585 \nL 1474.208043 51.553131 \nL 1474.608311 52.325943 \nL 1475.008579 52.597472 \nL 1475.408846 53.474718 \nL 1476.209382 55.730493 \nL 1476.60965 55.709606 \nL 1477.009918 57.004588 \nL 1477.410185 57.401437 \nL 1477.810453 52.409491 \nL 1478.210721 49.631545 \nL 1478.610989 48.044148 \nL 1479.411524 50.968301 \nL 1479.811792 50.905641 \nL 1480.21206 50.091055 \nL 1480.612328 50.84298 \nL 1481.412863 50.696772 \nL 1481.813131 50.508791 \nL 1482.213399 49.297356 \nL 1482.613667 47.37577 \nL 1483.013935 46.749166 \nL 1483.81447 44.556052 \nL 1484.214738 44.36807 \nL 1484.615006 44.639599 \nL 1485.415541 44.639599 \nL 1485.815809 46.206109 \nL 1486.216077 46.749166 \nL 1486.616345 45.579505 \nL 1487.016613 46.206109 \nL 1487.41688 46.519411 \nL 1487.817148 48.002375 \nL 1488.217416 48.503658 \nL 1488.617684 50.84298 \nL 1489.418219 53.600038 \nL 1490.218755 53.78802 \nL 1490.619023 52.597472 \nL 1491.019291 52.597472 \nL 1491.419558 54.247529 \nL 1491.819826 53.119642 \nL 1492.220094 50.25815 \nL 1492.620362 51.010075 \nL 1493.02063 52.597472 \nL 1493.420897 53.432944 \nL 1493.821165 55.041228 \nL 1494.221433 54.289303 \nL 1495.021969 54.122209 \nL 1495.822504 57.38055 \nL 1496.222772 57.025475 \nL 1496.62304 56.900154 \nL 1497.823843 56.92104 \nL 1498.224111 55.939361 \nL 1498.624379 55.375417 \nL 1499.024647 55.333643 \nL 1499.424915 52.534811 \nL 1499.825182 52.513925 \nL 1500.22545 52.80634 \nL 1501.025986 54.7697 \nL 1501.426254 54.581718 \nL 1501.826521 54.7697 \nL 1502.226789 53.996888 \nL 1502.627057 53.725359 \nL 1503.027325 53.662699 \nL 1503.427593 53.432944 \nL 1503.82786 54.686152 \nL 1504.228128 53.432944 \nL 1504.628396 51.427811 \nL 1505.028664 50.968301 \nL 1505.428932 49.965734 \nL 1505.829199 49.840413 \nL 1506.229467 49.944847 \nL 1506.629735 49.819527 \nL 1507.430271 49.882187 \nL 1507.830538 50.007508 \nL 1508.230806 48.065035 \nL 1508.631074 47.730846 \nL 1509.031342 48.190356 \nL 1509.43161 47.37577 \nL 1509.831877 47.187789 \nL 1510.232145 49.568885 \nL 1510.632413 48.127695 \nL 1511.032681 48.336563 \nL 1511.432949 48.253016 \nL 1512.233484 52.722793 \nL 1512.633752 52.701906 \nL 1513.03402 52.848113 \nL 1513.434288 55.667832 \nL 1513.834555 55.166549 \nL 1514.234823 55.479851 \nL 1514.635091 53.119642 \nL 1515.035359 53.725359 \nL 1515.435627 54.7697 \nL 1515.835894 55.333643 \nL 1516.236162 54.456397 \nL 1516.63643 55.396304 \nL 1517.036698 56.983701 \nL 1517.837233 57.505871 \nL 1518.237501 58.550211 \nL 1518.637769 58.048928 \nL 1519.438305 57.526758 \nL 1519.838572 57.31789 \nL 1520.23884 57.819173 \nL 1520.639108 70.413917 \nL 1521.039376 66.299216 \nL 1521.439644 63.458611 \nL 1521.839911 62.247176 \nL 1522.240179 60.638892 \nL 1522.640447 61.014854 \nL 1523.040715 59.782533 \nL 1523.440983 55.208322 \nL 1523.84125 54.936794 \nL 1524.241518 53.412057 \nL 1524.641786 53.098755 \nL 1525.042054 54.226643 \nL 1525.442322 53.955114 \nL 1525.842589 53.077868 \nL 1526.242857 53.349397 \nL 1526.643125 53.432944 \nL 1527.043393 55.709606 \nL 1527.443661 57.255229 \nL 1527.843928 55.730493 \nL 1528.244196 52.242396 \nL 1528.644464 53.244963 \nL 1529.044732 52.910774 \nL 1529.845267 50.529678 \nL 1530.245535 52.889887 \nL 1531.046071 52.994321 \nL 1531.446339 53.119642 \nL 1531.846606 54.268416 \nL 1532.246874 52.513925 \nL 1532.647142 54.727926 \nL 1533.04741 55.187436 \nL 1533.447678 54.37285 \nL 1533.847945 54.435511 \nL 1534.248213 54.644379 \nL 1535.048749 54.644379 \nL 1535.449017 58.738193 \nL 1536.249552 62.894667 \nL 1536.64982 63.019988 \nL 1537.050088 66.299216 \nL 1537.450356 66.946707 \nL 1537.850623 64.126988 \nL 1538.651159 60.722439 \nL 1539.051427 63.249743 \nL 1539.451695 69.34869 \nL 1539.851962 71.625352 \nL 1540.652498 69.181595 \nL 1541.052766 69.515784 \nL 1541.453034 63.897234 \nL 1541.853301 66.654292 \nL 1542.253569 65.192215 \nL 1542.653837 64.273196 \nL 1543.054105 65.171329 \nL 1543.454373 67.260009 \nL 1543.85464 66.487197 \nL 1544.254908 67.427104 \nL 1544.655176 67.427104 \nL 1545.055444 70.100615 \nL 1545.455712 71.249389 \nL 1545.85598 73.150088 \nL 1546.256247 73.693145 \nL 1547.056783 68.88918 \nL 1547.457051 68.82652 \nL 1547.857319 69.912634 \nL 1548.657854 75.781826 \nL 1549.058122 79.750319 \nL 1549.858658 76.805279 \nL 1550.659193 81.838999 \nL 1551.059461 82.590924 \nL 1551.459729 77.055921 \nL 1551.859997 76.116015 \nL 1552.260264 75.572958 \nL 1552.660532 74.570391 \nL 1553.0608 80.85732 \nL 1553.461068 79.959187 \nL 1553.861336 79.35347 \nL 1554.261603 79.708545 \nL 1554.661871 79.645885 \nL 1555.062139 75.280543 \nL 1555.462407 74.528618 \nL 1555.862675 72.189295 \nL 1556.66321 72.210182 \nL 1557.063478 72.398163 \nL 1557.463746 75.196995 \nL 1557.864014 74.653938 \nL 1558.264281 75.572958 \nL 1558.664549 79.833866 \nL 1559.064817 80.794659 \nL 1559.465085 82.611811 \nL 1559.865353 82.695358 \nL 1560.26562 85.180888 \nL 1560.665888 84.324529 \nL 1561.066156 88.105041 \nL 1561.466424 86.663852 \nL 1561.866692 85.995474 \nL 1562.266959 87.039814 \nL 1562.667227 85.744832 \nL 1563.067495 83.760586 \nL 1563.467763 79.228149 \nL 1563.868031 79.437017 \nL 1564.268298 80.46047 \nL 1564.668566 80.690225 \nL 1565.068834 80.585791 \nL 1565.469102 79.437017 \nL 1565.86937 77.055921 \nL 1566.269637 76.763506 \nL 1566.669905 75.572958 \nL 1567.070173 73.484277 \nL 1567.470441 75.572958 \nL 1567.870709 75.343203 \nL 1568.270976 75.781826 \nL 1568.671244 75.447637 \nL 1569.071512 74.069108 \nL 1569.872048 75.071674 \nL 1570.272315 75.656505 \nL 1570.672583 73.797579 \nL 1571.072851 75.155222 \nL 1571.873387 73.484277 \nL 1572.273654 74.089995 \nL 1572.673922 74.236202 \nL 1573.474458 78.622431 \nL 1573.874726 78.100261 \nL 1574.274993 77.014147 \nL 1574.675261 77.223015 \nL 1575.075529 78.183808 \nL 1575.475797 78.162922 \nL 1575.876065 78.497111 \nL 1576.276332 78.497111 \nL 1576.6766 79.729432 \nL 1577.076868 80.293376 \nL 1578.277671 84.094774 \nL 1578.677939 83.823246 \nL 1579.078207 80.523131 \nL 1579.478475 78.309129 \nL 1579.878743 77.828733 \nL 1580.27901 75.552071 \nL 1580.679278 75.572958 \nL 1581.079546 74.90458 \nL 1581.479814 73.358956 \nL 1581.880082 72.35639 \nL 1582.280349 70.45569 \nL 1582.680617 70.33037 \nL 1583.080885 69.432237 \nL 1583.481153 69.181595 \nL 1583.881421 70.33037 \nL 1584.281688 70.288596 \nL 1584.681956 69.160709 \nL 1585.082224 67.44799 \nL 1585.482492 66.528971 \nL 1586.283027 66.842273 \nL 1586.683295 69.745539 \nL 1588.284366 69.724652 \nL 1588.684634 68.241689 \nL 1589.084902 68.179029 \nL 1589.48517 67.823953 \nL 1589.885438 68.199915 \nL 1590.285705 68.199915 \nL 1590.685973 67.740406 \nL 1591.486509 67.803066 \nL 1591.886777 67.531538 \nL 1592.287044 66.967594 \nL 1592.687312 65.756159 \nL 1593.08758 66.132122 \nL 1593.487848 65.129555 \nL 1593.888116 65.735272 \nL 1594.688651 65.735272 \nL 1595.088919 65.338423 \nL 1595.489187 64.064328 \nL 1595.889455 57.986268 \nL 1596.289723 59.552778 \nL 1596.68999 59.719872 \nL 1597.090258 60.471797 \nL 1597.490526 59.155929 \nL 1597.890794 55.730493 \nL 1598.291062 54.101322 \nL 1598.691329 53.704472 \nL 1599.091597 52.513925 \nL 1599.892133 56.210889 \nL 1600.292401 57.756513 \nL 1600.692668 57.610305 \nL 1601.092936 57.610305 \nL 1601.493204 57.401437 \nL 1602.29374 59.40657 \nL 1602.694007 62.35161 \nL 1603.094275 60.659779 \nL 1603.494543 60.597118 \nL 1603.894811 61.82944 \nL 1604.295079 62.41427 \nL 1604.695346 64.628272 \nL 1605.095614 63.897234 \nL 1605.495882 63.730139 \nL 1605.89615 62.017421 \nL 1606.296418 63.33329 \nL 1606.696685 62.539591 \nL 1607.096953 62.017421 \nL 1607.497221 59.197702 \nL 1607.897489 61.954761 \nL 1608.297757 62.41427 \nL 1608.698024 64.419404 \nL 1609.098292 64.711819 \nL 1609.49856 67.740406 \nL 1609.898828 67.719519 \nL 1610.299096 68.638538 \nL 1610.699363 66.40365 \nL 1611.099631 67.239122 \nL 1612.300435 67.218236 \nL 1612.700702 64.356743 \nL 1613.10097 65.35931 \nL 1613.501238 63.959894 \nL 1613.901506 63.061761 \nL 1614.301774 61.808553 \nL 1614.702041 62.247176 \nL 1615.102309 60.012288 \nL 1615.502577 60.012288 \nL 1615.902845 61.30727 \nL 1616.303113 61.683232 \nL 1616.70338 61.662345 \nL 1617.103648 61.202836 \nL 1617.904184 61.244609 \nL 1618.704719 60.680665 \nL 1619.505255 59.92874 \nL 1620.706058 59.92874 \nL 1621.106326 61.328156 \nL 1621.506594 60.262929 \nL 1621.906862 60.597118 \nL 1622.30713 62.226289 \nL 1622.707397 62.41427 \nL 1623.107665 64.294083 \nL 1623.507933 64.085215 \nL 1623.908201 65.338423 \nL 1624.308469 64.064328 \nL 1624.708736 63.207969 \nL 1625.109004 63.249743 \nL 1625.509272 64.37763 \nL 1625.90954 62.87378 \nL 1626.309808 63.667479 \nL 1626.710075 63.166195 \nL 1627.110343 62.852893 \nL 1627.510611 63.959894 \nL 1628.311147 68.032821 \nL 1628.711414 68.032821 \nL 1629.111682 65.81882 \nL 1629.51195 64.941574 \nL 1629.912218 63.625705 \nL 1630.312486 64.628272 \nL 1630.712753 64.670045 \nL 1631.513289 65.129555 \nL 1631.913557 65.129555 \nL 1632.313825 68.784746 \nL 1632.714092 64.482064 \nL 1633.11436 64.565611 \nL 1633.514628 64.795366 \nL 1633.914896 64.502951 \nL 1635.115699 64.482064 \nL 1635.515967 62.393384 \nL 1635.916235 62.978214 \nL 1636.71677 61.996534 \nL 1637.117038 61.975647 \nL 1637.517306 63.166195 \nL 1637.917574 61.871213 \nL 1638.317842 61.871213 \nL 1638.718109 59.824306 \nL 1639.118377 60.304703 \nL 1639.518645 60.200269 \nL 1639.918913 57.004588 \nL 1640.719448 57.213456 \nL 1641.119716 57.819173 \nL 1641.920252 57.7774 \nL 1643.121055 55.939361 \nL 1643.521323 55.897587 \nL 1643.921591 54.978568 \nL 1643.921591 54.978568 \n\" style=\"fill:none;stroke:#1f77b4;stroke-linecap:square;stroke-width:1.5;\"/>\n   </g>\n   <g id=\"patch_3\">\n    <path d=\"M 46.0125 279 \nL 46.0125 7.2 \n\" style=\"fill:none;stroke:#000000;stroke-linecap:square;stroke-linejoin:miter;stroke-width:0.8;\"/>\n   </g>\n   <g id=\"patch_4\">\n    <path d=\"M 1720.0125 279 \nL 1720.0125 7.2 \n\" style=\"fill:none;stroke:#000000;stroke-linecap:square;stroke-linejoin:miter;stroke-width:0.8;\"/>\n   </g>\n   <g id=\"patch_5\">\n    <path d=\"M 46.0125 279 \nL 1720.0125 279 \n\" style=\"fill:none;stroke:#000000;stroke-linecap:square;stroke-linejoin:miter;stroke-width:0.8;\"/>\n   </g>\n   <g id=\"patch_6\">\n    <path d=\"M 46.0125 7.2 \nL 1720.0125 7.2 \n\" style=\"fill:none;stroke:#000000;stroke-linecap:square;stroke-linejoin:miter;stroke-width:0.8;\"/>\n   </g>\n  </g>\n </g>\n <defs>\n  <clipPath id=\"p1ca77037a5\">\n   <rect height=\"271.8\" width=\"1674\" x=\"46.0125\" y=\"7.2\"/>\n  </clipPath>\n </defs>\n</svg>\n",
      "image/png": "[encoded data removed]"
     },
     "metadata": {
      "needs_background": "light"
     }
    }
   ],
   "source": [
    "plt.figure(figsize=(30,5))\n",
    "plt.scatter(copied_X_test.time, copied_X_test.entry_exit, c='r')\n",
    "plt.plot(copied_X_test.time, copied_X_test.close)\n",
    "plt.show()"
   ]
  },
  {
   "cell_type": "code",
   "execution_count": 15,
   "metadata": {},
   "outputs": [
    {
     "output_type": "error",
     "ename": "NameError",
     "evalue": "name 'weight_rf_forest' is not defined",
     "traceback": [
      "\u001b[0;31m---------------------------------------------------------------------------\u001b[0m",
      "\u001b[0;31mNameError\u001b[0m                                 Traceback (most recent call last)",
      "\u001b[0;32m<ipython-input-15-915f7262058d>\u001b[0m in \u001b[0;36m<module>\u001b[0;34m\u001b[0m\n\u001b[1;32m      2\u001b[0m \u001b[0mlstm_X_test\u001b[0m \u001b[0;34m=\u001b[0m \u001b[0mX_test\u001b[0m\u001b[0;34m.\u001b[0m\u001b[0mcopy\u001b[0m\u001b[0;34m(\u001b[0m\u001b[0;34m)\u001b[0m\u001b[0;34m\u001b[0m\u001b[0;34m\u001b[0m\u001b[0m\n\u001b[1;32m      3\u001b[0m \u001b[0;34m\u001b[0m\u001b[0m\n\u001b[0;32m----> 4\u001b[0;31m \u001b[0mlstm_X_train\u001b[0m\u001b[0;34m[\u001b[0m\u001b[0;34m\"rf_pred\"\u001b[0m\u001b[0;34m]\u001b[0m \u001b[0;34m=\u001b[0m \u001b[0mweight_rf_forest\u001b[0m\u001b[0;34m.\u001b[0m\u001b[0mpredict\u001b[0m\u001b[0;34m(\u001b[0m\u001b[0mlstm_X_train\u001b[0m\u001b[0;34m.\u001b[0m\u001b[0mvalues\u001b[0m\u001b[0;34m)\u001b[0m\u001b[0;34m\u001b[0m\u001b[0;34m\u001b[0m\u001b[0m\n\u001b[0m\u001b[1;32m      5\u001b[0m \u001b[0mlstm_X_train\u001b[0m\u001b[0;34m[\u001b[0m\u001b[0;34m\"boost_rf_pred\"\u001b[0m\u001b[0;34m]\u001b[0m \u001b[0;34m=\u001b[0m \u001b[0mboost_rf_mod\u001b[0m\u001b[0;34m.\u001b[0m\u001b[0mpredict\u001b[0m\u001b[0;34m(\u001b[0m\u001b[0mlstm_X_train\u001b[0m\u001b[0;34m.\u001b[0m\u001b[0mvalues\u001b[0m\u001b[0;34m)\u001b[0m\u001b[0;34m\u001b[0m\u001b[0;34m\u001b[0m\u001b[0m\n\u001b[1;32m      6\u001b[0m \u001b[0;34m\u001b[0m\u001b[0m\n",
      "\u001b[0;31mNameError\u001b[0m: name 'weight_rf_forest' is not defined"
     ]
    }
   ],
   "source": [
    "lstm_X_train = X_train.copy()\n",
    "lstm_X_test = X_test.copy()\n",
    "\n",
    "lstm_X_train[\"rf_pred\"] = weight_rf_forest.predict(lstm_X_train.values)\n",
    "lstm_X_train[\"boost_rf_pred\"] = boost_rf_mod.predict(lstm_X_train.values)\n",
    "\n",
    "lstm_X_test[\"rf_pred\"] = weight_rf_forest.predict(lstm_X_test.values).astype('int')\n",
    "lstm_X_test[\"boost_rf_pred\"] = boost_rf_mod.predict(lstm_X_test.values).astype('int')"
   ]
  },
  {
   "cell_type": "code",
   "execution_count": null,
   "metadata": {},
   "outputs": [],
   "source": [
    "def pos_range(begin_list):\n",
    "    ret_l = []\n",
    "    for e in begin_list:\n",
    "        ret_l.append(np.interp(e, [-1, 1], [0, 1]))"
   ]
  },
  {
   "cell_type": "code",
   "execution_count": 53,
   "metadata": {},
   "outputs": [],
   "source": [
    "#add weights later\n",
    "lstm_X_train_v = lstm_X_train.values\n",
    "lstm_X_test_v = lstm_X_test.values\n",
    "\n",
    "# y_train_v = np.reshape(y_train.values, (y_train.values.shape[0], 1, y_train.values.shape[1]))\n",
    "# y_test_v = np.reshape(y_test.values, (y_test.values.shape[0], 1, y_test.values.shape[1]))\n",
    "lstm_X_train_v = np.reshape(lstm_X_train_v, (lstm_X_train_v.shape[0], 1, lstm_X_train_v.shape[1]))\n",
    "lstm_X_test_v = np.reshape(lstm_X_test_v, (lstm_X_test_v.shape[0], 1, lstm_X_test_v.shape[1]))\n",
    "\n",
    "# y_train_v = pos_range(y_train.values)\n",
    "# y_test_v = pos_range(y_test.values)\n",
    "y_train_v = y_train.values\n",
    "y_test_v = y_test.values\n",
    "\n",
    "y_train_v[y_train_v[:] == -1] = 2\n",
    "y_test_v[y_test_v[:] == -1] = 2\n",
    "\n",
    "# y_train_v = to_categorical(y_train_v, 3)\n",
    "# y_test_v = to_categorical(y_test_v, 3)"
   ]
  },
  {
   "cell_type": "code",
   "execution_count": 67,
   "metadata": {},
   "outputs": [],
   "source": [
    "#LSTM\n",
    "model = Sequential()\n",
    "model.add(LSTM(256, input_shape=lstm_X_train_v.shape[1:], activation='relu', return_sequences=True))\n",
    "model.add(Dropout(0.2))\n",
    "\n",
    "model.add(LSTM(128, activation='relu', return_sequences=True))\n",
    "model.add(Dropout(0.2))\n",
    "\n",
    "model.add(LSTM(64, activation='relu'))\n",
    "model.add(Dropout(0.2))\n",
    "\n",
    "model.add(Dense(3, activation='softmax'))\n",
    "\n",
    "opt = tf.keras.optimizers.Adam(lr=1e-3, decay=1e-5)\n",
    "\n",
    "model.compile(loss='sparse_categorical_crossentropy', optimizer=opt, metrics=['accuracy'])"
   ]
  },
  {
   "cell_type": "code",
   "execution_count": 68,
   "metadata": {},
   "outputs": [
    {
     "output_type": "stream",
     "name": "stdout",
     "text": "(1389779, 1, 36)\n(347445, 1, 36)\n(1389779, 1)\n(347445, 1)\n"
    }
   ],
   "source": [
    "print(lstm_X_train_v.shape)\n",
    "print(lstm_X_test_v.shape)\n",
    "print(y_train_v.shape)\n",
    "print(y_test_v.shape)"
   ]
  },
  {
   "cell_type": "code",
   "execution_count": 69,
   "metadata": {},
   "outputs": [
    {
     "output_type": "stream",
     "name": "stdout",
     "text": "Epoch 1/25\n43431/43431 [==============================] - 263s 6ms/step - loss: 205.8936 - accuracy: 0.2606 - val_loss: 1.0916 - val_accuracy: 0.9811\nEpoch 2/25\n43431/43431 [==============================] - 276s 6ms/step - loss: 0.2978 - accuracy: 0.2821 - val_loss: 1.1060 - val_accuracy: 0.0095\nEpoch 3/25\n 2162/43431 [>.............................] - ETA: 4:32 - loss: 0.0354 - accuracy: 0.3078"
    },
    {
     "output_type": "error",
     "ename": "KeyboardInterrupt",
     "evalue": "",
     "traceback": [
      "\u001b[0;31m---------------------------------------------------------------------------\u001b[0m",
      "\u001b[0;31mKeyboardInterrupt\u001b[0m                         Traceback (most recent call last)",
      "\u001b[0;32m<ipython-input-69-d0ddcc15193b>\u001b[0m in \u001b[0;36m<module>\u001b[0;34m\u001b[0m\n\u001b[0;32m----> 1\u001b[0;31m \u001b[0mmodel\u001b[0m\u001b[0;34m.\u001b[0m\u001b[0mfit\u001b[0m\u001b[0;34m(\u001b[0m\u001b[0mlstm_X_train_v\u001b[0m\u001b[0;34m,\u001b[0m \u001b[0my_train_v\u001b[0m\u001b[0;34m,\u001b[0m \u001b[0mepochs\u001b[0m\u001b[0;34m=\u001b[0m\u001b[0;36m25\u001b[0m\u001b[0;34m,\u001b[0m \u001b[0msample_weight\u001b[0m\u001b[0;34m=\u001b[0m\u001b[0mnp\u001b[0m\u001b[0;34m.\u001b[0m\u001b[0marray\u001b[0m\u001b[0;34m(\u001b[0m\u001b[0mboost_weights\u001b[0m\u001b[0;34m)\u001b[0m\u001b[0;34m,\u001b[0m \u001b[0mvalidation_data\u001b[0m\u001b[0;34m=\u001b[0m\u001b[0;34m(\u001b[0m\u001b[0mlstm_X_test_v\u001b[0m\u001b[0;34m,\u001b[0m \u001b[0my_test_v\u001b[0m\u001b[0;34m)\u001b[0m\u001b[0;34m)\u001b[0m\u001b[0;34m\u001b[0m\u001b[0;34m\u001b[0m\u001b[0m\n\u001b[0m",
      "\u001b[0;32m/usr/local/lib/python3.8/site-packages/tensorflow/python/keras/engine/training.py\u001b[0m in \u001b[0;36m_method_wrapper\u001b[0;34m(self, *args, **kwargs)\u001b[0m\n\u001b[1;32m     64\u001b[0m   \u001b[0;32mdef\u001b[0m \u001b[0m_method_wrapper\u001b[0m\u001b[0;34m(\u001b[0m\u001b[0mself\u001b[0m\u001b[0;34m,\u001b[0m \u001b[0;34m*\u001b[0m\u001b[0margs\u001b[0m\u001b[0;34m,\u001b[0m \u001b[0;34m**\u001b[0m\u001b[0mkwargs\u001b[0m\u001b[0;34m)\u001b[0m\u001b[0;34m:\u001b[0m\u001b[0;34m\u001b[0m\u001b[0;34m\u001b[0m\u001b[0m\n\u001b[1;32m     65\u001b[0m     \u001b[0;32mif\u001b[0m \u001b[0;32mnot\u001b[0m \u001b[0mself\u001b[0m\u001b[0;34m.\u001b[0m\u001b[0m_in_multi_worker_mode\u001b[0m\u001b[0;34m(\u001b[0m\u001b[0;34m)\u001b[0m\u001b[0;34m:\u001b[0m  \u001b[0;31m# pylint: disable=protected-access\u001b[0m\u001b[0;34m\u001b[0m\u001b[0;34m\u001b[0m\u001b[0m\n\u001b[0;32m---> 66\u001b[0;31m       \u001b[0;32mreturn\u001b[0m \u001b[0mmethod\u001b[0m\u001b[0;34m(\u001b[0m\u001b[0mself\u001b[0m\u001b[0;34m,\u001b[0m \u001b[0;34m*\u001b[0m\u001b[0margs\u001b[0m\u001b[0;34m,\u001b[0m \u001b[0;34m**\u001b[0m\u001b[0mkwargs\u001b[0m\u001b[0;34m)\u001b[0m\u001b[0;34m\u001b[0m\u001b[0;34m\u001b[0m\u001b[0m\n\u001b[0m\u001b[1;32m     67\u001b[0m \u001b[0;34m\u001b[0m\u001b[0m\n\u001b[1;32m     68\u001b[0m     \u001b[0;31m# Running inside `run_distribute_coordinator` already.\u001b[0m\u001b[0;34m\u001b[0m\u001b[0;34m\u001b[0m\u001b[0;34m\u001b[0m\u001b[0m\n",
      "\u001b[0;32m/usr/local/lib/python3.8/site-packages/tensorflow/python/keras/engine/training.py\u001b[0m in \u001b[0;36mfit\u001b[0;34m(self, x, y, batch_size, epochs, verbose, callbacks, validation_split, validation_data, shuffle, class_weight, sample_weight, initial_epoch, steps_per_epoch, validation_steps, validation_batch_size, validation_freq, max_queue_size, workers, use_multiprocessing)\u001b[0m\n\u001b[1;32m    846\u001b[0m                 batch_size=batch_size):\n\u001b[1;32m    847\u001b[0m               \u001b[0mcallbacks\u001b[0m\u001b[0;34m.\u001b[0m\u001b[0mon_train_batch_begin\u001b[0m\u001b[0;34m(\u001b[0m\u001b[0mstep\u001b[0m\u001b[0;34m)\u001b[0m\u001b[0;34m\u001b[0m\u001b[0;34m\u001b[0m\u001b[0m\n\u001b[0;32m--> 848\u001b[0;31m               \u001b[0mtmp_logs\u001b[0m \u001b[0;34m=\u001b[0m \u001b[0mtrain_function\u001b[0m\u001b[0;34m(\u001b[0m\u001b[0miterator\u001b[0m\u001b[0;34m)\u001b[0m\u001b[0;34m\u001b[0m\u001b[0;34m\u001b[0m\u001b[0m\n\u001b[0m\u001b[1;32m    849\u001b[0m               \u001b[0;31m# Catch OutOfRangeError for Datasets of unknown size.\u001b[0m\u001b[0;34m\u001b[0m\u001b[0;34m\u001b[0m\u001b[0;34m\u001b[0m\u001b[0m\n\u001b[1;32m    850\u001b[0m               \u001b[0;31m# This blocks until the batch has finished executing.\u001b[0m\u001b[0;34m\u001b[0m\u001b[0;34m\u001b[0m\u001b[0;34m\u001b[0m\u001b[0m\n",
      "\u001b[0;32m/usr/local/lib/python3.8/site-packages/tensorflow/python/eager/def_function.py\u001b[0m in \u001b[0;36m__call__\u001b[0;34m(self, *args, **kwds)\u001b[0m\n\u001b[1;32m    578\u001b[0m         \u001b[0mxla_context\u001b[0m\u001b[0;34m.\u001b[0m\u001b[0mExit\u001b[0m\u001b[0;34m(\u001b[0m\u001b[0;34m)\u001b[0m\u001b[0;34m\u001b[0m\u001b[0;34m\u001b[0m\u001b[0m\n\u001b[1;32m    579\u001b[0m     \u001b[0;32melse\u001b[0m\u001b[0;34m:\u001b[0m\u001b[0;34m\u001b[0m\u001b[0;34m\u001b[0m\u001b[0m\n\u001b[0;32m--> 580\u001b[0;31m       \u001b[0mresult\u001b[0m \u001b[0;34m=\u001b[0m \u001b[0mself\u001b[0m\u001b[0;34m.\u001b[0m\u001b[0m_call\u001b[0m\u001b[0;34m(\u001b[0m\u001b[0;34m*\u001b[0m\u001b[0margs\u001b[0m\u001b[0;34m,\u001b[0m \u001b[0;34m**\u001b[0m\u001b[0mkwds\u001b[0m\u001b[0;34m)\u001b[0m\u001b[0;34m\u001b[0m\u001b[0;34m\u001b[0m\u001b[0m\n\u001b[0m\u001b[1;32m    581\u001b[0m \u001b[0;34m\u001b[0m\u001b[0m\n\u001b[1;32m    582\u001b[0m     \u001b[0;32mif\u001b[0m \u001b[0mtracing_count\u001b[0m \u001b[0;34m==\u001b[0m \u001b[0mself\u001b[0m\u001b[0;34m.\u001b[0m\u001b[0m_get_tracing_count\u001b[0m\u001b[0;34m(\u001b[0m\u001b[0;34m)\u001b[0m\u001b[0;34m:\u001b[0m\u001b[0;34m\u001b[0m\u001b[0;34m\u001b[0m\u001b[0m\n",
      "\u001b[0;32m/usr/local/lib/python3.8/site-packages/tensorflow/python/eager/def_function.py\u001b[0m in \u001b[0;36m_call\u001b[0;34m(self, *args, **kwds)\u001b[0m\n\u001b[1;32m    609\u001b[0m       \u001b[0;31m# In this case we have created variables on the first call, so we run the\u001b[0m\u001b[0;34m\u001b[0m\u001b[0;34m\u001b[0m\u001b[0;34m\u001b[0m\u001b[0m\n\u001b[1;32m    610\u001b[0m       \u001b[0;31m# defunned version which is guaranteed to never create variables.\u001b[0m\u001b[0;34m\u001b[0m\u001b[0;34m\u001b[0m\u001b[0;34m\u001b[0m\u001b[0m\n\u001b[0;32m--> 611\u001b[0;31m       \u001b[0;32mreturn\u001b[0m \u001b[0mself\u001b[0m\u001b[0;34m.\u001b[0m\u001b[0m_stateless_fn\u001b[0m\u001b[0;34m(\u001b[0m\u001b[0;34m*\u001b[0m\u001b[0margs\u001b[0m\u001b[0;34m,\u001b[0m \u001b[0;34m**\u001b[0m\u001b[0mkwds\u001b[0m\u001b[0;34m)\u001b[0m  \u001b[0;31m# pylint: disable=not-callable\u001b[0m\u001b[0;34m\u001b[0m\u001b[0;34m\u001b[0m\u001b[0m\n\u001b[0m\u001b[1;32m    612\u001b[0m     \u001b[0;32melif\u001b[0m \u001b[0mself\u001b[0m\u001b[0;34m.\u001b[0m\u001b[0m_stateful_fn\u001b[0m \u001b[0;32mis\u001b[0m \u001b[0;32mnot\u001b[0m \u001b[0;32mNone\u001b[0m\u001b[0;34m:\u001b[0m\u001b[0;34m\u001b[0m\u001b[0;34m\u001b[0m\u001b[0m\n\u001b[1;32m    613\u001b[0m       \u001b[0;31m# Release the lock early so that multiple threads can perform the call\u001b[0m\u001b[0;34m\u001b[0m\u001b[0;34m\u001b[0m\u001b[0;34m\u001b[0m\u001b[0m\n",
      "\u001b[0;32m/usr/local/lib/python3.8/site-packages/tensorflow/python/eager/function.py\u001b[0m in \u001b[0;36m__call__\u001b[0;34m(self, *args, **kwargs)\u001b[0m\n\u001b[1;32m   2418\u001b[0m     \u001b[0;32mwith\u001b[0m \u001b[0mself\u001b[0m\u001b[0;34m.\u001b[0m\u001b[0m_lock\u001b[0m\u001b[0;34m:\u001b[0m\u001b[0;34m\u001b[0m\u001b[0;34m\u001b[0m\u001b[0m\n\u001b[1;32m   2419\u001b[0m       \u001b[0mgraph_function\u001b[0m\u001b[0;34m,\u001b[0m \u001b[0margs\u001b[0m\u001b[0;34m,\u001b[0m \u001b[0mkwargs\u001b[0m \u001b[0;34m=\u001b[0m \u001b[0mself\u001b[0m\u001b[0;34m.\u001b[0m\u001b[0m_maybe_define_function\u001b[0m\u001b[0;34m(\u001b[0m\u001b[0margs\u001b[0m\u001b[0;34m,\u001b[0m \u001b[0mkwargs\u001b[0m\u001b[0;34m)\u001b[0m\u001b[0;34m\u001b[0m\u001b[0;34m\u001b[0m\u001b[0m\n\u001b[0;32m-> 2420\u001b[0;31m     \u001b[0;32mreturn\u001b[0m \u001b[0mgraph_function\u001b[0m\u001b[0;34m.\u001b[0m\u001b[0m_filtered_call\u001b[0m\u001b[0;34m(\u001b[0m\u001b[0margs\u001b[0m\u001b[0;34m,\u001b[0m \u001b[0mkwargs\u001b[0m\u001b[0;34m)\u001b[0m  \u001b[0;31m# pylint: disable=protected-access\u001b[0m\u001b[0;34m\u001b[0m\u001b[0;34m\u001b[0m\u001b[0m\n\u001b[0m\u001b[1;32m   2421\u001b[0m \u001b[0;34m\u001b[0m\u001b[0m\n\u001b[1;32m   2422\u001b[0m   \u001b[0;34m@\u001b[0m\u001b[0mproperty\u001b[0m\u001b[0;34m\u001b[0m\u001b[0;34m\u001b[0m\u001b[0m\n",
      "\u001b[0;32m/usr/local/lib/python3.8/site-packages/tensorflow/python/eager/function.py\u001b[0m in \u001b[0;36m_filtered_call\u001b[0;34m(self, args, kwargs)\u001b[0m\n\u001b[1;32m   1659\u001b[0m       \u001b[0;31m`\u001b[0m\u001b[0margs\u001b[0m\u001b[0;31m`\u001b[0m \u001b[0;32mand\u001b[0m\u001b[0;31m \u001b[0m\u001b[0;31m`\u001b[0m\u001b[0mkwargs\u001b[0m\u001b[0;31m`\u001b[0m\u001b[0;34m.\u001b[0m\u001b[0;34m\u001b[0m\u001b[0;34m\u001b[0m\u001b[0m\n\u001b[1;32m   1660\u001b[0m     \"\"\"\n\u001b[0;32m-> 1661\u001b[0;31m     return self._call_flat(\n\u001b[0m\u001b[1;32m   1662\u001b[0m         (t for t in nest.flatten((args, kwargs), expand_composites=True)\n\u001b[1;32m   1663\u001b[0m          if isinstance(t, (ops.Tensor,\n",
      "\u001b[0;32m/usr/local/lib/python3.8/site-packages/tensorflow/python/eager/function.py\u001b[0m in \u001b[0;36m_call_flat\u001b[0;34m(self, args, captured_inputs, cancellation_manager)\u001b[0m\n\u001b[1;32m   1743\u001b[0m         and executing_eagerly):\n\u001b[1;32m   1744\u001b[0m       \u001b[0;31m# No tape is watching; skip to running the function.\u001b[0m\u001b[0;34m\u001b[0m\u001b[0;34m\u001b[0m\u001b[0;34m\u001b[0m\u001b[0m\n\u001b[0;32m-> 1745\u001b[0;31m       return self._build_call_outputs(self._inference_function.call(\n\u001b[0m\u001b[1;32m   1746\u001b[0m           ctx, args, cancellation_manager=cancellation_manager))\n\u001b[1;32m   1747\u001b[0m     forward_backward = self._select_forward_and_backward_functions(\n",
      "\u001b[0;32m/usr/local/lib/python3.8/site-packages/tensorflow/python/eager/function.py\u001b[0m in \u001b[0;36mcall\u001b[0;34m(self, ctx, args, cancellation_manager)\u001b[0m\n\u001b[1;32m    591\u001b[0m       \u001b[0;32mwith\u001b[0m \u001b[0m_InterpolateFunctionError\u001b[0m\u001b[0;34m(\u001b[0m\u001b[0mself\u001b[0m\u001b[0;34m)\u001b[0m\u001b[0;34m:\u001b[0m\u001b[0;34m\u001b[0m\u001b[0;34m\u001b[0m\u001b[0m\n\u001b[1;32m    592\u001b[0m         \u001b[0;32mif\u001b[0m \u001b[0mcancellation_manager\u001b[0m \u001b[0;32mis\u001b[0m \u001b[0;32mNone\u001b[0m\u001b[0;34m:\u001b[0m\u001b[0;34m\u001b[0m\u001b[0;34m\u001b[0m\u001b[0m\n\u001b[0;32m--> 593\u001b[0;31m           outputs = execute.execute(\n\u001b[0m\u001b[1;32m    594\u001b[0m               \u001b[0mstr\u001b[0m\u001b[0;34m(\u001b[0m\u001b[0mself\u001b[0m\u001b[0;34m.\u001b[0m\u001b[0msignature\u001b[0m\u001b[0;34m.\u001b[0m\u001b[0mname\u001b[0m\u001b[0;34m)\u001b[0m\u001b[0;34m,\u001b[0m\u001b[0;34m\u001b[0m\u001b[0;34m\u001b[0m\u001b[0m\n\u001b[1;32m    595\u001b[0m               \u001b[0mnum_outputs\u001b[0m\u001b[0;34m=\u001b[0m\u001b[0mself\u001b[0m\u001b[0;34m.\u001b[0m\u001b[0m_num_outputs\u001b[0m\u001b[0;34m,\u001b[0m\u001b[0;34m\u001b[0m\u001b[0;34m\u001b[0m\u001b[0m\n",
      "\u001b[0;32m/usr/local/lib/python3.8/site-packages/tensorflow/python/eager/execute.py\u001b[0m in \u001b[0;36mquick_execute\u001b[0;34m(op_name, num_outputs, inputs, attrs, ctx, name)\u001b[0m\n\u001b[1;32m     57\u001b[0m   \u001b[0;32mtry\u001b[0m\u001b[0;34m:\u001b[0m\u001b[0;34m\u001b[0m\u001b[0;34m\u001b[0m\u001b[0m\n\u001b[1;32m     58\u001b[0m     \u001b[0mctx\u001b[0m\u001b[0;34m.\u001b[0m\u001b[0mensure_initialized\u001b[0m\u001b[0;34m(\u001b[0m\u001b[0;34m)\u001b[0m\u001b[0;34m\u001b[0m\u001b[0;34m\u001b[0m\u001b[0m\n\u001b[0;32m---> 59\u001b[0;31m     tensors = pywrap_tfe.TFE_Py_Execute(ctx._handle, device_name, op_name,\n\u001b[0m\u001b[1;32m     60\u001b[0m                                         inputs, attrs, num_outputs)\n\u001b[1;32m     61\u001b[0m   \u001b[0;32mexcept\u001b[0m \u001b[0mcore\u001b[0m\u001b[0;34m.\u001b[0m\u001b[0m_NotOkStatusException\u001b[0m \u001b[0;32mas\u001b[0m \u001b[0me\u001b[0m\u001b[0;34m:\u001b[0m\u001b[0;34m\u001b[0m\u001b[0;34m\u001b[0m\u001b[0m\n",
      "\u001b[0;31mKeyboardInterrupt\u001b[0m: "
     ]
    }
   ],
   "source": [
    "model.fit(lstm_X_train_v, y_train_v, epochs=25, sample_weight=np.array(boost_weights), validation_data=(lstm_X_test_v, y_test_v))"
   ]
  },
  {
   "cell_type": "code",
   "execution_count": null,
   "metadata": {},
   "outputs": [],
   "source": []
  }
 ]
}