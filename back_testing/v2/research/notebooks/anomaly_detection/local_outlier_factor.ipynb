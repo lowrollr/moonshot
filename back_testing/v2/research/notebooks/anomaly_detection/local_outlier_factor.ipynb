{
 "nbformat": 4,
 "nbformat_minor": 2,
 "metadata": {
  "language_info": {
   "name": "python",
   "codemirror_mode": {
    "name": "ipython",
    "version": 3
   },
   "version": "3.8.2-final"
  },
  "orig_nbformat": 2,
  "file_extension": ".py",
  "mimetype": "text/x-python",
  "name": "python",
  "npconvert_exporter": "python",
  "pygments_lexer": "ipython3",
  "version": 3,
  "kernelspec": {
   "name": "python38264bitd8c6bbf8d5b44f46bed69947f3d02f42",
   "display_name": "Python 3.8.2 64-bit"
  }
 },
 "cells": [
  {
   "cell_type": "code",
   "execution_count": 1,
   "metadata": {},
   "outputs": [
    {
     "output_type": "stream",
     "name": "stdout",
     "text": "/Users/rosscopeland/Desktop/personal/code/vivaldi/back_testing\n"
    }
   ],
   "source": [
    "import pandas as pd\n",
    "import numpy as np\n",
    "import os\n",
    "os.chdir('../../../../')\n",
    "print(os.getcwd())\n",
    "from v2.strategy.indicators.optimal_v2 import Optimal_v2\n",
    "from v2.model import Trading\n",
    "from v2.strategy.indicators.param import Param\n",
    "from v2.strategy.indicators.roc import RateOfChange\n",
    "from v2.research.scripts.notebook_utils import notebookUtils\n",
    "from v2.research.scripts.scoreboard import updateScoreboard\n",
    "from sklearn.model_selection import train_test_split\n",
    "\n",
    "from sklearn.neighbors import LocalOutlierFactor\n",
    "from sklearn.metrics import confusion_matrix"
   ]
  },
  {
   "cell_type": "code",
   "execution_count": 2,
   "metadata": {},
   "outputs": [],
   "source": [
    "nu = notebookUtils()\n",
    "model_name = \"lof_test\""
   ]
  },
  {
   "cell_type": "code",
   "execution_count": 3,
   "metadata": {},
   "outputs": [
    {
     "output_type": "stream",
     "name": "stdout",
     "text": "Loading data from OMG...\nLoading data from chunk 0...\nLoading data from ONE...\nLoading data from chunk 0...\nLoading data from ADA...\nLoading data from chunk 0...\nLoading data from chunk 1...\nLoading data from chunk 2...\nLoading data from chunk 3...\nLoading data from chunk 4...\nLoading data from ETH...\nLoading data from chunk 0...\nLoading data from chunk 1...\nLoading data from chunk 2...\nLoading data from chunk 3...\nLoading data from chunk 4...\nLoading data from chunk 5...\nLoading data from NANO...\nLoading data from chunk 0...\nLoading data from EOS...\nLoading data from chunk 0...\nLoading data from chunk 1...\nLoading data from chunk 2...\nLoading data from chunk 3...\nLoading data from VET...\nLoading data from chunk 0...\nLoading data from chunk 1...\nLoading data from chunk 2...\nLoading data from chunk 3...\nLoading data from ICX...\nLoading data from chunk 0...\nLoading data from chunk 1...\nLoading data from chunk 2...\nLoading data from chunk 3...\nLoading data from XRP...\nLoading data from chunk 0...\nLoading data from chunk 1...\nLoading data from chunk 2...\nLoading data from chunk 3...\nLoading data from chunk 4...\nLoading data from DASH...\nLoading data from chunk 0...\nLoading data from chunk 1...\nLoading data from ETC...\nLoading data from chunk 0...\nLoading data from chunk 1...\nLoading data from chunk 2...\nLoading data from chunk 3...\nLoading data from ATOM...\nLoading data from chunk 0...\nLoading data from LTC...\nLoading data from chunk 0...\nLoading data from chunk 1...\nLoading data from chunk 2...\nLoading data from chunk 3...\nLoading data from chunk 4...\nLoading data from ZIL...\nLoading data from chunk 0...\nLoading data from chunk 1...\nLoading data from ONT...\nLoading data from chunk 0...\nLoading data from chunk 1...\nLoading data from chunk 2...\nLoading data from chunk 3...\nLoading data from ZRX...\nLoading data from chunk 0...\nLoading data from chunk 1...\nLoading data from ZEC...\nLoading data from chunk 0...\nLoading data from chunk 1...\nLoading data from LINK...\nLoading data from chunk 0...\nLoading data from chunk 1...\nLoading data from chunk 2...\nLoading data from BTC...\nLoading data from chunk 0...\nLoading data from chunk 1...\nLoading data from chunk 2...\nLoading data from chunk 3...\nLoading data from chunk 4...\nLoading data from chunk 5...\nLoading data from ALGO...\nLoading data from chunk 0...\nLoading data from XLM...\nLoading data from chunk 0...\nLoading data from chunk 1...\nLoading data from chunk 2...\nLoading data from chunk 3...\nLoading data from BAT...\nLoading data from chunk 0...\nLoading data from chunk 1...\nLoading data from IOTA...\nLoading data from chunk 0...\nLoading data from chunk 1...\nLoading data from chunk 2...\nLoading data from chunk 3...\nLoading data from BNB...\nLoading data from chunk 0...\nLoading data from chunk 1...\nLoading data from chunk 2...\nLoading data from chunk 3...\nLoading data from chunk 4...\nLoading data from QTUM...\nLoading data from chunk 0...\nLoading data from chunk 1...\nLoading data from chunk 2...\nLoading data from chunk 3...\nLoading data from chunk 4...\nLoading data from ENJ...\nLoading data from chunk 0...\nLoading data from WAVES...\nLoading data from chunk 0...\nLoading data from chunk 1...\nLoading data from chunk 2...\nLoading data from MATIC...\nLoading data from chunk 0...\nLoading data from NEO...\nLoading data from chunk 0...\nLoading data from chunk 1...\nLoading data from chunk 2...\nLoading data from chunk 3...\nLoading data from chunk 4...\n"
    }
   ],
   "source": [
    "dataset, features, indicators = nu.loadData(indicators=[('moh', 'time', ''), ('tod', 'time', ''), ('dow', 'time', ''), ('bop', 'close', ''),('optimal_v2', 'close', '')],\n",
    "                            param_spec={},\n",
    "                            optimal_threshold={'buy':(0.005, 0.03)},\n",
    "                            spans=[{'indicator_name':'willr',\n",
    "                                    'column_name': 'close',\n",
    "                                    'param_name': 'period',\n",
    "                                    'param_values': [10,30]},\n",
    "                                    {'indicator_name':'cci',\n",
    "                                    'column_name': 'close',\n",
    "                                    'param_name': 'period',\n",
    "                                    'param_values': [10,30,60]},\n",
    "                                    {'indicator_name':'rsi',\n",
    "                                    'column_name': 'close',\n",
    "                                    'param_name': 'period',\n",
    "                                    'param_values': [2,3,5,10,30]},\n",
    "                                    {'indicator_name':'natr',\n",
    "                                    'column_name': 'close',\n",
    "                                    'param_name': 'period',\n",
    "                                    'param_values': [30,60,120,180]},\n",
    "                                    {'indicator_name':'cmo',\n",
    "                                    'column_name': 'close',\n",
    "                                    'param_name': 'period',\n",
    "                                    'param_values': [2,3,5,10,60]}\n",
    "                                    ],\n",
    "                            scale='minmaxwindow')\n",
    "        \n",
    "    # create one minute, five minute, ten minute, and twenty minute slopes for macd, rsi"
   ]
  },
  {
   "cell_type": "code",
   "execution_count": 4,
   "metadata": {},
   "outputs": [
    {
     "output_type": "execute_result",
     "data": {
      "text/plain": "             close  MOH  TOD  DOW       BOP  optimal  WILLR_close_period_10  \\\n15179     2.065706    0    0    0  0.500000      0.0               0.111967   \n15180     2.065703    0    0    0  0.500000      0.0               0.111967   \n15181     2.065702    0    0    0  0.500000      0.0               0.097669   \n15182     2.065201    0    0    0  1.000000      0.0               0.524853   \n15183     2.064950    0    0    0  0.500000      0.0               0.340852   \n...            ...  ...  ...  ...       ...      ...                    ...   \n11372817  9.530607    1    0    0  0.675000      0.0               0.337968   \n11372818  9.483304    0    0    0  0.000000      0.0               0.355571   \n11372819  9.478652    0    0    0  0.816667      0.0               0.416996   \n11372820  9.477326    0    0    0  0.814815      0.0               0.408444   \n11372821  9.497663    0    0    0  1.000000      0.0               0.539616   \n\n          WILLR_close_period_30  CCI_close_period_10  CCI_close_period_30  \\\n15179                  0.000559         3.643429e-01             0.466158   \n15180                  0.000280         3.888805e-01             0.467864   \n15181                  0.000140         4.058662e-01             0.469289   \n15182                  0.047308         6.399915e-12             0.460001   \n15183                  0.027591         2.414962e-01             0.460373   \n...                         ...                  ...                  ...   \n11372817               0.531603         3.089283e-01             0.512159   \n11372818               0.355351         1.736127e-01             0.338302   \n11372819               0.416834         2.329341e-01             0.293968   \n11372820               0.408274         3.184019e-01             0.337347   \n11372821               0.539570         4.567154e-01             0.468253   \n\n          ...  RSI_close_period_30  NATR_close_period_30  \\\n15179     ...             0.406191              0.158824   \n15180     ...             0.406114              0.152851   \n15181     ...             0.406074              0.147064   \n15182     ...             0.393728              0.145858   \n15183     ...             0.387577              0.142294   \n...       ...                  ...                   ...   \n11372817  ...             0.422342              0.203818   \n11372818  ...             0.301771              0.249090   \n11372819  ...             0.292522              0.277890   \n11372820  ...             0.289875              0.298662   \n11372821  ...             0.366450              0.309139   \n\n          NATR_close_period_60  NATR_close_period_120  NATR_close_period_180  \\\n15179                 0.202346               0.234607               0.272644   \n15180                 0.197851               0.231280               0.269771   \n15181                 0.193422               0.227975               0.266909   \n15182                 0.192039               0.226709               0.265759   \n15183                 0.189056               0.224358               0.263692   \n...                        ...                    ...                    ...   \n11372817              0.360426               0.531232               0.645109   \n11372818              0.398570               0.561424               0.671768   \n11372819              0.422496               0.579520               0.687048   \n11372820              0.440049               0.592852               0.698290   \n11372821              0.448740               0.598799               0.702710   \n\n          CMO_close_period_2  CMO_close_period_3  CMO_close_period_5  \\\n15179           1.062345e-04            0.019543            0.156660   \n15180           8.592732e-05            0.018208            0.155202   \n15181           7.213788e-05            0.017321            0.154304   \n15182           7.204705e-07            0.000735            0.047703   \n15183           3.620432e-07            0.000428            0.033306   \n...                      ...                 ...                 ...   \n11372817        7.832983e-02            0.129377            0.249729   \n11372818        6.413275e-03            0.023645            0.081091   \n11372819        5.432314e-03            0.021100            0.074853   \n11372820        4.996627e-03            0.020172            0.072855   \n11372821        7.124486e-01            0.512941            0.386016   \n\n          CMO_close_period_10  CMO_close_period_60  \n15179                0.291282             0.507014  \n15180                0.290980             0.506961  \n15181                0.290813             0.506934  \n15182                0.242683             0.498549  \n15183                0.222117             0.494355  \n...                       ...                  ...  \n11372817             0.393035             0.460296  \n11372818             0.196951             0.384190  \n11372819             0.186561             0.377557  \n11372820             0.183487             0.375663  \n11372821             0.359363             0.416582  \n\n[9961175 rows x 25 columns]",
      "text/html": "<div>\n<style scoped>\n    .dataframe tbody tr th:only-of-type {\n        vertical-align: middle;\n    }\n\n    .dataframe tbody tr th {\n        vertical-align: top;\n    }\n\n    .dataframe thead th {\n        text-align: right;\n    }\n</style>\n<table border=\"1\" class=\"dataframe\">\n  <thead>\n    <tr style=\"text-align: right;\">\n      <th></th>\n      <th>close</th>\n      <th>MOH</th>\n      <th>TOD</th>\n      <th>DOW</th>\n      <th>BOP</th>\n      <th>optimal</th>\n      <th>WILLR_close_period_10</th>\n      <th>WILLR_close_period_30</th>\n      <th>CCI_close_period_10</th>\n      <th>CCI_close_period_30</th>\n      <th>...</th>\n      <th>RSI_close_period_30</th>\n      <th>NATR_close_period_30</th>\n      <th>NATR_close_period_60</th>\n      <th>NATR_close_period_120</th>\n      <th>NATR_close_period_180</th>\n      <th>CMO_close_period_2</th>\n      <th>CMO_close_period_3</th>\n      <th>CMO_close_period_5</th>\n      <th>CMO_close_period_10</th>\n      <th>CMO_close_period_60</th>\n    </tr>\n  </thead>\n  <tbody>\n    <tr>\n      <th>15179</th>\n      <td>2.065706</td>\n      <td>0</td>\n      <td>0</td>\n      <td>0</td>\n      <td>0.500000</td>\n      <td>0.0</td>\n      <td>0.111967</td>\n      <td>0.000559</td>\n      <td>3.643429e-01</td>\n      <td>0.466158</td>\n      <td>...</td>\n      <td>0.406191</td>\n      <td>0.158824</td>\n      <td>0.202346</td>\n      <td>0.234607</td>\n      <td>0.272644</td>\n      <td>1.062345e-04</td>\n      <td>0.019543</td>\n      <td>0.156660</td>\n      <td>0.291282</td>\n      <td>0.507014</td>\n    </tr>\n    <tr>\n      <th>15180</th>\n      <td>2.065703</td>\n      <td>0</td>\n      <td>0</td>\n      <td>0</td>\n      <td>0.500000</td>\n      <td>0.0</td>\n      <td>0.111967</td>\n      <td>0.000280</td>\n      <td>3.888805e-01</td>\n      <td>0.467864</td>\n      <td>...</td>\n      <td>0.406114</td>\n      <td>0.152851</td>\n      <td>0.197851</td>\n      <td>0.231280</td>\n      <td>0.269771</td>\n      <td>8.592732e-05</td>\n      <td>0.018208</td>\n      <td>0.155202</td>\n      <td>0.290980</td>\n      <td>0.506961</td>\n    </tr>\n    <tr>\n      <th>15181</th>\n      <td>2.065702</td>\n      <td>0</td>\n      <td>0</td>\n      <td>0</td>\n      <td>0.500000</td>\n      <td>0.0</td>\n      <td>0.097669</td>\n      <td>0.000140</td>\n      <td>4.058662e-01</td>\n      <td>0.469289</td>\n      <td>...</td>\n      <td>0.406074</td>\n      <td>0.147064</td>\n      <td>0.193422</td>\n      <td>0.227975</td>\n      <td>0.266909</td>\n      <td>7.213788e-05</td>\n      <td>0.017321</td>\n      <td>0.154304</td>\n      <td>0.290813</td>\n      <td>0.506934</td>\n    </tr>\n    <tr>\n      <th>15182</th>\n      <td>2.065201</td>\n      <td>0</td>\n      <td>0</td>\n      <td>0</td>\n      <td>1.000000</td>\n      <td>0.0</td>\n      <td>0.524853</td>\n      <td>0.047308</td>\n      <td>6.399915e-12</td>\n      <td>0.460001</td>\n      <td>...</td>\n      <td>0.393728</td>\n      <td>0.145858</td>\n      <td>0.192039</td>\n      <td>0.226709</td>\n      <td>0.265759</td>\n      <td>7.204705e-07</td>\n      <td>0.000735</td>\n      <td>0.047703</td>\n      <td>0.242683</td>\n      <td>0.498549</td>\n    </tr>\n    <tr>\n      <th>15183</th>\n      <td>2.064950</td>\n      <td>0</td>\n      <td>0</td>\n      <td>0</td>\n      <td>0.500000</td>\n      <td>0.0</td>\n      <td>0.340852</td>\n      <td>0.027591</td>\n      <td>2.414962e-01</td>\n      <td>0.460373</td>\n      <td>...</td>\n      <td>0.387577</td>\n      <td>0.142294</td>\n      <td>0.189056</td>\n      <td>0.224358</td>\n      <td>0.263692</td>\n      <td>3.620432e-07</td>\n      <td>0.000428</td>\n      <td>0.033306</td>\n      <td>0.222117</td>\n      <td>0.494355</td>\n    </tr>\n    <tr>\n      <th>...</th>\n      <td>...</td>\n      <td>...</td>\n      <td>...</td>\n      <td>...</td>\n      <td>...</td>\n      <td>...</td>\n      <td>...</td>\n      <td>...</td>\n      <td>...</td>\n      <td>...</td>\n      <td>...</td>\n      <td>...</td>\n      <td>...</td>\n      <td>...</td>\n      <td>...</td>\n      <td>...</td>\n      <td>...</td>\n      <td>...</td>\n      <td>...</td>\n      <td>...</td>\n      <td>...</td>\n    </tr>\n    <tr>\n      <th>11372817</th>\n      <td>9.530607</td>\n      <td>1</td>\n      <td>0</td>\n      <td>0</td>\n      <td>0.675000</td>\n      <td>0.0</td>\n      <td>0.337968</td>\n      <td>0.531603</td>\n      <td>3.089283e-01</td>\n      <td>0.512159</td>\n      <td>...</td>\n      <td>0.422342</td>\n      <td>0.203818</td>\n      <td>0.360426</td>\n      <td>0.531232</td>\n      <td>0.645109</td>\n      <td>7.832983e-02</td>\n      <td>0.129377</td>\n      <td>0.249729</td>\n      <td>0.393035</td>\n      <td>0.460296</td>\n    </tr>\n    <tr>\n      <th>11372818</th>\n      <td>9.483304</td>\n      <td>0</td>\n      <td>0</td>\n      <td>0</td>\n      <td>0.000000</td>\n      <td>0.0</td>\n      <td>0.355571</td>\n      <td>0.355351</td>\n      <td>1.736127e-01</td>\n      <td>0.338302</td>\n      <td>...</td>\n      <td>0.301771</td>\n      <td>0.249090</td>\n      <td>0.398570</td>\n      <td>0.561424</td>\n      <td>0.671768</td>\n      <td>6.413275e-03</td>\n      <td>0.023645</td>\n      <td>0.081091</td>\n      <td>0.196951</td>\n      <td>0.384190</td>\n    </tr>\n    <tr>\n      <th>11372819</th>\n      <td>9.478652</td>\n      <td>0</td>\n      <td>0</td>\n      <td>0</td>\n      <td>0.816667</td>\n      <td>0.0</td>\n      <td>0.416996</td>\n      <td>0.416834</td>\n      <td>2.329341e-01</td>\n      <td>0.293968</td>\n      <td>...</td>\n      <td>0.292522</td>\n      <td>0.277890</td>\n      <td>0.422496</td>\n      <td>0.579520</td>\n      <td>0.687048</td>\n      <td>5.432314e-03</td>\n      <td>0.021100</td>\n      <td>0.074853</td>\n      <td>0.186561</td>\n      <td>0.377557</td>\n    </tr>\n    <tr>\n      <th>11372820</th>\n      <td>9.477326</td>\n      <td>0</td>\n      <td>0</td>\n      <td>0</td>\n      <td>0.814815</td>\n      <td>0.0</td>\n      <td>0.408444</td>\n      <td>0.408274</td>\n      <td>3.184019e-01</td>\n      <td>0.337347</td>\n      <td>...</td>\n      <td>0.289875</td>\n      <td>0.298662</td>\n      <td>0.440049</td>\n      <td>0.592852</td>\n      <td>0.698290</td>\n      <td>4.996627e-03</td>\n      <td>0.020172</td>\n      <td>0.072855</td>\n      <td>0.183487</td>\n      <td>0.375663</td>\n    </tr>\n    <tr>\n      <th>11372821</th>\n      <td>9.497663</td>\n      <td>0</td>\n      <td>0</td>\n      <td>0</td>\n      <td>1.000000</td>\n      <td>0.0</td>\n      <td>0.539616</td>\n      <td>0.539570</td>\n      <td>4.567154e-01</td>\n      <td>0.468253</td>\n      <td>...</td>\n      <td>0.366450</td>\n      <td>0.309139</td>\n      <td>0.448740</td>\n      <td>0.598799</td>\n      <td>0.702710</td>\n      <td>7.124486e-01</td>\n      <td>0.512941</td>\n      <td>0.386016</td>\n      <td>0.359363</td>\n      <td>0.416582</td>\n    </tr>\n  </tbody>\n</table>\n<p>9961175 rows × 25 columns</p>\n</div>"
     },
     "metadata": {},
     "execution_count": 4
    }
   ],
   "source": [
    "dataset.drop([\"time\", \"open\", \"high\", \"low\", \"volume\"], axis=1, inplace=True)\n",
    "dataset.dropna(inplace=True)\n",
    "dataset"
   ]
  },
  {
   "cell_type": "code",
   "execution_count": 5,
   "metadata": {},
   "outputs": [
    {
     "output_type": "execute_result",
     "data": {
      "text/plain": "             close  MOH  TOD  DOW       BOP  optimal  WILLR_close_period_10  \\\n9107365   9.649866    0    0    0  0.552147      0.0               0.948393   \n9107366   9.624933    0    0    0  0.000000      0.0               0.476506   \n9107367   9.634717    0    0    0  0.679054      0.0               0.669848   \n9107368   9.630608    0    0    0  0.500000      0.0               0.588661   \n9107369   9.634704    0    0    0  0.994872      0.0               0.669603   \n...            ...  ...  ...  ...       ...      ...                    ...   \n11372817  9.530607    1    0    0  0.675000      0.0               0.337968   \n11372818  9.483304    0    0    0  0.000000      0.0               0.355571   \n11372819  9.478652    0    0    0  0.816667      0.0               0.416996   \n11372820  9.477326    0    0    0  0.814815      0.0               0.408444   \n11372821  9.497663    0    0    0  1.000000      0.0               0.539616   \n\n          WILLR_close_period_30  CCI_close_period_10  CCI_close_period_30  \\\n9107365                0.626406             0.592020             0.530581   \n9107366                0.306245             0.212384             0.404273   \n9107367                0.480437             0.344819             0.442300   \n9107368                0.421937             0.382140             0.453547   \n9107369                0.480261             0.430239             0.475669   \n...                         ...                  ...                  ...   \n11372817               0.531603             0.308928             0.512159   \n11372818               0.355351             0.173613             0.338302   \n11372819               0.416834             0.232934             0.293968   \n11372820               0.408274             0.318402             0.337347   \n11372821               0.539570             0.456715             0.468253   \n\n          ...  RSI_close_period_30  NATR_close_period_30  \\\n9107365   ...             0.462672              0.071668   \n9107366   ...             0.360293              0.085015   \n9107367   ...             0.409455              0.095493   \n9107368   ...             0.394698              0.093300   \n9107369   ...             0.414449              0.094836   \n...       ...                  ...                   ...   \n11372817  ...             0.422342              0.203818   \n11372818  ...             0.301771              0.249090   \n11372819  ...             0.292522              0.277890   \n11372820  ...             0.289875              0.298662   \n11372821  ...             0.366450              0.309139   \n\n          NATR_close_period_60  NATR_close_period_120  NATR_close_period_180  \\\n9107365               0.056957               0.035715               0.025356   \n9107366               0.065550               0.041617               0.030201   \n9107367               0.072283               0.046061               0.033637   \n9107368               0.071487               0.045781               0.033450   \n9107369               0.072877               0.046841               0.034259   \n...                        ...                    ...                    ...   \n11372817              0.360426               0.531232               0.645109   \n11372818              0.398570               0.561424               0.671768   \n11372819              0.422496               0.579520               0.687048   \n11372820              0.440049               0.592852               0.698290   \n11372821              0.448740               0.598799               0.702710   \n\n          CMO_close_period_2  CMO_close_period_3  CMO_close_period_5  \\\n9107365             0.999105            0.981213            0.863554   \n9107366             0.069067            0.133627            0.229863   \n9107367             0.462054            0.425641            0.433642   \n9107368             0.341117            0.351094            0.380677   \n9107369             0.567065            0.485769            0.462402   \n...                      ...                 ...                 ...   \n11372817            0.078330            0.129377            0.249729   \n11372818            0.006413            0.023645            0.081091   \n11372819            0.005432            0.021100            0.074853   \n11372820            0.004997            0.020172            0.072855   \n11372821            0.712449            0.512941            0.386016   \n\n          CMO_close_period_10  CMO_close_period_60  \n9107365              0.622918             0.455412  \n9107366              0.327127             0.386983  \n9107367              0.442249             0.418266  \n9107368              0.409246             0.407898  \n9107369              0.454047             0.420633  \n...                       ...                  ...  \n11372817             0.393035             0.460296  \n11372818             0.196951             0.384190  \n11372819             0.186561             0.377557  \n11372820             0.183487             0.375663  \n11372821             0.359363             0.416582  \n\n[1992235 rows x 25 columns]",
      "text/html": "<div>\n<style scoped>\n    .dataframe tbody tr th:only-of-type {\n        vertical-align: middle;\n    }\n\n    .dataframe tbody tr th {\n        vertical-align: top;\n    }\n\n    .dataframe thead th {\n        text-align: right;\n    }\n</style>\n<table border=\"1\" class=\"dataframe\">\n  <thead>\n    <tr style=\"text-align: right;\">\n      <th></th>\n      <th>close</th>\n      <th>MOH</th>\n      <th>TOD</th>\n      <th>DOW</th>\n      <th>BOP</th>\n      <th>optimal</th>\n      <th>WILLR_close_period_10</th>\n      <th>WILLR_close_period_30</th>\n      <th>CCI_close_period_10</th>\n      <th>CCI_close_period_30</th>\n      <th>...</th>\n      <th>RSI_close_period_30</th>\n      <th>NATR_close_period_30</th>\n      <th>NATR_close_period_60</th>\n      <th>NATR_close_period_120</th>\n      <th>NATR_close_period_180</th>\n      <th>CMO_close_period_2</th>\n      <th>CMO_close_period_3</th>\n      <th>CMO_close_period_5</th>\n      <th>CMO_close_period_10</th>\n      <th>CMO_close_period_60</th>\n    </tr>\n  </thead>\n  <tbody>\n    <tr>\n      <th>9107365</th>\n      <td>9.649866</td>\n      <td>0</td>\n      <td>0</td>\n      <td>0</td>\n      <td>0.552147</td>\n      <td>0.0</td>\n      <td>0.948393</td>\n      <td>0.626406</td>\n      <td>0.592020</td>\n      <td>0.530581</td>\n      <td>...</td>\n      <td>0.462672</td>\n      <td>0.071668</td>\n      <td>0.056957</td>\n      <td>0.035715</td>\n      <td>0.025356</td>\n      <td>0.999105</td>\n      <td>0.981213</td>\n      <td>0.863554</td>\n      <td>0.622918</td>\n      <td>0.455412</td>\n    </tr>\n    <tr>\n      <th>9107366</th>\n      <td>9.624933</td>\n      <td>0</td>\n      <td>0</td>\n      <td>0</td>\n      <td>0.000000</td>\n      <td>0.0</td>\n      <td>0.476506</td>\n      <td>0.306245</td>\n      <td>0.212384</td>\n      <td>0.404273</td>\n      <td>...</td>\n      <td>0.360293</td>\n      <td>0.085015</td>\n      <td>0.065550</td>\n      <td>0.041617</td>\n      <td>0.030201</td>\n      <td>0.069067</td>\n      <td>0.133627</td>\n      <td>0.229863</td>\n      <td>0.327127</td>\n      <td>0.386983</td>\n    </tr>\n    <tr>\n      <th>9107367</th>\n      <td>9.634717</td>\n      <td>0</td>\n      <td>0</td>\n      <td>0</td>\n      <td>0.679054</td>\n      <td>0.0</td>\n      <td>0.669848</td>\n      <td>0.480437</td>\n      <td>0.344819</td>\n      <td>0.442300</td>\n      <td>...</td>\n      <td>0.409455</td>\n      <td>0.095493</td>\n      <td>0.072283</td>\n      <td>0.046061</td>\n      <td>0.033637</td>\n      <td>0.462054</td>\n      <td>0.425641</td>\n      <td>0.433642</td>\n      <td>0.442249</td>\n      <td>0.418266</td>\n    </tr>\n    <tr>\n      <th>9107368</th>\n      <td>9.630608</td>\n      <td>0</td>\n      <td>0</td>\n      <td>0</td>\n      <td>0.500000</td>\n      <td>0.0</td>\n      <td>0.588661</td>\n      <td>0.421937</td>\n      <td>0.382140</td>\n      <td>0.453547</td>\n      <td>...</td>\n      <td>0.394698</td>\n      <td>0.093300</td>\n      <td>0.071487</td>\n      <td>0.045781</td>\n      <td>0.033450</td>\n      <td>0.341117</td>\n      <td>0.351094</td>\n      <td>0.380677</td>\n      <td>0.409246</td>\n      <td>0.407898</td>\n    </tr>\n    <tr>\n      <th>9107369</th>\n      <td>9.634704</td>\n      <td>0</td>\n      <td>0</td>\n      <td>0</td>\n      <td>0.994872</td>\n      <td>0.0</td>\n      <td>0.669603</td>\n      <td>0.480261</td>\n      <td>0.430239</td>\n      <td>0.475669</td>\n      <td>...</td>\n      <td>0.414449</td>\n      <td>0.094836</td>\n      <td>0.072877</td>\n      <td>0.046841</td>\n      <td>0.034259</td>\n      <td>0.567065</td>\n      <td>0.485769</td>\n      <td>0.462402</td>\n      <td>0.454047</td>\n      <td>0.420633</td>\n    </tr>\n    <tr>\n      <th>...</th>\n      <td>...</td>\n      <td>...</td>\n      <td>...</td>\n      <td>...</td>\n      <td>...</td>\n      <td>...</td>\n      <td>...</td>\n      <td>...</td>\n      <td>...</td>\n      <td>...</td>\n      <td>...</td>\n      <td>...</td>\n      <td>...</td>\n      <td>...</td>\n      <td>...</td>\n      <td>...</td>\n      <td>...</td>\n      <td>...</td>\n      <td>...</td>\n      <td>...</td>\n      <td>...</td>\n    </tr>\n    <tr>\n      <th>11372817</th>\n      <td>9.530607</td>\n      <td>1</td>\n      <td>0</td>\n      <td>0</td>\n      <td>0.675000</td>\n      <td>0.0</td>\n      <td>0.337968</td>\n      <td>0.531603</td>\n      <td>0.308928</td>\n      <td>0.512159</td>\n      <td>...</td>\n      <td>0.422342</td>\n      <td>0.203818</td>\n      <td>0.360426</td>\n      <td>0.531232</td>\n      <td>0.645109</td>\n      <td>0.078330</td>\n      <td>0.129377</td>\n      <td>0.249729</td>\n      <td>0.393035</td>\n      <td>0.460296</td>\n    </tr>\n    <tr>\n      <th>11372818</th>\n      <td>9.483304</td>\n      <td>0</td>\n      <td>0</td>\n      <td>0</td>\n      <td>0.000000</td>\n      <td>0.0</td>\n      <td>0.355571</td>\n      <td>0.355351</td>\n      <td>0.173613</td>\n      <td>0.338302</td>\n      <td>...</td>\n      <td>0.301771</td>\n      <td>0.249090</td>\n      <td>0.398570</td>\n      <td>0.561424</td>\n      <td>0.671768</td>\n      <td>0.006413</td>\n      <td>0.023645</td>\n      <td>0.081091</td>\n      <td>0.196951</td>\n      <td>0.384190</td>\n    </tr>\n    <tr>\n      <th>11372819</th>\n      <td>9.478652</td>\n      <td>0</td>\n      <td>0</td>\n      <td>0</td>\n      <td>0.816667</td>\n      <td>0.0</td>\n      <td>0.416996</td>\n      <td>0.416834</td>\n      <td>0.232934</td>\n      <td>0.293968</td>\n      <td>...</td>\n      <td>0.292522</td>\n      <td>0.277890</td>\n      <td>0.422496</td>\n      <td>0.579520</td>\n      <td>0.687048</td>\n      <td>0.005432</td>\n      <td>0.021100</td>\n      <td>0.074853</td>\n      <td>0.186561</td>\n      <td>0.377557</td>\n    </tr>\n    <tr>\n      <th>11372820</th>\n      <td>9.477326</td>\n      <td>0</td>\n      <td>0</td>\n      <td>0</td>\n      <td>0.814815</td>\n      <td>0.0</td>\n      <td>0.408444</td>\n      <td>0.408274</td>\n      <td>0.318402</td>\n      <td>0.337347</td>\n      <td>...</td>\n      <td>0.289875</td>\n      <td>0.298662</td>\n      <td>0.440049</td>\n      <td>0.592852</td>\n      <td>0.698290</td>\n      <td>0.004997</td>\n      <td>0.020172</td>\n      <td>0.072855</td>\n      <td>0.183487</td>\n      <td>0.375663</td>\n    </tr>\n    <tr>\n      <th>11372821</th>\n      <td>9.497663</td>\n      <td>0</td>\n      <td>0</td>\n      <td>0</td>\n      <td>1.000000</td>\n      <td>0.0</td>\n      <td>0.539616</td>\n      <td>0.539570</td>\n      <td>0.456715</td>\n      <td>0.468253</td>\n      <td>...</td>\n      <td>0.366450</td>\n      <td>0.309139</td>\n      <td>0.448740</td>\n      <td>0.598799</td>\n      <td>0.702710</td>\n      <td>0.712449</td>\n      <td>0.512941</td>\n      <td>0.386016</td>\n      <td>0.359363</td>\n      <td>0.416582</td>\n    </tr>\n  </tbody>\n</table>\n<p>1992235 rows × 25 columns</p>\n</div>"
     },
     "metadata": {},
     "execution_count": 5
    }
   ],
   "source": [
    "X = dataset.iloc[:int(len(dataset)*0.8)]\n",
    "y = dataset.iloc[-int(len(dataset)*0.2):]\n",
    "y"
   ]
  },
  {
   "cell_type": "code",
   "execution_count": 6,
   "metadata": {},
   "outputs": [
    {
     "output_type": "execute_result",
     "data": {
      "text/plain": "0.019360667792705177"
     },
     "metadata": {},
     "execution_count": 6
    }
   ],
   "source": [
    "contamination_val = (len(X[X['optimal'] > 0.005]) / len(X))*3/2\n",
    "contamination_val"
   ]
  },
  {
   "cell_type": "code",
   "execution_count": 9,
   "metadata": {},
   "outputs": [],
   "source": [
    "clf = LocalOutlierFactor(contamination=contamination_val, n_jobs=-1).fit(X)"
   ]
  },
  {
   "cell_type": "code",
   "execution_count": null,
   "metadata": {},
   "outputs": [],
   "source": [
    "preds = clf.predict(y)"
   ]
  },
  {
   "cell_type": "code",
   "execution_count": null,
   "metadata": {},
   "outputs": [],
   "source": []
  }
 ]
}