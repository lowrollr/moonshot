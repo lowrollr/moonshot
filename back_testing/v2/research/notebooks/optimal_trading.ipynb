{
 "metadata": {
  "language_info": {
   "codemirror_mode": {
    "name": "ipython",
    "version": 3
   },
   "file_extension": ".py",
   "mimetype": "text/x-python",
   "name": "python",
   "nbconvert_exporter": "python",
   "pygments_lexer": "ipython3",
   "version": "3.6.9-final"
  },
  "orig_nbformat": 2,
  "kernelspec": {
   "name": "Python 3.6.9 64-bit",
   "display_name": "Python 3.6.9 64-bit",
   "metadata": {
    "interpreter": {
     "hash": "31f2aee4e71d21fbe5cf8b01ff0e069b9275f58929596ceb00d14d90e3e16cd6"
    }
   }
  }
 },
 "nbformat": 4,
 "nbformat_minor": 2,
 "cells": [
  {
   "cell_type": "code",
   "execution_count": 1,
   "metadata": {},
   "outputs": [
    {
     "output_type": "stream",
     "name": "stdout",
     "text": [
      "/mnt/c/Users/jam60/OneDrive/Repos/vivaldi/back_testing\n"
     ]
    }
   ],
   "source": [
    "import pandas as pd\n",
    "import os\n",
    "os.chdir('../../../')\n",
    "print(os.getcwd())\n",
    "from v2.model import Trading\n",
    "\n"
   ]
  },
  {
   "cell_type": "code",
   "execution_count": 2,
   "metadata": {},
   "outputs": [],
   "source": [
    "\n",
    "\n",
    "def load_config():\n",
    "    my_config = {}\n",
    "    with open('config.config') as config:\n",
    "        for line in config:\n",
    "            args = line.split('=')\n",
    "            my_config[args[0]] = args[1].rstrip().split(',')\n",
    "    return my_config\n",
    "\n",
    "model = Trading(load_config())\n",
    "\n"
   ]
  },
  {
   "cell_type": "code",
   "execution_count": 7,
   "metadata": {},
   "outputs": [],
   "source": [
    "#this only works on one dataset at a time\n",
    "datasets = model.dfs\n",
    "buy_prices = []\n",
    "buy_times = []\n",
    "sell_prices = []\n",
    "sell_times = []\n",
    "name = ''\n",
    "fee = 0.0026\n",
    "for d in datasets:\n",
    "    name = d[1]\n",
    "    cur_min = 99999999999999999.00\n",
    "    cur_max = 0.00\n",
    "    cur_min_time = 00.0\n",
    "    cur_max_time = 00.0\n",
    "    last_buy_price = 000.00\n",
    "    last_buy_time = 000.00\n",
    "    sell_time = 0000.0\n",
    "    \n",
    "    looking_for_buy = True\n",
    "    for row in d[0].itertuples():\n",
    "        close = row.close\n",
    "        time = row.time\n",
    "        if looking_for_buy:\n",
    "            if close < cur_min:\n",
    "                cur_min = close\n",
    "                cur_min_time = time\n",
    "                cur_max = close\n",
    "                cur_max_time = time\n",
    "            elif close > cur_max:\n",
    "                cur_max = close\n",
    "                cur_max_time = time\n",
    "                delta = cur_max - cur_min\n",
    "                if delta > ((cur_min * fee) + (cur_max * fee)):\n",
    "                    looking_for_buy = False\n",
    "                    last_buy_price = cur_min\n",
    "                    last_buy_time = cur_min_time\n",
    "        else:\n",
    "            trade_fee = ((cur_min * fee) + (cur_max * fee))\n",
    "            if close > cur_max:\n",
    "                cur_max = close\n",
    "                cur_max_time = time\n",
    "            elif close < cur_max - trade_fee:\n",
    "                looking_for_buy = True\n",
    "                buy_prices.append(cur_min)\n",
    "                buy_times.append(cur_min_time)\n",
    "                sell_prices.append(cur_max)\n",
    "                sell_prices.append(cur_max_time)\n",
    "                cur_min = close\n",
    "                cur_min_time = time\n",
    "                cur_max = close\n",
    "                cur_max_time = time\n",
    "            \n",
    "\n",
    "\n",
    "\n",
    "\n",
    "\n",
    "\n"
   ]
  },
  {
   "cell_type": "code",
   "execution_count": null,
   "metadata": {},
   "outputs": [],
   "source": [
    "import plotly.graph_objs as go\n",
    "from plotly.offline import plot\n",
    "\n",
    "candle = go.Candlestick(x=dataset['time'], open=dataset['open'], close=dataset['close'], high=dataset['high'], low=dataset['low'], name='Candlesticks')\n",
    "\n",
    "buys = go.Scatter(x=buy_times, y=buy_prices, name='Entries', mode='markers')\n",
    "sells = go.Scatter(x=sell_times, y=sell_prices, name='Exits', mode='markers')\n",
    "\n",
    "layout = go.Layout(title='Optimal Entries and Exits for ' + name)\n",
    "fig = go.Figure(data=[candle] + [buys] + [sells], layout=layout)\n",
    "plot(fig, filename='plots/' + 'optimal_' + name + '.html')\n"
   ]
  }
 ]
}